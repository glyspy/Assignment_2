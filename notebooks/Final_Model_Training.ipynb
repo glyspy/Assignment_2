{
 "cells": [
  {
   "cell_type": "markdown",
   "metadata": {},
   "source": [
    "# **MLCB - Assignment 2**\n",
    "### Glykeria Spyrou"
   ]
  },
  {
   "cell_type": "markdown",
   "metadata": {},
   "source": [
    "### *3.3 Final model training*"
   ]
  },
  {
   "cell_type": "code",
   "execution_count": 1,
   "metadata": {},
   "outputs": [],
   "source": [
    "import os\n",
    "import optuna\n",
    "import pandas as pd\n",
    "from sklearn.linear_model import LogisticRegression\n",
    "import pickle\n",
    "from sklearn.exceptions import ConvergenceWarning\n",
    "import warnings\n",
    "warnings.filterwarnings(\"ignore\", category=ConvergenceWarning)"
   ]
  },
  {
   "cell_type": "code",
   "execution_count": 2,
   "metadata": {},
   "outputs": [],
   "source": [
    "# Import the whole dataset\n",
    "os.chdir('/Users/glykeriasp/Documents/DSIT/Machine Learning in Computational Biology/Assignments/Assignment 2/Assignment_2/')\n",
    "data = pd.read_csv('data/Diabetes.csv')\n",
    "X = data.iloc[:, 1:-1]\n",
    "y = data.iloc[:, -1]"
   ]
  },
  {
   "cell_type": "markdown",
   "metadata": {},
   "source": [
    "Run the Optuna study"
   ]
  },
  {
   "cell_type": "markdown",
   "metadata": {},
   "source": [
    "Train and save the best model"
   ]
  },
  {
   "cell_type": "code",
   "execution_count": 3,
   "metadata": {},
   "outputs": [],
   "source": [
    "def objective(trial):\n",
    "    \"\"\"\n",
    "    Objective function for Optuna study to optimize Precision-Recall AUC.\n",
    "\n",
    "    Parameters:\n",
    "        trial (optuna.trial.Trial): Optuna trial object.\n",
    "\n",
    "    Returns:\n",
    "        float: Score to optimize (Precision-Recall AUC).\n",
    "    \"\"\"\n",
    "    import numpy as np\n",
    "    from sklearn.linear_model import LogisticRegression\n",
    "    from sklearn.model_selection import StratifiedKFold\n",
    "    from sklearn.metrics import average_precision_score\n",
    "\n",
    "    # Define the parameter space for hyperparameter optimization\n",
    "    C = trial.suggest_float('C', 1e-4, 1e4, log=True)\n",
    "    penalty = trial.suggest_categorical('penalty', ['l1', 'l2'])\n",
    "    solver = trial.suggest_categorical('solver', ['liblinear', 'saga'])\n",
    "\n",
    "    # Create a Logistic Regression model with the sampled hyperparameters\n",
    "    model = LogisticRegression(C=C, penalty=penalty, solver=solver, max_iter=1000, random_state=42)\n",
    "\n",
    "    # Define the cross-validation strategy (StratifiedKFold)\n",
    "    cv = StratifiedKFold(n_splits=5, shuffle=True, random_state=42)\n",
    "\n",
    "    # Define variables to store scores\n",
    "    pr_auc_scores = []\n",
    "\n",
    "    # Perform cross-validation and calculate PR-AUC scores\n",
    "    for train_index, test_index in cv.split(X, y):\n",
    "        # Split the data into training and test sets\n",
    "        X_train, X_test = X.iloc[train_index], X.iloc[test_index]\n",
    "        y_train, y_test = y.iloc[train_index], y.iloc[test_index]\n",
    "\n",
    "        # Train the model on the training set\n",
    "        model.fit(X_train, y_train)\n",
    "\n",
    "        # Predict probabilities for the positive class on the test set\n",
    "        y_scores = model.predict_proba(X_test)[:, 1]\n",
    "\n",
    "        # Calculate Precision-Recall AUC (PR-AUC)\n",
    "        pr_auc = average_precision_score(y_test, y_scores)\n",
    "\n",
    "        # Store the PR-AUC score\n",
    "        pr_auc_scores.append(pr_auc)\n",
    "\n",
    "    # Calculate the mean PR-AUC score across all folds\n",
    "    mean_pr_auc_score = np.mean(pr_auc_scores)\n",
    "\n",
    "    # Return the mean PR-AUC score as the objective value\n",
    "    return mean_pr_auc_score\n"
   ]
  },
  {
   "cell_type": "code",
   "execution_count": 4,
   "metadata": {},
   "outputs": [
    {
     "name": "stderr",
     "output_type": "stream",
     "text": [
      "[I 2024-04-29 14:36:43,711] A new study created in memory with name: no-name-af7a19b5-2414-4767-bbbf-a92003d97ba3\n",
      "[I 2024-04-29 14:36:43,754] Trial 0 finished with value: 0.7323578606727177 and parameters: {'C': 0.7250022290110179, 'penalty': 'l1', 'solver': 'liblinear'}. Best is trial 0 with value: 0.7323578606727177.\n",
      "[I 2024-04-29 14:36:43,999] Trial 1 finished with value: 0.5385105058307186 and parameters: {'C': 0.035815351248335466, 'penalty': 'l1', 'solver': 'saga'}. Best is trial 0 with value: 0.7323578606727177.\n",
      "[I 2024-04-29 14:36:44,277] Trial 2 finished with value: 0.5410035612773669 and parameters: {'C': 11.32275486983325, 'penalty': 'l1', 'solver': 'saga'}. Best is trial 0 with value: 0.7323578606727177.\n",
      "[I 2024-04-29 14:36:44,541] Trial 3 finished with value: 0.5411230549417523 and parameters: {'C': 72.24083618448716, 'penalty': 'l1', 'solver': 'saga'}. Best is trial 0 with value: 0.7323578606727177.\n",
      "[I 2024-04-29 14:36:44,790] Trial 4 finished with value: 0.5368786983188212 and parameters: {'C': 0.07510697504259764, 'penalty': 'l1', 'solver': 'saga'}. Best is trial 0 with value: 0.7323578606727177.\n",
      "[I 2024-04-29 14:36:44,810] Trial 5 finished with value: 0.5347495662348838 and parameters: {'C': 0.047292140961139414, 'penalty': 'l1', 'solver': 'liblinear'}. Best is trial 0 with value: 0.7323578606727177.\n",
      "[I 2024-04-29 14:36:45,028] Trial 6 finished with value: 0.5408539014134213 and parameters: {'C': 0.52163380366578, 'penalty': 'l2', 'solver': 'saga'}. Best is trial 0 with value: 0.7323578606727177.\n",
      "[I 2024-04-29 14:36:45,051] Trial 7 finished with value: 0.7328041007049804 and parameters: {'C': 40.730806990980376, 'penalty': 'l2', 'solver': 'liblinear'}. Best is trial 7 with value: 0.7328041007049804.\n",
      "[I 2024-04-29 14:36:45,063] Trial 8 finished with value: 0.2602022316912306 and parameters: {'C': 0.00024140535834481369, 'penalty': 'l1', 'solver': 'liblinear'}. Best is trial 7 with value: 0.7328041007049804.\n",
      "[I 2024-04-29 14:36:45,102] Trial 9 finished with value: 0.7302654736694787 and parameters: {'C': 82.99208868399846, 'penalty': 'l1', 'solver': 'liblinear'}. Best is trial 7 with value: 0.7328041007049804.\n",
      "[I 2024-04-29 14:36:45,131] Trial 10 finished with value: 0.7302499039049015 and parameters: {'C': 8237.10836944743, 'penalty': 'l2', 'solver': 'liblinear'}. Best is trial 7 with value: 0.7328041007049804.\n",
      "[I 2024-04-29 14:36:45,159] Trial 11 finished with value: 0.7306305733325322 and parameters: {'C': 2441.297640479491, 'penalty': 'l2', 'solver': 'liblinear'}. Best is trial 7 with value: 0.7328041007049804.\n",
      "[I 2024-04-29 14:36:45,186] Trial 12 finished with value: 0.7301946892395043 and parameters: {'C': 5.666684464792597, 'penalty': 'l2', 'solver': 'liblinear'}. Best is trial 7 with value: 0.7328041007049804.\n",
      "[I 2024-04-29 14:36:45,206] Trial 13 finished with value: 0.5270279310240277 and parameters: {'C': 0.0013331425619851087, 'penalty': 'l2', 'solver': 'liblinear'}. Best is trial 7 with value: 0.7328041007049804.\n",
      "[I 2024-04-29 14:36:45,234] Trial 14 finished with value: 0.7302686749499909 and parameters: {'C': 233.11750912693537, 'penalty': 'l2', 'solver': 'liblinear'}. Best is trial 7 with value: 0.7328041007049804.\n",
      "[I 2024-04-29 14:36:45,260] Trial 15 finished with value: 0.7238678982385025 and parameters: {'C': 1.3677467175900966, 'penalty': 'l2', 'solver': 'liblinear'}. Best is trial 7 with value: 0.7328041007049804.\n",
      "[I 2024-04-29 14:36:45,303] Trial 16 finished with value: 0.7302826675388964 and parameters: {'C': 745.7091153404007, 'penalty': 'l1', 'solver': 'liblinear'}. Best is trial 7 with value: 0.7328041007049804.\n",
      "[I 2024-04-29 14:36:45,328] Trial 17 finished with value: 0.7316601989844224 and parameters: {'C': 12.90837164832142, 'penalty': 'l2', 'solver': 'liblinear'}. Best is trial 7 with value: 0.7328041007049804.\n",
      "[I 2024-04-29 14:36:45,347] Trial 18 finished with value: 0.5408498604467822 and parameters: {'C': 0.005606402339893753, 'penalty': 'l2', 'solver': 'liblinear'}. Best is trial 7 with value: 0.7328041007049804.\n",
      "[I 2024-04-29 14:36:45,389] Trial 19 finished with value: 0.7328657428764405 and parameters: {'C': 0.9396153849901697, 'penalty': 'l1', 'solver': 'liblinear'}. Best is trial 19 with value: 0.7328657428764405.\n",
      "[I 2024-04-29 14:36:45,412] Trial 20 finished with value: 0.644492286356814 and parameters: {'C': 0.21253371148977987, 'penalty': 'l2', 'solver': 'liblinear'}. Best is trial 19 with value: 0.7328657428764405.\n",
      "[I 2024-04-29 14:36:45,455] Trial 21 finished with value: 0.7310145863671558 and parameters: {'C': 1.3649950903308652, 'penalty': 'l1', 'solver': 'liblinear'}. Best is trial 19 with value: 0.7328657428764405.\n",
      "[I 2024-04-29 14:36:45,497] Trial 22 finished with value: 0.732074474659936 and parameters: {'C': 3.138983423371692, 'penalty': 'l1', 'solver': 'liblinear'}. Best is trial 19 with value: 0.7328657428764405.\n",
      "[I 2024-04-29 14:36:45,540] Trial 23 finished with value: 0.7301566301320637 and parameters: {'C': 65.71695455684895, 'penalty': 'l1', 'solver': 'liblinear'}. Best is trial 19 with value: 0.7328657428764405.\n",
      "[I 2024-04-29 14:36:45,575] Trial 24 finished with value: 0.7217052091626809 and parameters: {'C': 0.2871008938288001, 'penalty': 'l1', 'solver': 'liblinear'}. Best is trial 19 with value: 0.7328657428764405.\n",
      "[I 2024-04-29 14:36:45,594] Trial 25 finished with value: 0.5210511895145091 and parameters: {'C': 0.010909119282115722, 'penalty': 'l1', 'solver': 'liblinear'}. Best is trial 19 with value: 0.7328657428764405.\n",
      "[I 2024-04-29 14:36:45,857] Trial 26 finished with value: 0.5411230549417523 and parameters: {'C': 27.737696178390962, 'penalty': 'l1', 'solver': 'saga'}. Best is trial 19 with value: 0.7328657428764405.\n",
      "[I 2024-04-29 14:36:45,900] Trial 27 finished with value: 0.7321772089731967 and parameters: {'C': 3.285538753980668, 'penalty': 'l1', 'solver': 'liblinear'}. Best is trial 19 with value: 0.7328657428764405.\n",
      "[I 2024-04-29 14:36:45,927] Trial 28 finished with value: 0.730377518487406 and parameters: {'C': 411.629757518808, 'penalty': 'l2', 'solver': 'liblinear'}. Best is trial 19 with value: 0.7328657428764405.\n",
      "[I 2024-04-29 14:36:46,183] Trial 29 finished with value: 0.5383622557917037 and parameters: {'C': 0.13725565841733442, 'penalty': 'l1', 'solver': 'saga'}. Best is trial 19 with value: 0.7328657428764405.\n",
      "[I 2024-04-29 14:36:46,204] Trial 30 finished with value: 0.5246954487548657 and parameters: {'C': 0.016981761720861105, 'penalty': 'l1', 'solver': 'liblinear'}. Best is trial 19 with value: 0.7328657428764405.\n",
      "[I 2024-04-29 14:36:46,243] Trial 31 finished with value: 0.7329757167956016 and parameters: {'C': 1.0394594696242523, 'penalty': 'l1', 'solver': 'liblinear'}. Best is trial 31 with value: 0.7329757167956016.\n",
      "[I 2024-04-29 14:36:46,284] Trial 32 finished with value: 0.7314449217184096 and parameters: {'C': 0.8610882561131811, 'penalty': 'l1', 'solver': 'liblinear'}. Best is trial 31 with value: 0.7329757167956016.\n",
      "[I 2024-04-29 14:36:46,326] Trial 33 finished with value: 0.7301566301320637 and parameters: {'C': 34.20020622400459, 'penalty': 'l1', 'solver': 'liblinear'}. Best is trial 31 with value: 0.7329757167956016.\n",
      "[I 2024-04-29 14:36:46,592] Trial 34 finished with value: 0.5410035612773669 and parameters: {'C': 9.316093908186877, 'penalty': 'l1', 'solver': 'saga'}. Best is trial 31 with value: 0.7329757167956016.\n",
      "[I 2024-04-29 14:36:46,620] Trial 35 finished with value: 0.6056018224326873 and parameters: {'C': 0.08885065667132105, 'penalty': 'l1', 'solver': 'liblinear'}. Best is trial 31 with value: 0.7329757167956016.\n",
      "[I 2024-04-29 14:36:46,878] Trial 36 finished with value: 0.5404972106497288 and parameters: {'C': 0.6317491671966011, 'penalty': 'l1', 'solver': 'saga'}. Best is trial 31 with value: 0.7329757167956016.\n",
      "[I 2024-04-29 14:36:46,900] Trial 37 finished with value: 0.5338818766152164 and parameters: {'C': 0.030056777679636208, 'penalty': 'l1', 'solver': 'liblinear'}. Best is trial 31 with value: 0.7329757167956016.\n",
      "[I 2024-04-29 14:36:47,157] Trial 38 finished with value: 0.5409185008966255 and parameters: {'C': 3.1102216261943636, 'penalty': 'l1', 'solver': 'saga'}. Best is trial 31 with value: 0.7329757167956016.\n",
      "[I 2024-04-29 14:36:47,199] Trial 39 finished with value: 0.7305701283862837 and parameters: {'C': 16.868905908765367, 'penalty': 'l1', 'solver': 'liblinear'}. Best is trial 31 with value: 0.7329757167956016.\n",
      "[I 2024-04-29 14:36:47,216] Trial 40 finished with value: 0.5367923144870759 and parameters: {'C': 0.0036271943940342204, 'penalty': 'l2', 'solver': 'liblinear'}. Best is trial 31 with value: 0.7329757167956016.\n",
      "[I 2024-04-29 14:36:47,258] Trial 41 finished with value: 0.7322152607235772 and parameters: {'C': 3.615834954471494, 'penalty': 'l1', 'solver': 'liblinear'}. Best is trial 31 with value: 0.7329757167956016.\n",
      "[I 2024-04-29 14:36:47,300] Trial 42 finished with value: 0.7309159384752153 and parameters: {'C': 1.586243721568958, 'penalty': 'l1', 'solver': 'liblinear'}. Best is trial 31 with value: 0.7329757167956016.\n",
      "[I 2024-04-29 14:36:47,340] Trial 43 finished with value: 0.7333073614505123 and parameters: {'C': 0.5240267164902963, 'penalty': 'l1', 'solver': 'liblinear'}. Best is trial 43 with value: 0.7333073614505123.\n",
      "[I 2024-04-29 14:36:47,377] Trial 44 finished with value: 0.7323563288449244 and parameters: {'C': 0.4174727362047103, 'penalty': 'l1', 'solver': 'liblinear'}. Best is trial 43 with value: 0.7333073614505123.\n",
      "[I 2024-04-29 14:36:47,407] Trial 45 finished with value: 0.7033525945932253 and parameters: {'C': 0.16649280152052393, 'penalty': 'l1', 'solver': 'liblinear'}. Best is trial 43 with value: 0.7333073614505123.\n",
      "[I 2024-04-29 14:36:47,429] Trial 46 finished with value: 0.5880979462747911 and parameters: {'C': 0.07503559380028788, 'penalty': 'l2', 'solver': 'liblinear'}. Best is trial 43 with value: 0.7333073614505123.\n",
      "[I 2024-04-29 14:36:47,470] Trial 47 finished with value: 0.7302826675388964 and parameters: {'C': 179.5522780649261, 'penalty': 'l1', 'solver': 'liblinear'}. Best is trial 43 with value: 0.7333073614505123.\n",
      "[I 2024-04-29 14:36:47,496] Trial 48 finished with value: 0.7301738240014813 and parameters: {'C': 2052.4048348108813, 'penalty': 'l2', 'solver': 'liblinear'}. Best is trial 43 with value: 0.7333073614505123.\n",
      "[I 2024-04-29 14:36:47,511] Trial 49 finished with value: 0.3340270778411201 and parameters: {'C': 0.0005611545780563875, 'penalty': 'l1', 'solver': 'liblinear'}. Best is trial 43 with value: 0.7333073614505123.\n",
      "[I 2024-04-29 14:36:47,732] Trial 50 finished with value: 0.5408539014134213 and parameters: {'C': 0.4386719944107784, 'penalty': 'l2', 'solver': 'saga'}. Best is trial 43 with value: 0.7333073614505123.\n",
      "[I 2024-04-29 14:36:47,769] Trial 51 finished with value: 0.7312612365024912 and parameters: {'C': 0.39362560079387554, 'penalty': 'l1', 'solver': 'liblinear'}. Best is trial 43 with value: 0.7333073614505123.\n",
      "[I 2024-04-29 14:36:47,791] Trial 52 finished with value: 0.5355652072801366 and parameters: {'C': 0.036292524294358634, 'penalty': 'l1', 'solver': 'liblinear'}. Best is trial 43 with value: 0.7333073614505123.\n",
      "[I 2024-04-29 14:36:47,832] Trial 53 finished with value: 0.7314547196593433 and parameters: {'C': 6.2877525756733705, 'penalty': 'l1', 'solver': 'liblinear'}. Best is trial 43 with value: 0.7333073614505123.\n",
      "[I 2024-04-29 14:36:47,873] Trial 54 finished with value: 0.7328698966897815 and parameters: {'C': 1.028885689235069, 'penalty': 'l1', 'solver': 'liblinear'}. Best is trial 43 with value: 0.7333073614505123.\n",
      "[I 2024-04-29 14:36:47,914] Trial 55 finished with value: 0.7307297948227788 and parameters: {'C': 1.7263295767740425, 'penalty': 'l1', 'solver': 'liblinear'}. Best is trial 43 with value: 0.7333073614505123.\n",
      "[I 2024-04-29 14:36:47,955] Trial 56 finished with value: 0.7326257775106169 and parameters: {'C': 0.9282067765043863, 'penalty': 'l1', 'solver': 'liblinear'}. Best is trial 43 with value: 0.7333073614505123.\n",
      "[I 2024-04-29 14:36:47,997] Trial 57 finished with value: 0.7304316695813019 and parameters: {'C': 1.1950428493604175, 'penalty': 'l1', 'solver': 'liblinear'}. Best is trial 43 with value: 0.7333073614505123.\n",
      "[I 2024-04-29 14:36:48,019] Trial 58 finished with value: 0.6400320787528164 and parameters: {'C': 0.19345533812941076, 'penalty': 'l2', 'solver': 'liblinear'}. Best is trial 43 with value: 0.7333073614505123.\n",
      "[I 2024-04-29 14:36:48,060] Trial 59 finished with value: 0.7314547196593433 and parameters: {'C': 6.257231622079981, 'penalty': 'l1', 'solver': 'liblinear'}. Best is trial 43 with value: 0.7333073614505123.\n",
      "[I 2024-04-29 14:36:48,103] Trial 60 finished with value: 0.7304908472023512 and parameters: {'C': 23.59425622969497, 'penalty': 'l1', 'solver': 'liblinear'}. Best is trial 43 with value: 0.7333073614505123.\n",
      "[I 2024-04-29 14:36:48,143] Trial 61 finished with value: 0.7317028572442756 and parameters: {'C': 0.9078731184179532, 'penalty': 'l1', 'solver': 'liblinear'}. Best is trial 43 with value: 0.7333073614505123.\n",
      "[I 2024-04-29 14:36:48,171] Trial 62 finished with value: 0.6172029810614943 and parameters: {'C': 0.09223027384870815, 'penalty': 'l1', 'solver': 'liblinear'}. Best is trial 43 with value: 0.7333073614505123.\n",
      "[I 2024-04-29 14:36:48,214] Trial 63 finished with value: 0.7312402256549855 and parameters: {'C': 2.243380525595093, 'penalty': 'l1', 'solver': 'liblinear'}. Best is trial 43 with value: 0.7333073614505123.\n",
      "[I 2024-04-29 14:36:48,238] Trial 64 finished with value: 0.7063987700474836 and parameters: {'C': 0.6614147157736883, 'penalty': 'l2', 'solver': 'liblinear'}. Best is trial 43 with value: 0.7333073614505123.\n",
      "[I 2024-04-29 14:36:48,280] Trial 65 finished with value: 0.7305377797825064 and parameters: {'C': 10.511585203624456, 'penalty': 'l1', 'solver': 'liblinear'}. Best is trial 43 with value: 0.7333073614505123.\n",
      "[I 2024-04-29 14:36:48,317] Trial 66 finished with value: 0.7273692911320049 and parameters: {'C': 0.3222960114500988, 'penalty': 'l1', 'solver': 'liblinear'}. Best is trial 43 with value: 0.7333073614505123.\n",
      "[I 2024-04-29 14:36:48,359] Trial 67 finished with value: 0.730377518487406 and parameters: {'C': 106.64585750570033, 'penalty': 'l1', 'solver': 'liblinear'}. Best is trial 43 with value: 0.7333073614505123.\n",
      "[I 2024-04-29 14:36:48,580] Trial 68 finished with value: 0.5411492755565804 and parameters: {'C': 40.81973919100819, 'penalty': 'l2', 'solver': 'saga'}. Best is trial 43 with value: 0.7333073614505123.\n",
      "[I 2024-04-29 14:36:48,623] Trial 69 finished with value: 0.7318097599243909 and parameters: {'C': 5.5151663303446705, 'penalty': 'l1', 'solver': 'liblinear'}. Best is trial 43 with value: 0.7333073614505123.\n",
      "[I 2024-04-29 14:36:48,645] Trial 70 finished with value: 0.5350618144506376 and parameters: {'C': 0.055109154180852674, 'penalty': 'l1', 'solver': 'liblinear'}. Best is trial 43 with value: 0.7333073614505123.\n",
      "[I 2024-04-29 14:36:48,685] Trial 71 finished with value: 0.7345078228688514 and parameters: {'C': 0.5913560321617163, 'penalty': 'l1', 'solver': 'liblinear'}. Best is trial 71 with value: 0.7345078228688514.\n",
      "[I 2024-04-29 14:36:48,726] Trial 72 finished with value: 0.7343825667631865 and parameters: {'C': 0.6870575810902618, 'penalty': 'l1', 'solver': 'liblinear'}. Best is trial 71 with value: 0.7345078228688514.\n",
      "[I 2024-04-29 14:36:48,767] Trial 73 finished with value: 0.732668154106662 and parameters: {'C': 0.9654879980711538, 'penalty': 'l1', 'solver': 'liblinear'}. Best is trial 71 with value: 0.7345078228688514.\n",
      "[I 2024-04-29 14:36:48,809] Trial 74 finished with value: 0.7309217209935828 and parameters: {'C': 2.6980526735065675, 'penalty': 'l1', 'solver': 'liblinear'}. Best is trial 71 with value: 0.7345078228688514.\n",
      "[I 2024-04-29 14:36:48,824] Trial 75 finished with value: 0.34979615608619674 and parameters: {'C': 0.00010688373866682841, 'penalty': 'l1', 'solver': 'liblinear'}. Best is trial 71 with value: 0.7345078228688514.\n",
      "[I 2024-04-29 14:36:48,855] Trial 76 finished with value: 0.7080856946936654 and parameters: {'C': 0.1881749566690275, 'penalty': 'l1', 'solver': 'liblinear'}. Best is trial 71 with value: 0.7345078228688514.\n",
      "[I 2024-04-29 14:36:48,894] Trial 77 finished with value: 0.7330201606167593 and parameters: {'C': 0.534384478907503, 'penalty': 'l1', 'solver': 'liblinear'}. Best is trial 71 with value: 0.7345078228688514.\n",
      "[I 2024-04-29 14:36:48,929] Trial 78 finished with value: 0.719969946615697 and parameters: {'C': 0.27854222057446143, 'penalty': 'l1', 'solver': 'liblinear'}. Best is trial 71 with value: 0.7345078228688514.\n",
      "[I 2024-04-29 14:36:48,949] Trial 79 finished with value: 0.5522167466119824 and parameters: {'C': 0.019140378454979397, 'penalty': 'l2', 'solver': 'liblinear'}. Best is trial 71 with value: 0.7345078228688514.\n",
      "[I 2024-04-29 14:36:49,206] Trial 80 finished with value: 0.5408043847473392 and parameters: {'C': 0.4890359261591344, 'penalty': 'l1', 'solver': 'saga'}. Best is trial 71 with value: 0.7345078228688514.\n",
      "[I 2024-04-29 14:36:49,238] Trial 81 finished with value: 0.6821784900322467 and parameters: {'C': 0.1312576656887008, 'penalty': 'l1', 'solver': 'liblinear'}. Best is trial 71 with value: 0.7345078228688514.\n",
      "[I 2024-04-29 14:36:49,279] Trial 82 finished with value: 0.7307297948227788 and parameters: {'C': 1.7284602799896955, 'penalty': 'l1', 'solver': 'liblinear'}. Best is trial 71 with value: 0.7345078228688514.\n",
      "[I 2024-04-29 14:36:49,319] Trial 83 finished with value: 0.7326188199116842 and parameters: {'C': 0.7519007260860345, 'penalty': 'l1', 'solver': 'liblinear'}. Best is trial 71 with value: 0.7345078228688514.\n",
      "[I 2024-04-29 14:36:49,360] Trial 84 finished with value: 0.7320522388408158 and parameters: {'C': 3.921352875158072, 'penalty': 'l1', 'solver': 'liblinear'}. Best is trial 71 with value: 0.7345078228688514.\n",
      "[I 2024-04-29 14:36:49,402] Trial 85 finished with value: 0.7303860866255023 and parameters: {'C': 1.2187839304934711, 'penalty': 'l1', 'solver': 'liblinear'}. Best is trial 71 with value: 0.7345078228688514.\n",
      "[I 2024-04-29 14:36:49,437] Trial 86 finished with value: 0.7188204517595165 and parameters: {'C': 0.265011282931695, 'penalty': 'l1', 'solver': 'liblinear'}. Best is trial 71 with value: 0.7345078228688514.\n",
      "[I 2024-04-29 14:36:49,477] Trial 87 finished with value: 0.733692893502465 and parameters: {'C': 0.5564528298800255, 'penalty': 'l1', 'solver': 'liblinear'}. Best is trial 71 with value: 0.7345078228688514.\n",
      "[I 2024-04-29 14:36:49,501] Trial 88 finished with value: 0.6974311737175167 and parameters: {'C': 0.5561407279858028, 'penalty': 'l2', 'solver': 'liblinear'}. Best is trial 71 with value: 0.7345078228688514.\n",
      "[I 2024-04-29 14:36:49,531] Trial 89 finished with value: 0.6669500241258137 and parameters: {'C': 0.11461536043161542, 'penalty': 'l1', 'solver': 'liblinear'}. Best is trial 71 with value: 0.7345078228688514.\n",
      "[I 2024-04-29 14:36:49,574] Trial 90 finished with value: 0.7309877377400854 and parameters: {'C': 1.8421334323876566, 'penalty': 'l1', 'solver': 'liblinear'}. Best is trial 71 with value: 0.7345078228688514.\n",
      "[I 2024-04-29 14:36:49,615] Trial 91 finished with value: 0.7323651538596277 and parameters: {'C': 0.9180523918899388, 'penalty': 'l1', 'solver': 'liblinear'}. Best is trial 71 with value: 0.7345078228688514.\n",
      "[I 2024-04-29 14:36:49,650] Trial 92 finished with value: 0.7280767879773797 and parameters: {'C': 0.3322755870102717, 'penalty': 'l1', 'solver': 'liblinear'}. Best is trial 71 with value: 0.7345078228688514.\n",
      "[I 2024-04-29 14:36:49,692] Trial 93 finished with value: 0.7310832530257384 and parameters: {'C': 1.317919789739125, 'penalty': 'l1', 'solver': 'liblinear'}. Best is trial 71 with value: 0.7345078228688514.\n",
      "[I 2024-04-29 14:36:49,732] Trial 94 finished with value: 0.7339186546146714 and parameters: {'C': 0.6322388439261584, 'penalty': 'l1', 'solver': 'liblinear'}. Best is trial 71 with value: 0.7345078228688514.\n",
      "[I 2024-04-29 14:36:49,774] Trial 95 finished with value: 0.7302826675388964 and parameters: {'C': 681.538684948852, 'penalty': 'l1', 'solver': 'liblinear'}. Best is trial 71 with value: 0.7345078228688514.\n",
      "[I 2024-04-29 14:36:49,815] Trial 96 finished with value: 0.7340986882870569 and parameters: {'C': 0.5785668859409907, 'penalty': 'l1', 'solver': 'liblinear'}. Best is trial 71 with value: 0.7345078228688514.\n",
      "[I 2024-04-29 14:36:49,855] Trial 97 finished with value: 0.734448497780222 and parameters: {'C': 0.609937183632503, 'penalty': 'l1', 'solver': 'liblinear'}. Best is trial 71 with value: 0.7345078228688514.\n",
      "[I 2024-04-29 14:36:49,894] Trial 98 finished with value: 0.7329906663015509 and parameters: {'C': 0.5346027987676117, 'penalty': 'l1', 'solver': 'liblinear'}. Best is trial 71 with value: 0.7345078228688514.\n",
      "[I 2024-04-29 14:36:50,151] Trial 99 finished with value: 0.5407724671154217 and parameters: {'C': 0.479536044012646, 'penalty': 'l1', 'solver': 'saga'}. Best is trial 71 with value: 0.7345078228688514.\n"
     ]
    },
    {
     "name": "stdout",
     "output_type": "stream",
     "text": [
      "Best parameters: {'C': 0.5913560321617163, 'penalty': 'l1', 'solver': 'liblinear'}\n",
      "Best value (Precision-Recall AUC): 0.7345078228688514\n",
      "Trained Logistic Regression model saved to: ./models/final_model.pkl\n"
     ]
    }
   ],
   "source": [
    "# Define the Optuna study\n",
    "study = optuna.create_study(direction='maximize')\n",
    "\n",
    "# Optimize the objective function (objective) with a specific number of trials\n",
    "study.optimize(objective, n_trials=100)\n",
    "\n",
    "# Get the best parameters and the best value\n",
    "best_params = study.best_params\n",
    "best_value = study.best_value\n",
    "\n",
    "print(f\"Best parameters: {best_params}\")\n",
    "print(f\"Best value (Precision-Recall AUC): {best_value}\")\n",
    "\n",
    "# Create the final model using the best parameters\n",
    "best_model = LogisticRegression(**best_params, max_iter=1000, random_state=42)\n",
    "\n",
    "# Train the model on the entire dataset\n",
    "best_model.fit(X, y)\n",
    "\n",
    "# Save the best model\n",
    "model_file_path = './models/final_model.pkl'\n",
    "with open(model_file_path, 'wb') as file:\n",
    "    pickle.dump(best_model, file)\n",
    "\n",
    "print(f\"Trained Logistic Regression model saved to: {model_file_path}\")\n"
   ]
  },
  {
   "cell_type": "code",
   "execution_count": 5,
   "metadata": {},
   "outputs": [
    {
     "data": {
      "application/vnd.plotly.v1+json": {
       "config": {
        "plotlyServerURL": "https://plot.ly"
       },
       "data": [
        {
         "dimensions": [
          {
           "label": "Objective Value",
           "range": [
            0.2602022316912306,
            0.7345078228688514
           ],
           "values": [
            0.7323578606727177,
            0.5385105058307186,
            0.5410035612773669,
            0.5411230549417523,
            0.5368786983188212,
            0.5347495662348838,
            0.5408539014134213,
            0.7328041007049804,
            0.2602022316912306,
            0.7302654736694787,
            0.7302499039049015,
            0.7306305733325322,
            0.7301946892395043,
            0.5270279310240277,
            0.7302686749499909,
            0.7238678982385025,
            0.7302826675388964,
            0.7316601989844224,
            0.5408498604467822,
            0.7328657428764405,
            0.644492286356814,
            0.7310145863671558,
            0.732074474659936,
            0.7301566301320637,
            0.7217052091626809,
            0.5210511895145091,
            0.5411230549417523,
            0.7321772089731967,
            0.730377518487406,
            0.5383622557917037,
            0.5246954487548657,
            0.7329757167956016,
            0.7314449217184096,
            0.7301566301320637,
            0.5410035612773669,
            0.6056018224326873,
            0.5404972106497288,
            0.5338818766152164,
            0.5409185008966255,
            0.7305701283862837,
            0.5367923144870759,
            0.7322152607235772,
            0.7309159384752153,
            0.7333073614505123,
            0.7323563288449244,
            0.7033525945932253,
            0.5880979462747911,
            0.7302826675388964,
            0.7301738240014813,
            0.3340270778411201,
            0.5408539014134213,
            0.7312612365024912,
            0.5355652072801366,
            0.7314547196593433,
            0.7328698966897815,
            0.7307297948227788,
            0.7326257775106169,
            0.7304316695813019,
            0.6400320787528164,
            0.7314547196593433,
            0.7304908472023512,
            0.7317028572442756,
            0.6172029810614943,
            0.7312402256549855,
            0.7063987700474836,
            0.7305377797825064,
            0.7273692911320049,
            0.730377518487406,
            0.5411492755565804,
            0.7318097599243909,
            0.5350618144506376,
            0.7345078228688514,
            0.7343825667631865,
            0.732668154106662,
            0.7309217209935828,
            0.34979615608619674,
            0.7080856946936654,
            0.7330201606167593,
            0.719969946615697,
            0.5522167466119824,
            0.5408043847473392,
            0.6821784900322467,
            0.7307297948227788,
            0.7326188199116842,
            0.7320522388408158,
            0.7303860866255023,
            0.7188204517595165,
            0.733692893502465,
            0.6974311737175167,
            0.6669500241258137,
            0.7309877377400854,
            0.7323651538596277,
            0.7280767879773797,
            0.7310832530257384,
            0.7339186546146714,
            0.7302826675388964,
            0.7340986882870569,
            0.734448497780222,
            0.7329906663015509,
            0.5407724671154217
           ]
          },
          {
           "label": "C",
           "range": [
            -3.9710883634952543,
            3.9157747797075433
           ],
           "ticktext": [
            "0.000107",
            "0.001",
            "0.01",
            "0.1",
            "1",
            "10",
            "100",
            "1e+03",
            "8.24e+03"
           ],
           "tickvals": [
            -3.9710883634952543,
            -3,
            -2,
            -1,
            0,
            1,
            2,
            3,
            3.9157747797075433
           ],
           "values": [
            -0.13966065819356213,
            -1.4459307852713557,
            1.0539521052274967,
            1.8587827642739834,
            -1.1243197290165006,
            -1.3252110246066533,
            -0.28263427258705515,
            1.609923014757193,
            -3.617253094330808,
            1.9190366947297897,
            3.9157747797075433,
            3.387620731378545,
            0.7533290307084481,
            -2.875123406045325,
            2.367574893990918,
            0.13600568120186005,
            2.872569451817809,
            1.110871460798466,
            -2.25131573859041,
            -0.027049880824153865,
            -0.6725721736005278,
            0.13513108929175807,
            0.4967890222444159,
            1.8176774292334856,
            -0.5419654554160284,
            -1.9622103095726589,
            1.4430703868539942,
            0.5166065941990936,
            2.6145067632212715,
            -0.862469742551678,
            -1.7700172572039337,
            0.016807560082397838,
            -0.0649523338208702,
            1.5340287248186264,
            0.9692338576644691,
            -1.051339358093038,
            -0.19945532191641177,
            -1.5220575810001236,
            0.49279133680943504,
            1.2270869158318893,
            -2.4404291684355455,
            0.5582085987949864,
            0.20036991614714086,
            -0.28064657078624916,
            -0.37937188162343194,
            -0.7786045388993853,
            -1.124732676286833,
            2.2541909195971552,
            3.3122630290437707,
            -3.2509174896355075,
            -0.3578600908311987,
            -0.4049166634877826,
            -1.440182823781143,
            0.798495443792499,
            0.012367126665133456,
            0.23712371125783036,
            -0.032355265277343656,
            0.07738347759139723,
            -0.7134192820287477,
            0.7963822314246052,
            1.372806291472124,
            -0.04197484291210906,
            -1.035126501859826,
            0.35090294551767115,
            -0.1795261467246852,
            1.0216682149125016,
            -0.4917450690329067,
            2.0279439906119254,
            1.610870225557224,
            0.741558614738417,
            -1.2587762545054182,
            -0.2281509687841907,
            -0.1630068639567076,
            -0.015253120542139372,
            0.4310504240571395,
            -3.9710883634952543,
            -0.7254381752984956,
            -0.27214616434747174,
            -0.5551089664767099,
            -1.7180494793447412,
            -0.3106592350286338,
            -0.8818753235861112,
            0.23765940390764204,
            -0.12383949579013738,
            0.5934359254010297,
            0.08592671947250985,
            -0.5767356354569225,
            -0.254571644610623,
            -0.25481529896768723,
            -0.9407571755304165,
            0.2653210845203794,
            -0.03713253354883377,
            -0.47850156608273214,
            0.11988897935228872,
            -0.19911882519281807,
            2.833490511943249,
            -0.23764642665873434,
            -0.21471488991797072,
            -0.2719687719428407,
            -0.3191787438061801
           ]
          },
          {
           "label": "penalty",
           "range": [
            0,
            1
           ],
           "ticktext": [
            "l1",
            "l2"
           ],
           "tickvals": [
            0,
            1
           ],
           "values": [
            0,
            0,
            0,
            0,
            0,
            0,
            1,
            1,
            0,
            0,
            1,
            1,
            1,
            1,
            1,
            1,
            0,
            1,
            1,
            0,
            1,
            0,
            0,
            0,
            0,
            0,
            0,
            0,
            1,
            0,
            0,
            0,
            0,
            0,
            0,
            0,
            0,
            0,
            0,
            0,
            1,
            0,
            0,
            0,
            0,
            0,
            1,
            0,
            1,
            0,
            1,
            0,
            0,
            0,
            0,
            0,
            0,
            0,
            1,
            0,
            0,
            0,
            0,
            0,
            1,
            0,
            0,
            0,
            1,
            0,
            0,
            0,
            0,
            0,
            0,
            0,
            0,
            0,
            0,
            1,
            0,
            0,
            0,
            0,
            0,
            0,
            0,
            0,
            1,
            0,
            0,
            0,
            0,
            0,
            0,
            0,
            0,
            0,
            0,
            0
           ]
          },
          {
           "label": "solver",
           "range": [
            0,
            1
           ],
           "ticktext": [
            "liblinear",
            "saga"
           ],
           "tickvals": [
            0,
            1
           ],
           "values": [
            0,
            1,
            1,
            1,
            1,
            0,
            1,
            0,
            0,
            0,
            0,
            0,
            0,
            0,
            0,
            0,
            0,
            0,
            0,
            0,
            0,
            0,
            0,
            0,
            0,
            0,
            1,
            0,
            0,
            1,
            0,
            0,
            0,
            0,
            1,
            0,
            1,
            0,
            1,
            0,
            0,
            0,
            0,
            0,
            0,
            0,
            0,
            0,
            0,
            0,
            1,
            0,
            0,
            0,
            0,
            0,
            0,
            0,
            0,
            0,
            0,
            0,
            0,
            0,
            0,
            0,
            0,
            0,
            1,
            0,
            0,
            0,
            0,
            0,
            0,
            0,
            0,
            0,
            0,
            0,
            1,
            0,
            0,
            0,
            0,
            0,
            0,
            0,
            0,
            0,
            0,
            0,
            0,
            0,
            0,
            0,
            0,
            0,
            0,
            1
           ]
          }
         ],
         "labelangle": 30,
         "labelside": "bottom",
         "line": {
          "color": [
           0.7323578606727177,
           0.5385105058307186,
           0.5410035612773669,
           0.5411230549417523,
           0.5368786983188212,
           0.5347495662348838,
           0.5408539014134213,
           0.7328041007049804,
           0.2602022316912306,
           0.7302654736694787,
           0.7302499039049015,
           0.7306305733325322,
           0.7301946892395043,
           0.5270279310240277,
           0.7302686749499909,
           0.7238678982385025,
           0.7302826675388964,
           0.7316601989844224,
           0.5408498604467822,
           0.7328657428764405,
           0.644492286356814,
           0.7310145863671558,
           0.732074474659936,
           0.7301566301320637,
           0.7217052091626809,
           0.5210511895145091,
           0.5411230549417523,
           0.7321772089731967,
           0.730377518487406,
           0.5383622557917037,
           0.5246954487548657,
           0.7329757167956016,
           0.7314449217184096,
           0.7301566301320637,
           0.5410035612773669,
           0.6056018224326873,
           0.5404972106497288,
           0.5338818766152164,
           0.5409185008966255,
           0.7305701283862837,
           0.5367923144870759,
           0.7322152607235772,
           0.7309159384752153,
           0.7333073614505123,
           0.7323563288449244,
           0.7033525945932253,
           0.5880979462747911,
           0.7302826675388964,
           0.7301738240014813,
           0.3340270778411201,
           0.5408539014134213,
           0.7312612365024912,
           0.5355652072801366,
           0.7314547196593433,
           0.7328698966897815,
           0.7307297948227788,
           0.7326257775106169,
           0.7304316695813019,
           0.6400320787528164,
           0.7314547196593433,
           0.7304908472023512,
           0.7317028572442756,
           0.6172029810614943,
           0.7312402256549855,
           0.7063987700474836,
           0.7305377797825064,
           0.7273692911320049,
           0.730377518487406,
           0.5411492755565804,
           0.7318097599243909,
           0.5350618144506376,
           0.7345078228688514,
           0.7343825667631865,
           0.732668154106662,
           0.7309217209935828,
           0.34979615608619674,
           0.7080856946936654,
           0.7330201606167593,
           0.719969946615697,
           0.5522167466119824,
           0.5408043847473392,
           0.6821784900322467,
           0.7307297948227788,
           0.7326188199116842,
           0.7320522388408158,
           0.7303860866255023,
           0.7188204517595165,
           0.733692893502465,
           0.6974311737175167,
           0.6669500241258137,
           0.7309877377400854,
           0.7323651538596277,
           0.7280767879773797,
           0.7310832530257384,
           0.7339186546146714,
           0.7302826675388964,
           0.7340986882870569,
           0.734448497780222,
           0.7329906663015509,
           0.5407724671154217
          ],
          "colorbar": {
           "title": {
            "text": "Objective Value"
           }
          },
          "colorscale": [
           [
            0,
            "rgb(247,251,255)"
           ],
           [
            0.125,
            "rgb(222,235,247)"
           ],
           [
            0.25,
            "rgb(198,219,239)"
           ],
           [
            0.375,
            "rgb(158,202,225)"
           ],
           [
            0.5,
            "rgb(107,174,214)"
           ],
           [
            0.625,
            "rgb(66,146,198)"
           ],
           [
            0.75,
            "rgb(33,113,181)"
           ],
           [
            0.875,
            "rgb(8,81,156)"
           ],
           [
            1,
            "rgb(8,48,107)"
           ]
          ],
          "reversescale": false,
          "showscale": true
         },
         "type": "parcoords"
        }
       ],
       "layout": {
        "template": {
         "data": {
          "bar": [
           {
            "error_x": {
             "color": "#2a3f5f"
            },
            "error_y": {
             "color": "#2a3f5f"
            },
            "marker": {
             "line": {
              "color": "#E5ECF6",
              "width": 0.5
             },
             "pattern": {
              "fillmode": "overlay",
              "size": 10,
              "solidity": 0.2
             }
            },
            "type": "bar"
           }
          ],
          "barpolar": [
           {
            "marker": {
             "line": {
              "color": "#E5ECF6",
              "width": 0.5
             },
             "pattern": {
              "fillmode": "overlay",
              "size": 10,
              "solidity": 0.2
             }
            },
            "type": "barpolar"
           }
          ],
          "carpet": [
           {
            "aaxis": {
             "endlinecolor": "#2a3f5f",
             "gridcolor": "white",
             "linecolor": "white",
             "minorgridcolor": "white",
             "startlinecolor": "#2a3f5f"
            },
            "baxis": {
             "endlinecolor": "#2a3f5f",
             "gridcolor": "white",
             "linecolor": "white",
             "minorgridcolor": "white",
             "startlinecolor": "#2a3f5f"
            },
            "type": "carpet"
           }
          ],
          "choropleth": [
           {
            "colorbar": {
             "outlinewidth": 0,
             "ticks": ""
            },
            "type": "choropleth"
           }
          ],
          "contour": [
           {
            "colorbar": {
             "outlinewidth": 0,
             "ticks": ""
            },
            "colorscale": [
             [
              0,
              "#0d0887"
             ],
             [
              0.1111111111111111,
              "#46039f"
             ],
             [
              0.2222222222222222,
              "#7201a8"
             ],
             [
              0.3333333333333333,
              "#9c179e"
             ],
             [
              0.4444444444444444,
              "#bd3786"
             ],
             [
              0.5555555555555556,
              "#d8576b"
             ],
             [
              0.6666666666666666,
              "#ed7953"
             ],
             [
              0.7777777777777778,
              "#fb9f3a"
             ],
             [
              0.8888888888888888,
              "#fdca26"
             ],
             [
              1,
              "#f0f921"
             ]
            ],
            "type": "contour"
           }
          ],
          "contourcarpet": [
           {
            "colorbar": {
             "outlinewidth": 0,
             "ticks": ""
            },
            "type": "contourcarpet"
           }
          ],
          "heatmap": [
           {
            "colorbar": {
             "outlinewidth": 0,
             "ticks": ""
            },
            "colorscale": [
             [
              0,
              "#0d0887"
             ],
             [
              0.1111111111111111,
              "#46039f"
             ],
             [
              0.2222222222222222,
              "#7201a8"
             ],
             [
              0.3333333333333333,
              "#9c179e"
             ],
             [
              0.4444444444444444,
              "#bd3786"
             ],
             [
              0.5555555555555556,
              "#d8576b"
             ],
             [
              0.6666666666666666,
              "#ed7953"
             ],
             [
              0.7777777777777778,
              "#fb9f3a"
             ],
             [
              0.8888888888888888,
              "#fdca26"
             ],
             [
              1,
              "#f0f921"
             ]
            ],
            "type": "heatmap"
           }
          ],
          "heatmapgl": [
           {
            "colorbar": {
             "outlinewidth": 0,
             "ticks": ""
            },
            "colorscale": [
             [
              0,
              "#0d0887"
             ],
             [
              0.1111111111111111,
              "#46039f"
             ],
             [
              0.2222222222222222,
              "#7201a8"
             ],
             [
              0.3333333333333333,
              "#9c179e"
             ],
             [
              0.4444444444444444,
              "#bd3786"
             ],
             [
              0.5555555555555556,
              "#d8576b"
             ],
             [
              0.6666666666666666,
              "#ed7953"
             ],
             [
              0.7777777777777778,
              "#fb9f3a"
             ],
             [
              0.8888888888888888,
              "#fdca26"
             ],
             [
              1,
              "#f0f921"
             ]
            ],
            "type": "heatmapgl"
           }
          ],
          "histogram": [
           {
            "marker": {
             "pattern": {
              "fillmode": "overlay",
              "size": 10,
              "solidity": 0.2
             }
            },
            "type": "histogram"
           }
          ],
          "histogram2d": [
           {
            "colorbar": {
             "outlinewidth": 0,
             "ticks": ""
            },
            "colorscale": [
             [
              0,
              "#0d0887"
             ],
             [
              0.1111111111111111,
              "#46039f"
             ],
             [
              0.2222222222222222,
              "#7201a8"
             ],
             [
              0.3333333333333333,
              "#9c179e"
             ],
             [
              0.4444444444444444,
              "#bd3786"
             ],
             [
              0.5555555555555556,
              "#d8576b"
             ],
             [
              0.6666666666666666,
              "#ed7953"
             ],
             [
              0.7777777777777778,
              "#fb9f3a"
             ],
             [
              0.8888888888888888,
              "#fdca26"
             ],
             [
              1,
              "#f0f921"
             ]
            ],
            "type": "histogram2d"
           }
          ],
          "histogram2dcontour": [
           {
            "colorbar": {
             "outlinewidth": 0,
             "ticks": ""
            },
            "colorscale": [
             [
              0,
              "#0d0887"
             ],
             [
              0.1111111111111111,
              "#46039f"
             ],
             [
              0.2222222222222222,
              "#7201a8"
             ],
             [
              0.3333333333333333,
              "#9c179e"
             ],
             [
              0.4444444444444444,
              "#bd3786"
             ],
             [
              0.5555555555555556,
              "#d8576b"
             ],
             [
              0.6666666666666666,
              "#ed7953"
             ],
             [
              0.7777777777777778,
              "#fb9f3a"
             ],
             [
              0.8888888888888888,
              "#fdca26"
             ],
             [
              1,
              "#f0f921"
             ]
            ],
            "type": "histogram2dcontour"
           }
          ],
          "mesh3d": [
           {
            "colorbar": {
             "outlinewidth": 0,
             "ticks": ""
            },
            "type": "mesh3d"
           }
          ],
          "parcoords": [
           {
            "line": {
             "colorbar": {
              "outlinewidth": 0,
              "ticks": ""
             }
            },
            "type": "parcoords"
           }
          ],
          "pie": [
           {
            "automargin": true,
            "type": "pie"
           }
          ],
          "scatter": [
           {
            "fillpattern": {
             "fillmode": "overlay",
             "size": 10,
             "solidity": 0.2
            },
            "type": "scatter"
           }
          ],
          "scatter3d": [
           {
            "line": {
             "colorbar": {
              "outlinewidth": 0,
              "ticks": ""
             }
            },
            "marker": {
             "colorbar": {
              "outlinewidth": 0,
              "ticks": ""
             }
            },
            "type": "scatter3d"
           }
          ],
          "scattercarpet": [
           {
            "marker": {
             "colorbar": {
              "outlinewidth": 0,
              "ticks": ""
             }
            },
            "type": "scattercarpet"
           }
          ],
          "scattergeo": [
           {
            "marker": {
             "colorbar": {
              "outlinewidth": 0,
              "ticks": ""
             }
            },
            "type": "scattergeo"
           }
          ],
          "scattergl": [
           {
            "marker": {
             "colorbar": {
              "outlinewidth": 0,
              "ticks": ""
             }
            },
            "type": "scattergl"
           }
          ],
          "scattermapbox": [
           {
            "marker": {
             "colorbar": {
              "outlinewidth": 0,
              "ticks": ""
             }
            },
            "type": "scattermapbox"
           }
          ],
          "scatterpolar": [
           {
            "marker": {
             "colorbar": {
              "outlinewidth": 0,
              "ticks": ""
             }
            },
            "type": "scatterpolar"
           }
          ],
          "scatterpolargl": [
           {
            "marker": {
             "colorbar": {
              "outlinewidth": 0,
              "ticks": ""
             }
            },
            "type": "scatterpolargl"
           }
          ],
          "scatterternary": [
           {
            "marker": {
             "colorbar": {
              "outlinewidth": 0,
              "ticks": ""
             }
            },
            "type": "scatterternary"
           }
          ],
          "surface": [
           {
            "colorbar": {
             "outlinewidth": 0,
             "ticks": ""
            },
            "colorscale": [
             [
              0,
              "#0d0887"
             ],
             [
              0.1111111111111111,
              "#46039f"
             ],
             [
              0.2222222222222222,
              "#7201a8"
             ],
             [
              0.3333333333333333,
              "#9c179e"
             ],
             [
              0.4444444444444444,
              "#bd3786"
             ],
             [
              0.5555555555555556,
              "#d8576b"
             ],
             [
              0.6666666666666666,
              "#ed7953"
             ],
             [
              0.7777777777777778,
              "#fb9f3a"
             ],
             [
              0.8888888888888888,
              "#fdca26"
             ],
             [
              1,
              "#f0f921"
             ]
            ],
            "type": "surface"
           }
          ],
          "table": [
           {
            "cells": {
             "fill": {
              "color": "#EBF0F8"
             },
             "line": {
              "color": "white"
             }
            },
            "header": {
             "fill": {
              "color": "#C8D4E3"
             },
             "line": {
              "color": "white"
             }
            },
            "type": "table"
           }
          ]
         },
         "layout": {
          "annotationdefaults": {
           "arrowcolor": "#2a3f5f",
           "arrowhead": 0,
           "arrowwidth": 1
          },
          "autotypenumbers": "strict",
          "coloraxis": {
           "colorbar": {
            "outlinewidth": 0,
            "ticks": ""
           }
          },
          "colorscale": {
           "diverging": [
            [
             0,
             "#8e0152"
            ],
            [
             0.1,
             "#c51b7d"
            ],
            [
             0.2,
             "#de77ae"
            ],
            [
             0.3,
             "#f1b6da"
            ],
            [
             0.4,
             "#fde0ef"
            ],
            [
             0.5,
             "#f7f7f7"
            ],
            [
             0.6,
             "#e6f5d0"
            ],
            [
             0.7,
             "#b8e186"
            ],
            [
             0.8,
             "#7fbc41"
            ],
            [
             0.9,
             "#4d9221"
            ],
            [
             1,
             "#276419"
            ]
           ],
           "sequential": [
            [
             0,
             "#0d0887"
            ],
            [
             0.1111111111111111,
             "#46039f"
            ],
            [
             0.2222222222222222,
             "#7201a8"
            ],
            [
             0.3333333333333333,
             "#9c179e"
            ],
            [
             0.4444444444444444,
             "#bd3786"
            ],
            [
             0.5555555555555556,
             "#d8576b"
            ],
            [
             0.6666666666666666,
             "#ed7953"
            ],
            [
             0.7777777777777778,
             "#fb9f3a"
            ],
            [
             0.8888888888888888,
             "#fdca26"
            ],
            [
             1,
             "#f0f921"
            ]
           ],
           "sequentialminus": [
            [
             0,
             "#0d0887"
            ],
            [
             0.1111111111111111,
             "#46039f"
            ],
            [
             0.2222222222222222,
             "#7201a8"
            ],
            [
             0.3333333333333333,
             "#9c179e"
            ],
            [
             0.4444444444444444,
             "#bd3786"
            ],
            [
             0.5555555555555556,
             "#d8576b"
            ],
            [
             0.6666666666666666,
             "#ed7953"
            ],
            [
             0.7777777777777778,
             "#fb9f3a"
            ],
            [
             0.8888888888888888,
             "#fdca26"
            ],
            [
             1,
             "#f0f921"
            ]
           ]
          },
          "colorway": [
           "#636efa",
           "#EF553B",
           "#00cc96",
           "#ab63fa",
           "#FFA15A",
           "#19d3f3",
           "#FF6692",
           "#B6E880",
           "#FF97FF",
           "#FECB52"
          ],
          "font": {
           "color": "#2a3f5f"
          },
          "geo": {
           "bgcolor": "white",
           "lakecolor": "white",
           "landcolor": "#E5ECF6",
           "showlakes": true,
           "showland": true,
           "subunitcolor": "white"
          },
          "hoverlabel": {
           "align": "left"
          },
          "hovermode": "closest",
          "mapbox": {
           "style": "light"
          },
          "paper_bgcolor": "white",
          "plot_bgcolor": "#E5ECF6",
          "polar": {
           "angularaxis": {
            "gridcolor": "white",
            "linecolor": "white",
            "ticks": ""
           },
           "bgcolor": "#E5ECF6",
           "radialaxis": {
            "gridcolor": "white",
            "linecolor": "white",
            "ticks": ""
           }
          },
          "scene": {
           "xaxis": {
            "backgroundcolor": "#E5ECF6",
            "gridcolor": "white",
            "gridwidth": 2,
            "linecolor": "white",
            "showbackground": true,
            "ticks": "",
            "zerolinecolor": "white"
           },
           "yaxis": {
            "backgroundcolor": "#E5ECF6",
            "gridcolor": "white",
            "gridwidth": 2,
            "linecolor": "white",
            "showbackground": true,
            "ticks": "",
            "zerolinecolor": "white"
           },
           "zaxis": {
            "backgroundcolor": "#E5ECF6",
            "gridcolor": "white",
            "gridwidth": 2,
            "linecolor": "white",
            "showbackground": true,
            "ticks": "",
            "zerolinecolor": "white"
           }
          },
          "shapedefaults": {
           "line": {
            "color": "#2a3f5f"
           }
          },
          "ternary": {
           "aaxis": {
            "gridcolor": "white",
            "linecolor": "white",
            "ticks": ""
           },
           "baxis": {
            "gridcolor": "white",
            "linecolor": "white",
            "ticks": ""
           },
           "bgcolor": "#E5ECF6",
           "caxis": {
            "gridcolor": "white",
            "linecolor": "white",
            "ticks": ""
           }
          },
          "title": {
           "x": 0.05
          },
          "xaxis": {
           "automargin": true,
           "gridcolor": "white",
           "linecolor": "white",
           "ticks": "",
           "title": {
            "standoff": 15
           },
           "zerolinecolor": "white",
           "zerolinewidth": 2
          },
          "yaxis": {
           "automargin": true,
           "gridcolor": "white",
           "linecolor": "white",
           "ticks": "",
           "title": {
            "standoff": 15
           },
           "zerolinecolor": "white",
           "zerolinewidth": 2
          }
         }
        },
        "title": {
         "text": "Parallel Coordinate Plot"
        }
       }
      }
     },
     "metadata": {},
     "output_type": "display_data"
    }
   ],
   "source": [
    "optuna.visualization.plot_parallel_coordinate(study)"
   ]
  },
  {
   "cell_type": "code",
   "execution_count": 6,
   "metadata": {},
   "outputs": [
    {
     "name": "stderr",
     "output_type": "stream",
     "text": [
      "/var/folders/4b/f4zzvdd97mdb6v7rmbgvl76w0000gn/T/ipykernel_9988/1428420439.py:1: ExperimentalWarning:\n",
      "\n",
      "plot_rank is experimental (supported from v3.2.0). The interface can change in the future.\n",
      "\n"
     ]
    },
    {
     "data": {
      "application/vnd.plotly.v1+json": {
       "config": {
        "plotlyServerURL": "https://plot.ly"
       },
       "data": [
        {
         "hovertemplate": "%{hovertext}<extra></extra>",
         "hovertext": [
          "Trial #0<br>C: 0.7250022290110179<br>penalty: l1<br>solver: liblinear<br><b>Objective Value: 0.7323578606727177</b>",
          "Trial #1<br>C: 0.035815351248335466<br>penalty: l1<br>solver: saga<br><b>Objective Value: 0.5385105058307186</b>",
          "Trial #2<br>C: 11.32275486983325<br>penalty: l1<br>solver: saga<br><b>Objective Value: 0.5410035612773669</b>",
          "Trial #3<br>C: 72.24083618448716<br>penalty: l1<br>solver: saga<br><b>Objective Value: 0.5411230549417523</b>",
          "Trial #4<br>C: 0.07510697504259764<br>penalty: l1<br>solver: saga<br><b>Objective Value: 0.5368786983188212</b>",
          "Trial #5<br>C: 0.047292140961139414<br>penalty: l1<br>solver: liblinear<br><b>Objective Value: 0.5347495662348838</b>",
          "Trial #6<br>C: 0.52163380366578<br>penalty: l2<br>solver: saga<br><b>Objective Value: 0.5408539014134213</b>",
          "Trial #7<br>C: 40.730806990980376<br>penalty: l2<br>solver: liblinear<br><b>Objective Value: 0.7328041007049804</b>",
          "Trial #8<br>C: 0.00024140535834481369<br>penalty: l1<br>solver: liblinear<br><b>Objective Value: 0.2602022316912306</b>",
          "Trial #9<br>C: 82.99208868399846<br>penalty: l1<br>solver: liblinear<br><b>Objective Value: 0.7302654736694787</b>",
          "Trial #10<br>C: 8237.10836944743<br>penalty: l2<br>solver: liblinear<br><b>Objective Value: 0.7302499039049015</b>",
          "Trial #11<br>C: 2441.297640479491<br>penalty: l2<br>solver: liblinear<br><b>Objective Value: 0.7306305733325322</b>",
          "Trial #12<br>C: 5.666684464792597<br>penalty: l2<br>solver: liblinear<br><b>Objective Value: 0.7301946892395043</b>",
          "Trial #13<br>C: 0.0013331425619851087<br>penalty: l2<br>solver: liblinear<br><b>Objective Value: 0.5270279310240277</b>",
          "Trial #14<br>C: 233.11750912693537<br>penalty: l2<br>solver: liblinear<br><b>Objective Value: 0.7302686749499909</b>",
          "Trial #15<br>C: 1.3677467175900966<br>penalty: l2<br>solver: liblinear<br><b>Objective Value: 0.7238678982385025</b>",
          "Trial #16<br>C: 745.7091153404007<br>penalty: l1<br>solver: liblinear<br><b>Objective Value: 0.7302826675388964</b>",
          "Trial #17<br>C: 12.90837164832142<br>penalty: l2<br>solver: liblinear<br><b>Objective Value: 0.7316601989844224</b>",
          "Trial #18<br>C: 0.005606402339893753<br>penalty: l2<br>solver: liblinear<br><b>Objective Value: 0.5408498604467822</b>",
          "Trial #19<br>C: 0.9396153849901697<br>penalty: l1<br>solver: liblinear<br><b>Objective Value: 0.7328657428764405</b>",
          "Trial #20<br>C: 0.21253371148977987<br>penalty: l2<br>solver: liblinear<br><b>Objective Value: 0.644492286356814</b>",
          "Trial #21<br>C: 1.3649950903308652<br>penalty: l1<br>solver: liblinear<br><b>Objective Value: 0.7310145863671558</b>",
          "Trial #22<br>C: 3.138983423371692<br>penalty: l1<br>solver: liblinear<br><b>Objective Value: 0.732074474659936</b>",
          "Trial #23<br>C: 65.71695455684895<br>penalty: l1<br>solver: liblinear<br><b>Objective Value: 0.7301566301320637</b>",
          "Trial #24<br>C: 0.2871008938288001<br>penalty: l1<br>solver: liblinear<br><b>Objective Value: 0.7217052091626809</b>",
          "Trial #25<br>C: 0.010909119282115722<br>penalty: l1<br>solver: liblinear<br><b>Objective Value: 0.5210511895145091</b>",
          "Trial #26<br>C: 27.737696178390962<br>penalty: l1<br>solver: saga<br><b>Objective Value: 0.5411230549417523</b>",
          "Trial #27<br>C: 3.285538753980668<br>penalty: l1<br>solver: liblinear<br><b>Objective Value: 0.7321772089731967</b>",
          "Trial #28<br>C: 411.629757518808<br>penalty: l2<br>solver: liblinear<br><b>Objective Value: 0.730377518487406</b>",
          "Trial #29<br>C: 0.13725565841733442<br>penalty: l1<br>solver: saga<br><b>Objective Value: 0.5383622557917037</b>",
          "Trial #30<br>C: 0.016981761720861105<br>penalty: l1<br>solver: liblinear<br><b>Objective Value: 0.5246954487548657</b>",
          "Trial #31<br>C: 1.0394594696242523<br>penalty: l1<br>solver: liblinear<br><b>Objective Value: 0.7329757167956016</b>",
          "Trial #32<br>C: 0.8610882561131811<br>penalty: l1<br>solver: liblinear<br><b>Objective Value: 0.7314449217184096</b>",
          "Trial #33<br>C: 34.20020622400459<br>penalty: l1<br>solver: liblinear<br><b>Objective Value: 0.7301566301320637</b>",
          "Trial #34<br>C: 9.316093908186877<br>penalty: l1<br>solver: saga<br><b>Objective Value: 0.5410035612773669</b>",
          "Trial #35<br>C: 0.08885065667132105<br>penalty: l1<br>solver: liblinear<br><b>Objective Value: 0.6056018224326873</b>",
          "Trial #36<br>C: 0.6317491671966011<br>penalty: l1<br>solver: saga<br><b>Objective Value: 0.5404972106497288</b>",
          "Trial #37<br>C: 0.030056777679636208<br>penalty: l1<br>solver: liblinear<br><b>Objective Value: 0.5338818766152164</b>",
          "Trial #38<br>C: 3.1102216261943636<br>penalty: l1<br>solver: saga<br><b>Objective Value: 0.5409185008966255</b>",
          "Trial #39<br>C: 16.868905908765367<br>penalty: l1<br>solver: liblinear<br><b>Objective Value: 0.7305701283862837</b>",
          "Trial #40<br>C: 0.0036271943940342204<br>penalty: l2<br>solver: liblinear<br><b>Objective Value: 0.5367923144870759</b>",
          "Trial #41<br>C: 3.615834954471494<br>penalty: l1<br>solver: liblinear<br><b>Objective Value: 0.7322152607235772</b>",
          "Trial #42<br>C: 1.586243721568958<br>penalty: l1<br>solver: liblinear<br><b>Objective Value: 0.7309159384752153</b>",
          "Trial #43<br>C: 0.5240267164902963<br>penalty: l1<br>solver: liblinear<br><b>Objective Value: 0.7333073614505123</b>",
          "Trial #44<br>C: 0.4174727362047103<br>penalty: l1<br>solver: liblinear<br><b>Objective Value: 0.7323563288449244</b>",
          "Trial #45<br>C: 0.16649280152052393<br>penalty: l1<br>solver: liblinear<br><b>Objective Value: 0.7033525945932253</b>",
          "Trial #46<br>C: 0.07503559380028788<br>penalty: l2<br>solver: liblinear<br><b>Objective Value: 0.5880979462747911</b>",
          "Trial #47<br>C: 179.5522780649261<br>penalty: l1<br>solver: liblinear<br><b>Objective Value: 0.7302826675388964</b>",
          "Trial #48<br>C: 2052.4048348108813<br>penalty: l2<br>solver: liblinear<br><b>Objective Value: 0.7301738240014813</b>",
          "Trial #49<br>C: 0.0005611545780563875<br>penalty: l1<br>solver: liblinear<br><b>Objective Value: 0.3340270778411201</b>",
          "Trial #50<br>C: 0.4386719944107784<br>penalty: l2<br>solver: saga<br><b>Objective Value: 0.5408539014134213</b>",
          "Trial #51<br>C: 0.39362560079387554<br>penalty: l1<br>solver: liblinear<br><b>Objective Value: 0.7312612365024912</b>",
          "Trial #52<br>C: 0.036292524294358634<br>penalty: l1<br>solver: liblinear<br><b>Objective Value: 0.5355652072801366</b>",
          "Trial #53<br>C: 6.2877525756733705<br>penalty: l1<br>solver: liblinear<br><b>Objective Value: 0.7314547196593433</b>",
          "Trial #54<br>C: 1.028885689235069<br>penalty: l1<br>solver: liblinear<br><b>Objective Value: 0.7328698966897815</b>",
          "Trial #55<br>C: 1.7263295767740425<br>penalty: l1<br>solver: liblinear<br><b>Objective Value: 0.7307297948227788</b>",
          "Trial #56<br>C: 0.9282067765043863<br>penalty: l1<br>solver: liblinear<br><b>Objective Value: 0.7326257775106169</b>",
          "Trial #57<br>C: 1.1950428493604175<br>penalty: l1<br>solver: liblinear<br><b>Objective Value: 0.7304316695813019</b>",
          "Trial #58<br>C: 0.19345533812941076<br>penalty: l2<br>solver: liblinear<br><b>Objective Value: 0.6400320787528164</b>",
          "Trial #59<br>C: 6.257231622079981<br>penalty: l1<br>solver: liblinear<br><b>Objective Value: 0.7314547196593433</b>",
          "Trial #60<br>C: 23.59425622969497<br>penalty: l1<br>solver: liblinear<br><b>Objective Value: 0.7304908472023512</b>",
          "Trial #61<br>C: 0.9078731184179532<br>penalty: l1<br>solver: liblinear<br><b>Objective Value: 0.7317028572442756</b>",
          "Trial #62<br>C: 0.09223027384870815<br>penalty: l1<br>solver: liblinear<br><b>Objective Value: 0.6172029810614943</b>",
          "Trial #63<br>C: 2.243380525595093<br>penalty: l1<br>solver: liblinear<br><b>Objective Value: 0.7312402256549855</b>",
          "Trial #64<br>C: 0.6614147157736883<br>penalty: l2<br>solver: liblinear<br><b>Objective Value: 0.7063987700474836</b>",
          "Trial #65<br>C: 10.511585203624456<br>penalty: l1<br>solver: liblinear<br><b>Objective Value: 0.7305377797825064</b>",
          "Trial #66<br>C: 0.3222960114500988<br>penalty: l1<br>solver: liblinear<br><b>Objective Value: 0.7273692911320049</b>",
          "Trial #67<br>C: 106.64585750570033<br>penalty: l1<br>solver: liblinear<br><b>Objective Value: 0.730377518487406</b>",
          "Trial #68<br>C: 40.81973919100819<br>penalty: l2<br>solver: saga<br><b>Objective Value: 0.5411492755565804</b>",
          "Trial #69<br>C: 5.5151663303446705<br>penalty: l1<br>solver: liblinear<br><b>Objective Value: 0.7318097599243909</b>",
          "Trial #70<br>C: 0.055109154180852674<br>penalty: l1<br>solver: liblinear<br><b>Objective Value: 0.5350618144506376</b>",
          "Trial #71<br>C: 0.5913560321617163<br>penalty: l1<br>solver: liblinear<br><b>Objective Value: 0.7345078228688514</b>",
          "Trial #72<br>C: 0.6870575810902618<br>penalty: l1<br>solver: liblinear<br><b>Objective Value: 0.7343825667631865</b>",
          "Trial #73<br>C: 0.9654879980711538<br>penalty: l1<br>solver: liblinear<br><b>Objective Value: 0.732668154106662</b>",
          "Trial #74<br>C: 2.6980526735065675<br>penalty: l1<br>solver: liblinear<br><b>Objective Value: 0.7309217209935828</b>",
          "Trial #75<br>C: 0.00010688373866682841<br>penalty: l1<br>solver: liblinear<br><b>Objective Value: 0.34979615608619674</b>",
          "Trial #76<br>C: 0.1881749566690275<br>penalty: l1<br>solver: liblinear<br><b>Objective Value: 0.7080856946936654</b>",
          "Trial #77<br>C: 0.534384478907503<br>penalty: l1<br>solver: liblinear<br><b>Objective Value: 0.7330201606167593</b>",
          "Trial #78<br>C: 0.27854222057446143<br>penalty: l1<br>solver: liblinear<br><b>Objective Value: 0.719969946615697</b>",
          "Trial #79<br>C: 0.019140378454979397<br>penalty: l2<br>solver: liblinear<br><b>Objective Value: 0.5522167466119824</b>",
          "Trial #80<br>C: 0.4890359261591344<br>penalty: l1<br>solver: saga<br><b>Objective Value: 0.5408043847473392</b>",
          "Trial #81<br>C: 0.1312576656887008<br>penalty: l1<br>solver: liblinear<br><b>Objective Value: 0.6821784900322467</b>",
          "Trial #82<br>C: 1.7284602799896955<br>penalty: l1<br>solver: liblinear<br><b>Objective Value: 0.7307297948227788</b>",
          "Trial #83<br>C: 0.7519007260860345<br>penalty: l1<br>solver: liblinear<br><b>Objective Value: 0.7326188199116842</b>",
          "Trial #84<br>C: 3.921352875158072<br>penalty: l1<br>solver: liblinear<br><b>Objective Value: 0.7320522388408158</b>",
          "Trial #85<br>C: 1.2187839304934711<br>penalty: l1<br>solver: liblinear<br><b>Objective Value: 0.7303860866255023</b>",
          "Trial #86<br>C: 0.265011282931695<br>penalty: l1<br>solver: liblinear<br><b>Objective Value: 0.7188204517595165</b>",
          "Trial #87<br>C: 0.5564528298800255<br>penalty: l1<br>solver: liblinear<br><b>Objective Value: 0.733692893502465</b>",
          "Trial #88<br>C: 0.5561407279858028<br>penalty: l2<br>solver: liblinear<br><b>Objective Value: 0.6974311737175167</b>",
          "Trial #89<br>C: 0.11461536043161542<br>penalty: l1<br>solver: liblinear<br><b>Objective Value: 0.6669500241258137</b>",
          "Trial #90<br>C: 1.8421334323876566<br>penalty: l1<br>solver: liblinear<br><b>Objective Value: 0.7309877377400854</b>",
          "Trial #91<br>C: 0.9180523918899388<br>penalty: l1<br>solver: liblinear<br><b>Objective Value: 0.7323651538596277</b>",
          "Trial #92<br>C: 0.3322755870102717<br>penalty: l1<br>solver: liblinear<br><b>Objective Value: 0.7280767879773797</b>",
          "Trial #93<br>C: 1.317919789739125<br>penalty: l1<br>solver: liblinear<br><b>Objective Value: 0.7310832530257384</b>",
          "Trial #94<br>C: 0.6322388439261584<br>penalty: l1<br>solver: liblinear<br><b>Objective Value: 0.7339186546146714</b>",
          "Trial #95<br>C: 681.538684948852<br>penalty: l1<br>solver: liblinear<br><b>Objective Value: 0.7302826675388964</b>",
          "Trial #96<br>C: 0.5785668859409907<br>penalty: l1<br>solver: liblinear<br><b>Objective Value: 0.7340986882870569</b>",
          "Trial #97<br>C: 0.609937183632503<br>penalty: l1<br>solver: liblinear<br><b>Objective Value: 0.734448497780222</b>",
          "Trial #98<br>C: 0.5346027987676117<br>penalty: l1<br>solver: liblinear<br><b>Objective Value: 0.7329906663015509</b>",
          "Trial #99<br>C: 0.479536044012646<br>penalty: l1<br>solver: saga<br><b>Objective Value: 0.5407724671154217</b>"
         ],
         "marker": {
          "color": [
           "rgb(236.0, 92.0, 59.0)",
           "rgb(84.0, 135.0, 189.0)",
           "rgb(125.0, 181.0, 213.0)",
           "rgb(137.0, 189.0, 218.0)",
           "rgb(74.0, 123.0, 183.0)",
           "rgb(63.0, 99.0, 171.0)",
           "rgb(110.0, 166.0, 205.0)",
           "rgb(221.0, 61.0, 45.0)",
           "rgb(49.0, 54.0, 149.0)",
           "rgb(253.0, 254.0, 194.0)",
           "rgb(250.0, 253.0, 200.0)",
           "rgb(254.0, 216.0, 136.0)",
           "rgb(247.0, 252.0, 205.0)",
           "rgb(59.0, 86.0, 165.0)",
           "rgb(255.0, 253.0, 189.0)",
           "rgb(228.0, 245.0, 240.0)",
           "rgb(255.0, 247.0, 179.0)",
           "rgb(249.0, 143.0, 83.0)",
           "rgb(103.0, 157.0, 201.0)",
           "rgb(218.0, 55.0, 42.0)",
           "rgb(178.0, 220.0, 235.0)",
           "rgb(253.0, 186.0, 108.0)",
           "rgb(245.0, 117.0, 71.0)",
           "rgb(239.0, 249.0, 220.0)",
           "rgb(225.0, 243.0, 246.0)",
           "rgb(55.0, 73.0, 158.0)",
           "rgb(137.0, 189.0, 218.0)",
           "rgb(244.0, 110.0, 68.0)",
           "rgb(254.0, 239.0, 167.0)",
           "rgb(79.0, 129.0, 186.0)",
           "rgb(57.0, 79.0, 162.0)",
           "rgb(210.0, 44.0, 39.0)",
           "rgb(251.0, 163.0, 92.0)",
           "rgb(239.0, 249.0, 220.0)",
           "rgb(125.0, 181.0, 213.0)",
           "rgb(162.0, 209.0, 229.0)",
           "rgb(88.0, 140.0, 192.0)",
           "rgb(61.0, 92.0, 168.0)",
           "rgb(117.0, 174.0, 209.0)",
           "rgb(254.0, 221.0, 141.0)",
           "rgb(69.0, 118.0, 180.0)",
           "rgb(242.0, 104.0, 65.0)",
           "rgb(254.0, 201.0, 122.0)",
           "rgb(195.0, 29.0, 39.0)",
           "rgb(239.0, 98.0, 62.0)",
           "rgb(199.0, 231.0, 241.0)",
           "rgb(156.0, 205.0, 226.0)",
           "rgb(255.0, 247.0, 179.0)",
           "rgb(244.0, 251.0, 211.0)",
           "rgb(51.0, 60.0, 152.0)",
           "rgb(110.0, 166.0, 205.0)",
           "rgb(252.0, 169.0, 95.0)",
           "rgb(67.0, 111.0, 177.0)",
           "rgb(250.0, 153.0, 87.0)",
           "rgb(215.0, 49.0, 39.0)",
           "rgb(254.0, 208.0, 129.0)",
           "rgb(227.0, 73.0, 51.0)",
           "rgb(254.0, 232.0, 155.0)",
           "rgb(173.0, 218.0, 233.0)",
           "rgb(250.0, 153.0, 87.0)",
           "rgb(254.0, 228.0, 151.0)",
           "rgb(248.0, 137.0, 80.0)",
           "rgb(167.0, 214.0, 231.0)",
           "rgb(253.0, 176.0, 98.0)",
           "rgb(205.0, 234.0, 243.0)",
           "rgb(254.0, 225.0, 146.0)",
           "rgb(232.0, 246.0, 234.0)",
           "rgb(254.0, 239.0, 167.0)",
           "rgb(145.0, 196.0, 222.0)",
           "rgb(247.0, 130.0, 77.0)",
           "rgb(65.0, 105.0, 174.0)",
           "rgb(165.0, 0.0, 38.0)",
           "rgb(175.0, 10.0, 38.0)",
           "rgb(224.0, 67.0, 48.0)",
           "rgb(253.0, 196.0, 117.0)",
           "rgb(53.0, 67.0, 155.0)",
           "rgb(210.0, 236.0, 244.0)",
           "rgb(200.0, 34.0, 39.0)",
           "rgb(221.0, 241.0, 247.0)",
           "rgb(150.0, 201.0, 224.0)",
           "rgb(98.0, 152.0, 198.0)",
           "rgb(189.0, 226.0, 238.0)",
           "rgb(254.0, 208.0, 129.0)",
           "rgb(230.0, 79.0, 53.0)",
           "rgb(246.0, 123.0, 74.0)",
           "rgb(254.0, 235.0, 160.0)",
           "rgb(215.0, 239.0, 246.0)",
           "rgb(190.0, 24.0, 39.0)",
           "rgb(194.0, 228.0, 240.0)",
           "rgb(183.0, 223.0, 236.0)",
           "rgb(253.0, 191.0, 113.0)",
           "rgb(233.0, 86.0, 56.0)",
           "rgb(235.0, 247.0, 228.0)",
           "rgb(253.0, 181.0, 103.0)",
           "rgb(185.0, 19.0, 38.0)",
           "rgb(255.0, 247.0, 179.0)",
           "rgb(180.0, 15.0, 38.0)",
           "rgb(170.0, 5.0, 38.0)",
           "rgb(205.0, 39.0, 39.0)",
           "rgb(93.0, 146.0, 195.0)"
          ],
          "line": {
           "color": "Grey",
           "width": 0.5
          }
         },
         "mode": "markers",
         "showlegend": false,
         "type": "scatter",
         "x": [
          0.7250022290110179,
          0.035815351248335466,
          11.32275486983325,
          72.24083618448716,
          0.07510697504259764,
          0.047292140961139414,
          0.52163380366578,
          40.730806990980376,
          0.00024140535834481369,
          82.99208868399846,
          8237.10836944743,
          2441.297640479491,
          5.666684464792597,
          0.0013331425619851087,
          233.11750912693537,
          1.3677467175900966,
          745.7091153404007,
          12.90837164832142,
          0.005606402339893753,
          0.9396153849901697,
          0.21253371148977987,
          1.3649950903308652,
          3.138983423371692,
          65.71695455684895,
          0.2871008938288001,
          0.010909119282115722,
          27.737696178390962,
          3.285538753980668,
          411.629757518808,
          0.13725565841733442,
          0.016981761720861105,
          1.0394594696242523,
          0.8610882561131811,
          34.20020622400459,
          9.316093908186877,
          0.08885065667132105,
          0.6317491671966011,
          0.030056777679636208,
          3.1102216261943636,
          16.868905908765367,
          0.0036271943940342204,
          3.615834954471494,
          1.586243721568958,
          0.5240267164902963,
          0.4174727362047103,
          0.16649280152052393,
          0.07503559380028788,
          179.5522780649261,
          2052.4048348108813,
          0.0005611545780563875,
          0.4386719944107784,
          0.39362560079387554,
          0.036292524294358634,
          6.2877525756733705,
          1.028885689235069,
          1.7263295767740425,
          0.9282067765043863,
          1.1950428493604175,
          0.19345533812941076,
          6.257231622079981,
          23.59425622969497,
          0.9078731184179532,
          0.09223027384870815,
          2.243380525595093,
          0.6614147157736883,
          10.511585203624456,
          0.3222960114500988,
          106.64585750570033,
          40.81973919100819,
          5.5151663303446705,
          0.055109154180852674,
          0.5913560321617163,
          0.6870575810902618,
          0.9654879980711538,
          2.6980526735065675,
          0.00010688373866682841,
          0.1881749566690275,
          0.534384478907503,
          0.27854222057446143,
          0.019140378454979397,
          0.4890359261591344,
          0.1312576656887008,
          1.7284602799896955,
          0.7519007260860345,
          3.921352875158072,
          1.2187839304934711,
          0.265011282931695,
          0.5564528298800255,
          0.5561407279858028,
          0.11461536043161542,
          1.8421334323876566,
          0.9180523918899388,
          0.3322755870102717,
          1.317919789739125,
          0.6322388439261584,
          681.538684948852,
          0.5785668859409907,
          0.609937183632503,
          0.5346027987676117,
          0.479536044012646
         ],
         "xaxis": "x",
         "y": [
          0.7250022290110179,
          0.035815351248335466,
          11.32275486983325,
          72.24083618448716,
          0.07510697504259764,
          0.047292140961139414,
          0.52163380366578,
          40.730806990980376,
          0.00024140535834481369,
          82.99208868399846,
          8237.10836944743,
          2441.297640479491,
          5.666684464792597,
          0.0013331425619851087,
          233.11750912693537,
          1.3677467175900966,
          745.7091153404007,
          12.90837164832142,
          0.005606402339893753,
          0.9396153849901697,
          0.21253371148977987,
          1.3649950903308652,
          3.138983423371692,
          65.71695455684895,
          0.2871008938288001,
          0.010909119282115722,
          27.737696178390962,
          3.285538753980668,
          411.629757518808,
          0.13725565841733442,
          0.016981761720861105,
          1.0394594696242523,
          0.8610882561131811,
          34.20020622400459,
          9.316093908186877,
          0.08885065667132105,
          0.6317491671966011,
          0.030056777679636208,
          3.1102216261943636,
          16.868905908765367,
          0.0036271943940342204,
          3.615834954471494,
          1.586243721568958,
          0.5240267164902963,
          0.4174727362047103,
          0.16649280152052393,
          0.07503559380028788,
          179.5522780649261,
          2052.4048348108813,
          0.0005611545780563875,
          0.4386719944107784,
          0.39362560079387554,
          0.036292524294358634,
          6.2877525756733705,
          1.028885689235069,
          1.7263295767740425,
          0.9282067765043863,
          1.1950428493604175,
          0.19345533812941076,
          6.257231622079981,
          23.59425622969497,
          0.9078731184179532,
          0.09223027384870815,
          2.243380525595093,
          0.6614147157736883,
          10.511585203624456,
          0.3222960114500988,
          106.64585750570033,
          40.81973919100819,
          5.5151663303446705,
          0.055109154180852674,
          0.5913560321617163,
          0.6870575810902618,
          0.9654879980711538,
          2.6980526735065675,
          0.00010688373866682841,
          0.1881749566690275,
          0.534384478907503,
          0.27854222057446143,
          0.019140378454979397,
          0.4890359261591344,
          0.1312576656887008,
          1.7284602799896955,
          0.7519007260860345,
          3.921352875158072,
          1.2187839304934711,
          0.265011282931695,
          0.5564528298800255,
          0.5561407279858028,
          0.11461536043161542,
          1.8421334323876566,
          0.9180523918899388,
          0.3322755870102717,
          1.317919789739125,
          0.6322388439261584,
          681.538684948852,
          0.5785668859409907,
          0.609937183632503,
          0.5346027987676117,
          0.479536044012646
         ],
         "yaxis": "y"
        },
        {
         "hovertemplate": "%{hovertext}<extra></extra>",
         "hovertext": [
          "Trial #0<br>C: 0.7250022290110179<br>penalty: l1<br>solver: liblinear<br><b>Objective Value: 0.7323578606727177</b>",
          "Trial #1<br>C: 0.035815351248335466<br>penalty: l1<br>solver: saga<br><b>Objective Value: 0.5385105058307186</b>",
          "Trial #2<br>C: 11.32275486983325<br>penalty: l1<br>solver: saga<br><b>Objective Value: 0.5410035612773669</b>",
          "Trial #3<br>C: 72.24083618448716<br>penalty: l1<br>solver: saga<br><b>Objective Value: 0.5411230549417523</b>",
          "Trial #4<br>C: 0.07510697504259764<br>penalty: l1<br>solver: saga<br><b>Objective Value: 0.5368786983188212</b>",
          "Trial #5<br>C: 0.047292140961139414<br>penalty: l1<br>solver: liblinear<br><b>Objective Value: 0.5347495662348838</b>",
          "Trial #6<br>C: 0.52163380366578<br>penalty: l2<br>solver: saga<br><b>Objective Value: 0.5408539014134213</b>",
          "Trial #7<br>C: 40.730806990980376<br>penalty: l2<br>solver: liblinear<br><b>Objective Value: 0.7328041007049804</b>",
          "Trial #8<br>C: 0.00024140535834481369<br>penalty: l1<br>solver: liblinear<br><b>Objective Value: 0.2602022316912306</b>",
          "Trial #9<br>C: 82.99208868399846<br>penalty: l1<br>solver: liblinear<br><b>Objective Value: 0.7302654736694787</b>",
          "Trial #10<br>C: 8237.10836944743<br>penalty: l2<br>solver: liblinear<br><b>Objective Value: 0.7302499039049015</b>",
          "Trial #11<br>C: 2441.297640479491<br>penalty: l2<br>solver: liblinear<br><b>Objective Value: 0.7306305733325322</b>",
          "Trial #12<br>C: 5.666684464792597<br>penalty: l2<br>solver: liblinear<br><b>Objective Value: 0.7301946892395043</b>",
          "Trial #13<br>C: 0.0013331425619851087<br>penalty: l2<br>solver: liblinear<br><b>Objective Value: 0.5270279310240277</b>",
          "Trial #14<br>C: 233.11750912693537<br>penalty: l2<br>solver: liblinear<br><b>Objective Value: 0.7302686749499909</b>",
          "Trial #15<br>C: 1.3677467175900966<br>penalty: l2<br>solver: liblinear<br><b>Objective Value: 0.7238678982385025</b>",
          "Trial #16<br>C: 745.7091153404007<br>penalty: l1<br>solver: liblinear<br><b>Objective Value: 0.7302826675388964</b>",
          "Trial #17<br>C: 12.90837164832142<br>penalty: l2<br>solver: liblinear<br><b>Objective Value: 0.7316601989844224</b>",
          "Trial #18<br>C: 0.005606402339893753<br>penalty: l2<br>solver: liblinear<br><b>Objective Value: 0.5408498604467822</b>",
          "Trial #19<br>C: 0.9396153849901697<br>penalty: l1<br>solver: liblinear<br><b>Objective Value: 0.7328657428764405</b>",
          "Trial #20<br>C: 0.21253371148977987<br>penalty: l2<br>solver: liblinear<br><b>Objective Value: 0.644492286356814</b>",
          "Trial #21<br>C: 1.3649950903308652<br>penalty: l1<br>solver: liblinear<br><b>Objective Value: 0.7310145863671558</b>",
          "Trial #22<br>C: 3.138983423371692<br>penalty: l1<br>solver: liblinear<br><b>Objective Value: 0.732074474659936</b>",
          "Trial #23<br>C: 65.71695455684895<br>penalty: l1<br>solver: liblinear<br><b>Objective Value: 0.7301566301320637</b>",
          "Trial #24<br>C: 0.2871008938288001<br>penalty: l1<br>solver: liblinear<br><b>Objective Value: 0.7217052091626809</b>",
          "Trial #25<br>C: 0.010909119282115722<br>penalty: l1<br>solver: liblinear<br><b>Objective Value: 0.5210511895145091</b>",
          "Trial #26<br>C: 27.737696178390962<br>penalty: l1<br>solver: saga<br><b>Objective Value: 0.5411230549417523</b>",
          "Trial #27<br>C: 3.285538753980668<br>penalty: l1<br>solver: liblinear<br><b>Objective Value: 0.7321772089731967</b>",
          "Trial #28<br>C: 411.629757518808<br>penalty: l2<br>solver: liblinear<br><b>Objective Value: 0.730377518487406</b>",
          "Trial #29<br>C: 0.13725565841733442<br>penalty: l1<br>solver: saga<br><b>Objective Value: 0.5383622557917037</b>",
          "Trial #30<br>C: 0.016981761720861105<br>penalty: l1<br>solver: liblinear<br><b>Objective Value: 0.5246954487548657</b>",
          "Trial #31<br>C: 1.0394594696242523<br>penalty: l1<br>solver: liblinear<br><b>Objective Value: 0.7329757167956016</b>",
          "Trial #32<br>C: 0.8610882561131811<br>penalty: l1<br>solver: liblinear<br><b>Objective Value: 0.7314449217184096</b>",
          "Trial #33<br>C: 34.20020622400459<br>penalty: l1<br>solver: liblinear<br><b>Objective Value: 0.7301566301320637</b>",
          "Trial #34<br>C: 9.316093908186877<br>penalty: l1<br>solver: saga<br><b>Objective Value: 0.5410035612773669</b>",
          "Trial #35<br>C: 0.08885065667132105<br>penalty: l1<br>solver: liblinear<br><b>Objective Value: 0.6056018224326873</b>",
          "Trial #36<br>C: 0.6317491671966011<br>penalty: l1<br>solver: saga<br><b>Objective Value: 0.5404972106497288</b>",
          "Trial #37<br>C: 0.030056777679636208<br>penalty: l1<br>solver: liblinear<br><b>Objective Value: 0.5338818766152164</b>",
          "Trial #38<br>C: 3.1102216261943636<br>penalty: l1<br>solver: saga<br><b>Objective Value: 0.5409185008966255</b>",
          "Trial #39<br>C: 16.868905908765367<br>penalty: l1<br>solver: liblinear<br><b>Objective Value: 0.7305701283862837</b>",
          "Trial #40<br>C: 0.0036271943940342204<br>penalty: l2<br>solver: liblinear<br><b>Objective Value: 0.5367923144870759</b>",
          "Trial #41<br>C: 3.615834954471494<br>penalty: l1<br>solver: liblinear<br><b>Objective Value: 0.7322152607235772</b>",
          "Trial #42<br>C: 1.586243721568958<br>penalty: l1<br>solver: liblinear<br><b>Objective Value: 0.7309159384752153</b>",
          "Trial #43<br>C: 0.5240267164902963<br>penalty: l1<br>solver: liblinear<br><b>Objective Value: 0.7333073614505123</b>",
          "Trial #44<br>C: 0.4174727362047103<br>penalty: l1<br>solver: liblinear<br><b>Objective Value: 0.7323563288449244</b>",
          "Trial #45<br>C: 0.16649280152052393<br>penalty: l1<br>solver: liblinear<br><b>Objective Value: 0.7033525945932253</b>",
          "Trial #46<br>C: 0.07503559380028788<br>penalty: l2<br>solver: liblinear<br><b>Objective Value: 0.5880979462747911</b>",
          "Trial #47<br>C: 179.5522780649261<br>penalty: l1<br>solver: liblinear<br><b>Objective Value: 0.7302826675388964</b>",
          "Trial #48<br>C: 2052.4048348108813<br>penalty: l2<br>solver: liblinear<br><b>Objective Value: 0.7301738240014813</b>",
          "Trial #49<br>C: 0.0005611545780563875<br>penalty: l1<br>solver: liblinear<br><b>Objective Value: 0.3340270778411201</b>",
          "Trial #50<br>C: 0.4386719944107784<br>penalty: l2<br>solver: saga<br><b>Objective Value: 0.5408539014134213</b>",
          "Trial #51<br>C: 0.39362560079387554<br>penalty: l1<br>solver: liblinear<br><b>Objective Value: 0.7312612365024912</b>",
          "Trial #52<br>C: 0.036292524294358634<br>penalty: l1<br>solver: liblinear<br><b>Objective Value: 0.5355652072801366</b>",
          "Trial #53<br>C: 6.2877525756733705<br>penalty: l1<br>solver: liblinear<br><b>Objective Value: 0.7314547196593433</b>",
          "Trial #54<br>C: 1.028885689235069<br>penalty: l1<br>solver: liblinear<br><b>Objective Value: 0.7328698966897815</b>",
          "Trial #55<br>C: 1.7263295767740425<br>penalty: l1<br>solver: liblinear<br><b>Objective Value: 0.7307297948227788</b>",
          "Trial #56<br>C: 0.9282067765043863<br>penalty: l1<br>solver: liblinear<br><b>Objective Value: 0.7326257775106169</b>",
          "Trial #57<br>C: 1.1950428493604175<br>penalty: l1<br>solver: liblinear<br><b>Objective Value: 0.7304316695813019</b>",
          "Trial #58<br>C: 0.19345533812941076<br>penalty: l2<br>solver: liblinear<br><b>Objective Value: 0.6400320787528164</b>",
          "Trial #59<br>C: 6.257231622079981<br>penalty: l1<br>solver: liblinear<br><b>Objective Value: 0.7314547196593433</b>",
          "Trial #60<br>C: 23.59425622969497<br>penalty: l1<br>solver: liblinear<br><b>Objective Value: 0.7304908472023512</b>",
          "Trial #61<br>C: 0.9078731184179532<br>penalty: l1<br>solver: liblinear<br><b>Objective Value: 0.7317028572442756</b>",
          "Trial #62<br>C: 0.09223027384870815<br>penalty: l1<br>solver: liblinear<br><b>Objective Value: 0.6172029810614943</b>",
          "Trial #63<br>C: 2.243380525595093<br>penalty: l1<br>solver: liblinear<br><b>Objective Value: 0.7312402256549855</b>",
          "Trial #64<br>C: 0.6614147157736883<br>penalty: l2<br>solver: liblinear<br><b>Objective Value: 0.7063987700474836</b>",
          "Trial #65<br>C: 10.511585203624456<br>penalty: l1<br>solver: liblinear<br><b>Objective Value: 0.7305377797825064</b>",
          "Trial #66<br>C: 0.3222960114500988<br>penalty: l1<br>solver: liblinear<br><b>Objective Value: 0.7273692911320049</b>",
          "Trial #67<br>C: 106.64585750570033<br>penalty: l1<br>solver: liblinear<br><b>Objective Value: 0.730377518487406</b>",
          "Trial #68<br>C: 40.81973919100819<br>penalty: l2<br>solver: saga<br><b>Objective Value: 0.5411492755565804</b>",
          "Trial #69<br>C: 5.5151663303446705<br>penalty: l1<br>solver: liblinear<br><b>Objective Value: 0.7318097599243909</b>",
          "Trial #70<br>C: 0.055109154180852674<br>penalty: l1<br>solver: liblinear<br><b>Objective Value: 0.5350618144506376</b>",
          "Trial #71<br>C: 0.5913560321617163<br>penalty: l1<br>solver: liblinear<br><b>Objective Value: 0.7345078228688514</b>",
          "Trial #72<br>C: 0.6870575810902618<br>penalty: l1<br>solver: liblinear<br><b>Objective Value: 0.7343825667631865</b>",
          "Trial #73<br>C: 0.9654879980711538<br>penalty: l1<br>solver: liblinear<br><b>Objective Value: 0.732668154106662</b>",
          "Trial #74<br>C: 2.6980526735065675<br>penalty: l1<br>solver: liblinear<br><b>Objective Value: 0.7309217209935828</b>",
          "Trial #75<br>C: 0.00010688373866682841<br>penalty: l1<br>solver: liblinear<br><b>Objective Value: 0.34979615608619674</b>",
          "Trial #76<br>C: 0.1881749566690275<br>penalty: l1<br>solver: liblinear<br><b>Objective Value: 0.7080856946936654</b>",
          "Trial #77<br>C: 0.534384478907503<br>penalty: l1<br>solver: liblinear<br><b>Objective Value: 0.7330201606167593</b>",
          "Trial #78<br>C: 0.27854222057446143<br>penalty: l1<br>solver: liblinear<br><b>Objective Value: 0.719969946615697</b>",
          "Trial #79<br>C: 0.019140378454979397<br>penalty: l2<br>solver: liblinear<br><b>Objective Value: 0.5522167466119824</b>",
          "Trial #80<br>C: 0.4890359261591344<br>penalty: l1<br>solver: saga<br><b>Objective Value: 0.5408043847473392</b>",
          "Trial #81<br>C: 0.1312576656887008<br>penalty: l1<br>solver: liblinear<br><b>Objective Value: 0.6821784900322467</b>",
          "Trial #82<br>C: 1.7284602799896955<br>penalty: l1<br>solver: liblinear<br><b>Objective Value: 0.7307297948227788</b>",
          "Trial #83<br>C: 0.7519007260860345<br>penalty: l1<br>solver: liblinear<br><b>Objective Value: 0.7326188199116842</b>",
          "Trial #84<br>C: 3.921352875158072<br>penalty: l1<br>solver: liblinear<br><b>Objective Value: 0.7320522388408158</b>",
          "Trial #85<br>C: 1.2187839304934711<br>penalty: l1<br>solver: liblinear<br><b>Objective Value: 0.7303860866255023</b>",
          "Trial #86<br>C: 0.265011282931695<br>penalty: l1<br>solver: liblinear<br><b>Objective Value: 0.7188204517595165</b>",
          "Trial #87<br>C: 0.5564528298800255<br>penalty: l1<br>solver: liblinear<br><b>Objective Value: 0.733692893502465</b>",
          "Trial #88<br>C: 0.5561407279858028<br>penalty: l2<br>solver: liblinear<br><b>Objective Value: 0.6974311737175167</b>",
          "Trial #89<br>C: 0.11461536043161542<br>penalty: l1<br>solver: liblinear<br><b>Objective Value: 0.6669500241258137</b>",
          "Trial #90<br>C: 1.8421334323876566<br>penalty: l1<br>solver: liblinear<br><b>Objective Value: 0.7309877377400854</b>",
          "Trial #91<br>C: 0.9180523918899388<br>penalty: l1<br>solver: liblinear<br><b>Objective Value: 0.7323651538596277</b>",
          "Trial #92<br>C: 0.3322755870102717<br>penalty: l1<br>solver: liblinear<br><b>Objective Value: 0.7280767879773797</b>",
          "Trial #93<br>C: 1.317919789739125<br>penalty: l1<br>solver: liblinear<br><b>Objective Value: 0.7310832530257384</b>",
          "Trial #94<br>C: 0.6322388439261584<br>penalty: l1<br>solver: liblinear<br><b>Objective Value: 0.7339186546146714</b>",
          "Trial #95<br>C: 681.538684948852<br>penalty: l1<br>solver: liblinear<br><b>Objective Value: 0.7302826675388964</b>",
          "Trial #96<br>C: 0.5785668859409907<br>penalty: l1<br>solver: liblinear<br><b>Objective Value: 0.7340986882870569</b>",
          "Trial #97<br>C: 0.609937183632503<br>penalty: l1<br>solver: liblinear<br><b>Objective Value: 0.734448497780222</b>",
          "Trial #98<br>C: 0.5346027987676117<br>penalty: l1<br>solver: liblinear<br><b>Objective Value: 0.7329906663015509</b>",
          "Trial #99<br>C: 0.479536044012646<br>penalty: l1<br>solver: saga<br><b>Objective Value: 0.5407724671154217</b>"
         ],
         "marker": {
          "color": [
           "rgb(236.0, 92.0, 59.0)",
           "rgb(84.0, 135.0, 189.0)",
           "rgb(125.0, 181.0, 213.0)",
           "rgb(137.0, 189.0, 218.0)",
           "rgb(74.0, 123.0, 183.0)",
           "rgb(63.0, 99.0, 171.0)",
           "rgb(110.0, 166.0, 205.0)",
           "rgb(221.0, 61.0, 45.0)",
           "rgb(49.0, 54.0, 149.0)",
           "rgb(253.0, 254.0, 194.0)",
           "rgb(250.0, 253.0, 200.0)",
           "rgb(254.0, 216.0, 136.0)",
           "rgb(247.0, 252.0, 205.0)",
           "rgb(59.0, 86.0, 165.0)",
           "rgb(255.0, 253.0, 189.0)",
           "rgb(228.0, 245.0, 240.0)",
           "rgb(255.0, 247.0, 179.0)",
           "rgb(249.0, 143.0, 83.0)",
           "rgb(103.0, 157.0, 201.0)",
           "rgb(218.0, 55.0, 42.0)",
           "rgb(178.0, 220.0, 235.0)",
           "rgb(253.0, 186.0, 108.0)",
           "rgb(245.0, 117.0, 71.0)",
           "rgb(239.0, 249.0, 220.0)",
           "rgb(225.0, 243.0, 246.0)",
           "rgb(55.0, 73.0, 158.0)",
           "rgb(137.0, 189.0, 218.0)",
           "rgb(244.0, 110.0, 68.0)",
           "rgb(254.0, 239.0, 167.0)",
           "rgb(79.0, 129.0, 186.0)",
           "rgb(57.0, 79.0, 162.0)",
           "rgb(210.0, 44.0, 39.0)",
           "rgb(251.0, 163.0, 92.0)",
           "rgb(239.0, 249.0, 220.0)",
           "rgb(125.0, 181.0, 213.0)",
           "rgb(162.0, 209.0, 229.0)",
           "rgb(88.0, 140.0, 192.0)",
           "rgb(61.0, 92.0, 168.0)",
           "rgb(117.0, 174.0, 209.0)",
           "rgb(254.0, 221.0, 141.0)",
           "rgb(69.0, 118.0, 180.0)",
           "rgb(242.0, 104.0, 65.0)",
           "rgb(254.0, 201.0, 122.0)",
           "rgb(195.0, 29.0, 39.0)",
           "rgb(239.0, 98.0, 62.0)",
           "rgb(199.0, 231.0, 241.0)",
           "rgb(156.0, 205.0, 226.0)",
           "rgb(255.0, 247.0, 179.0)",
           "rgb(244.0, 251.0, 211.0)",
           "rgb(51.0, 60.0, 152.0)",
           "rgb(110.0, 166.0, 205.0)",
           "rgb(252.0, 169.0, 95.0)",
           "rgb(67.0, 111.0, 177.0)",
           "rgb(250.0, 153.0, 87.0)",
           "rgb(215.0, 49.0, 39.0)",
           "rgb(254.0, 208.0, 129.0)",
           "rgb(227.0, 73.0, 51.0)",
           "rgb(254.0, 232.0, 155.0)",
           "rgb(173.0, 218.0, 233.0)",
           "rgb(250.0, 153.0, 87.0)",
           "rgb(254.0, 228.0, 151.0)",
           "rgb(248.0, 137.0, 80.0)",
           "rgb(167.0, 214.0, 231.0)",
           "rgb(253.0, 176.0, 98.0)",
           "rgb(205.0, 234.0, 243.0)",
           "rgb(254.0, 225.0, 146.0)",
           "rgb(232.0, 246.0, 234.0)",
           "rgb(254.0, 239.0, 167.0)",
           "rgb(145.0, 196.0, 222.0)",
           "rgb(247.0, 130.0, 77.0)",
           "rgb(65.0, 105.0, 174.0)",
           "rgb(165.0, 0.0, 38.0)",
           "rgb(175.0, 10.0, 38.0)",
           "rgb(224.0, 67.0, 48.0)",
           "rgb(253.0, 196.0, 117.0)",
           "rgb(53.0, 67.0, 155.0)",
           "rgb(210.0, 236.0, 244.0)",
           "rgb(200.0, 34.0, 39.0)",
           "rgb(221.0, 241.0, 247.0)",
           "rgb(150.0, 201.0, 224.0)",
           "rgb(98.0, 152.0, 198.0)",
           "rgb(189.0, 226.0, 238.0)",
           "rgb(254.0, 208.0, 129.0)",
           "rgb(230.0, 79.0, 53.0)",
           "rgb(246.0, 123.0, 74.0)",
           "rgb(254.0, 235.0, 160.0)",
           "rgb(215.0, 239.0, 246.0)",
           "rgb(190.0, 24.0, 39.0)",
           "rgb(194.0, 228.0, 240.0)",
           "rgb(183.0, 223.0, 236.0)",
           "rgb(253.0, 191.0, 113.0)",
           "rgb(233.0, 86.0, 56.0)",
           "rgb(235.0, 247.0, 228.0)",
           "rgb(253.0, 181.0, 103.0)",
           "rgb(185.0, 19.0, 38.0)",
           "rgb(255.0, 247.0, 179.0)",
           "rgb(180.0, 15.0, 38.0)",
           "rgb(170.0, 5.0, 38.0)",
           "rgb(205.0, 39.0, 39.0)",
           "rgb(93.0, 146.0, 195.0)"
          ],
          "line": {
           "color": "Grey",
           "width": 0.5
          }
         },
         "mode": "markers",
         "showlegend": false,
         "type": "scatter",
         "x": [
          0.7250022290110179,
          0.035815351248335466,
          11.32275486983325,
          72.24083618448716,
          0.07510697504259764,
          0.047292140961139414,
          0.52163380366578,
          40.730806990980376,
          0.00024140535834481369,
          82.99208868399846,
          8237.10836944743,
          2441.297640479491,
          5.666684464792597,
          0.0013331425619851087,
          233.11750912693537,
          1.3677467175900966,
          745.7091153404007,
          12.90837164832142,
          0.005606402339893753,
          0.9396153849901697,
          0.21253371148977987,
          1.3649950903308652,
          3.138983423371692,
          65.71695455684895,
          0.2871008938288001,
          0.010909119282115722,
          27.737696178390962,
          3.285538753980668,
          411.629757518808,
          0.13725565841733442,
          0.016981761720861105,
          1.0394594696242523,
          0.8610882561131811,
          34.20020622400459,
          9.316093908186877,
          0.08885065667132105,
          0.6317491671966011,
          0.030056777679636208,
          3.1102216261943636,
          16.868905908765367,
          0.0036271943940342204,
          3.615834954471494,
          1.586243721568958,
          0.5240267164902963,
          0.4174727362047103,
          0.16649280152052393,
          0.07503559380028788,
          179.5522780649261,
          2052.4048348108813,
          0.0005611545780563875,
          0.4386719944107784,
          0.39362560079387554,
          0.036292524294358634,
          6.2877525756733705,
          1.028885689235069,
          1.7263295767740425,
          0.9282067765043863,
          1.1950428493604175,
          0.19345533812941076,
          6.257231622079981,
          23.59425622969497,
          0.9078731184179532,
          0.09223027384870815,
          2.243380525595093,
          0.6614147157736883,
          10.511585203624456,
          0.3222960114500988,
          106.64585750570033,
          40.81973919100819,
          5.5151663303446705,
          0.055109154180852674,
          0.5913560321617163,
          0.6870575810902618,
          0.9654879980711538,
          2.6980526735065675,
          0.00010688373866682841,
          0.1881749566690275,
          0.534384478907503,
          0.27854222057446143,
          0.019140378454979397,
          0.4890359261591344,
          0.1312576656887008,
          1.7284602799896955,
          0.7519007260860345,
          3.921352875158072,
          1.2187839304934711,
          0.265011282931695,
          0.5564528298800255,
          0.5561407279858028,
          0.11461536043161542,
          1.8421334323876566,
          0.9180523918899388,
          0.3322755870102717,
          1.317919789739125,
          0.6322388439261584,
          681.538684948852,
          0.5785668859409907,
          0.609937183632503,
          0.5346027987676117,
          0.479536044012646
         ],
         "xaxis": "x4",
         "y": [
          "l1",
          "l1",
          "l1",
          "l1",
          "l1",
          "l1",
          "l2",
          "l2",
          "l1",
          "l1",
          "l2",
          "l2",
          "l2",
          "l2",
          "l2",
          "l2",
          "l1",
          "l2",
          "l2",
          "l1",
          "l2",
          "l1",
          "l1",
          "l1",
          "l1",
          "l1",
          "l1",
          "l1",
          "l2",
          "l1",
          "l1",
          "l1",
          "l1",
          "l1",
          "l1",
          "l1",
          "l1",
          "l1",
          "l1",
          "l1",
          "l2",
          "l1",
          "l1",
          "l1",
          "l1",
          "l1",
          "l2",
          "l1",
          "l2",
          "l1",
          "l2",
          "l1",
          "l1",
          "l1",
          "l1",
          "l1",
          "l1",
          "l1",
          "l2",
          "l1",
          "l1",
          "l1",
          "l1",
          "l1",
          "l2",
          "l1",
          "l1",
          "l1",
          "l2",
          "l1",
          "l1",
          "l1",
          "l1",
          "l1",
          "l1",
          "l1",
          "l1",
          "l1",
          "l1",
          "l2",
          "l1",
          "l1",
          "l1",
          "l1",
          "l1",
          "l1",
          "l1",
          "l1",
          "l2",
          "l1",
          "l1",
          "l1",
          "l1",
          "l1",
          "l1",
          "l1",
          "l1",
          "l1",
          "l1",
          "l1"
         ],
         "yaxis": "y4"
        },
        {
         "hovertemplate": "%{hovertext}<extra></extra>",
         "hovertext": [
          "Trial #0<br>C: 0.7250022290110179<br>penalty: l1<br>solver: liblinear<br><b>Objective Value: 0.7323578606727177</b>",
          "Trial #1<br>C: 0.035815351248335466<br>penalty: l1<br>solver: saga<br><b>Objective Value: 0.5385105058307186</b>",
          "Trial #2<br>C: 11.32275486983325<br>penalty: l1<br>solver: saga<br><b>Objective Value: 0.5410035612773669</b>",
          "Trial #3<br>C: 72.24083618448716<br>penalty: l1<br>solver: saga<br><b>Objective Value: 0.5411230549417523</b>",
          "Trial #4<br>C: 0.07510697504259764<br>penalty: l1<br>solver: saga<br><b>Objective Value: 0.5368786983188212</b>",
          "Trial #5<br>C: 0.047292140961139414<br>penalty: l1<br>solver: liblinear<br><b>Objective Value: 0.5347495662348838</b>",
          "Trial #6<br>C: 0.52163380366578<br>penalty: l2<br>solver: saga<br><b>Objective Value: 0.5408539014134213</b>",
          "Trial #7<br>C: 40.730806990980376<br>penalty: l2<br>solver: liblinear<br><b>Objective Value: 0.7328041007049804</b>",
          "Trial #8<br>C: 0.00024140535834481369<br>penalty: l1<br>solver: liblinear<br><b>Objective Value: 0.2602022316912306</b>",
          "Trial #9<br>C: 82.99208868399846<br>penalty: l1<br>solver: liblinear<br><b>Objective Value: 0.7302654736694787</b>",
          "Trial #10<br>C: 8237.10836944743<br>penalty: l2<br>solver: liblinear<br><b>Objective Value: 0.7302499039049015</b>",
          "Trial #11<br>C: 2441.297640479491<br>penalty: l2<br>solver: liblinear<br><b>Objective Value: 0.7306305733325322</b>",
          "Trial #12<br>C: 5.666684464792597<br>penalty: l2<br>solver: liblinear<br><b>Objective Value: 0.7301946892395043</b>",
          "Trial #13<br>C: 0.0013331425619851087<br>penalty: l2<br>solver: liblinear<br><b>Objective Value: 0.5270279310240277</b>",
          "Trial #14<br>C: 233.11750912693537<br>penalty: l2<br>solver: liblinear<br><b>Objective Value: 0.7302686749499909</b>",
          "Trial #15<br>C: 1.3677467175900966<br>penalty: l2<br>solver: liblinear<br><b>Objective Value: 0.7238678982385025</b>",
          "Trial #16<br>C: 745.7091153404007<br>penalty: l1<br>solver: liblinear<br><b>Objective Value: 0.7302826675388964</b>",
          "Trial #17<br>C: 12.90837164832142<br>penalty: l2<br>solver: liblinear<br><b>Objective Value: 0.7316601989844224</b>",
          "Trial #18<br>C: 0.005606402339893753<br>penalty: l2<br>solver: liblinear<br><b>Objective Value: 0.5408498604467822</b>",
          "Trial #19<br>C: 0.9396153849901697<br>penalty: l1<br>solver: liblinear<br><b>Objective Value: 0.7328657428764405</b>",
          "Trial #20<br>C: 0.21253371148977987<br>penalty: l2<br>solver: liblinear<br><b>Objective Value: 0.644492286356814</b>",
          "Trial #21<br>C: 1.3649950903308652<br>penalty: l1<br>solver: liblinear<br><b>Objective Value: 0.7310145863671558</b>",
          "Trial #22<br>C: 3.138983423371692<br>penalty: l1<br>solver: liblinear<br><b>Objective Value: 0.732074474659936</b>",
          "Trial #23<br>C: 65.71695455684895<br>penalty: l1<br>solver: liblinear<br><b>Objective Value: 0.7301566301320637</b>",
          "Trial #24<br>C: 0.2871008938288001<br>penalty: l1<br>solver: liblinear<br><b>Objective Value: 0.7217052091626809</b>",
          "Trial #25<br>C: 0.010909119282115722<br>penalty: l1<br>solver: liblinear<br><b>Objective Value: 0.5210511895145091</b>",
          "Trial #26<br>C: 27.737696178390962<br>penalty: l1<br>solver: saga<br><b>Objective Value: 0.5411230549417523</b>",
          "Trial #27<br>C: 3.285538753980668<br>penalty: l1<br>solver: liblinear<br><b>Objective Value: 0.7321772089731967</b>",
          "Trial #28<br>C: 411.629757518808<br>penalty: l2<br>solver: liblinear<br><b>Objective Value: 0.730377518487406</b>",
          "Trial #29<br>C: 0.13725565841733442<br>penalty: l1<br>solver: saga<br><b>Objective Value: 0.5383622557917037</b>",
          "Trial #30<br>C: 0.016981761720861105<br>penalty: l1<br>solver: liblinear<br><b>Objective Value: 0.5246954487548657</b>",
          "Trial #31<br>C: 1.0394594696242523<br>penalty: l1<br>solver: liblinear<br><b>Objective Value: 0.7329757167956016</b>",
          "Trial #32<br>C: 0.8610882561131811<br>penalty: l1<br>solver: liblinear<br><b>Objective Value: 0.7314449217184096</b>",
          "Trial #33<br>C: 34.20020622400459<br>penalty: l1<br>solver: liblinear<br><b>Objective Value: 0.7301566301320637</b>",
          "Trial #34<br>C: 9.316093908186877<br>penalty: l1<br>solver: saga<br><b>Objective Value: 0.5410035612773669</b>",
          "Trial #35<br>C: 0.08885065667132105<br>penalty: l1<br>solver: liblinear<br><b>Objective Value: 0.6056018224326873</b>",
          "Trial #36<br>C: 0.6317491671966011<br>penalty: l1<br>solver: saga<br><b>Objective Value: 0.5404972106497288</b>",
          "Trial #37<br>C: 0.030056777679636208<br>penalty: l1<br>solver: liblinear<br><b>Objective Value: 0.5338818766152164</b>",
          "Trial #38<br>C: 3.1102216261943636<br>penalty: l1<br>solver: saga<br><b>Objective Value: 0.5409185008966255</b>",
          "Trial #39<br>C: 16.868905908765367<br>penalty: l1<br>solver: liblinear<br><b>Objective Value: 0.7305701283862837</b>",
          "Trial #40<br>C: 0.0036271943940342204<br>penalty: l2<br>solver: liblinear<br><b>Objective Value: 0.5367923144870759</b>",
          "Trial #41<br>C: 3.615834954471494<br>penalty: l1<br>solver: liblinear<br><b>Objective Value: 0.7322152607235772</b>",
          "Trial #42<br>C: 1.586243721568958<br>penalty: l1<br>solver: liblinear<br><b>Objective Value: 0.7309159384752153</b>",
          "Trial #43<br>C: 0.5240267164902963<br>penalty: l1<br>solver: liblinear<br><b>Objective Value: 0.7333073614505123</b>",
          "Trial #44<br>C: 0.4174727362047103<br>penalty: l1<br>solver: liblinear<br><b>Objective Value: 0.7323563288449244</b>",
          "Trial #45<br>C: 0.16649280152052393<br>penalty: l1<br>solver: liblinear<br><b>Objective Value: 0.7033525945932253</b>",
          "Trial #46<br>C: 0.07503559380028788<br>penalty: l2<br>solver: liblinear<br><b>Objective Value: 0.5880979462747911</b>",
          "Trial #47<br>C: 179.5522780649261<br>penalty: l1<br>solver: liblinear<br><b>Objective Value: 0.7302826675388964</b>",
          "Trial #48<br>C: 2052.4048348108813<br>penalty: l2<br>solver: liblinear<br><b>Objective Value: 0.7301738240014813</b>",
          "Trial #49<br>C: 0.0005611545780563875<br>penalty: l1<br>solver: liblinear<br><b>Objective Value: 0.3340270778411201</b>",
          "Trial #50<br>C: 0.4386719944107784<br>penalty: l2<br>solver: saga<br><b>Objective Value: 0.5408539014134213</b>",
          "Trial #51<br>C: 0.39362560079387554<br>penalty: l1<br>solver: liblinear<br><b>Objective Value: 0.7312612365024912</b>",
          "Trial #52<br>C: 0.036292524294358634<br>penalty: l1<br>solver: liblinear<br><b>Objective Value: 0.5355652072801366</b>",
          "Trial #53<br>C: 6.2877525756733705<br>penalty: l1<br>solver: liblinear<br><b>Objective Value: 0.7314547196593433</b>",
          "Trial #54<br>C: 1.028885689235069<br>penalty: l1<br>solver: liblinear<br><b>Objective Value: 0.7328698966897815</b>",
          "Trial #55<br>C: 1.7263295767740425<br>penalty: l1<br>solver: liblinear<br><b>Objective Value: 0.7307297948227788</b>",
          "Trial #56<br>C: 0.9282067765043863<br>penalty: l1<br>solver: liblinear<br><b>Objective Value: 0.7326257775106169</b>",
          "Trial #57<br>C: 1.1950428493604175<br>penalty: l1<br>solver: liblinear<br><b>Objective Value: 0.7304316695813019</b>",
          "Trial #58<br>C: 0.19345533812941076<br>penalty: l2<br>solver: liblinear<br><b>Objective Value: 0.6400320787528164</b>",
          "Trial #59<br>C: 6.257231622079981<br>penalty: l1<br>solver: liblinear<br><b>Objective Value: 0.7314547196593433</b>",
          "Trial #60<br>C: 23.59425622969497<br>penalty: l1<br>solver: liblinear<br><b>Objective Value: 0.7304908472023512</b>",
          "Trial #61<br>C: 0.9078731184179532<br>penalty: l1<br>solver: liblinear<br><b>Objective Value: 0.7317028572442756</b>",
          "Trial #62<br>C: 0.09223027384870815<br>penalty: l1<br>solver: liblinear<br><b>Objective Value: 0.6172029810614943</b>",
          "Trial #63<br>C: 2.243380525595093<br>penalty: l1<br>solver: liblinear<br><b>Objective Value: 0.7312402256549855</b>",
          "Trial #64<br>C: 0.6614147157736883<br>penalty: l2<br>solver: liblinear<br><b>Objective Value: 0.7063987700474836</b>",
          "Trial #65<br>C: 10.511585203624456<br>penalty: l1<br>solver: liblinear<br><b>Objective Value: 0.7305377797825064</b>",
          "Trial #66<br>C: 0.3222960114500988<br>penalty: l1<br>solver: liblinear<br><b>Objective Value: 0.7273692911320049</b>",
          "Trial #67<br>C: 106.64585750570033<br>penalty: l1<br>solver: liblinear<br><b>Objective Value: 0.730377518487406</b>",
          "Trial #68<br>C: 40.81973919100819<br>penalty: l2<br>solver: saga<br><b>Objective Value: 0.5411492755565804</b>",
          "Trial #69<br>C: 5.5151663303446705<br>penalty: l1<br>solver: liblinear<br><b>Objective Value: 0.7318097599243909</b>",
          "Trial #70<br>C: 0.055109154180852674<br>penalty: l1<br>solver: liblinear<br><b>Objective Value: 0.5350618144506376</b>",
          "Trial #71<br>C: 0.5913560321617163<br>penalty: l1<br>solver: liblinear<br><b>Objective Value: 0.7345078228688514</b>",
          "Trial #72<br>C: 0.6870575810902618<br>penalty: l1<br>solver: liblinear<br><b>Objective Value: 0.7343825667631865</b>",
          "Trial #73<br>C: 0.9654879980711538<br>penalty: l1<br>solver: liblinear<br><b>Objective Value: 0.732668154106662</b>",
          "Trial #74<br>C: 2.6980526735065675<br>penalty: l1<br>solver: liblinear<br><b>Objective Value: 0.7309217209935828</b>",
          "Trial #75<br>C: 0.00010688373866682841<br>penalty: l1<br>solver: liblinear<br><b>Objective Value: 0.34979615608619674</b>",
          "Trial #76<br>C: 0.1881749566690275<br>penalty: l1<br>solver: liblinear<br><b>Objective Value: 0.7080856946936654</b>",
          "Trial #77<br>C: 0.534384478907503<br>penalty: l1<br>solver: liblinear<br><b>Objective Value: 0.7330201606167593</b>",
          "Trial #78<br>C: 0.27854222057446143<br>penalty: l1<br>solver: liblinear<br><b>Objective Value: 0.719969946615697</b>",
          "Trial #79<br>C: 0.019140378454979397<br>penalty: l2<br>solver: liblinear<br><b>Objective Value: 0.5522167466119824</b>",
          "Trial #80<br>C: 0.4890359261591344<br>penalty: l1<br>solver: saga<br><b>Objective Value: 0.5408043847473392</b>",
          "Trial #81<br>C: 0.1312576656887008<br>penalty: l1<br>solver: liblinear<br><b>Objective Value: 0.6821784900322467</b>",
          "Trial #82<br>C: 1.7284602799896955<br>penalty: l1<br>solver: liblinear<br><b>Objective Value: 0.7307297948227788</b>",
          "Trial #83<br>C: 0.7519007260860345<br>penalty: l1<br>solver: liblinear<br><b>Objective Value: 0.7326188199116842</b>",
          "Trial #84<br>C: 3.921352875158072<br>penalty: l1<br>solver: liblinear<br><b>Objective Value: 0.7320522388408158</b>",
          "Trial #85<br>C: 1.2187839304934711<br>penalty: l1<br>solver: liblinear<br><b>Objective Value: 0.7303860866255023</b>",
          "Trial #86<br>C: 0.265011282931695<br>penalty: l1<br>solver: liblinear<br><b>Objective Value: 0.7188204517595165</b>",
          "Trial #87<br>C: 0.5564528298800255<br>penalty: l1<br>solver: liblinear<br><b>Objective Value: 0.733692893502465</b>",
          "Trial #88<br>C: 0.5561407279858028<br>penalty: l2<br>solver: liblinear<br><b>Objective Value: 0.6974311737175167</b>",
          "Trial #89<br>C: 0.11461536043161542<br>penalty: l1<br>solver: liblinear<br><b>Objective Value: 0.6669500241258137</b>",
          "Trial #90<br>C: 1.8421334323876566<br>penalty: l1<br>solver: liblinear<br><b>Objective Value: 0.7309877377400854</b>",
          "Trial #91<br>C: 0.9180523918899388<br>penalty: l1<br>solver: liblinear<br><b>Objective Value: 0.7323651538596277</b>",
          "Trial #92<br>C: 0.3322755870102717<br>penalty: l1<br>solver: liblinear<br><b>Objective Value: 0.7280767879773797</b>",
          "Trial #93<br>C: 1.317919789739125<br>penalty: l1<br>solver: liblinear<br><b>Objective Value: 0.7310832530257384</b>",
          "Trial #94<br>C: 0.6322388439261584<br>penalty: l1<br>solver: liblinear<br><b>Objective Value: 0.7339186546146714</b>",
          "Trial #95<br>C: 681.538684948852<br>penalty: l1<br>solver: liblinear<br><b>Objective Value: 0.7302826675388964</b>",
          "Trial #96<br>C: 0.5785668859409907<br>penalty: l1<br>solver: liblinear<br><b>Objective Value: 0.7340986882870569</b>",
          "Trial #97<br>C: 0.609937183632503<br>penalty: l1<br>solver: liblinear<br><b>Objective Value: 0.734448497780222</b>",
          "Trial #98<br>C: 0.5346027987676117<br>penalty: l1<br>solver: liblinear<br><b>Objective Value: 0.7329906663015509</b>",
          "Trial #99<br>C: 0.479536044012646<br>penalty: l1<br>solver: saga<br><b>Objective Value: 0.5407724671154217</b>"
         ],
         "marker": {
          "color": [
           "rgb(236.0, 92.0, 59.0)",
           "rgb(84.0, 135.0, 189.0)",
           "rgb(125.0, 181.0, 213.0)",
           "rgb(137.0, 189.0, 218.0)",
           "rgb(74.0, 123.0, 183.0)",
           "rgb(63.0, 99.0, 171.0)",
           "rgb(110.0, 166.0, 205.0)",
           "rgb(221.0, 61.0, 45.0)",
           "rgb(49.0, 54.0, 149.0)",
           "rgb(253.0, 254.0, 194.0)",
           "rgb(250.0, 253.0, 200.0)",
           "rgb(254.0, 216.0, 136.0)",
           "rgb(247.0, 252.0, 205.0)",
           "rgb(59.0, 86.0, 165.0)",
           "rgb(255.0, 253.0, 189.0)",
           "rgb(228.0, 245.0, 240.0)",
           "rgb(255.0, 247.0, 179.0)",
           "rgb(249.0, 143.0, 83.0)",
           "rgb(103.0, 157.0, 201.0)",
           "rgb(218.0, 55.0, 42.0)",
           "rgb(178.0, 220.0, 235.0)",
           "rgb(253.0, 186.0, 108.0)",
           "rgb(245.0, 117.0, 71.0)",
           "rgb(239.0, 249.0, 220.0)",
           "rgb(225.0, 243.0, 246.0)",
           "rgb(55.0, 73.0, 158.0)",
           "rgb(137.0, 189.0, 218.0)",
           "rgb(244.0, 110.0, 68.0)",
           "rgb(254.0, 239.0, 167.0)",
           "rgb(79.0, 129.0, 186.0)",
           "rgb(57.0, 79.0, 162.0)",
           "rgb(210.0, 44.0, 39.0)",
           "rgb(251.0, 163.0, 92.0)",
           "rgb(239.0, 249.0, 220.0)",
           "rgb(125.0, 181.0, 213.0)",
           "rgb(162.0, 209.0, 229.0)",
           "rgb(88.0, 140.0, 192.0)",
           "rgb(61.0, 92.0, 168.0)",
           "rgb(117.0, 174.0, 209.0)",
           "rgb(254.0, 221.0, 141.0)",
           "rgb(69.0, 118.0, 180.0)",
           "rgb(242.0, 104.0, 65.0)",
           "rgb(254.0, 201.0, 122.0)",
           "rgb(195.0, 29.0, 39.0)",
           "rgb(239.0, 98.0, 62.0)",
           "rgb(199.0, 231.0, 241.0)",
           "rgb(156.0, 205.0, 226.0)",
           "rgb(255.0, 247.0, 179.0)",
           "rgb(244.0, 251.0, 211.0)",
           "rgb(51.0, 60.0, 152.0)",
           "rgb(110.0, 166.0, 205.0)",
           "rgb(252.0, 169.0, 95.0)",
           "rgb(67.0, 111.0, 177.0)",
           "rgb(250.0, 153.0, 87.0)",
           "rgb(215.0, 49.0, 39.0)",
           "rgb(254.0, 208.0, 129.0)",
           "rgb(227.0, 73.0, 51.0)",
           "rgb(254.0, 232.0, 155.0)",
           "rgb(173.0, 218.0, 233.0)",
           "rgb(250.0, 153.0, 87.0)",
           "rgb(254.0, 228.0, 151.0)",
           "rgb(248.0, 137.0, 80.0)",
           "rgb(167.0, 214.0, 231.0)",
           "rgb(253.0, 176.0, 98.0)",
           "rgb(205.0, 234.0, 243.0)",
           "rgb(254.0, 225.0, 146.0)",
           "rgb(232.0, 246.0, 234.0)",
           "rgb(254.0, 239.0, 167.0)",
           "rgb(145.0, 196.0, 222.0)",
           "rgb(247.0, 130.0, 77.0)",
           "rgb(65.0, 105.0, 174.0)",
           "rgb(165.0, 0.0, 38.0)",
           "rgb(175.0, 10.0, 38.0)",
           "rgb(224.0, 67.0, 48.0)",
           "rgb(253.0, 196.0, 117.0)",
           "rgb(53.0, 67.0, 155.0)",
           "rgb(210.0, 236.0, 244.0)",
           "rgb(200.0, 34.0, 39.0)",
           "rgb(221.0, 241.0, 247.0)",
           "rgb(150.0, 201.0, 224.0)",
           "rgb(98.0, 152.0, 198.0)",
           "rgb(189.0, 226.0, 238.0)",
           "rgb(254.0, 208.0, 129.0)",
           "rgb(230.0, 79.0, 53.0)",
           "rgb(246.0, 123.0, 74.0)",
           "rgb(254.0, 235.0, 160.0)",
           "rgb(215.0, 239.0, 246.0)",
           "rgb(190.0, 24.0, 39.0)",
           "rgb(194.0, 228.0, 240.0)",
           "rgb(183.0, 223.0, 236.0)",
           "rgb(253.0, 191.0, 113.0)",
           "rgb(233.0, 86.0, 56.0)",
           "rgb(235.0, 247.0, 228.0)",
           "rgb(253.0, 181.0, 103.0)",
           "rgb(185.0, 19.0, 38.0)",
           "rgb(255.0, 247.0, 179.0)",
           "rgb(180.0, 15.0, 38.0)",
           "rgb(170.0, 5.0, 38.0)",
           "rgb(205.0, 39.0, 39.0)",
           "rgb(93.0, 146.0, 195.0)"
          ],
          "line": {
           "color": "Grey",
           "width": 0.5
          }
         },
         "mode": "markers",
         "showlegend": false,
         "type": "scatter",
         "x": [
          0.7250022290110179,
          0.035815351248335466,
          11.32275486983325,
          72.24083618448716,
          0.07510697504259764,
          0.047292140961139414,
          0.52163380366578,
          40.730806990980376,
          0.00024140535834481369,
          82.99208868399846,
          8237.10836944743,
          2441.297640479491,
          5.666684464792597,
          0.0013331425619851087,
          233.11750912693537,
          1.3677467175900966,
          745.7091153404007,
          12.90837164832142,
          0.005606402339893753,
          0.9396153849901697,
          0.21253371148977987,
          1.3649950903308652,
          3.138983423371692,
          65.71695455684895,
          0.2871008938288001,
          0.010909119282115722,
          27.737696178390962,
          3.285538753980668,
          411.629757518808,
          0.13725565841733442,
          0.016981761720861105,
          1.0394594696242523,
          0.8610882561131811,
          34.20020622400459,
          9.316093908186877,
          0.08885065667132105,
          0.6317491671966011,
          0.030056777679636208,
          3.1102216261943636,
          16.868905908765367,
          0.0036271943940342204,
          3.615834954471494,
          1.586243721568958,
          0.5240267164902963,
          0.4174727362047103,
          0.16649280152052393,
          0.07503559380028788,
          179.5522780649261,
          2052.4048348108813,
          0.0005611545780563875,
          0.4386719944107784,
          0.39362560079387554,
          0.036292524294358634,
          6.2877525756733705,
          1.028885689235069,
          1.7263295767740425,
          0.9282067765043863,
          1.1950428493604175,
          0.19345533812941076,
          6.257231622079981,
          23.59425622969497,
          0.9078731184179532,
          0.09223027384870815,
          2.243380525595093,
          0.6614147157736883,
          10.511585203624456,
          0.3222960114500988,
          106.64585750570033,
          40.81973919100819,
          5.5151663303446705,
          0.055109154180852674,
          0.5913560321617163,
          0.6870575810902618,
          0.9654879980711538,
          2.6980526735065675,
          0.00010688373866682841,
          0.1881749566690275,
          0.534384478907503,
          0.27854222057446143,
          0.019140378454979397,
          0.4890359261591344,
          0.1312576656887008,
          1.7284602799896955,
          0.7519007260860345,
          3.921352875158072,
          1.2187839304934711,
          0.265011282931695,
          0.5564528298800255,
          0.5561407279858028,
          0.11461536043161542,
          1.8421334323876566,
          0.9180523918899388,
          0.3322755870102717,
          1.317919789739125,
          0.6322388439261584,
          681.538684948852,
          0.5785668859409907,
          0.609937183632503,
          0.5346027987676117,
          0.479536044012646
         ],
         "xaxis": "x7",
         "y": [
          "liblinear",
          "saga",
          "saga",
          "saga",
          "saga",
          "liblinear",
          "saga",
          "liblinear",
          "liblinear",
          "liblinear",
          "liblinear",
          "liblinear",
          "liblinear",
          "liblinear",
          "liblinear",
          "liblinear",
          "liblinear",
          "liblinear",
          "liblinear",
          "liblinear",
          "liblinear",
          "liblinear",
          "liblinear",
          "liblinear",
          "liblinear",
          "liblinear",
          "saga",
          "liblinear",
          "liblinear",
          "saga",
          "liblinear",
          "liblinear",
          "liblinear",
          "liblinear",
          "saga",
          "liblinear",
          "saga",
          "liblinear",
          "saga",
          "liblinear",
          "liblinear",
          "liblinear",
          "liblinear",
          "liblinear",
          "liblinear",
          "liblinear",
          "liblinear",
          "liblinear",
          "liblinear",
          "liblinear",
          "saga",
          "liblinear",
          "liblinear",
          "liblinear",
          "liblinear",
          "liblinear",
          "liblinear",
          "liblinear",
          "liblinear",
          "liblinear",
          "liblinear",
          "liblinear",
          "liblinear",
          "liblinear",
          "liblinear",
          "liblinear",
          "liblinear",
          "liblinear",
          "saga",
          "liblinear",
          "liblinear",
          "liblinear",
          "liblinear",
          "liblinear",
          "liblinear",
          "liblinear",
          "liblinear",
          "liblinear",
          "liblinear",
          "liblinear",
          "saga",
          "liblinear",
          "liblinear",
          "liblinear",
          "liblinear",
          "liblinear",
          "liblinear",
          "liblinear",
          "liblinear",
          "liblinear",
          "liblinear",
          "liblinear",
          "liblinear",
          "liblinear",
          "liblinear",
          "liblinear",
          "liblinear",
          "liblinear",
          "liblinear",
          "saga"
         ],
         "yaxis": "y7"
        },
        {
         "hovertemplate": "%{hovertext}<extra></extra>",
         "hovertext": [
          "Trial #0<br>C: 0.7250022290110179<br>penalty: l1<br>solver: liblinear<br><b>Objective Value: 0.7323578606727177</b>",
          "Trial #1<br>C: 0.035815351248335466<br>penalty: l1<br>solver: saga<br><b>Objective Value: 0.5385105058307186</b>",
          "Trial #2<br>C: 11.32275486983325<br>penalty: l1<br>solver: saga<br><b>Objective Value: 0.5410035612773669</b>",
          "Trial #3<br>C: 72.24083618448716<br>penalty: l1<br>solver: saga<br><b>Objective Value: 0.5411230549417523</b>",
          "Trial #4<br>C: 0.07510697504259764<br>penalty: l1<br>solver: saga<br><b>Objective Value: 0.5368786983188212</b>",
          "Trial #5<br>C: 0.047292140961139414<br>penalty: l1<br>solver: liblinear<br><b>Objective Value: 0.5347495662348838</b>",
          "Trial #6<br>C: 0.52163380366578<br>penalty: l2<br>solver: saga<br><b>Objective Value: 0.5408539014134213</b>",
          "Trial #7<br>C: 40.730806990980376<br>penalty: l2<br>solver: liblinear<br><b>Objective Value: 0.7328041007049804</b>",
          "Trial #8<br>C: 0.00024140535834481369<br>penalty: l1<br>solver: liblinear<br><b>Objective Value: 0.2602022316912306</b>",
          "Trial #9<br>C: 82.99208868399846<br>penalty: l1<br>solver: liblinear<br><b>Objective Value: 0.7302654736694787</b>",
          "Trial #10<br>C: 8237.10836944743<br>penalty: l2<br>solver: liblinear<br><b>Objective Value: 0.7302499039049015</b>",
          "Trial #11<br>C: 2441.297640479491<br>penalty: l2<br>solver: liblinear<br><b>Objective Value: 0.7306305733325322</b>",
          "Trial #12<br>C: 5.666684464792597<br>penalty: l2<br>solver: liblinear<br><b>Objective Value: 0.7301946892395043</b>",
          "Trial #13<br>C: 0.0013331425619851087<br>penalty: l2<br>solver: liblinear<br><b>Objective Value: 0.5270279310240277</b>",
          "Trial #14<br>C: 233.11750912693537<br>penalty: l2<br>solver: liblinear<br><b>Objective Value: 0.7302686749499909</b>",
          "Trial #15<br>C: 1.3677467175900966<br>penalty: l2<br>solver: liblinear<br><b>Objective Value: 0.7238678982385025</b>",
          "Trial #16<br>C: 745.7091153404007<br>penalty: l1<br>solver: liblinear<br><b>Objective Value: 0.7302826675388964</b>",
          "Trial #17<br>C: 12.90837164832142<br>penalty: l2<br>solver: liblinear<br><b>Objective Value: 0.7316601989844224</b>",
          "Trial #18<br>C: 0.005606402339893753<br>penalty: l2<br>solver: liblinear<br><b>Objective Value: 0.5408498604467822</b>",
          "Trial #19<br>C: 0.9396153849901697<br>penalty: l1<br>solver: liblinear<br><b>Objective Value: 0.7328657428764405</b>",
          "Trial #20<br>C: 0.21253371148977987<br>penalty: l2<br>solver: liblinear<br><b>Objective Value: 0.644492286356814</b>",
          "Trial #21<br>C: 1.3649950903308652<br>penalty: l1<br>solver: liblinear<br><b>Objective Value: 0.7310145863671558</b>",
          "Trial #22<br>C: 3.138983423371692<br>penalty: l1<br>solver: liblinear<br><b>Objective Value: 0.732074474659936</b>",
          "Trial #23<br>C: 65.71695455684895<br>penalty: l1<br>solver: liblinear<br><b>Objective Value: 0.7301566301320637</b>",
          "Trial #24<br>C: 0.2871008938288001<br>penalty: l1<br>solver: liblinear<br><b>Objective Value: 0.7217052091626809</b>",
          "Trial #25<br>C: 0.010909119282115722<br>penalty: l1<br>solver: liblinear<br><b>Objective Value: 0.5210511895145091</b>",
          "Trial #26<br>C: 27.737696178390962<br>penalty: l1<br>solver: saga<br><b>Objective Value: 0.5411230549417523</b>",
          "Trial #27<br>C: 3.285538753980668<br>penalty: l1<br>solver: liblinear<br><b>Objective Value: 0.7321772089731967</b>",
          "Trial #28<br>C: 411.629757518808<br>penalty: l2<br>solver: liblinear<br><b>Objective Value: 0.730377518487406</b>",
          "Trial #29<br>C: 0.13725565841733442<br>penalty: l1<br>solver: saga<br><b>Objective Value: 0.5383622557917037</b>",
          "Trial #30<br>C: 0.016981761720861105<br>penalty: l1<br>solver: liblinear<br><b>Objective Value: 0.5246954487548657</b>",
          "Trial #31<br>C: 1.0394594696242523<br>penalty: l1<br>solver: liblinear<br><b>Objective Value: 0.7329757167956016</b>",
          "Trial #32<br>C: 0.8610882561131811<br>penalty: l1<br>solver: liblinear<br><b>Objective Value: 0.7314449217184096</b>",
          "Trial #33<br>C: 34.20020622400459<br>penalty: l1<br>solver: liblinear<br><b>Objective Value: 0.7301566301320637</b>",
          "Trial #34<br>C: 9.316093908186877<br>penalty: l1<br>solver: saga<br><b>Objective Value: 0.5410035612773669</b>",
          "Trial #35<br>C: 0.08885065667132105<br>penalty: l1<br>solver: liblinear<br><b>Objective Value: 0.6056018224326873</b>",
          "Trial #36<br>C: 0.6317491671966011<br>penalty: l1<br>solver: saga<br><b>Objective Value: 0.5404972106497288</b>",
          "Trial #37<br>C: 0.030056777679636208<br>penalty: l1<br>solver: liblinear<br><b>Objective Value: 0.5338818766152164</b>",
          "Trial #38<br>C: 3.1102216261943636<br>penalty: l1<br>solver: saga<br><b>Objective Value: 0.5409185008966255</b>",
          "Trial #39<br>C: 16.868905908765367<br>penalty: l1<br>solver: liblinear<br><b>Objective Value: 0.7305701283862837</b>",
          "Trial #40<br>C: 0.0036271943940342204<br>penalty: l2<br>solver: liblinear<br><b>Objective Value: 0.5367923144870759</b>",
          "Trial #41<br>C: 3.615834954471494<br>penalty: l1<br>solver: liblinear<br><b>Objective Value: 0.7322152607235772</b>",
          "Trial #42<br>C: 1.586243721568958<br>penalty: l1<br>solver: liblinear<br><b>Objective Value: 0.7309159384752153</b>",
          "Trial #43<br>C: 0.5240267164902963<br>penalty: l1<br>solver: liblinear<br><b>Objective Value: 0.7333073614505123</b>",
          "Trial #44<br>C: 0.4174727362047103<br>penalty: l1<br>solver: liblinear<br><b>Objective Value: 0.7323563288449244</b>",
          "Trial #45<br>C: 0.16649280152052393<br>penalty: l1<br>solver: liblinear<br><b>Objective Value: 0.7033525945932253</b>",
          "Trial #46<br>C: 0.07503559380028788<br>penalty: l2<br>solver: liblinear<br><b>Objective Value: 0.5880979462747911</b>",
          "Trial #47<br>C: 179.5522780649261<br>penalty: l1<br>solver: liblinear<br><b>Objective Value: 0.7302826675388964</b>",
          "Trial #48<br>C: 2052.4048348108813<br>penalty: l2<br>solver: liblinear<br><b>Objective Value: 0.7301738240014813</b>",
          "Trial #49<br>C: 0.0005611545780563875<br>penalty: l1<br>solver: liblinear<br><b>Objective Value: 0.3340270778411201</b>",
          "Trial #50<br>C: 0.4386719944107784<br>penalty: l2<br>solver: saga<br><b>Objective Value: 0.5408539014134213</b>",
          "Trial #51<br>C: 0.39362560079387554<br>penalty: l1<br>solver: liblinear<br><b>Objective Value: 0.7312612365024912</b>",
          "Trial #52<br>C: 0.036292524294358634<br>penalty: l1<br>solver: liblinear<br><b>Objective Value: 0.5355652072801366</b>",
          "Trial #53<br>C: 6.2877525756733705<br>penalty: l1<br>solver: liblinear<br><b>Objective Value: 0.7314547196593433</b>",
          "Trial #54<br>C: 1.028885689235069<br>penalty: l1<br>solver: liblinear<br><b>Objective Value: 0.7328698966897815</b>",
          "Trial #55<br>C: 1.7263295767740425<br>penalty: l1<br>solver: liblinear<br><b>Objective Value: 0.7307297948227788</b>",
          "Trial #56<br>C: 0.9282067765043863<br>penalty: l1<br>solver: liblinear<br><b>Objective Value: 0.7326257775106169</b>",
          "Trial #57<br>C: 1.1950428493604175<br>penalty: l1<br>solver: liblinear<br><b>Objective Value: 0.7304316695813019</b>",
          "Trial #58<br>C: 0.19345533812941076<br>penalty: l2<br>solver: liblinear<br><b>Objective Value: 0.6400320787528164</b>",
          "Trial #59<br>C: 6.257231622079981<br>penalty: l1<br>solver: liblinear<br><b>Objective Value: 0.7314547196593433</b>",
          "Trial #60<br>C: 23.59425622969497<br>penalty: l1<br>solver: liblinear<br><b>Objective Value: 0.7304908472023512</b>",
          "Trial #61<br>C: 0.9078731184179532<br>penalty: l1<br>solver: liblinear<br><b>Objective Value: 0.7317028572442756</b>",
          "Trial #62<br>C: 0.09223027384870815<br>penalty: l1<br>solver: liblinear<br><b>Objective Value: 0.6172029810614943</b>",
          "Trial #63<br>C: 2.243380525595093<br>penalty: l1<br>solver: liblinear<br><b>Objective Value: 0.7312402256549855</b>",
          "Trial #64<br>C: 0.6614147157736883<br>penalty: l2<br>solver: liblinear<br><b>Objective Value: 0.7063987700474836</b>",
          "Trial #65<br>C: 10.511585203624456<br>penalty: l1<br>solver: liblinear<br><b>Objective Value: 0.7305377797825064</b>",
          "Trial #66<br>C: 0.3222960114500988<br>penalty: l1<br>solver: liblinear<br><b>Objective Value: 0.7273692911320049</b>",
          "Trial #67<br>C: 106.64585750570033<br>penalty: l1<br>solver: liblinear<br><b>Objective Value: 0.730377518487406</b>",
          "Trial #68<br>C: 40.81973919100819<br>penalty: l2<br>solver: saga<br><b>Objective Value: 0.5411492755565804</b>",
          "Trial #69<br>C: 5.5151663303446705<br>penalty: l1<br>solver: liblinear<br><b>Objective Value: 0.7318097599243909</b>",
          "Trial #70<br>C: 0.055109154180852674<br>penalty: l1<br>solver: liblinear<br><b>Objective Value: 0.5350618144506376</b>",
          "Trial #71<br>C: 0.5913560321617163<br>penalty: l1<br>solver: liblinear<br><b>Objective Value: 0.7345078228688514</b>",
          "Trial #72<br>C: 0.6870575810902618<br>penalty: l1<br>solver: liblinear<br><b>Objective Value: 0.7343825667631865</b>",
          "Trial #73<br>C: 0.9654879980711538<br>penalty: l1<br>solver: liblinear<br><b>Objective Value: 0.732668154106662</b>",
          "Trial #74<br>C: 2.6980526735065675<br>penalty: l1<br>solver: liblinear<br><b>Objective Value: 0.7309217209935828</b>",
          "Trial #75<br>C: 0.00010688373866682841<br>penalty: l1<br>solver: liblinear<br><b>Objective Value: 0.34979615608619674</b>",
          "Trial #76<br>C: 0.1881749566690275<br>penalty: l1<br>solver: liblinear<br><b>Objective Value: 0.7080856946936654</b>",
          "Trial #77<br>C: 0.534384478907503<br>penalty: l1<br>solver: liblinear<br><b>Objective Value: 0.7330201606167593</b>",
          "Trial #78<br>C: 0.27854222057446143<br>penalty: l1<br>solver: liblinear<br><b>Objective Value: 0.719969946615697</b>",
          "Trial #79<br>C: 0.019140378454979397<br>penalty: l2<br>solver: liblinear<br><b>Objective Value: 0.5522167466119824</b>",
          "Trial #80<br>C: 0.4890359261591344<br>penalty: l1<br>solver: saga<br><b>Objective Value: 0.5408043847473392</b>",
          "Trial #81<br>C: 0.1312576656887008<br>penalty: l1<br>solver: liblinear<br><b>Objective Value: 0.6821784900322467</b>",
          "Trial #82<br>C: 1.7284602799896955<br>penalty: l1<br>solver: liblinear<br><b>Objective Value: 0.7307297948227788</b>",
          "Trial #83<br>C: 0.7519007260860345<br>penalty: l1<br>solver: liblinear<br><b>Objective Value: 0.7326188199116842</b>",
          "Trial #84<br>C: 3.921352875158072<br>penalty: l1<br>solver: liblinear<br><b>Objective Value: 0.7320522388408158</b>",
          "Trial #85<br>C: 1.2187839304934711<br>penalty: l1<br>solver: liblinear<br><b>Objective Value: 0.7303860866255023</b>",
          "Trial #86<br>C: 0.265011282931695<br>penalty: l1<br>solver: liblinear<br><b>Objective Value: 0.7188204517595165</b>",
          "Trial #87<br>C: 0.5564528298800255<br>penalty: l1<br>solver: liblinear<br><b>Objective Value: 0.733692893502465</b>",
          "Trial #88<br>C: 0.5561407279858028<br>penalty: l2<br>solver: liblinear<br><b>Objective Value: 0.6974311737175167</b>",
          "Trial #89<br>C: 0.11461536043161542<br>penalty: l1<br>solver: liblinear<br><b>Objective Value: 0.6669500241258137</b>",
          "Trial #90<br>C: 1.8421334323876566<br>penalty: l1<br>solver: liblinear<br><b>Objective Value: 0.7309877377400854</b>",
          "Trial #91<br>C: 0.9180523918899388<br>penalty: l1<br>solver: liblinear<br><b>Objective Value: 0.7323651538596277</b>",
          "Trial #92<br>C: 0.3322755870102717<br>penalty: l1<br>solver: liblinear<br><b>Objective Value: 0.7280767879773797</b>",
          "Trial #93<br>C: 1.317919789739125<br>penalty: l1<br>solver: liblinear<br><b>Objective Value: 0.7310832530257384</b>",
          "Trial #94<br>C: 0.6322388439261584<br>penalty: l1<br>solver: liblinear<br><b>Objective Value: 0.7339186546146714</b>",
          "Trial #95<br>C: 681.538684948852<br>penalty: l1<br>solver: liblinear<br><b>Objective Value: 0.7302826675388964</b>",
          "Trial #96<br>C: 0.5785668859409907<br>penalty: l1<br>solver: liblinear<br><b>Objective Value: 0.7340986882870569</b>",
          "Trial #97<br>C: 0.609937183632503<br>penalty: l1<br>solver: liblinear<br><b>Objective Value: 0.734448497780222</b>",
          "Trial #98<br>C: 0.5346027987676117<br>penalty: l1<br>solver: liblinear<br><b>Objective Value: 0.7329906663015509</b>",
          "Trial #99<br>C: 0.479536044012646<br>penalty: l1<br>solver: saga<br><b>Objective Value: 0.5407724671154217</b>"
         ],
         "marker": {
          "color": [
           "rgb(236.0, 92.0, 59.0)",
           "rgb(84.0, 135.0, 189.0)",
           "rgb(125.0, 181.0, 213.0)",
           "rgb(137.0, 189.0, 218.0)",
           "rgb(74.0, 123.0, 183.0)",
           "rgb(63.0, 99.0, 171.0)",
           "rgb(110.0, 166.0, 205.0)",
           "rgb(221.0, 61.0, 45.0)",
           "rgb(49.0, 54.0, 149.0)",
           "rgb(253.0, 254.0, 194.0)",
           "rgb(250.0, 253.0, 200.0)",
           "rgb(254.0, 216.0, 136.0)",
           "rgb(247.0, 252.0, 205.0)",
           "rgb(59.0, 86.0, 165.0)",
           "rgb(255.0, 253.0, 189.0)",
           "rgb(228.0, 245.0, 240.0)",
           "rgb(255.0, 247.0, 179.0)",
           "rgb(249.0, 143.0, 83.0)",
           "rgb(103.0, 157.0, 201.0)",
           "rgb(218.0, 55.0, 42.0)",
           "rgb(178.0, 220.0, 235.0)",
           "rgb(253.0, 186.0, 108.0)",
           "rgb(245.0, 117.0, 71.0)",
           "rgb(239.0, 249.0, 220.0)",
           "rgb(225.0, 243.0, 246.0)",
           "rgb(55.0, 73.0, 158.0)",
           "rgb(137.0, 189.0, 218.0)",
           "rgb(244.0, 110.0, 68.0)",
           "rgb(254.0, 239.0, 167.0)",
           "rgb(79.0, 129.0, 186.0)",
           "rgb(57.0, 79.0, 162.0)",
           "rgb(210.0, 44.0, 39.0)",
           "rgb(251.0, 163.0, 92.0)",
           "rgb(239.0, 249.0, 220.0)",
           "rgb(125.0, 181.0, 213.0)",
           "rgb(162.0, 209.0, 229.0)",
           "rgb(88.0, 140.0, 192.0)",
           "rgb(61.0, 92.0, 168.0)",
           "rgb(117.0, 174.0, 209.0)",
           "rgb(254.0, 221.0, 141.0)",
           "rgb(69.0, 118.0, 180.0)",
           "rgb(242.0, 104.0, 65.0)",
           "rgb(254.0, 201.0, 122.0)",
           "rgb(195.0, 29.0, 39.0)",
           "rgb(239.0, 98.0, 62.0)",
           "rgb(199.0, 231.0, 241.0)",
           "rgb(156.0, 205.0, 226.0)",
           "rgb(255.0, 247.0, 179.0)",
           "rgb(244.0, 251.0, 211.0)",
           "rgb(51.0, 60.0, 152.0)",
           "rgb(110.0, 166.0, 205.0)",
           "rgb(252.0, 169.0, 95.0)",
           "rgb(67.0, 111.0, 177.0)",
           "rgb(250.0, 153.0, 87.0)",
           "rgb(215.0, 49.0, 39.0)",
           "rgb(254.0, 208.0, 129.0)",
           "rgb(227.0, 73.0, 51.0)",
           "rgb(254.0, 232.0, 155.0)",
           "rgb(173.0, 218.0, 233.0)",
           "rgb(250.0, 153.0, 87.0)",
           "rgb(254.0, 228.0, 151.0)",
           "rgb(248.0, 137.0, 80.0)",
           "rgb(167.0, 214.0, 231.0)",
           "rgb(253.0, 176.0, 98.0)",
           "rgb(205.0, 234.0, 243.0)",
           "rgb(254.0, 225.0, 146.0)",
           "rgb(232.0, 246.0, 234.0)",
           "rgb(254.0, 239.0, 167.0)",
           "rgb(145.0, 196.0, 222.0)",
           "rgb(247.0, 130.0, 77.0)",
           "rgb(65.0, 105.0, 174.0)",
           "rgb(165.0, 0.0, 38.0)",
           "rgb(175.0, 10.0, 38.0)",
           "rgb(224.0, 67.0, 48.0)",
           "rgb(253.0, 196.0, 117.0)",
           "rgb(53.0, 67.0, 155.0)",
           "rgb(210.0, 236.0, 244.0)",
           "rgb(200.0, 34.0, 39.0)",
           "rgb(221.0, 241.0, 247.0)",
           "rgb(150.0, 201.0, 224.0)",
           "rgb(98.0, 152.0, 198.0)",
           "rgb(189.0, 226.0, 238.0)",
           "rgb(254.0, 208.0, 129.0)",
           "rgb(230.0, 79.0, 53.0)",
           "rgb(246.0, 123.0, 74.0)",
           "rgb(254.0, 235.0, 160.0)",
           "rgb(215.0, 239.0, 246.0)",
           "rgb(190.0, 24.0, 39.0)",
           "rgb(194.0, 228.0, 240.0)",
           "rgb(183.0, 223.0, 236.0)",
           "rgb(253.0, 191.0, 113.0)",
           "rgb(233.0, 86.0, 56.0)",
           "rgb(235.0, 247.0, 228.0)",
           "rgb(253.0, 181.0, 103.0)",
           "rgb(185.0, 19.0, 38.0)",
           "rgb(255.0, 247.0, 179.0)",
           "rgb(180.0, 15.0, 38.0)",
           "rgb(170.0, 5.0, 38.0)",
           "rgb(205.0, 39.0, 39.0)",
           "rgb(93.0, 146.0, 195.0)"
          ],
          "line": {
           "color": "Grey",
           "width": 0.5
          }
         },
         "mode": "markers",
         "showlegend": false,
         "type": "scatter",
         "x": [
          "l1",
          "l1",
          "l1",
          "l1",
          "l1",
          "l1",
          "l2",
          "l2",
          "l1",
          "l1",
          "l2",
          "l2",
          "l2",
          "l2",
          "l2",
          "l2",
          "l1",
          "l2",
          "l2",
          "l1",
          "l2",
          "l1",
          "l1",
          "l1",
          "l1",
          "l1",
          "l1",
          "l1",
          "l2",
          "l1",
          "l1",
          "l1",
          "l1",
          "l1",
          "l1",
          "l1",
          "l1",
          "l1",
          "l1",
          "l1",
          "l2",
          "l1",
          "l1",
          "l1",
          "l1",
          "l1",
          "l2",
          "l1",
          "l2",
          "l1",
          "l2",
          "l1",
          "l1",
          "l1",
          "l1",
          "l1",
          "l1",
          "l1",
          "l2",
          "l1",
          "l1",
          "l1",
          "l1",
          "l1",
          "l2",
          "l1",
          "l1",
          "l1",
          "l2",
          "l1",
          "l1",
          "l1",
          "l1",
          "l1",
          "l1",
          "l1",
          "l1",
          "l1",
          "l1",
          "l2",
          "l1",
          "l1",
          "l1",
          "l1",
          "l1",
          "l1",
          "l1",
          "l1",
          "l2",
          "l1",
          "l1",
          "l1",
          "l1",
          "l1",
          "l1",
          "l1",
          "l1",
          "l1",
          "l1",
          "l1"
         ],
         "xaxis": "x2",
         "y": [
          0.7250022290110179,
          0.035815351248335466,
          11.32275486983325,
          72.24083618448716,
          0.07510697504259764,
          0.047292140961139414,
          0.52163380366578,
          40.730806990980376,
          0.00024140535834481369,
          82.99208868399846,
          8237.10836944743,
          2441.297640479491,
          5.666684464792597,
          0.0013331425619851087,
          233.11750912693537,
          1.3677467175900966,
          745.7091153404007,
          12.90837164832142,
          0.005606402339893753,
          0.9396153849901697,
          0.21253371148977987,
          1.3649950903308652,
          3.138983423371692,
          65.71695455684895,
          0.2871008938288001,
          0.010909119282115722,
          27.737696178390962,
          3.285538753980668,
          411.629757518808,
          0.13725565841733442,
          0.016981761720861105,
          1.0394594696242523,
          0.8610882561131811,
          34.20020622400459,
          9.316093908186877,
          0.08885065667132105,
          0.6317491671966011,
          0.030056777679636208,
          3.1102216261943636,
          16.868905908765367,
          0.0036271943940342204,
          3.615834954471494,
          1.586243721568958,
          0.5240267164902963,
          0.4174727362047103,
          0.16649280152052393,
          0.07503559380028788,
          179.5522780649261,
          2052.4048348108813,
          0.0005611545780563875,
          0.4386719944107784,
          0.39362560079387554,
          0.036292524294358634,
          6.2877525756733705,
          1.028885689235069,
          1.7263295767740425,
          0.9282067765043863,
          1.1950428493604175,
          0.19345533812941076,
          6.257231622079981,
          23.59425622969497,
          0.9078731184179532,
          0.09223027384870815,
          2.243380525595093,
          0.6614147157736883,
          10.511585203624456,
          0.3222960114500988,
          106.64585750570033,
          40.81973919100819,
          5.5151663303446705,
          0.055109154180852674,
          0.5913560321617163,
          0.6870575810902618,
          0.9654879980711538,
          2.6980526735065675,
          0.00010688373866682841,
          0.1881749566690275,
          0.534384478907503,
          0.27854222057446143,
          0.019140378454979397,
          0.4890359261591344,
          0.1312576656887008,
          1.7284602799896955,
          0.7519007260860345,
          3.921352875158072,
          1.2187839304934711,
          0.265011282931695,
          0.5564528298800255,
          0.5561407279858028,
          0.11461536043161542,
          1.8421334323876566,
          0.9180523918899388,
          0.3322755870102717,
          1.317919789739125,
          0.6322388439261584,
          681.538684948852,
          0.5785668859409907,
          0.609937183632503,
          0.5346027987676117,
          0.479536044012646
         ],
         "yaxis": "y2"
        },
        {
         "hovertemplate": "%{hovertext}<extra></extra>",
         "hovertext": [
          "Trial #0<br>C: 0.7250022290110179<br>penalty: l1<br>solver: liblinear<br><b>Objective Value: 0.7323578606727177</b>",
          "Trial #1<br>C: 0.035815351248335466<br>penalty: l1<br>solver: saga<br><b>Objective Value: 0.5385105058307186</b>",
          "Trial #2<br>C: 11.32275486983325<br>penalty: l1<br>solver: saga<br><b>Objective Value: 0.5410035612773669</b>",
          "Trial #3<br>C: 72.24083618448716<br>penalty: l1<br>solver: saga<br><b>Objective Value: 0.5411230549417523</b>",
          "Trial #4<br>C: 0.07510697504259764<br>penalty: l1<br>solver: saga<br><b>Objective Value: 0.5368786983188212</b>",
          "Trial #5<br>C: 0.047292140961139414<br>penalty: l1<br>solver: liblinear<br><b>Objective Value: 0.5347495662348838</b>",
          "Trial #6<br>C: 0.52163380366578<br>penalty: l2<br>solver: saga<br><b>Objective Value: 0.5408539014134213</b>",
          "Trial #7<br>C: 40.730806990980376<br>penalty: l2<br>solver: liblinear<br><b>Objective Value: 0.7328041007049804</b>",
          "Trial #8<br>C: 0.00024140535834481369<br>penalty: l1<br>solver: liblinear<br><b>Objective Value: 0.2602022316912306</b>",
          "Trial #9<br>C: 82.99208868399846<br>penalty: l1<br>solver: liblinear<br><b>Objective Value: 0.7302654736694787</b>",
          "Trial #10<br>C: 8237.10836944743<br>penalty: l2<br>solver: liblinear<br><b>Objective Value: 0.7302499039049015</b>",
          "Trial #11<br>C: 2441.297640479491<br>penalty: l2<br>solver: liblinear<br><b>Objective Value: 0.7306305733325322</b>",
          "Trial #12<br>C: 5.666684464792597<br>penalty: l2<br>solver: liblinear<br><b>Objective Value: 0.7301946892395043</b>",
          "Trial #13<br>C: 0.0013331425619851087<br>penalty: l2<br>solver: liblinear<br><b>Objective Value: 0.5270279310240277</b>",
          "Trial #14<br>C: 233.11750912693537<br>penalty: l2<br>solver: liblinear<br><b>Objective Value: 0.7302686749499909</b>",
          "Trial #15<br>C: 1.3677467175900966<br>penalty: l2<br>solver: liblinear<br><b>Objective Value: 0.7238678982385025</b>",
          "Trial #16<br>C: 745.7091153404007<br>penalty: l1<br>solver: liblinear<br><b>Objective Value: 0.7302826675388964</b>",
          "Trial #17<br>C: 12.90837164832142<br>penalty: l2<br>solver: liblinear<br><b>Objective Value: 0.7316601989844224</b>",
          "Trial #18<br>C: 0.005606402339893753<br>penalty: l2<br>solver: liblinear<br><b>Objective Value: 0.5408498604467822</b>",
          "Trial #19<br>C: 0.9396153849901697<br>penalty: l1<br>solver: liblinear<br><b>Objective Value: 0.7328657428764405</b>",
          "Trial #20<br>C: 0.21253371148977987<br>penalty: l2<br>solver: liblinear<br><b>Objective Value: 0.644492286356814</b>",
          "Trial #21<br>C: 1.3649950903308652<br>penalty: l1<br>solver: liblinear<br><b>Objective Value: 0.7310145863671558</b>",
          "Trial #22<br>C: 3.138983423371692<br>penalty: l1<br>solver: liblinear<br><b>Objective Value: 0.732074474659936</b>",
          "Trial #23<br>C: 65.71695455684895<br>penalty: l1<br>solver: liblinear<br><b>Objective Value: 0.7301566301320637</b>",
          "Trial #24<br>C: 0.2871008938288001<br>penalty: l1<br>solver: liblinear<br><b>Objective Value: 0.7217052091626809</b>",
          "Trial #25<br>C: 0.010909119282115722<br>penalty: l1<br>solver: liblinear<br><b>Objective Value: 0.5210511895145091</b>",
          "Trial #26<br>C: 27.737696178390962<br>penalty: l1<br>solver: saga<br><b>Objective Value: 0.5411230549417523</b>",
          "Trial #27<br>C: 3.285538753980668<br>penalty: l1<br>solver: liblinear<br><b>Objective Value: 0.7321772089731967</b>",
          "Trial #28<br>C: 411.629757518808<br>penalty: l2<br>solver: liblinear<br><b>Objective Value: 0.730377518487406</b>",
          "Trial #29<br>C: 0.13725565841733442<br>penalty: l1<br>solver: saga<br><b>Objective Value: 0.5383622557917037</b>",
          "Trial #30<br>C: 0.016981761720861105<br>penalty: l1<br>solver: liblinear<br><b>Objective Value: 0.5246954487548657</b>",
          "Trial #31<br>C: 1.0394594696242523<br>penalty: l1<br>solver: liblinear<br><b>Objective Value: 0.7329757167956016</b>",
          "Trial #32<br>C: 0.8610882561131811<br>penalty: l1<br>solver: liblinear<br><b>Objective Value: 0.7314449217184096</b>",
          "Trial #33<br>C: 34.20020622400459<br>penalty: l1<br>solver: liblinear<br><b>Objective Value: 0.7301566301320637</b>",
          "Trial #34<br>C: 9.316093908186877<br>penalty: l1<br>solver: saga<br><b>Objective Value: 0.5410035612773669</b>",
          "Trial #35<br>C: 0.08885065667132105<br>penalty: l1<br>solver: liblinear<br><b>Objective Value: 0.6056018224326873</b>",
          "Trial #36<br>C: 0.6317491671966011<br>penalty: l1<br>solver: saga<br><b>Objective Value: 0.5404972106497288</b>",
          "Trial #37<br>C: 0.030056777679636208<br>penalty: l1<br>solver: liblinear<br><b>Objective Value: 0.5338818766152164</b>",
          "Trial #38<br>C: 3.1102216261943636<br>penalty: l1<br>solver: saga<br><b>Objective Value: 0.5409185008966255</b>",
          "Trial #39<br>C: 16.868905908765367<br>penalty: l1<br>solver: liblinear<br><b>Objective Value: 0.7305701283862837</b>",
          "Trial #40<br>C: 0.0036271943940342204<br>penalty: l2<br>solver: liblinear<br><b>Objective Value: 0.5367923144870759</b>",
          "Trial #41<br>C: 3.615834954471494<br>penalty: l1<br>solver: liblinear<br><b>Objective Value: 0.7322152607235772</b>",
          "Trial #42<br>C: 1.586243721568958<br>penalty: l1<br>solver: liblinear<br><b>Objective Value: 0.7309159384752153</b>",
          "Trial #43<br>C: 0.5240267164902963<br>penalty: l1<br>solver: liblinear<br><b>Objective Value: 0.7333073614505123</b>",
          "Trial #44<br>C: 0.4174727362047103<br>penalty: l1<br>solver: liblinear<br><b>Objective Value: 0.7323563288449244</b>",
          "Trial #45<br>C: 0.16649280152052393<br>penalty: l1<br>solver: liblinear<br><b>Objective Value: 0.7033525945932253</b>",
          "Trial #46<br>C: 0.07503559380028788<br>penalty: l2<br>solver: liblinear<br><b>Objective Value: 0.5880979462747911</b>",
          "Trial #47<br>C: 179.5522780649261<br>penalty: l1<br>solver: liblinear<br><b>Objective Value: 0.7302826675388964</b>",
          "Trial #48<br>C: 2052.4048348108813<br>penalty: l2<br>solver: liblinear<br><b>Objective Value: 0.7301738240014813</b>",
          "Trial #49<br>C: 0.0005611545780563875<br>penalty: l1<br>solver: liblinear<br><b>Objective Value: 0.3340270778411201</b>",
          "Trial #50<br>C: 0.4386719944107784<br>penalty: l2<br>solver: saga<br><b>Objective Value: 0.5408539014134213</b>",
          "Trial #51<br>C: 0.39362560079387554<br>penalty: l1<br>solver: liblinear<br><b>Objective Value: 0.7312612365024912</b>",
          "Trial #52<br>C: 0.036292524294358634<br>penalty: l1<br>solver: liblinear<br><b>Objective Value: 0.5355652072801366</b>",
          "Trial #53<br>C: 6.2877525756733705<br>penalty: l1<br>solver: liblinear<br><b>Objective Value: 0.7314547196593433</b>",
          "Trial #54<br>C: 1.028885689235069<br>penalty: l1<br>solver: liblinear<br><b>Objective Value: 0.7328698966897815</b>",
          "Trial #55<br>C: 1.7263295767740425<br>penalty: l1<br>solver: liblinear<br><b>Objective Value: 0.7307297948227788</b>",
          "Trial #56<br>C: 0.9282067765043863<br>penalty: l1<br>solver: liblinear<br><b>Objective Value: 0.7326257775106169</b>",
          "Trial #57<br>C: 1.1950428493604175<br>penalty: l1<br>solver: liblinear<br><b>Objective Value: 0.7304316695813019</b>",
          "Trial #58<br>C: 0.19345533812941076<br>penalty: l2<br>solver: liblinear<br><b>Objective Value: 0.6400320787528164</b>",
          "Trial #59<br>C: 6.257231622079981<br>penalty: l1<br>solver: liblinear<br><b>Objective Value: 0.7314547196593433</b>",
          "Trial #60<br>C: 23.59425622969497<br>penalty: l1<br>solver: liblinear<br><b>Objective Value: 0.7304908472023512</b>",
          "Trial #61<br>C: 0.9078731184179532<br>penalty: l1<br>solver: liblinear<br><b>Objective Value: 0.7317028572442756</b>",
          "Trial #62<br>C: 0.09223027384870815<br>penalty: l1<br>solver: liblinear<br><b>Objective Value: 0.6172029810614943</b>",
          "Trial #63<br>C: 2.243380525595093<br>penalty: l1<br>solver: liblinear<br><b>Objective Value: 0.7312402256549855</b>",
          "Trial #64<br>C: 0.6614147157736883<br>penalty: l2<br>solver: liblinear<br><b>Objective Value: 0.7063987700474836</b>",
          "Trial #65<br>C: 10.511585203624456<br>penalty: l1<br>solver: liblinear<br><b>Objective Value: 0.7305377797825064</b>",
          "Trial #66<br>C: 0.3222960114500988<br>penalty: l1<br>solver: liblinear<br><b>Objective Value: 0.7273692911320049</b>",
          "Trial #67<br>C: 106.64585750570033<br>penalty: l1<br>solver: liblinear<br><b>Objective Value: 0.730377518487406</b>",
          "Trial #68<br>C: 40.81973919100819<br>penalty: l2<br>solver: saga<br><b>Objective Value: 0.5411492755565804</b>",
          "Trial #69<br>C: 5.5151663303446705<br>penalty: l1<br>solver: liblinear<br><b>Objective Value: 0.7318097599243909</b>",
          "Trial #70<br>C: 0.055109154180852674<br>penalty: l1<br>solver: liblinear<br><b>Objective Value: 0.5350618144506376</b>",
          "Trial #71<br>C: 0.5913560321617163<br>penalty: l1<br>solver: liblinear<br><b>Objective Value: 0.7345078228688514</b>",
          "Trial #72<br>C: 0.6870575810902618<br>penalty: l1<br>solver: liblinear<br><b>Objective Value: 0.7343825667631865</b>",
          "Trial #73<br>C: 0.9654879980711538<br>penalty: l1<br>solver: liblinear<br><b>Objective Value: 0.732668154106662</b>",
          "Trial #74<br>C: 2.6980526735065675<br>penalty: l1<br>solver: liblinear<br><b>Objective Value: 0.7309217209935828</b>",
          "Trial #75<br>C: 0.00010688373866682841<br>penalty: l1<br>solver: liblinear<br><b>Objective Value: 0.34979615608619674</b>",
          "Trial #76<br>C: 0.1881749566690275<br>penalty: l1<br>solver: liblinear<br><b>Objective Value: 0.7080856946936654</b>",
          "Trial #77<br>C: 0.534384478907503<br>penalty: l1<br>solver: liblinear<br><b>Objective Value: 0.7330201606167593</b>",
          "Trial #78<br>C: 0.27854222057446143<br>penalty: l1<br>solver: liblinear<br><b>Objective Value: 0.719969946615697</b>",
          "Trial #79<br>C: 0.019140378454979397<br>penalty: l2<br>solver: liblinear<br><b>Objective Value: 0.5522167466119824</b>",
          "Trial #80<br>C: 0.4890359261591344<br>penalty: l1<br>solver: saga<br><b>Objective Value: 0.5408043847473392</b>",
          "Trial #81<br>C: 0.1312576656887008<br>penalty: l1<br>solver: liblinear<br><b>Objective Value: 0.6821784900322467</b>",
          "Trial #82<br>C: 1.7284602799896955<br>penalty: l1<br>solver: liblinear<br><b>Objective Value: 0.7307297948227788</b>",
          "Trial #83<br>C: 0.7519007260860345<br>penalty: l1<br>solver: liblinear<br><b>Objective Value: 0.7326188199116842</b>",
          "Trial #84<br>C: 3.921352875158072<br>penalty: l1<br>solver: liblinear<br><b>Objective Value: 0.7320522388408158</b>",
          "Trial #85<br>C: 1.2187839304934711<br>penalty: l1<br>solver: liblinear<br><b>Objective Value: 0.7303860866255023</b>",
          "Trial #86<br>C: 0.265011282931695<br>penalty: l1<br>solver: liblinear<br><b>Objective Value: 0.7188204517595165</b>",
          "Trial #87<br>C: 0.5564528298800255<br>penalty: l1<br>solver: liblinear<br><b>Objective Value: 0.733692893502465</b>",
          "Trial #88<br>C: 0.5561407279858028<br>penalty: l2<br>solver: liblinear<br><b>Objective Value: 0.6974311737175167</b>",
          "Trial #89<br>C: 0.11461536043161542<br>penalty: l1<br>solver: liblinear<br><b>Objective Value: 0.6669500241258137</b>",
          "Trial #90<br>C: 1.8421334323876566<br>penalty: l1<br>solver: liblinear<br><b>Objective Value: 0.7309877377400854</b>",
          "Trial #91<br>C: 0.9180523918899388<br>penalty: l1<br>solver: liblinear<br><b>Objective Value: 0.7323651538596277</b>",
          "Trial #92<br>C: 0.3322755870102717<br>penalty: l1<br>solver: liblinear<br><b>Objective Value: 0.7280767879773797</b>",
          "Trial #93<br>C: 1.317919789739125<br>penalty: l1<br>solver: liblinear<br><b>Objective Value: 0.7310832530257384</b>",
          "Trial #94<br>C: 0.6322388439261584<br>penalty: l1<br>solver: liblinear<br><b>Objective Value: 0.7339186546146714</b>",
          "Trial #95<br>C: 681.538684948852<br>penalty: l1<br>solver: liblinear<br><b>Objective Value: 0.7302826675388964</b>",
          "Trial #96<br>C: 0.5785668859409907<br>penalty: l1<br>solver: liblinear<br><b>Objective Value: 0.7340986882870569</b>",
          "Trial #97<br>C: 0.609937183632503<br>penalty: l1<br>solver: liblinear<br><b>Objective Value: 0.734448497780222</b>",
          "Trial #98<br>C: 0.5346027987676117<br>penalty: l1<br>solver: liblinear<br><b>Objective Value: 0.7329906663015509</b>",
          "Trial #99<br>C: 0.479536044012646<br>penalty: l1<br>solver: saga<br><b>Objective Value: 0.5407724671154217</b>"
         ],
         "marker": {
          "color": [
           "rgb(236.0, 92.0, 59.0)",
           "rgb(84.0, 135.0, 189.0)",
           "rgb(125.0, 181.0, 213.0)",
           "rgb(137.0, 189.0, 218.0)",
           "rgb(74.0, 123.0, 183.0)",
           "rgb(63.0, 99.0, 171.0)",
           "rgb(110.0, 166.0, 205.0)",
           "rgb(221.0, 61.0, 45.0)",
           "rgb(49.0, 54.0, 149.0)",
           "rgb(253.0, 254.0, 194.0)",
           "rgb(250.0, 253.0, 200.0)",
           "rgb(254.0, 216.0, 136.0)",
           "rgb(247.0, 252.0, 205.0)",
           "rgb(59.0, 86.0, 165.0)",
           "rgb(255.0, 253.0, 189.0)",
           "rgb(228.0, 245.0, 240.0)",
           "rgb(255.0, 247.0, 179.0)",
           "rgb(249.0, 143.0, 83.0)",
           "rgb(103.0, 157.0, 201.0)",
           "rgb(218.0, 55.0, 42.0)",
           "rgb(178.0, 220.0, 235.0)",
           "rgb(253.0, 186.0, 108.0)",
           "rgb(245.0, 117.0, 71.0)",
           "rgb(239.0, 249.0, 220.0)",
           "rgb(225.0, 243.0, 246.0)",
           "rgb(55.0, 73.0, 158.0)",
           "rgb(137.0, 189.0, 218.0)",
           "rgb(244.0, 110.0, 68.0)",
           "rgb(254.0, 239.0, 167.0)",
           "rgb(79.0, 129.0, 186.0)",
           "rgb(57.0, 79.0, 162.0)",
           "rgb(210.0, 44.0, 39.0)",
           "rgb(251.0, 163.0, 92.0)",
           "rgb(239.0, 249.0, 220.0)",
           "rgb(125.0, 181.0, 213.0)",
           "rgb(162.0, 209.0, 229.0)",
           "rgb(88.0, 140.0, 192.0)",
           "rgb(61.0, 92.0, 168.0)",
           "rgb(117.0, 174.0, 209.0)",
           "rgb(254.0, 221.0, 141.0)",
           "rgb(69.0, 118.0, 180.0)",
           "rgb(242.0, 104.0, 65.0)",
           "rgb(254.0, 201.0, 122.0)",
           "rgb(195.0, 29.0, 39.0)",
           "rgb(239.0, 98.0, 62.0)",
           "rgb(199.0, 231.0, 241.0)",
           "rgb(156.0, 205.0, 226.0)",
           "rgb(255.0, 247.0, 179.0)",
           "rgb(244.0, 251.0, 211.0)",
           "rgb(51.0, 60.0, 152.0)",
           "rgb(110.0, 166.0, 205.0)",
           "rgb(252.0, 169.0, 95.0)",
           "rgb(67.0, 111.0, 177.0)",
           "rgb(250.0, 153.0, 87.0)",
           "rgb(215.0, 49.0, 39.0)",
           "rgb(254.0, 208.0, 129.0)",
           "rgb(227.0, 73.0, 51.0)",
           "rgb(254.0, 232.0, 155.0)",
           "rgb(173.0, 218.0, 233.0)",
           "rgb(250.0, 153.0, 87.0)",
           "rgb(254.0, 228.0, 151.0)",
           "rgb(248.0, 137.0, 80.0)",
           "rgb(167.0, 214.0, 231.0)",
           "rgb(253.0, 176.0, 98.0)",
           "rgb(205.0, 234.0, 243.0)",
           "rgb(254.0, 225.0, 146.0)",
           "rgb(232.0, 246.0, 234.0)",
           "rgb(254.0, 239.0, 167.0)",
           "rgb(145.0, 196.0, 222.0)",
           "rgb(247.0, 130.0, 77.0)",
           "rgb(65.0, 105.0, 174.0)",
           "rgb(165.0, 0.0, 38.0)",
           "rgb(175.0, 10.0, 38.0)",
           "rgb(224.0, 67.0, 48.0)",
           "rgb(253.0, 196.0, 117.0)",
           "rgb(53.0, 67.0, 155.0)",
           "rgb(210.0, 236.0, 244.0)",
           "rgb(200.0, 34.0, 39.0)",
           "rgb(221.0, 241.0, 247.0)",
           "rgb(150.0, 201.0, 224.0)",
           "rgb(98.0, 152.0, 198.0)",
           "rgb(189.0, 226.0, 238.0)",
           "rgb(254.0, 208.0, 129.0)",
           "rgb(230.0, 79.0, 53.0)",
           "rgb(246.0, 123.0, 74.0)",
           "rgb(254.0, 235.0, 160.0)",
           "rgb(215.0, 239.0, 246.0)",
           "rgb(190.0, 24.0, 39.0)",
           "rgb(194.0, 228.0, 240.0)",
           "rgb(183.0, 223.0, 236.0)",
           "rgb(253.0, 191.0, 113.0)",
           "rgb(233.0, 86.0, 56.0)",
           "rgb(235.0, 247.0, 228.0)",
           "rgb(253.0, 181.0, 103.0)",
           "rgb(185.0, 19.0, 38.0)",
           "rgb(255.0, 247.0, 179.0)",
           "rgb(180.0, 15.0, 38.0)",
           "rgb(170.0, 5.0, 38.0)",
           "rgb(205.0, 39.0, 39.0)",
           "rgb(93.0, 146.0, 195.0)"
          ],
          "line": {
           "color": "Grey",
           "width": 0.5
          }
         },
         "mode": "markers",
         "showlegend": false,
         "type": "scatter",
         "x": [
          "l1",
          "l1",
          "l1",
          "l1",
          "l1",
          "l1",
          "l2",
          "l2",
          "l1",
          "l1",
          "l2",
          "l2",
          "l2",
          "l2",
          "l2",
          "l2",
          "l1",
          "l2",
          "l2",
          "l1",
          "l2",
          "l1",
          "l1",
          "l1",
          "l1",
          "l1",
          "l1",
          "l1",
          "l2",
          "l1",
          "l1",
          "l1",
          "l1",
          "l1",
          "l1",
          "l1",
          "l1",
          "l1",
          "l1",
          "l1",
          "l2",
          "l1",
          "l1",
          "l1",
          "l1",
          "l1",
          "l2",
          "l1",
          "l2",
          "l1",
          "l2",
          "l1",
          "l1",
          "l1",
          "l1",
          "l1",
          "l1",
          "l1",
          "l2",
          "l1",
          "l1",
          "l1",
          "l1",
          "l1",
          "l2",
          "l1",
          "l1",
          "l1",
          "l2",
          "l1",
          "l1",
          "l1",
          "l1",
          "l1",
          "l1",
          "l1",
          "l1",
          "l1",
          "l1",
          "l2",
          "l1",
          "l1",
          "l1",
          "l1",
          "l1",
          "l1",
          "l1",
          "l1",
          "l2",
          "l1",
          "l1",
          "l1",
          "l1",
          "l1",
          "l1",
          "l1",
          "l1",
          "l1",
          "l1",
          "l1"
         ],
         "xaxis": "x5",
         "y": [
          "l1",
          "l1",
          "l1",
          "l1",
          "l1",
          "l1",
          "l2",
          "l2",
          "l1",
          "l1",
          "l2",
          "l2",
          "l2",
          "l2",
          "l2",
          "l2",
          "l1",
          "l2",
          "l2",
          "l1",
          "l2",
          "l1",
          "l1",
          "l1",
          "l1",
          "l1",
          "l1",
          "l1",
          "l2",
          "l1",
          "l1",
          "l1",
          "l1",
          "l1",
          "l1",
          "l1",
          "l1",
          "l1",
          "l1",
          "l1",
          "l2",
          "l1",
          "l1",
          "l1",
          "l1",
          "l1",
          "l2",
          "l1",
          "l2",
          "l1",
          "l2",
          "l1",
          "l1",
          "l1",
          "l1",
          "l1",
          "l1",
          "l1",
          "l2",
          "l1",
          "l1",
          "l1",
          "l1",
          "l1",
          "l2",
          "l1",
          "l1",
          "l1",
          "l2",
          "l1",
          "l1",
          "l1",
          "l1",
          "l1",
          "l1",
          "l1",
          "l1",
          "l1",
          "l1",
          "l2",
          "l1",
          "l1",
          "l1",
          "l1",
          "l1",
          "l1",
          "l1",
          "l1",
          "l2",
          "l1",
          "l1",
          "l1",
          "l1",
          "l1",
          "l1",
          "l1",
          "l1",
          "l1",
          "l1",
          "l1"
         ],
         "yaxis": "y5"
        },
        {
         "hovertemplate": "%{hovertext}<extra></extra>",
         "hovertext": [
          "Trial #0<br>C: 0.7250022290110179<br>penalty: l1<br>solver: liblinear<br><b>Objective Value: 0.7323578606727177</b>",
          "Trial #1<br>C: 0.035815351248335466<br>penalty: l1<br>solver: saga<br><b>Objective Value: 0.5385105058307186</b>",
          "Trial #2<br>C: 11.32275486983325<br>penalty: l1<br>solver: saga<br><b>Objective Value: 0.5410035612773669</b>",
          "Trial #3<br>C: 72.24083618448716<br>penalty: l1<br>solver: saga<br><b>Objective Value: 0.5411230549417523</b>",
          "Trial #4<br>C: 0.07510697504259764<br>penalty: l1<br>solver: saga<br><b>Objective Value: 0.5368786983188212</b>",
          "Trial #5<br>C: 0.047292140961139414<br>penalty: l1<br>solver: liblinear<br><b>Objective Value: 0.5347495662348838</b>",
          "Trial #6<br>C: 0.52163380366578<br>penalty: l2<br>solver: saga<br><b>Objective Value: 0.5408539014134213</b>",
          "Trial #7<br>C: 40.730806990980376<br>penalty: l2<br>solver: liblinear<br><b>Objective Value: 0.7328041007049804</b>",
          "Trial #8<br>C: 0.00024140535834481369<br>penalty: l1<br>solver: liblinear<br><b>Objective Value: 0.2602022316912306</b>",
          "Trial #9<br>C: 82.99208868399846<br>penalty: l1<br>solver: liblinear<br><b>Objective Value: 0.7302654736694787</b>",
          "Trial #10<br>C: 8237.10836944743<br>penalty: l2<br>solver: liblinear<br><b>Objective Value: 0.7302499039049015</b>",
          "Trial #11<br>C: 2441.297640479491<br>penalty: l2<br>solver: liblinear<br><b>Objective Value: 0.7306305733325322</b>",
          "Trial #12<br>C: 5.666684464792597<br>penalty: l2<br>solver: liblinear<br><b>Objective Value: 0.7301946892395043</b>",
          "Trial #13<br>C: 0.0013331425619851087<br>penalty: l2<br>solver: liblinear<br><b>Objective Value: 0.5270279310240277</b>",
          "Trial #14<br>C: 233.11750912693537<br>penalty: l2<br>solver: liblinear<br><b>Objective Value: 0.7302686749499909</b>",
          "Trial #15<br>C: 1.3677467175900966<br>penalty: l2<br>solver: liblinear<br><b>Objective Value: 0.7238678982385025</b>",
          "Trial #16<br>C: 745.7091153404007<br>penalty: l1<br>solver: liblinear<br><b>Objective Value: 0.7302826675388964</b>",
          "Trial #17<br>C: 12.90837164832142<br>penalty: l2<br>solver: liblinear<br><b>Objective Value: 0.7316601989844224</b>",
          "Trial #18<br>C: 0.005606402339893753<br>penalty: l2<br>solver: liblinear<br><b>Objective Value: 0.5408498604467822</b>",
          "Trial #19<br>C: 0.9396153849901697<br>penalty: l1<br>solver: liblinear<br><b>Objective Value: 0.7328657428764405</b>",
          "Trial #20<br>C: 0.21253371148977987<br>penalty: l2<br>solver: liblinear<br><b>Objective Value: 0.644492286356814</b>",
          "Trial #21<br>C: 1.3649950903308652<br>penalty: l1<br>solver: liblinear<br><b>Objective Value: 0.7310145863671558</b>",
          "Trial #22<br>C: 3.138983423371692<br>penalty: l1<br>solver: liblinear<br><b>Objective Value: 0.732074474659936</b>",
          "Trial #23<br>C: 65.71695455684895<br>penalty: l1<br>solver: liblinear<br><b>Objective Value: 0.7301566301320637</b>",
          "Trial #24<br>C: 0.2871008938288001<br>penalty: l1<br>solver: liblinear<br><b>Objective Value: 0.7217052091626809</b>",
          "Trial #25<br>C: 0.010909119282115722<br>penalty: l1<br>solver: liblinear<br><b>Objective Value: 0.5210511895145091</b>",
          "Trial #26<br>C: 27.737696178390962<br>penalty: l1<br>solver: saga<br><b>Objective Value: 0.5411230549417523</b>",
          "Trial #27<br>C: 3.285538753980668<br>penalty: l1<br>solver: liblinear<br><b>Objective Value: 0.7321772089731967</b>",
          "Trial #28<br>C: 411.629757518808<br>penalty: l2<br>solver: liblinear<br><b>Objective Value: 0.730377518487406</b>",
          "Trial #29<br>C: 0.13725565841733442<br>penalty: l1<br>solver: saga<br><b>Objective Value: 0.5383622557917037</b>",
          "Trial #30<br>C: 0.016981761720861105<br>penalty: l1<br>solver: liblinear<br><b>Objective Value: 0.5246954487548657</b>",
          "Trial #31<br>C: 1.0394594696242523<br>penalty: l1<br>solver: liblinear<br><b>Objective Value: 0.7329757167956016</b>",
          "Trial #32<br>C: 0.8610882561131811<br>penalty: l1<br>solver: liblinear<br><b>Objective Value: 0.7314449217184096</b>",
          "Trial #33<br>C: 34.20020622400459<br>penalty: l1<br>solver: liblinear<br><b>Objective Value: 0.7301566301320637</b>",
          "Trial #34<br>C: 9.316093908186877<br>penalty: l1<br>solver: saga<br><b>Objective Value: 0.5410035612773669</b>",
          "Trial #35<br>C: 0.08885065667132105<br>penalty: l1<br>solver: liblinear<br><b>Objective Value: 0.6056018224326873</b>",
          "Trial #36<br>C: 0.6317491671966011<br>penalty: l1<br>solver: saga<br><b>Objective Value: 0.5404972106497288</b>",
          "Trial #37<br>C: 0.030056777679636208<br>penalty: l1<br>solver: liblinear<br><b>Objective Value: 0.5338818766152164</b>",
          "Trial #38<br>C: 3.1102216261943636<br>penalty: l1<br>solver: saga<br><b>Objective Value: 0.5409185008966255</b>",
          "Trial #39<br>C: 16.868905908765367<br>penalty: l1<br>solver: liblinear<br><b>Objective Value: 0.7305701283862837</b>",
          "Trial #40<br>C: 0.0036271943940342204<br>penalty: l2<br>solver: liblinear<br><b>Objective Value: 0.5367923144870759</b>",
          "Trial #41<br>C: 3.615834954471494<br>penalty: l1<br>solver: liblinear<br><b>Objective Value: 0.7322152607235772</b>",
          "Trial #42<br>C: 1.586243721568958<br>penalty: l1<br>solver: liblinear<br><b>Objective Value: 0.7309159384752153</b>",
          "Trial #43<br>C: 0.5240267164902963<br>penalty: l1<br>solver: liblinear<br><b>Objective Value: 0.7333073614505123</b>",
          "Trial #44<br>C: 0.4174727362047103<br>penalty: l1<br>solver: liblinear<br><b>Objective Value: 0.7323563288449244</b>",
          "Trial #45<br>C: 0.16649280152052393<br>penalty: l1<br>solver: liblinear<br><b>Objective Value: 0.7033525945932253</b>",
          "Trial #46<br>C: 0.07503559380028788<br>penalty: l2<br>solver: liblinear<br><b>Objective Value: 0.5880979462747911</b>",
          "Trial #47<br>C: 179.5522780649261<br>penalty: l1<br>solver: liblinear<br><b>Objective Value: 0.7302826675388964</b>",
          "Trial #48<br>C: 2052.4048348108813<br>penalty: l2<br>solver: liblinear<br><b>Objective Value: 0.7301738240014813</b>",
          "Trial #49<br>C: 0.0005611545780563875<br>penalty: l1<br>solver: liblinear<br><b>Objective Value: 0.3340270778411201</b>",
          "Trial #50<br>C: 0.4386719944107784<br>penalty: l2<br>solver: saga<br><b>Objective Value: 0.5408539014134213</b>",
          "Trial #51<br>C: 0.39362560079387554<br>penalty: l1<br>solver: liblinear<br><b>Objective Value: 0.7312612365024912</b>",
          "Trial #52<br>C: 0.036292524294358634<br>penalty: l1<br>solver: liblinear<br><b>Objective Value: 0.5355652072801366</b>",
          "Trial #53<br>C: 6.2877525756733705<br>penalty: l1<br>solver: liblinear<br><b>Objective Value: 0.7314547196593433</b>",
          "Trial #54<br>C: 1.028885689235069<br>penalty: l1<br>solver: liblinear<br><b>Objective Value: 0.7328698966897815</b>",
          "Trial #55<br>C: 1.7263295767740425<br>penalty: l1<br>solver: liblinear<br><b>Objective Value: 0.7307297948227788</b>",
          "Trial #56<br>C: 0.9282067765043863<br>penalty: l1<br>solver: liblinear<br><b>Objective Value: 0.7326257775106169</b>",
          "Trial #57<br>C: 1.1950428493604175<br>penalty: l1<br>solver: liblinear<br><b>Objective Value: 0.7304316695813019</b>",
          "Trial #58<br>C: 0.19345533812941076<br>penalty: l2<br>solver: liblinear<br><b>Objective Value: 0.6400320787528164</b>",
          "Trial #59<br>C: 6.257231622079981<br>penalty: l1<br>solver: liblinear<br><b>Objective Value: 0.7314547196593433</b>",
          "Trial #60<br>C: 23.59425622969497<br>penalty: l1<br>solver: liblinear<br><b>Objective Value: 0.7304908472023512</b>",
          "Trial #61<br>C: 0.9078731184179532<br>penalty: l1<br>solver: liblinear<br><b>Objective Value: 0.7317028572442756</b>",
          "Trial #62<br>C: 0.09223027384870815<br>penalty: l1<br>solver: liblinear<br><b>Objective Value: 0.6172029810614943</b>",
          "Trial #63<br>C: 2.243380525595093<br>penalty: l1<br>solver: liblinear<br><b>Objective Value: 0.7312402256549855</b>",
          "Trial #64<br>C: 0.6614147157736883<br>penalty: l2<br>solver: liblinear<br><b>Objective Value: 0.7063987700474836</b>",
          "Trial #65<br>C: 10.511585203624456<br>penalty: l1<br>solver: liblinear<br><b>Objective Value: 0.7305377797825064</b>",
          "Trial #66<br>C: 0.3222960114500988<br>penalty: l1<br>solver: liblinear<br><b>Objective Value: 0.7273692911320049</b>",
          "Trial #67<br>C: 106.64585750570033<br>penalty: l1<br>solver: liblinear<br><b>Objective Value: 0.730377518487406</b>",
          "Trial #68<br>C: 40.81973919100819<br>penalty: l2<br>solver: saga<br><b>Objective Value: 0.5411492755565804</b>",
          "Trial #69<br>C: 5.5151663303446705<br>penalty: l1<br>solver: liblinear<br><b>Objective Value: 0.7318097599243909</b>",
          "Trial #70<br>C: 0.055109154180852674<br>penalty: l1<br>solver: liblinear<br><b>Objective Value: 0.5350618144506376</b>",
          "Trial #71<br>C: 0.5913560321617163<br>penalty: l1<br>solver: liblinear<br><b>Objective Value: 0.7345078228688514</b>",
          "Trial #72<br>C: 0.6870575810902618<br>penalty: l1<br>solver: liblinear<br><b>Objective Value: 0.7343825667631865</b>",
          "Trial #73<br>C: 0.9654879980711538<br>penalty: l1<br>solver: liblinear<br><b>Objective Value: 0.732668154106662</b>",
          "Trial #74<br>C: 2.6980526735065675<br>penalty: l1<br>solver: liblinear<br><b>Objective Value: 0.7309217209935828</b>",
          "Trial #75<br>C: 0.00010688373866682841<br>penalty: l1<br>solver: liblinear<br><b>Objective Value: 0.34979615608619674</b>",
          "Trial #76<br>C: 0.1881749566690275<br>penalty: l1<br>solver: liblinear<br><b>Objective Value: 0.7080856946936654</b>",
          "Trial #77<br>C: 0.534384478907503<br>penalty: l1<br>solver: liblinear<br><b>Objective Value: 0.7330201606167593</b>",
          "Trial #78<br>C: 0.27854222057446143<br>penalty: l1<br>solver: liblinear<br><b>Objective Value: 0.719969946615697</b>",
          "Trial #79<br>C: 0.019140378454979397<br>penalty: l2<br>solver: liblinear<br><b>Objective Value: 0.5522167466119824</b>",
          "Trial #80<br>C: 0.4890359261591344<br>penalty: l1<br>solver: saga<br><b>Objective Value: 0.5408043847473392</b>",
          "Trial #81<br>C: 0.1312576656887008<br>penalty: l1<br>solver: liblinear<br><b>Objective Value: 0.6821784900322467</b>",
          "Trial #82<br>C: 1.7284602799896955<br>penalty: l1<br>solver: liblinear<br><b>Objective Value: 0.7307297948227788</b>",
          "Trial #83<br>C: 0.7519007260860345<br>penalty: l1<br>solver: liblinear<br><b>Objective Value: 0.7326188199116842</b>",
          "Trial #84<br>C: 3.921352875158072<br>penalty: l1<br>solver: liblinear<br><b>Objective Value: 0.7320522388408158</b>",
          "Trial #85<br>C: 1.2187839304934711<br>penalty: l1<br>solver: liblinear<br><b>Objective Value: 0.7303860866255023</b>",
          "Trial #86<br>C: 0.265011282931695<br>penalty: l1<br>solver: liblinear<br><b>Objective Value: 0.7188204517595165</b>",
          "Trial #87<br>C: 0.5564528298800255<br>penalty: l1<br>solver: liblinear<br><b>Objective Value: 0.733692893502465</b>",
          "Trial #88<br>C: 0.5561407279858028<br>penalty: l2<br>solver: liblinear<br><b>Objective Value: 0.6974311737175167</b>",
          "Trial #89<br>C: 0.11461536043161542<br>penalty: l1<br>solver: liblinear<br><b>Objective Value: 0.6669500241258137</b>",
          "Trial #90<br>C: 1.8421334323876566<br>penalty: l1<br>solver: liblinear<br><b>Objective Value: 0.7309877377400854</b>",
          "Trial #91<br>C: 0.9180523918899388<br>penalty: l1<br>solver: liblinear<br><b>Objective Value: 0.7323651538596277</b>",
          "Trial #92<br>C: 0.3322755870102717<br>penalty: l1<br>solver: liblinear<br><b>Objective Value: 0.7280767879773797</b>",
          "Trial #93<br>C: 1.317919789739125<br>penalty: l1<br>solver: liblinear<br><b>Objective Value: 0.7310832530257384</b>",
          "Trial #94<br>C: 0.6322388439261584<br>penalty: l1<br>solver: liblinear<br><b>Objective Value: 0.7339186546146714</b>",
          "Trial #95<br>C: 681.538684948852<br>penalty: l1<br>solver: liblinear<br><b>Objective Value: 0.7302826675388964</b>",
          "Trial #96<br>C: 0.5785668859409907<br>penalty: l1<br>solver: liblinear<br><b>Objective Value: 0.7340986882870569</b>",
          "Trial #97<br>C: 0.609937183632503<br>penalty: l1<br>solver: liblinear<br><b>Objective Value: 0.734448497780222</b>",
          "Trial #98<br>C: 0.5346027987676117<br>penalty: l1<br>solver: liblinear<br><b>Objective Value: 0.7329906663015509</b>",
          "Trial #99<br>C: 0.479536044012646<br>penalty: l1<br>solver: saga<br><b>Objective Value: 0.5407724671154217</b>"
         ],
         "marker": {
          "color": [
           "rgb(236.0, 92.0, 59.0)",
           "rgb(84.0, 135.0, 189.0)",
           "rgb(125.0, 181.0, 213.0)",
           "rgb(137.0, 189.0, 218.0)",
           "rgb(74.0, 123.0, 183.0)",
           "rgb(63.0, 99.0, 171.0)",
           "rgb(110.0, 166.0, 205.0)",
           "rgb(221.0, 61.0, 45.0)",
           "rgb(49.0, 54.0, 149.0)",
           "rgb(253.0, 254.0, 194.0)",
           "rgb(250.0, 253.0, 200.0)",
           "rgb(254.0, 216.0, 136.0)",
           "rgb(247.0, 252.0, 205.0)",
           "rgb(59.0, 86.0, 165.0)",
           "rgb(255.0, 253.0, 189.0)",
           "rgb(228.0, 245.0, 240.0)",
           "rgb(255.0, 247.0, 179.0)",
           "rgb(249.0, 143.0, 83.0)",
           "rgb(103.0, 157.0, 201.0)",
           "rgb(218.0, 55.0, 42.0)",
           "rgb(178.0, 220.0, 235.0)",
           "rgb(253.0, 186.0, 108.0)",
           "rgb(245.0, 117.0, 71.0)",
           "rgb(239.0, 249.0, 220.0)",
           "rgb(225.0, 243.0, 246.0)",
           "rgb(55.0, 73.0, 158.0)",
           "rgb(137.0, 189.0, 218.0)",
           "rgb(244.0, 110.0, 68.0)",
           "rgb(254.0, 239.0, 167.0)",
           "rgb(79.0, 129.0, 186.0)",
           "rgb(57.0, 79.0, 162.0)",
           "rgb(210.0, 44.0, 39.0)",
           "rgb(251.0, 163.0, 92.0)",
           "rgb(239.0, 249.0, 220.0)",
           "rgb(125.0, 181.0, 213.0)",
           "rgb(162.0, 209.0, 229.0)",
           "rgb(88.0, 140.0, 192.0)",
           "rgb(61.0, 92.0, 168.0)",
           "rgb(117.0, 174.0, 209.0)",
           "rgb(254.0, 221.0, 141.0)",
           "rgb(69.0, 118.0, 180.0)",
           "rgb(242.0, 104.0, 65.0)",
           "rgb(254.0, 201.0, 122.0)",
           "rgb(195.0, 29.0, 39.0)",
           "rgb(239.0, 98.0, 62.0)",
           "rgb(199.0, 231.0, 241.0)",
           "rgb(156.0, 205.0, 226.0)",
           "rgb(255.0, 247.0, 179.0)",
           "rgb(244.0, 251.0, 211.0)",
           "rgb(51.0, 60.0, 152.0)",
           "rgb(110.0, 166.0, 205.0)",
           "rgb(252.0, 169.0, 95.0)",
           "rgb(67.0, 111.0, 177.0)",
           "rgb(250.0, 153.0, 87.0)",
           "rgb(215.0, 49.0, 39.0)",
           "rgb(254.0, 208.0, 129.0)",
           "rgb(227.0, 73.0, 51.0)",
           "rgb(254.0, 232.0, 155.0)",
           "rgb(173.0, 218.0, 233.0)",
           "rgb(250.0, 153.0, 87.0)",
           "rgb(254.0, 228.0, 151.0)",
           "rgb(248.0, 137.0, 80.0)",
           "rgb(167.0, 214.0, 231.0)",
           "rgb(253.0, 176.0, 98.0)",
           "rgb(205.0, 234.0, 243.0)",
           "rgb(254.0, 225.0, 146.0)",
           "rgb(232.0, 246.0, 234.0)",
           "rgb(254.0, 239.0, 167.0)",
           "rgb(145.0, 196.0, 222.0)",
           "rgb(247.0, 130.0, 77.0)",
           "rgb(65.0, 105.0, 174.0)",
           "rgb(165.0, 0.0, 38.0)",
           "rgb(175.0, 10.0, 38.0)",
           "rgb(224.0, 67.0, 48.0)",
           "rgb(253.0, 196.0, 117.0)",
           "rgb(53.0, 67.0, 155.0)",
           "rgb(210.0, 236.0, 244.0)",
           "rgb(200.0, 34.0, 39.0)",
           "rgb(221.0, 241.0, 247.0)",
           "rgb(150.0, 201.0, 224.0)",
           "rgb(98.0, 152.0, 198.0)",
           "rgb(189.0, 226.0, 238.0)",
           "rgb(254.0, 208.0, 129.0)",
           "rgb(230.0, 79.0, 53.0)",
           "rgb(246.0, 123.0, 74.0)",
           "rgb(254.0, 235.0, 160.0)",
           "rgb(215.0, 239.0, 246.0)",
           "rgb(190.0, 24.0, 39.0)",
           "rgb(194.0, 228.0, 240.0)",
           "rgb(183.0, 223.0, 236.0)",
           "rgb(253.0, 191.0, 113.0)",
           "rgb(233.0, 86.0, 56.0)",
           "rgb(235.0, 247.0, 228.0)",
           "rgb(253.0, 181.0, 103.0)",
           "rgb(185.0, 19.0, 38.0)",
           "rgb(255.0, 247.0, 179.0)",
           "rgb(180.0, 15.0, 38.0)",
           "rgb(170.0, 5.0, 38.0)",
           "rgb(205.0, 39.0, 39.0)",
           "rgb(93.0, 146.0, 195.0)"
          ],
          "line": {
           "color": "Grey",
           "width": 0.5
          }
         },
         "mode": "markers",
         "showlegend": false,
         "type": "scatter",
         "x": [
          "l1",
          "l1",
          "l1",
          "l1",
          "l1",
          "l1",
          "l2",
          "l2",
          "l1",
          "l1",
          "l2",
          "l2",
          "l2",
          "l2",
          "l2",
          "l2",
          "l1",
          "l2",
          "l2",
          "l1",
          "l2",
          "l1",
          "l1",
          "l1",
          "l1",
          "l1",
          "l1",
          "l1",
          "l2",
          "l1",
          "l1",
          "l1",
          "l1",
          "l1",
          "l1",
          "l1",
          "l1",
          "l1",
          "l1",
          "l1",
          "l2",
          "l1",
          "l1",
          "l1",
          "l1",
          "l1",
          "l2",
          "l1",
          "l2",
          "l1",
          "l2",
          "l1",
          "l1",
          "l1",
          "l1",
          "l1",
          "l1",
          "l1",
          "l2",
          "l1",
          "l1",
          "l1",
          "l1",
          "l1",
          "l2",
          "l1",
          "l1",
          "l1",
          "l2",
          "l1",
          "l1",
          "l1",
          "l1",
          "l1",
          "l1",
          "l1",
          "l1",
          "l1",
          "l1",
          "l2",
          "l1",
          "l1",
          "l1",
          "l1",
          "l1",
          "l1",
          "l1",
          "l1",
          "l2",
          "l1",
          "l1",
          "l1",
          "l1",
          "l1",
          "l1",
          "l1",
          "l1",
          "l1",
          "l1",
          "l1"
         ],
         "xaxis": "x8",
         "y": [
          "liblinear",
          "saga",
          "saga",
          "saga",
          "saga",
          "liblinear",
          "saga",
          "liblinear",
          "liblinear",
          "liblinear",
          "liblinear",
          "liblinear",
          "liblinear",
          "liblinear",
          "liblinear",
          "liblinear",
          "liblinear",
          "liblinear",
          "liblinear",
          "liblinear",
          "liblinear",
          "liblinear",
          "liblinear",
          "liblinear",
          "liblinear",
          "liblinear",
          "saga",
          "liblinear",
          "liblinear",
          "saga",
          "liblinear",
          "liblinear",
          "liblinear",
          "liblinear",
          "saga",
          "liblinear",
          "saga",
          "liblinear",
          "saga",
          "liblinear",
          "liblinear",
          "liblinear",
          "liblinear",
          "liblinear",
          "liblinear",
          "liblinear",
          "liblinear",
          "liblinear",
          "liblinear",
          "liblinear",
          "saga",
          "liblinear",
          "liblinear",
          "liblinear",
          "liblinear",
          "liblinear",
          "liblinear",
          "liblinear",
          "liblinear",
          "liblinear",
          "liblinear",
          "liblinear",
          "liblinear",
          "liblinear",
          "liblinear",
          "liblinear",
          "liblinear",
          "liblinear",
          "saga",
          "liblinear",
          "liblinear",
          "liblinear",
          "liblinear",
          "liblinear",
          "liblinear",
          "liblinear",
          "liblinear",
          "liblinear",
          "liblinear",
          "liblinear",
          "saga",
          "liblinear",
          "liblinear",
          "liblinear",
          "liblinear",
          "liblinear",
          "liblinear",
          "liblinear",
          "liblinear",
          "liblinear",
          "liblinear",
          "liblinear",
          "liblinear",
          "liblinear",
          "liblinear",
          "liblinear",
          "liblinear",
          "liblinear",
          "liblinear",
          "saga"
         ],
         "yaxis": "y8"
        },
        {
         "hovertemplate": "%{hovertext}<extra></extra>",
         "hovertext": [
          "Trial #0<br>C: 0.7250022290110179<br>penalty: l1<br>solver: liblinear<br><b>Objective Value: 0.7323578606727177</b>",
          "Trial #1<br>C: 0.035815351248335466<br>penalty: l1<br>solver: saga<br><b>Objective Value: 0.5385105058307186</b>",
          "Trial #2<br>C: 11.32275486983325<br>penalty: l1<br>solver: saga<br><b>Objective Value: 0.5410035612773669</b>",
          "Trial #3<br>C: 72.24083618448716<br>penalty: l1<br>solver: saga<br><b>Objective Value: 0.5411230549417523</b>",
          "Trial #4<br>C: 0.07510697504259764<br>penalty: l1<br>solver: saga<br><b>Objective Value: 0.5368786983188212</b>",
          "Trial #5<br>C: 0.047292140961139414<br>penalty: l1<br>solver: liblinear<br><b>Objective Value: 0.5347495662348838</b>",
          "Trial #6<br>C: 0.52163380366578<br>penalty: l2<br>solver: saga<br><b>Objective Value: 0.5408539014134213</b>",
          "Trial #7<br>C: 40.730806990980376<br>penalty: l2<br>solver: liblinear<br><b>Objective Value: 0.7328041007049804</b>",
          "Trial #8<br>C: 0.00024140535834481369<br>penalty: l1<br>solver: liblinear<br><b>Objective Value: 0.2602022316912306</b>",
          "Trial #9<br>C: 82.99208868399846<br>penalty: l1<br>solver: liblinear<br><b>Objective Value: 0.7302654736694787</b>",
          "Trial #10<br>C: 8237.10836944743<br>penalty: l2<br>solver: liblinear<br><b>Objective Value: 0.7302499039049015</b>",
          "Trial #11<br>C: 2441.297640479491<br>penalty: l2<br>solver: liblinear<br><b>Objective Value: 0.7306305733325322</b>",
          "Trial #12<br>C: 5.666684464792597<br>penalty: l2<br>solver: liblinear<br><b>Objective Value: 0.7301946892395043</b>",
          "Trial #13<br>C: 0.0013331425619851087<br>penalty: l2<br>solver: liblinear<br><b>Objective Value: 0.5270279310240277</b>",
          "Trial #14<br>C: 233.11750912693537<br>penalty: l2<br>solver: liblinear<br><b>Objective Value: 0.7302686749499909</b>",
          "Trial #15<br>C: 1.3677467175900966<br>penalty: l2<br>solver: liblinear<br><b>Objective Value: 0.7238678982385025</b>",
          "Trial #16<br>C: 745.7091153404007<br>penalty: l1<br>solver: liblinear<br><b>Objective Value: 0.7302826675388964</b>",
          "Trial #17<br>C: 12.90837164832142<br>penalty: l2<br>solver: liblinear<br><b>Objective Value: 0.7316601989844224</b>",
          "Trial #18<br>C: 0.005606402339893753<br>penalty: l2<br>solver: liblinear<br><b>Objective Value: 0.5408498604467822</b>",
          "Trial #19<br>C: 0.9396153849901697<br>penalty: l1<br>solver: liblinear<br><b>Objective Value: 0.7328657428764405</b>",
          "Trial #20<br>C: 0.21253371148977987<br>penalty: l2<br>solver: liblinear<br><b>Objective Value: 0.644492286356814</b>",
          "Trial #21<br>C: 1.3649950903308652<br>penalty: l1<br>solver: liblinear<br><b>Objective Value: 0.7310145863671558</b>",
          "Trial #22<br>C: 3.138983423371692<br>penalty: l1<br>solver: liblinear<br><b>Objective Value: 0.732074474659936</b>",
          "Trial #23<br>C: 65.71695455684895<br>penalty: l1<br>solver: liblinear<br><b>Objective Value: 0.7301566301320637</b>",
          "Trial #24<br>C: 0.2871008938288001<br>penalty: l1<br>solver: liblinear<br><b>Objective Value: 0.7217052091626809</b>",
          "Trial #25<br>C: 0.010909119282115722<br>penalty: l1<br>solver: liblinear<br><b>Objective Value: 0.5210511895145091</b>",
          "Trial #26<br>C: 27.737696178390962<br>penalty: l1<br>solver: saga<br><b>Objective Value: 0.5411230549417523</b>",
          "Trial #27<br>C: 3.285538753980668<br>penalty: l1<br>solver: liblinear<br><b>Objective Value: 0.7321772089731967</b>",
          "Trial #28<br>C: 411.629757518808<br>penalty: l2<br>solver: liblinear<br><b>Objective Value: 0.730377518487406</b>",
          "Trial #29<br>C: 0.13725565841733442<br>penalty: l1<br>solver: saga<br><b>Objective Value: 0.5383622557917037</b>",
          "Trial #30<br>C: 0.016981761720861105<br>penalty: l1<br>solver: liblinear<br><b>Objective Value: 0.5246954487548657</b>",
          "Trial #31<br>C: 1.0394594696242523<br>penalty: l1<br>solver: liblinear<br><b>Objective Value: 0.7329757167956016</b>",
          "Trial #32<br>C: 0.8610882561131811<br>penalty: l1<br>solver: liblinear<br><b>Objective Value: 0.7314449217184096</b>",
          "Trial #33<br>C: 34.20020622400459<br>penalty: l1<br>solver: liblinear<br><b>Objective Value: 0.7301566301320637</b>",
          "Trial #34<br>C: 9.316093908186877<br>penalty: l1<br>solver: saga<br><b>Objective Value: 0.5410035612773669</b>",
          "Trial #35<br>C: 0.08885065667132105<br>penalty: l1<br>solver: liblinear<br><b>Objective Value: 0.6056018224326873</b>",
          "Trial #36<br>C: 0.6317491671966011<br>penalty: l1<br>solver: saga<br><b>Objective Value: 0.5404972106497288</b>",
          "Trial #37<br>C: 0.030056777679636208<br>penalty: l1<br>solver: liblinear<br><b>Objective Value: 0.5338818766152164</b>",
          "Trial #38<br>C: 3.1102216261943636<br>penalty: l1<br>solver: saga<br><b>Objective Value: 0.5409185008966255</b>",
          "Trial #39<br>C: 16.868905908765367<br>penalty: l1<br>solver: liblinear<br><b>Objective Value: 0.7305701283862837</b>",
          "Trial #40<br>C: 0.0036271943940342204<br>penalty: l2<br>solver: liblinear<br><b>Objective Value: 0.5367923144870759</b>",
          "Trial #41<br>C: 3.615834954471494<br>penalty: l1<br>solver: liblinear<br><b>Objective Value: 0.7322152607235772</b>",
          "Trial #42<br>C: 1.586243721568958<br>penalty: l1<br>solver: liblinear<br><b>Objective Value: 0.7309159384752153</b>",
          "Trial #43<br>C: 0.5240267164902963<br>penalty: l1<br>solver: liblinear<br><b>Objective Value: 0.7333073614505123</b>",
          "Trial #44<br>C: 0.4174727362047103<br>penalty: l1<br>solver: liblinear<br><b>Objective Value: 0.7323563288449244</b>",
          "Trial #45<br>C: 0.16649280152052393<br>penalty: l1<br>solver: liblinear<br><b>Objective Value: 0.7033525945932253</b>",
          "Trial #46<br>C: 0.07503559380028788<br>penalty: l2<br>solver: liblinear<br><b>Objective Value: 0.5880979462747911</b>",
          "Trial #47<br>C: 179.5522780649261<br>penalty: l1<br>solver: liblinear<br><b>Objective Value: 0.7302826675388964</b>",
          "Trial #48<br>C: 2052.4048348108813<br>penalty: l2<br>solver: liblinear<br><b>Objective Value: 0.7301738240014813</b>",
          "Trial #49<br>C: 0.0005611545780563875<br>penalty: l1<br>solver: liblinear<br><b>Objective Value: 0.3340270778411201</b>",
          "Trial #50<br>C: 0.4386719944107784<br>penalty: l2<br>solver: saga<br><b>Objective Value: 0.5408539014134213</b>",
          "Trial #51<br>C: 0.39362560079387554<br>penalty: l1<br>solver: liblinear<br><b>Objective Value: 0.7312612365024912</b>",
          "Trial #52<br>C: 0.036292524294358634<br>penalty: l1<br>solver: liblinear<br><b>Objective Value: 0.5355652072801366</b>",
          "Trial #53<br>C: 6.2877525756733705<br>penalty: l1<br>solver: liblinear<br><b>Objective Value: 0.7314547196593433</b>",
          "Trial #54<br>C: 1.028885689235069<br>penalty: l1<br>solver: liblinear<br><b>Objective Value: 0.7328698966897815</b>",
          "Trial #55<br>C: 1.7263295767740425<br>penalty: l1<br>solver: liblinear<br><b>Objective Value: 0.7307297948227788</b>",
          "Trial #56<br>C: 0.9282067765043863<br>penalty: l1<br>solver: liblinear<br><b>Objective Value: 0.7326257775106169</b>",
          "Trial #57<br>C: 1.1950428493604175<br>penalty: l1<br>solver: liblinear<br><b>Objective Value: 0.7304316695813019</b>",
          "Trial #58<br>C: 0.19345533812941076<br>penalty: l2<br>solver: liblinear<br><b>Objective Value: 0.6400320787528164</b>",
          "Trial #59<br>C: 6.257231622079981<br>penalty: l1<br>solver: liblinear<br><b>Objective Value: 0.7314547196593433</b>",
          "Trial #60<br>C: 23.59425622969497<br>penalty: l1<br>solver: liblinear<br><b>Objective Value: 0.7304908472023512</b>",
          "Trial #61<br>C: 0.9078731184179532<br>penalty: l1<br>solver: liblinear<br><b>Objective Value: 0.7317028572442756</b>",
          "Trial #62<br>C: 0.09223027384870815<br>penalty: l1<br>solver: liblinear<br><b>Objective Value: 0.6172029810614943</b>",
          "Trial #63<br>C: 2.243380525595093<br>penalty: l1<br>solver: liblinear<br><b>Objective Value: 0.7312402256549855</b>",
          "Trial #64<br>C: 0.6614147157736883<br>penalty: l2<br>solver: liblinear<br><b>Objective Value: 0.7063987700474836</b>",
          "Trial #65<br>C: 10.511585203624456<br>penalty: l1<br>solver: liblinear<br><b>Objective Value: 0.7305377797825064</b>",
          "Trial #66<br>C: 0.3222960114500988<br>penalty: l1<br>solver: liblinear<br><b>Objective Value: 0.7273692911320049</b>",
          "Trial #67<br>C: 106.64585750570033<br>penalty: l1<br>solver: liblinear<br><b>Objective Value: 0.730377518487406</b>",
          "Trial #68<br>C: 40.81973919100819<br>penalty: l2<br>solver: saga<br><b>Objective Value: 0.5411492755565804</b>",
          "Trial #69<br>C: 5.5151663303446705<br>penalty: l1<br>solver: liblinear<br><b>Objective Value: 0.7318097599243909</b>",
          "Trial #70<br>C: 0.055109154180852674<br>penalty: l1<br>solver: liblinear<br><b>Objective Value: 0.5350618144506376</b>",
          "Trial #71<br>C: 0.5913560321617163<br>penalty: l1<br>solver: liblinear<br><b>Objective Value: 0.7345078228688514</b>",
          "Trial #72<br>C: 0.6870575810902618<br>penalty: l1<br>solver: liblinear<br><b>Objective Value: 0.7343825667631865</b>",
          "Trial #73<br>C: 0.9654879980711538<br>penalty: l1<br>solver: liblinear<br><b>Objective Value: 0.732668154106662</b>",
          "Trial #74<br>C: 2.6980526735065675<br>penalty: l1<br>solver: liblinear<br><b>Objective Value: 0.7309217209935828</b>",
          "Trial #75<br>C: 0.00010688373866682841<br>penalty: l1<br>solver: liblinear<br><b>Objective Value: 0.34979615608619674</b>",
          "Trial #76<br>C: 0.1881749566690275<br>penalty: l1<br>solver: liblinear<br><b>Objective Value: 0.7080856946936654</b>",
          "Trial #77<br>C: 0.534384478907503<br>penalty: l1<br>solver: liblinear<br><b>Objective Value: 0.7330201606167593</b>",
          "Trial #78<br>C: 0.27854222057446143<br>penalty: l1<br>solver: liblinear<br><b>Objective Value: 0.719969946615697</b>",
          "Trial #79<br>C: 0.019140378454979397<br>penalty: l2<br>solver: liblinear<br><b>Objective Value: 0.5522167466119824</b>",
          "Trial #80<br>C: 0.4890359261591344<br>penalty: l1<br>solver: saga<br><b>Objective Value: 0.5408043847473392</b>",
          "Trial #81<br>C: 0.1312576656887008<br>penalty: l1<br>solver: liblinear<br><b>Objective Value: 0.6821784900322467</b>",
          "Trial #82<br>C: 1.7284602799896955<br>penalty: l1<br>solver: liblinear<br><b>Objective Value: 0.7307297948227788</b>",
          "Trial #83<br>C: 0.7519007260860345<br>penalty: l1<br>solver: liblinear<br><b>Objective Value: 0.7326188199116842</b>",
          "Trial #84<br>C: 3.921352875158072<br>penalty: l1<br>solver: liblinear<br><b>Objective Value: 0.7320522388408158</b>",
          "Trial #85<br>C: 1.2187839304934711<br>penalty: l1<br>solver: liblinear<br><b>Objective Value: 0.7303860866255023</b>",
          "Trial #86<br>C: 0.265011282931695<br>penalty: l1<br>solver: liblinear<br><b>Objective Value: 0.7188204517595165</b>",
          "Trial #87<br>C: 0.5564528298800255<br>penalty: l1<br>solver: liblinear<br><b>Objective Value: 0.733692893502465</b>",
          "Trial #88<br>C: 0.5561407279858028<br>penalty: l2<br>solver: liblinear<br><b>Objective Value: 0.6974311737175167</b>",
          "Trial #89<br>C: 0.11461536043161542<br>penalty: l1<br>solver: liblinear<br><b>Objective Value: 0.6669500241258137</b>",
          "Trial #90<br>C: 1.8421334323876566<br>penalty: l1<br>solver: liblinear<br><b>Objective Value: 0.7309877377400854</b>",
          "Trial #91<br>C: 0.9180523918899388<br>penalty: l1<br>solver: liblinear<br><b>Objective Value: 0.7323651538596277</b>",
          "Trial #92<br>C: 0.3322755870102717<br>penalty: l1<br>solver: liblinear<br><b>Objective Value: 0.7280767879773797</b>",
          "Trial #93<br>C: 1.317919789739125<br>penalty: l1<br>solver: liblinear<br><b>Objective Value: 0.7310832530257384</b>",
          "Trial #94<br>C: 0.6322388439261584<br>penalty: l1<br>solver: liblinear<br><b>Objective Value: 0.7339186546146714</b>",
          "Trial #95<br>C: 681.538684948852<br>penalty: l1<br>solver: liblinear<br><b>Objective Value: 0.7302826675388964</b>",
          "Trial #96<br>C: 0.5785668859409907<br>penalty: l1<br>solver: liblinear<br><b>Objective Value: 0.7340986882870569</b>",
          "Trial #97<br>C: 0.609937183632503<br>penalty: l1<br>solver: liblinear<br><b>Objective Value: 0.734448497780222</b>",
          "Trial #98<br>C: 0.5346027987676117<br>penalty: l1<br>solver: liblinear<br><b>Objective Value: 0.7329906663015509</b>",
          "Trial #99<br>C: 0.479536044012646<br>penalty: l1<br>solver: saga<br><b>Objective Value: 0.5407724671154217</b>"
         ],
         "marker": {
          "color": [
           "rgb(236.0, 92.0, 59.0)",
           "rgb(84.0, 135.0, 189.0)",
           "rgb(125.0, 181.0, 213.0)",
           "rgb(137.0, 189.0, 218.0)",
           "rgb(74.0, 123.0, 183.0)",
           "rgb(63.0, 99.0, 171.0)",
           "rgb(110.0, 166.0, 205.0)",
           "rgb(221.0, 61.0, 45.0)",
           "rgb(49.0, 54.0, 149.0)",
           "rgb(253.0, 254.0, 194.0)",
           "rgb(250.0, 253.0, 200.0)",
           "rgb(254.0, 216.0, 136.0)",
           "rgb(247.0, 252.0, 205.0)",
           "rgb(59.0, 86.0, 165.0)",
           "rgb(255.0, 253.0, 189.0)",
           "rgb(228.0, 245.0, 240.0)",
           "rgb(255.0, 247.0, 179.0)",
           "rgb(249.0, 143.0, 83.0)",
           "rgb(103.0, 157.0, 201.0)",
           "rgb(218.0, 55.0, 42.0)",
           "rgb(178.0, 220.0, 235.0)",
           "rgb(253.0, 186.0, 108.0)",
           "rgb(245.0, 117.0, 71.0)",
           "rgb(239.0, 249.0, 220.0)",
           "rgb(225.0, 243.0, 246.0)",
           "rgb(55.0, 73.0, 158.0)",
           "rgb(137.0, 189.0, 218.0)",
           "rgb(244.0, 110.0, 68.0)",
           "rgb(254.0, 239.0, 167.0)",
           "rgb(79.0, 129.0, 186.0)",
           "rgb(57.0, 79.0, 162.0)",
           "rgb(210.0, 44.0, 39.0)",
           "rgb(251.0, 163.0, 92.0)",
           "rgb(239.0, 249.0, 220.0)",
           "rgb(125.0, 181.0, 213.0)",
           "rgb(162.0, 209.0, 229.0)",
           "rgb(88.0, 140.0, 192.0)",
           "rgb(61.0, 92.0, 168.0)",
           "rgb(117.0, 174.0, 209.0)",
           "rgb(254.0, 221.0, 141.0)",
           "rgb(69.0, 118.0, 180.0)",
           "rgb(242.0, 104.0, 65.0)",
           "rgb(254.0, 201.0, 122.0)",
           "rgb(195.0, 29.0, 39.0)",
           "rgb(239.0, 98.0, 62.0)",
           "rgb(199.0, 231.0, 241.0)",
           "rgb(156.0, 205.0, 226.0)",
           "rgb(255.0, 247.0, 179.0)",
           "rgb(244.0, 251.0, 211.0)",
           "rgb(51.0, 60.0, 152.0)",
           "rgb(110.0, 166.0, 205.0)",
           "rgb(252.0, 169.0, 95.0)",
           "rgb(67.0, 111.0, 177.0)",
           "rgb(250.0, 153.0, 87.0)",
           "rgb(215.0, 49.0, 39.0)",
           "rgb(254.0, 208.0, 129.0)",
           "rgb(227.0, 73.0, 51.0)",
           "rgb(254.0, 232.0, 155.0)",
           "rgb(173.0, 218.0, 233.0)",
           "rgb(250.0, 153.0, 87.0)",
           "rgb(254.0, 228.0, 151.0)",
           "rgb(248.0, 137.0, 80.0)",
           "rgb(167.0, 214.0, 231.0)",
           "rgb(253.0, 176.0, 98.0)",
           "rgb(205.0, 234.0, 243.0)",
           "rgb(254.0, 225.0, 146.0)",
           "rgb(232.0, 246.0, 234.0)",
           "rgb(254.0, 239.0, 167.0)",
           "rgb(145.0, 196.0, 222.0)",
           "rgb(247.0, 130.0, 77.0)",
           "rgb(65.0, 105.0, 174.0)",
           "rgb(165.0, 0.0, 38.0)",
           "rgb(175.0, 10.0, 38.0)",
           "rgb(224.0, 67.0, 48.0)",
           "rgb(253.0, 196.0, 117.0)",
           "rgb(53.0, 67.0, 155.0)",
           "rgb(210.0, 236.0, 244.0)",
           "rgb(200.0, 34.0, 39.0)",
           "rgb(221.0, 241.0, 247.0)",
           "rgb(150.0, 201.0, 224.0)",
           "rgb(98.0, 152.0, 198.0)",
           "rgb(189.0, 226.0, 238.0)",
           "rgb(254.0, 208.0, 129.0)",
           "rgb(230.0, 79.0, 53.0)",
           "rgb(246.0, 123.0, 74.0)",
           "rgb(254.0, 235.0, 160.0)",
           "rgb(215.0, 239.0, 246.0)",
           "rgb(190.0, 24.0, 39.0)",
           "rgb(194.0, 228.0, 240.0)",
           "rgb(183.0, 223.0, 236.0)",
           "rgb(253.0, 191.0, 113.0)",
           "rgb(233.0, 86.0, 56.0)",
           "rgb(235.0, 247.0, 228.0)",
           "rgb(253.0, 181.0, 103.0)",
           "rgb(185.0, 19.0, 38.0)",
           "rgb(255.0, 247.0, 179.0)",
           "rgb(180.0, 15.0, 38.0)",
           "rgb(170.0, 5.0, 38.0)",
           "rgb(205.0, 39.0, 39.0)",
           "rgb(93.0, 146.0, 195.0)"
          ],
          "line": {
           "color": "Grey",
           "width": 0.5
          }
         },
         "mode": "markers",
         "showlegend": false,
         "type": "scatter",
         "x": [
          "liblinear",
          "saga",
          "saga",
          "saga",
          "saga",
          "liblinear",
          "saga",
          "liblinear",
          "liblinear",
          "liblinear",
          "liblinear",
          "liblinear",
          "liblinear",
          "liblinear",
          "liblinear",
          "liblinear",
          "liblinear",
          "liblinear",
          "liblinear",
          "liblinear",
          "liblinear",
          "liblinear",
          "liblinear",
          "liblinear",
          "liblinear",
          "liblinear",
          "saga",
          "liblinear",
          "liblinear",
          "saga",
          "liblinear",
          "liblinear",
          "liblinear",
          "liblinear",
          "saga",
          "liblinear",
          "saga",
          "liblinear",
          "saga",
          "liblinear",
          "liblinear",
          "liblinear",
          "liblinear",
          "liblinear",
          "liblinear",
          "liblinear",
          "liblinear",
          "liblinear",
          "liblinear",
          "liblinear",
          "saga",
          "liblinear",
          "liblinear",
          "liblinear",
          "liblinear",
          "liblinear",
          "liblinear",
          "liblinear",
          "liblinear",
          "liblinear",
          "liblinear",
          "liblinear",
          "liblinear",
          "liblinear",
          "liblinear",
          "liblinear",
          "liblinear",
          "liblinear",
          "saga",
          "liblinear",
          "liblinear",
          "liblinear",
          "liblinear",
          "liblinear",
          "liblinear",
          "liblinear",
          "liblinear",
          "liblinear",
          "liblinear",
          "liblinear",
          "saga",
          "liblinear",
          "liblinear",
          "liblinear",
          "liblinear",
          "liblinear",
          "liblinear",
          "liblinear",
          "liblinear",
          "liblinear",
          "liblinear",
          "liblinear",
          "liblinear",
          "liblinear",
          "liblinear",
          "liblinear",
          "liblinear",
          "liblinear",
          "liblinear",
          "saga"
         ],
         "xaxis": "x3",
         "y": [
          0.7250022290110179,
          0.035815351248335466,
          11.32275486983325,
          72.24083618448716,
          0.07510697504259764,
          0.047292140961139414,
          0.52163380366578,
          40.730806990980376,
          0.00024140535834481369,
          82.99208868399846,
          8237.10836944743,
          2441.297640479491,
          5.666684464792597,
          0.0013331425619851087,
          233.11750912693537,
          1.3677467175900966,
          745.7091153404007,
          12.90837164832142,
          0.005606402339893753,
          0.9396153849901697,
          0.21253371148977987,
          1.3649950903308652,
          3.138983423371692,
          65.71695455684895,
          0.2871008938288001,
          0.010909119282115722,
          27.737696178390962,
          3.285538753980668,
          411.629757518808,
          0.13725565841733442,
          0.016981761720861105,
          1.0394594696242523,
          0.8610882561131811,
          34.20020622400459,
          9.316093908186877,
          0.08885065667132105,
          0.6317491671966011,
          0.030056777679636208,
          3.1102216261943636,
          16.868905908765367,
          0.0036271943940342204,
          3.615834954471494,
          1.586243721568958,
          0.5240267164902963,
          0.4174727362047103,
          0.16649280152052393,
          0.07503559380028788,
          179.5522780649261,
          2052.4048348108813,
          0.0005611545780563875,
          0.4386719944107784,
          0.39362560079387554,
          0.036292524294358634,
          6.2877525756733705,
          1.028885689235069,
          1.7263295767740425,
          0.9282067765043863,
          1.1950428493604175,
          0.19345533812941076,
          6.257231622079981,
          23.59425622969497,
          0.9078731184179532,
          0.09223027384870815,
          2.243380525595093,
          0.6614147157736883,
          10.511585203624456,
          0.3222960114500988,
          106.64585750570033,
          40.81973919100819,
          5.5151663303446705,
          0.055109154180852674,
          0.5913560321617163,
          0.6870575810902618,
          0.9654879980711538,
          2.6980526735065675,
          0.00010688373866682841,
          0.1881749566690275,
          0.534384478907503,
          0.27854222057446143,
          0.019140378454979397,
          0.4890359261591344,
          0.1312576656887008,
          1.7284602799896955,
          0.7519007260860345,
          3.921352875158072,
          1.2187839304934711,
          0.265011282931695,
          0.5564528298800255,
          0.5561407279858028,
          0.11461536043161542,
          1.8421334323876566,
          0.9180523918899388,
          0.3322755870102717,
          1.317919789739125,
          0.6322388439261584,
          681.538684948852,
          0.5785668859409907,
          0.609937183632503,
          0.5346027987676117,
          0.479536044012646
         ],
         "yaxis": "y3"
        },
        {
         "hovertemplate": "%{hovertext}<extra></extra>",
         "hovertext": [
          "Trial #0<br>C: 0.7250022290110179<br>penalty: l1<br>solver: liblinear<br><b>Objective Value: 0.7323578606727177</b>",
          "Trial #1<br>C: 0.035815351248335466<br>penalty: l1<br>solver: saga<br><b>Objective Value: 0.5385105058307186</b>",
          "Trial #2<br>C: 11.32275486983325<br>penalty: l1<br>solver: saga<br><b>Objective Value: 0.5410035612773669</b>",
          "Trial #3<br>C: 72.24083618448716<br>penalty: l1<br>solver: saga<br><b>Objective Value: 0.5411230549417523</b>",
          "Trial #4<br>C: 0.07510697504259764<br>penalty: l1<br>solver: saga<br><b>Objective Value: 0.5368786983188212</b>",
          "Trial #5<br>C: 0.047292140961139414<br>penalty: l1<br>solver: liblinear<br><b>Objective Value: 0.5347495662348838</b>",
          "Trial #6<br>C: 0.52163380366578<br>penalty: l2<br>solver: saga<br><b>Objective Value: 0.5408539014134213</b>",
          "Trial #7<br>C: 40.730806990980376<br>penalty: l2<br>solver: liblinear<br><b>Objective Value: 0.7328041007049804</b>",
          "Trial #8<br>C: 0.00024140535834481369<br>penalty: l1<br>solver: liblinear<br><b>Objective Value: 0.2602022316912306</b>",
          "Trial #9<br>C: 82.99208868399846<br>penalty: l1<br>solver: liblinear<br><b>Objective Value: 0.7302654736694787</b>",
          "Trial #10<br>C: 8237.10836944743<br>penalty: l2<br>solver: liblinear<br><b>Objective Value: 0.7302499039049015</b>",
          "Trial #11<br>C: 2441.297640479491<br>penalty: l2<br>solver: liblinear<br><b>Objective Value: 0.7306305733325322</b>",
          "Trial #12<br>C: 5.666684464792597<br>penalty: l2<br>solver: liblinear<br><b>Objective Value: 0.7301946892395043</b>",
          "Trial #13<br>C: 0.0013331425619851087<br>penalty: l2<br>solver: liblinear<br><b>Objective Value: 0.5270279310240277</b>",
          "Trial #14<br>C: 233.11750912693537<br>penalty: l2<br>solver: liblinear<br><b>Objective Value: 0.7302686749499909</b>",
          "Trial #15<br>C: 1.3677467175900966<br>penalty: l2<br>solver: liblinear<br><b>Objective Value: 0.7238678982385025</b>",
          "Trial #16<br>C: 745.7091153404007<br>penalty: l1<br>solver: liblinear<br><b>Objective Value: 0.7302826675388964</b>",
          "Trial #17<br>C: 12.90837164832142<br>penalty: l2<br>solver: liblinear<br><b>Objective Value: 0.7316601989844224</b>",
          "Trial #18<br>C: 0.005606402339893753<br>penalty: l2<br>solver: liblinear<br><b>Objective Value: 0.5408498604467822</b>",
          "Trial #19<br>C: 0.9396153849901697<br>penalty: l1<br>solver: liblinear<br><b>Objective Value: 0.7328657428764405</b>",
          "Trial #20<br>C: 0.21253371148977987<br>penalty: l2<br>solver: liblinear<br><b>Objective Value: 0.644492286356814</b>",
          "Trial #21<br>C: 1.3649950903308652<br>penalty: l1<br>solver: liblinear<br><b>Objective Value: 0.7310145863671558</b>",
          "Trial #22<br>C: 3.138983423371692<br>penalty: l1<br>solver: liblinear<br><b>Objective Value: 0.732074474659936</b>",
          "Trial #23<br>C: 65.71695455684895<br>penalty: l1<br>solver: liblinear<br><b>Objective Value: 0.7301566301320637</b>",
          "Trial #24<br>C: 0.2871008938288001<br>penalty: l1<br>solver: liblinear<br><b>Objective Value: 0.7217052091626809</b>",
          "Trial #25<br>C: 0.010909119282115722<br>penalty: l1<br>solver: liblinear<br><b>Objective Value: 0.5210511895145091</b>",
          "Trial #26<br>C: 27.737696178390962<br>penalty: l1<br>solver: saga<br><b>Objective Value: 0.5411230549417523</b>",
          "Trial #27<br>C: 3.285538753980668<br>penalty: l1<br>solver: liblinear<br><b>Objective Value: 0.7321772089731967</b>",
          "Trial #28<br>C: 411.629757518808<br>penalty: l2<br>solver: liblinear<br><b>Objective Value: 0.730377518487406</b>",
          "Trial #29<br>C: 0.13725565841733442<br>penalty: l1<br>solver: saga<br><b>Objective Value: 0.5383622557917037</b>",
          "Trial #30<br>C: 0.016981761720861105<br>penalty: l1<br>solver: liblinear<br><b>Objective Value: 0.5246954487548657</b>",
          "Trial #31<br>C: 1.0394594696242523<br>penalty: l1<br>solver: liblinear<br><b>Objective Value: 0.7329757167956016</b>",
          "Trial #32<br>C: 0.8610882561131811<br>penalty: l1<br>solver: liblinear<br><b>Objective Value: 0.7314449217184096</b>",
          "Trial #33<br>C: 34.20020622400459<br>penalty: l1<br>solver: liblinear<br><b>Objective Value: 0.7301566301320637</b>",
          "Trial #34<br>C: 9.316093908186877<br>penalty: l1<br>solver: saga<br><b>Objective Value: 0.5410035612773669</b>",
          "Trial #35<br>C: 0.08885065667132105<br>penalty: l1<br>solver: liblinear<br><b>Objective Value: 0.6056018224326873</b>",
          "Trial #36<br>C: 0.6317491671966011<br>penalty: l1<br>solver: saga<br><b>Objective Value: 0.5404972106497288</b>",
          "Trial #37<br>C: 0.030056777679636208<br>penalty: l1<br>solver: liblinear<br><b>Objective Value: 0.5338818766152164</b>",
          "Trial #38<br>C: 3.1102216261943636<br>penalty: l1<br>solver: saga<br><b>Objective Value: 0.5409185008966255</b>",
          "Trial #39<br>C: 16.868905908765367<br>penalty: l1<br>solver: liblinear<br><b>Objective Value: 0.7305701283862837</b>",
          "Trial #40<br>C: 0.0036271943940342204<br>penalty: l2<br>solver: liblinear<br><b>Objective Value: 0.5367923144870759</b>",
          "Trial #41<br>C: 3.615834954471494<br>penalty: l1<br>solver: liblinear<br><b>Objective Value: 0.7322152607235772</b>",
          "Trial #42<br>C: 1.586243721568958<br>penalty: l1<br>solver: liblinear<br><b>Objective Value: 0.7309159384752153</b>",
          "Trial #43<br>C: 0.5240267164902963<br>penalty: l1<br>solver: liblinear<br><b>Objective Value: 0.7333073614505123</b>",
          "Trial #44<br>C: 0.4174727362047103<br>penalty: l1<br>solver: liblinear<br><b>Objective Value: 0.7323563288449244</b>",
          "Trial #45<br>C: 0.16649280152052393<br>penalty: l1<br>solver: liblinear<br><b>Objective Value: 0.7033525945932253</b>",
          "Trial #46<br>C: 0.07503559380028788<br>penalty: l2<br>solver: liblinear<br><b>Objective Value: 0.5880979462747911</b>",
          "Trial #47<br>C: 179.5522780649261<br>penalty: l1<br>solver: liblinear<br><b>Objective Value: 0.7302826675388964</b>",
          "Trial #48<br>C: 2052.4048348108813<br>penalty: l2<br>solver: liblinear<br><b>Objective Value: 0.7301738240014813</b>",
          "Trial #49<br>C: 0.0005611545780563875<br>penalty: l1<br>solver: liblinear<br><b>Objective Value: 0.3340270778411201</b>",
          "Trial #50<br>C: 0.4386719944107784<br>penalty: l2<br>solver: saga<br><b>Objective Value: 0.5408539014134213</b>",
          "Trial #51<br>C: 0.39362560079387554<br>penalty: l1<br>solver: liblinear<br><b>Objective Value: 0.7312612365024912</b>",
          "Trial #52<br>C: 0.036292524294358634<br>penalty: l1<br>solver: liblinear<br><b>Objective Value: 0.5355652072801366</b>",
          "Trial #53<br>C: 6.2877525756733705<br>penalty: l1<br>solver: liblinear<br><b>Objective Value: 0.7314547196593433</b>",
          "Trial #54<br>C: 1.028885689235069<br>penalty: l1<br>solver: liblinear<br><b>Objective Value: 0.7328698966897815</b>",
          "Trial #55<br>C: 1.7263295767740425<br>penalty: l1<br>solver: liblinear<br><b>Objective Value: 0.7307297948227788</b>",
          "Trial #56<br>C: 0.9282067765043863<br>penalty: l1<br>solver: liblinear<br><b>Objective Value: 0.7326257775106169</b>",
          "Trial #57<br>C: 1.1950428493604175<br>penalty: l1<br>solver: liblinear<br><b>Objective Value: 0.7304316695813019</b>",
          "Trial #58<br>C: 0.19345533812941076<br>penalty: l2<br>solver: liblinear<br><b>Objective Value: 0.6400320787528164</b>",
          "Trial #59<br>C: 6.257231622079981<br>penalty: l1<br>solver: liblinear<br><b>Objective Value: 0.7314547196593433</b>",
          "Trial #60<br>C: 23.59425622969497<br>penalty: l1<br>solver: liblinear<br><b>Objective Value: 0.7304908472023512</b>",
          "Trial #61<br>C: 0.9078731184179532<br>penalty: l1<br>solver: liblinear<br><b>Objective Value: 0.7317028572442756</b>",
          "Trial #62<br>C: 0.09223027384870815<br>penalty: l1<br>solver: liblinear<br><b>Objective Value: 0.6172029810614943</b>",
          "Trial #63<br>C: 2.243380525595093<br>penalty: l1<br>solver: liblinear<br><b>Objective Value: 0.7312402256549855</b>",
          "Trial #64<br>C: 0.6614147157736883<br>penalty: l2<br>solver: liblinear<br><b>Objective Value: 0.7063987700474836</b>",
          "Trial #65<br>C: 10.511585203624456<br>penalty: l1<br>solver: liblinear<br><b>Objective Value: 0.7305377797825064</b>",
          "Trial #66<br>C: 0.3222960114500988<br>penalty: l1<br>solver: liblinear<br><b>Objective Value: 0.7273692911320049</b>",
          "Trial #67<br>C: 106.64585750570033<br>penalty: l1<br>solver: liblinear<br><b>Objective Value: 0.730377518487406</b>",
          "Trial #68<br>C: 40.81973919100819<br>penalty: l2<br>solver: saga<br><b>Objective Value: 0.5411492755565804</b>",
          "Trial #69<br>C: 5.5151663303446705<br>penalty: l1<br>solver: liblinear<br><b>Objective Value: 0.7318097599243909</b>",
          "Trial #70<br>C: 0.055109154180852674<br>penalty: l1<br>solver: liblinear<br><b>Objective Value: 0.5350618144506376</b>",
          "Trial #71<br>C: 0.5913560321617163<br>penalty: l1<br>solver: liblinear<br><b>Objective Value: 0.7345078228688514</b>",
          "Trial #72<br>C: 0.6870575810902618<br>penalty: l1<br>solver: liblinear<br><b>Objective Value: 0.7343825667631865</b>",
          "Trial #73<br>C: 0.9654879980711538<br>penalty: l1<br>solver: liblinear<br><b>Objective Value: 0.732668154106662</b>",
          "Trial #74<br>C: 2.6980526735065675<br>penalty: l1<br>solver: liblinear<br><b>Objective Value: 0.7309217209935828</b>",
          "Trial #75<br>C: 0.00010688373866682841<br>penalty: l1<br>solver: liblinear<br><b>Objective Value: 0.34979615608619674</b>",
          "Trial #76<br>C: 0.1881749566690275<br>penalty: l1<br>solver: liblinear<br><b>Objective Value: 0.7080856946936654</b>",
          "Trial #77<br>C: 0.534384478907503<br>penalty: l1<br>solver: liblinear<br><b>Objective Value: 0.7330201606167593</b>",
          "Trial #78<br>C: 0.27854222057446143<br>penalty: l1<br>solver: liblinear<br><b>Objective Value: 0.719969946615697</b>",
          "Trial #79<br>C: 0.019140378454979397<br>penalty: l2<br>solver: liblinear<br><b>Objective Value: 0.5522167466119824</b>",
          "Trial #80<br>C: 0.4890359261591344<br>penalty: l1<br>solver: saga<br><b>Objective Value: 0.5408043847473392</b>",
          "Trial #81<br>C: 0.1312576656887008<br>penalty: l1<br>solver: liblinear<br><b>Objective Value: 0.6821784900322467</b>",
          "Trial #82<br>C: 1.7284602799896955<br>penalty: l1<br>solver: liblinear<br><b>Objective Value: 0.7307297948227788</b>",
          "Trial #83<br>C: 0.7519007260860345<br>penalty: l1<br>solver: liblinear<br><b>Objective Value: 0.7326188199116842</b>",
          "Trial #84<br>C: 3.921352875158072<br>penalty: l1<br>solver: liblinear<br><b>Objective Value: 0.7320522388408158</b>",
          "Trial #85<br>C: 1.2187839304934711<br>penalty: l1<br>solver: liblinear<br><b>Objective Value: 0.7303860866255023</b>",
          "Trial #86<br>C: 0.265011282931695<br>penalty: l1<br>solver: liblinear<br><b>Objective Value: 0.7188204517595165</b>",
          "Trial #87<br>C: 0.5564528298800255<br>penalty: l1<br>solver: liblinear<br><b>Objective Value: 0.733692893502465</b>",
          "Trial #88<br>C: 0.5561407279858028<br>penalty: l2<br>solver: liblinear<br><b>Objective Value: 0.6974311737175167</b>",
          "Trial #89<br>C: 0.11461536043161542<br>penalty: l1<br>solver: liblinear<br><b>Objective Value: 0.6669500241258137</b>",
          "Trial #90<br>C: 1.8421334323876566<br>penalty: l1<br>solver: liblinear<br><b>Objective Value: 0.7309877377400854</b>",
          "Trial #91<br>C: 0.9180523918899388<br>penalty: l1<br>solver: liblinear<br><b>Objective Value: 0.7323651538596277</b>",
          "Trial #92<br>C: 0.3322755870102717<br>penalty: l1<br>solver: liblinear<br><b>Objective Value: 0.7280767879773797</b>",
          "Trial #93<br>C: 1.317919789739125<br>penalty: l1<br>solver: liblinear<br><b>Objective Value: 0.7310832530257384</b>",
          "Trial #94<br>C: 0.6322388439261584<br>penalty: l1<br>solver: liblinear<br><b>Objective Value: 0.7339186546146714</b>",
          "Trial #95<br>C: 681.538684948852<br>penalty: l1<br>solver: liblinear<br><b>Objective Value: 0.7302826675388964</b>",
          "Trial #96<br>C: 0.5785668859409907<br>penalty: l1<br>solver: liblinear<br><b>Objective Value: 0.7340986882870569</b>",
          "Trial #97<br>C: 0.609937183632503<br>penalty: l1<br>solver: liblinear<br><b>Objective Value: 0.734448497780222</b>",
          "Trial #98<br>C: 0.5346027987676117<br>penalty: l1<br>solver: liblinear<br><b>Objective Value: 0.7329906663015509</b>",
          "Trial #99<br>C: 0.479536044012646<br>penalty: l1<br>solver: saga<br><b>Objective Value: 0.5407724671154217</b>"
         ],
         "marker": {
          "color": [
           "rgb(236.0, 92.0, 59.0)",
           "rgb(84.0, 135.0, 189.0)",
           "rgb(125.0, 181.0, 213.0)",
           "rgb(137.0, 189.0, 218.0)",
           "rgb(74.0, 123.0, 183.0)",
           "rgb(63.0, 99.0, 171.0)",
           "rgb(110.0, 166.0, 205.0)",
           "rgb(221.0, 61.0, 45.0)",
           "rgb(49.0, 54.0, 149.0)",
           "rgb(253.0, 254.0, 194.0)",
           "rgb(250.0, 253.0, 200.0)",
           "rgb(254.0, 216.0, 136.0)",
           "rgb(247.0, 252.0, 205.0)",
           "rgb(59.0, 86.0, 165.0)",
           "rgb(255.0, 253.0, 189.0)",
           "rgb(228.0, 245.0, 240.0)",
           "rgb(255.0, 247.0, 179.0)",
           "rgb(249.0, 143.0, 83.0)",
           "rgb(103.0, 157.0, 201.0)",
           "rgb(218.0, 55.0, 42.0)",
           "rgb(178.0, 220.0, 235.0)",
           "rgb(253.0, 186.0, 108.0)",
           "rgb(245.0, 117.0, 71.0)",
           "rgb(239.0, 249.0, 220.0)",
           "rgb(225.0, 243.0, 246.0)",
           "rgb(55.0, 73.0, 158.0)",
           "rgb(137.0, 189.0, 218.0)",
           "rgb(244.0, 110.0, 68.0)",
           "rgb(254.0, 239.0, 167.0)",
           "rgb(79.0, 129.0, 186.0)",
           "rgb(57.0, 79.0, 162.0)",
           "rgb(210.0, 44.0, 39.0)",
           "rgb(251.0, 163.0, 92.0)",
           "rgb(239.0, 249.0, 220.0)",
           "rgb(125.0, 181.0, 213.0)",
           "rgb(162.0, 209.0, 229.0)",
           "rgb(88.0, 140.0, 192.0)",
           "rgb(61.0, 92.0, 168.0)",
           "rgb(117.0, 174.0, 209.0)",
           "rgb(254.0, 221.0, 141.0)",
           "rgb(69.0, 118.0, 180.0)",
           "rgb(242.0, 104.0, 65.0)",
           "rgb(254.0, 201.0, 122.0)",
           "rgb(195.0, 29.0, 39.0)",
           "rgb(239.0, 98.0, 62.0)",
           "rgb(199.0, 231.0, 241.0)",
           "rgb(156.0, 205.0, 226.0)",
           "rgb(255.0, 247.0, 179.0)",
           "rgb(244.0, 251.0, 211.0)",
           "rgb(51.0, 60.0, 152.0)",
           "rgb(110.0, 166.0, 205.0)",
           "rgb(252.0, 169.0, 95.0)",
           "rgb(67.0, 111.0, 177.0)",
           "rgb(250.0, 153.0, 87.0)",
           "rgb(215.0, 49.0, 39.0)",
           "rgb(254.0, 208.0, 129.0)",
           "rgb(227.0, 73.0, 51.0)",
           "rgb(254.0, 232.0, 155.0)",
           "rgb(173.0, 218.0, 233.0)",
           "rgb(250.0, 153.0, 87.0)",
           "rgb(254.0, 228.0, 151.0)",
           "rgb(248.0, 137.0, 80.0)",
           "rgb(167.0, 214.0, 231.0)",
           "rgb(253.0, 176.0, 98.0)",
           "rgb(205.0, 234.0, 243.0)",
           "rgb(254.0, 225.0, 146.0)",
           "rgb(232.0, 246.0, 234.0)",
           "rgb(254.0, 239.0, 167.0)",
           "rgb(145.0, 196.0, 222.0)",
           "rgb(247.0, 130.0, 77.0)",
           "rgb(65.0, 105.0, 174.0)",
           "rgb(165.0, 0.0, 38.0)",
           "rgb(175.0, 10.0, 38.0)",
           "rgb(224.0, 67.0, 48.0)",
           "rgb(253.0, 196.0, 117.0)",
           "rgb(53.0, 67.0, 155.0)",
           "rgb(210.0, 236.0, 244.0)",
           "rgb(200.0, 34.0, 39.0)",
           "rgb(221.0, 241.0, 247.0)",
           "rgb(150.0, 201.0, 224.0)",
           "rgb(98.0, 152.0, 198.0)",
           "rgb(189.0, 226.0, 238.0)",
           "rgb(254.0, 208.0, 129.0)",
           "rgb(230.0, 79.0, 53.0)",
           "rgb(246.0, 123.0, 74.0)",
           "rgb(254.0, 235.0, 160.0)",
           "rgb(215.0, 239.0, 246.0)",
           "rgb(190.0, 24.0, 39.0)",
           "rgb(194.0, 228.0, 240.0)",
           "rgb(183.0, 223.0, 236.0)",
           "rgb(253.0, 191.0, 113.0)",
           "rgb(233.0, 86.0, 56.0)",
           "rgb(235.0, 247.0, 228.0)",
           "rgb(253.0, 181.0, 103.0)",
           "rgb(185.0, 19.0, 38.0)",
           "rgb(255.0, 247.0, 179.0)",
           "rgb(180.0, 15.0, 38.0)",
           "rgb(170.0, 5.0, 38.0)",
           "rgb(205.0, 39.0, 39.0)",
           "rgb(93.0, 146.0, 195.0)"
          ],
          "line": {
           "color": "Grey",
           "width": 0.5
          }
         },
         "mode": "markers",
         "showlegend": false,
         "type": "scatter",
         "x": [
          "liblinear",
          "saga",
          "saga",
          "saga",
          "saga",
          "liblinear",
          "saga",
          "liblinear",
          "liblinear",
          "liblinear",
          "liblinear",
          "liblinear",
          "liblinear",
          "liblinear",
          "liblinear",
          "liblinear",
          "liblinear",
          "liblinear",
          "liblinear",
          "liblinear",
          "liblinear",
          "liblinear",
          "liblinear",
          "liblinear",
          "liblinear",
          "liblinear",
          "saga",
          "liblinear",
          "liblinear",
          "saga",
          "liblinear",
          "liblinear",
          "liblinear",
          "liblinear",
          "saga",
          "liblinear",
          "saga",
          "liblinear",
          "saga",
          "liblinear",
          "liblinear",
          "liblinear",
          "liblinear",
          "liblinear",
          "liblinear",
          "liblinear",
          "liblinear",
          "liblinear",
          "liblinear",
          "liblinear",
          "saga",
          "liblinear",
          "liblinear",
          "liblinear",
          "liblinear",
          "liblinear",
          "liblinear",
          "liblinear",
          "liblinear",
          "liblinear",
          "liblinear",
          "liblinear",
          "liblinear",
          "liblinear",
          "liblinear",
          "liblinear",
          "liblinear",
          "liblinear",
          "saga",
          "liblinear",
          "liblinear",
          "liblinear",
          "liblinear",
          "liblinear",
          "liblinear",
          "liblinear",
          "liblinear",
          "liblinear",
          "liblinear",
          "liblinear",
          "saga",
          "liblinear",
          "liblinear",
          "liblinear",
          "liblinear",
          "liblinear",
          "liblinear",
          "liblinear",
          "liblinear",
          "liblinear",
          "liblinear",
          "liblinear",
          "liblinear",
          "liblinear",
          "liblinear",
          "liblinear",
          "liblinear",
          "liblinear",
          "liblinear",
          "saga"
         ],
         "xaxis": "x6",
         "y": [
          "l1",
          "l1",
          "l1",
          "l1",
          "l1",
          "l1",
          "l2",
          "l2",
          "l1",
          "l1",
          "l2",
          "l2",
          "l2",
          "l2",
          "l2",
          "l2",
          "l1",
          "l2",
          "l2",
          "l1",
          "l2",
          "l1",
          "l1",
          "l1",
          "l1",
          "l1",
          "l1",
          "l1",
          "l2",
          "l1",
          "l1",
          "l1",
          "l1",
          "l1",
          "l1",
          "l1",
          "l1",
          "l1",
          "l1",
          "l1",
          "l2",
          "l1",
          "l1",
          "l1",
          "l1",
          "l1",
          "l2",
          "l1",
          "l2",
          "l1",
          "l2",
          "l1",
          "l1",
          "l1",
          "l1",
          "l1",
          "l1",
          "l1",
          "l2",
          "l1",
          "l1",
          "l1",
          "l1",
          "l1",
          "l2",
          "l1",
          "l1",
          "l1",
          "l2",
          "l1",
          "l1",
          "l1",
          "l1",
          "l1",
          "l1",
          "l1",
          "l1",
          "l1",
          "l1",
          "l2",
          "l1",
          "l1",
          "l1",
          "l1",
          "l1",
          "l1",
          "l1",
          "l1",
          "l2",
          "l1",
          "l1",
          "l1",
          "l1",
          "l1",
          "l1",
          "l1",
          "l1",
          "l1",
          "l1",
          "l1"
         ],
         "yaxis": "y6"
        },
        {
         "hovertemplate": "%{hovertext}<extra></extra>",
         "hovertext": [
          "Trial #0<br>C: 0.7250022290110179<br>penalty: l1<br>solver: liblinear<br><b>Objective Value: 0.7323578606727177</b>",
          "Trial #1<br>C: 0.035815351248335466<br>penalty: l1<br>solver: saga<br><b>Objective Value: 0.5385105058307186</b>",
          "Trial #2<br>C: 11.32275486983325<br>penalty: l1<br>solver: saga<br><b>Objective Value: 0.5410035612773669</b>",
          "Trial #3<br>C: 72.24083618448716<br>penalty: l1<br>solver: saga<br><b>Objective Value: 0.5411230549417523</b>",
          "Trial #4<br>C: 0.07510697504259764<br>penalty: l1<br>solver: saga<br><b>Objective Value: 0.5368786983188212</b>",
          "Trial #5<br>C: 0.047292140961139414<br>penalty: l1<br>solver: liblinear<br><b>Objective Value: 0.5347495662348838</b>",
          "Trial #6<br>C: 0.52163380366578<br>penalty: l2<br>solver: saga<br><b>Objective Value: 0.5408539014134213</b>",
          "Trial #7<br>C: 40.730806990980376<br>penalty: l2<br>solver: liblinear<br><b>Objective Value: 0.7328041007049804</b>",
          "Trial #8<br>C: 0.00024140535834481369<br>penalty: l1<br>solver: liblinear<br><b>Objective Value: 0.2602022316912306</b>",
          "Trial #9<br>C: 82.99208868399846<br>penalty: l1<br>solver: liblinear<br><b>Objective Value: 0.7302654736694787</b>",
          "Trial #10<br>C: 8237.10836944743<br>penalty: l2<br>solver: liblinear<br><b>Objective Value: 0.7302499039049015</b>",
          "Trial #11<br>C: 2441.297640479491<br>penalty: l2<br>solver: liblinear<br><b>Objective Value: 0.7306305733325322</b>",
          "Trial #12<br>C: 5.666684464792597<br>penalty: l2<br>solver: liblinear<br><b>Objective Value: 0.7301946892395043</b>",
          "Trial #13<br>C: 0.0013331425619851087<br>penalty: l2<br>solver: liblinear<br><b>Objective Value: 0.5270279310240277</b>",
          "Trial #14<br>C: 233.11750912693537<br>penalty: l2<br>solver: liblinear<br><b>Objective Value: 0.7302686749499909</b>",
          "Trial #15<br>C: 1.3677467175900966<br>penalty: l2<br>solver: liblinear<br><b>Objective Value: 0.7238678982385025</b>",
          "Trial #16<br>C: 745.7091153404007<br>penalty: l1<br>solver: liblinear<br><b>Objective Value: 0.7302826675388964</b>",
          "Trial #17<br>C: 12.90837164832142<br>penalty: l2<br>solver: liblinear<br><b>Objective Value: 0.7316601989844224</b>",
          "Trial #18<br>C: 0.005606402339893753<br>penalty: l2<br>solver: liblinear<br><b>Objective Value: 0.5408498604467822</b>",
          "Trial #19<br>C: 0.9396153849901697<br>penalty: l1<br>solver: liblinear<br><b>Objective Value: 0.7328657428764405</b>",
          "Trial #20<br>C: 0.21253371148977987<br>penalty: l2<br>solver: liblinear<br><b>Objective Value: 0.644492286356814</b>",
          "Trial #21<br>C: 1.3649950903308652<br>penalty: l1<br>solver: liblinear<br><b>Objective Value: 0.7310145863671558</b>",
          "Trial #22<br>C: 3.138983423371692<br>penalty: l1<br>solver: liblinear<br><b>Objective Value: 0.732074474659936</b>",
          "Trial #23<br>C: 65.71695455684895<br>penalty: l1<br>solver: liblinear<br><b>Objective Value: 0.7301566301320637</b>",
          "Trial #24<br>C: 0.2871008938288001<br>penalty: l1<br>solver: liblinear<br><b>Objective Value: 0.7217052091626809</b>",
          "Trial #25<br>C: 0.010909119282115722<br>penalty: l1<br>solver: liblinear<br><b>Objective Value: 0.5210511895145091</b>",
          "Trial #26<br>C: 27.737696178390962<br>penalty: l1<br>solver: saga<br><b>Objective Value: 0.5411230549417523</b>",
          "Trial #27<br>C: 3.285538753980668<br>penalty: l1<br>solver: liblinear<br><b>Objective Value: 0.7321772089731967</b>",
          "Trial #28<br>C: 411.629757518808<br>penalty: l2<br>solver: liblinear<br><b>Objective Value: 0.730377518487406</b>",
          "Trial #29<br>C: 0.13725565841733442<br>penalty: l1<br>solver: saga<br><b>Objective Value: 0.5383622557917037</b>",
          "Trial #30<br>C: 0.016981761720861105<br>penalty: l1<br>solver: liblinear<br><b>Objective Value: 0.5246954487548657</b>",
          "Trial #31<br>C: 1.0394594696242523<br>penalty: l1<br>solver: liblinear<br><b>Objective Value: 0.7329757167956016</b>",
          "Trial #32<br>C: 0.8610882561131811<br>penalty: l1<br>solver: liblinear<br><b>Objective Value: 0.7314449217184096</b>",
          "Trial #33<br>C: 34.20020622400459<br>penalty: l1<br>solver: liblinear<br><b>Objective Value: 0.7301566301320637</b>",
          "Trial #34<br>C: 9.316093908186877<br>penalty: l1<br>solver: saga<br><b>Objective Value: 0.5410035612773669</b>",
          "Trial #35<br>C: 0.08885065667132105<br>penalty: l1<br>solver: liblinear<br><b>Objective Value: 0.6056018224326873</b>",
          "Trial #36<br>C: 0.6317491671966011<br>penalty: l1<br>solver: saga<br><b>Objective Value: 0.5404972106497288</b>",
          "Trial #37<br>C: 0.030056777679636208<br>penalty: l1<br>solver: liblinear<br><b>Objective Value: 0.5338818766152164</b>",
          "Trial #38<br>C: 3.1102216261943636<br>penalty: l1<br>solver: saga<br><b>Objective Value: 0.5409185008966255</b>",
          "Trial #39<br>C: 16.868905908765367<br>penalty: l1<br>solver: liblinear<br><b>Objective Value: 0.7305701283862837</b>",
          "Trial #40<br>C: 0.0036271943940342204<br>penalty: l2<br>solver: liblinear<br><b>Objective Value: 0.5367923144870759</b>",
          "Trial #41<br>C: 3.615834954471494<br>penalty: l1<br>solver: liblinear<br><b>Objective Value: 0.7322152607235772</b>",
          "Trial #42<br>C: 1.586243721568958<br>penalty: l1<br>solver: liblinear<br><b>Objective Value: 0.7309159384752153</b>",
          "Trial #43<br>C: 0.5240267164902963<br>penalty: l1<br>solver: liblinear<br><b>Objective Value: 0.7333073614505123</b>",
          "Trial #44<br>C: 0.4174727362047103<br>penalty: l1<br>solver: liblinear<br><b>Objective Value: 0.7323563288449244</b>",
          "Trial #45<br>C: 0.16649280152052393<br>penalty: l1<br>solver: liblinear<br><b>Objective Value: 0.7033525945932253</b>",
          "Trial #46<br>C: 0.07503559380028788<br>penalty: l2<br>solver: liblinear<br><b>Objective Value: 0.5880979462747911</b>",
          "Trial #47<br>C: 179.5522780649261<br>penalty: l1<br>solver: liblinear<br><b>Objective Value: 0.7302826675388964</b>",
          "Trial #48<br>C: 2052.4048348108813<br>penalty: l2<br>solver: liblinear<br><b>Objective Value: 0.7301738240014813</b>",
          "Trial #49<br>C: 0.0005611545780563875<br>penalty: l1<br>solver: liblinear<br><b>Objective Value: 0.3340270778411201</b>",
          "Trial #50<br>C: 0.4386719944107784<br>penalty: l2<br>solver: saga<br><b>Objective Value: 0.5408539014134213</b>",
          "Trial #51<br>C: 0.39362560079387554<br>penalty: l1<br>solver: liblinear<br><b>Objective Value: 0.7312612365024912</b>",
          "Trial #52<br>C: 0.036292524294358634<br>penalty: l1<br>solver: liblinear<br><b>Objective Value: 0.5355652072801366</b>",
          "Trial #53<br>C: 6.2877525756733705<br>penalty: l1<br>solver: liblinear<br><b>Objective Value: 0.7314547196593433</b>",
          "Trial #54<br>C: 1.028885689235069<br>penalty: l1<br>solver: liblinear<br><b>Objective Value: 0.7328698966897815</b>",
          "Trial #55<br>C: 1.7263295767740425<br>penalty: l1<br>solver: liblinear<br><b>Objective Value: 0.7307297948227788</b>",
          "Trial #56<br>C: 0.9282067765043863<br>penalty: l1<br>solver: liblinear<br><b>Objective Value: 0.7326257775106169</b>",
          "Trial #57<br>C: 1.1950428493604175<br>penalty: l1<br>solver: liblinear<br><b>Objective Value: 0.7304316695813019</b>",
          "Trial #58<br>C: 0.19345533812941076<br>penalty: l2<br>solver: liblinear<br><b>Objective Value: 0.6400320787528164</b>",
          "Trial #59<br>C: 6.257231622079981<br>penalty: l1<br>solver: liblinear<br><b>Objective Value: 0.7314547196593433</b>",
          "Trial #60<br>C: 23.59425622969497<br>penalty: l1<br>solver: liblinear<br><b>Objective Value: 0.7304908472023512</b>",
          "Trial #61<br>C: 0.9078731184179532<br>penalty: l1<br>solver: liblinear<br><b>Objective Value: 0.7317028572442756</b>",
          "Trial #62<br>C: 0.09223027384870815<br>penalty: l1<br>solver: liblinear<br><b>Objective Value: 0.6172029810614943</b>",
          "Trial #63<br>C: 2.243380525595093<br>penalty: l1<br>solver: liblinear<br><b>Objective Value: 0.7312402256549855</b>",
          "Trial #64<br>C: 0.6614147157736883<br>penalty: l2<br>solver: liblinear<br><b>Objective Value: 0.7063987700474836</b>",
          "Trial #65<br>C: 10.511585203624456<br>penalty: l1<br>solver: liblinear<br><b>Objective Value: 0.7305377797825064</b>",
          "Trial #66<br>C: 0.3222960114500988<br>penalty: l1<br>solver: liblinear<br><b>Objective Value: 0.7273692911320049</b>",
          "Trial #67<br>C: 106.64585750570033<br>penalty: l1<br>solver: liblinear<br><b>Objective Value: 0.730377518487406</b>",
          "Trial #68<br>C: 40.81973919100819<br>penalty: l2<br>solver: saga<br><b>Objective Value: 0.5411492755565804</b>",
          "Trial #69<br>C: 5.5151663303446705<br>penalty: l1<br>solver: liblinear<br><b>Objective Value: 0.7318097599243909</b>",
          "Trial #70<br>C: 0.055109154180852674<br>penalty: l1<br>solver: liblinear<br><b>Objective Value: 0.5350618144506376</b>",
          "Trial #71<br>C: 0.5913560321617163<br>penalty: l1<br>solver: liblinear<br><b>Objective Value: 0.7345078228688514</b>",
          "Trial #72<br>C: 0.6870575810902618<br>penalty: l1<br>solver: liblinear<br><b>Objective Value: 0.7343825667631865</b>",
          "Trial #73<br>C: 0.9654879980711538<br>penalty: l1<br>solver: liblinear<br><b>Objective Value: 0.732668154106662</b>",
          "Trial #74<br>C: 2.6980526735065675<br>penalty: l1<br>solver: liblinear<br><b>Objective Value: 0.7309217209935828</b>",
          "Trial #75<br>C: 0.00010688373866682841<br>penalty: l1<br>solver: liblinear<br><b>Objective Value: 0.34979615608619674</b>",
          "Trial #76<br>C: 0.1881749566690275<br>penalty: l1<br>solver: liblinear<br><b>Objective Value: 0.7080856946936654</b>",
          "Trial #77<br>C: 0.534384478907503<br>penalty: l1<br>solver: liblinear<br><b>Objective Value: 0.7330201606167593</b>",
          "Trial #78<br>C: 0.27854222057446143<br>penalty: l1<br>solver: liblinear<br><b>Objective Value: 0.719969946615697</b>",
          "Trial #79<br>C: 0.019140378454979397<br>penalty: l2<br>solver: liblinear<br><b>Objective Value: 0.5522167466119824</b>",
          "Trial #80<br>C: 0.4890359261591344<br>penalty: l1<br>solver: saga<br><b>Objective Value: 0.5408043847473392</b>",
          "Trial #81<br>C: 0.1312576656887008<br>penalty: l1<br>solver: liblinear<br><b>Objective Value: 0.6821784900322467</b>",
          "Trial #82<br>C: 1.7284602799896955<br>penalty: l1<br>solver: liblinear<br><b>Objective Value: 0.7307297948227788</b>",
          "Trial #83<br>C: 0.7519007260860345<br>penalty: l1<br>solver: liblinear<br><b>Objective Value: 0.7326188199116842</b>",
          "Trial #84<br>C: 3.921352875158072<br>penalty: l1<br>solver: liblinear<br><b>Objective Value: 0.7320522388408158</b>",
          "Trial #85<br>C: 1.2187839304934711<br>penalty: l1<br>solver: liblinear<br><b>Objective Value: 0.7303860866255023</b>",
          "Trial #86<br>C: 0.265011282931695<br>penalty: l1<br>solver: liblinear<br><b>Objective Value: 0.7188204517595165</b>",
          "Trial #87<br>C: 0.5564528298800255<br>penalty: l1<br>solver: liblinear<br><b>Objective Value: 0.733692893502465</b>",
          "Trial #88<br>C: 0.5561407279858028<br>penalty: l2<br>solver: liblinear<br><b>Objective Value: 0.6974311737175167</b>",
          "Trial #89<br>C: 0.11461536043161542<br>penalty: l1<br>solver: liblinear<br><b>Objective Value: 0.6669500241258137</b>",
          "Trial #90<br>C: 1.8421334323876566<br>penalty: l1<br>solver: liblinear<br><b>Objective Value: 0.7309877377400854</b>",
          "Trial #91<br>C: 0.9180523918899388<br>penalty: l1<br>solver: liblinear<br><b>Objective Value: 0.7323651538596277</b>",
          "Trial #92<br>C: 0.3322755870102717<br>penalty: l1<br>solver: liblinear<br><b>Objective Value: 0.7280767879773797</b>",
          "Trial #93<br>C: 1.317919789739125<br>penalty: l1<br>solver: liblinear<br><b>Objective Value: 0.7310832530257384</b>",
          "Trial #94<br>C: 0.6322388439261584<br>penalty: l1<br>solver: liblinear<br><b>Objective Value: 0.7339186546146714</b>",
          "Trial #95<br>C: 681.538684948852<br>penalty: l1<br>solver: liblinear<br><b>Objective Value: 0.7302826675388964</b>",
          "Trial #96<br>C: 0.5785668859409907<br>penalty: l1<br>solver: liblinear<br><b>Objective Value: 0.7340986882870569</b>",
          "Trial #97<br>C: 0.609937183632503<br>penalty: l1<br>solver: liblinear<br><b>Objective Value: 0.734448497780222</b>",
          "Trial #98<br>C: 0.5346027987676117<br>penalty: l1<br>solver: liblinear<br><b>Objective Value: 0.7329906663015509</b>",
          "Trial #99<br>C: 0.479536044012646<br>penalty: l1<br>solver: saga<br><b>Objective Value: 0.5407724671154217</b>"
         ],
         "marker": {
          "color": [
           "rgb(236.0, 92.0, 59.0)",
           "rgb(84.0, 135.0, 189.0)",
           "rgb(125.0, 181.0, 213.0)",
           "rgb(137.0, 189.0, 218.0)",
           "rgb(74.0, 123.0, 183.0)",
           "rgb(63.0, 99.0, 171.0)",
           "rgb(110.0, 166.0, 205.0)",
           "rgb(221.0, 61.0, 45.0)",
           "rgb(49.0, 54.0, 149.0)",
           "rgb(253.0, 254.0, 194.0)",
           "rgb(250.0, 253.0, 200.0)",
           "rgb(254.0, 216.0, 136.0)",
           "rgb(247.0, 252.0, 205.0)",
           "rgb(59.0, 86.0, 165.0)",
           "rgb(255.0, 253.0, 189.0)",
           "rgb(228.0, 245.0, 240.0)",
           "rgb(255.0, 247.0, 179.0)",
           "rgb(249.0, 143.0, 83.0)",
           "rgb(103.0, 157.0, 201.0)",
           "rgb(218.0, 55.0, 42.0)",
           "rgb(178.0, 220.0, 235.0)",
           "rgb(253.0, 186.0, 108.0)",
           "rgb(245.0, 117.0, 71.0)",
           "rgb(239.0, 249.0, 220.0)",
           "rgb(225.0, 243.0, 246.0)",
           "rgb(55.0, 73.0, 158.0)",
           "rgb(137.0, 189.0, 218.0)",
           "rgb(244.0, 110.0, 68.0)",
           "rgb(254.0, 239.0, 167.0)",
           "rgb(79.0, 129.0, 186.0)",
           "rgb(57.0, 79.0, 162.0)",
           "rgb(210.0, 44.0, 39.0)",
           "rgb(251.0, 163.0, 92.0)",
           "rgb(239.0, 249.0, 220.0)",
           "rgb(125.0, 181.0, 213.0)",
           "rgb(162.0, 209.0, 229.0)",
           "rgb(88.0, 140.0, 192.0)",
           "rgb(61.0, 92.0, 168.0)",
           "rgb(117.0, 174.0, 209.0)",
           "rgb(254.0, 221.0, 141.0)",
           "rgb(69.0, 118.0, 180.0)",
           "rgb(242.0, 104.0, 65.0)",
           "rgb(254.0, 201.0, 122.0)",
           "rgb(195.0, 29.0, 39.0)",
           "rgb(239.0, 98.0, 62.0)",
           "rgb(199.0, 231.0, 241.0)",
           "rgb(156.0, 205.0, 226.0)",
           "rgb(255.0, 247.0, 179.0)",
           "rgb(244.0, 251.0, 211.0)",
           "rgb(51.0, 60.0, 152.0)",
           "rgb(110.0, 166.0, 205.0)",
           "rgb(252.0, 169.0, 95.0)",
           "rgb(67.0, 111.0, 177.0)",
           "rgb(250.0, 153.0, 87.0)",
           "rgb(215.0, 49.0, 39.0)",
           "rgb(254.0, 208.0, 129.0)",
           "rgb(227.0, 73.0, 51.0)",
           "rgb(254.0, 232.0, 155.0)",
           "rgb(173.0, 218.0, 233.0)",
           "rgb(250.0, 153.0, 87.0)",
           "rgb(254.0, 228.0, 151.0)",
           "rgb(248.0, 137.0, 80.0)",
           "rgb(167.0, 214.0, 231.0)",
           "rgb(253.0, 176.0, 98.0)",
           "rgb(205.0, 234.0, 243.0)",
           "rgb(254.0, 225.0, 146.0)",
           "rgb(232.0, 246.0, 234.0)",
           "rgb(254.0, 239.0, 167.0)",
           "rgb(145.0, 196.0, 222.0)",
           "rgb(247.0, 130.0, 77.0)",
           "rgb(65.0, 105.0, 174.0)",
           "rgb(165.0, 0.0, 38.0)",
           "rgb(175.0, 10.0, 38.0)",
           "rgb(224.0, 67.0, 48.0)",
           "rgb(253.0, 196.0, 117.0)",
           "rgb(53.0, 67.0, 155.0)",
           "rgb(210.0, 236.0, 244.0)",
           "rgb(200.0, 34.0, 39.0)",
           "rgb(221.0, 241.0, 247.0)",
           "rgb(150.0, 201.0, 224.0)",
           "rgb(98.0, 152.0, 198.0)",
           "rgb(189.0, 226.0, 238.0)",
           "rgb(254.0, 208.0, 129.0)",
           "rgb(230.0, 79.0, 53.0)",
           "rgb(246.0, 123.0, 74.0)",
           "rgb(254.0, 235.0, 160.0)",
           "rgb(215.0, 239.0, 246.0)",
           "rgb(190.0, 24.0, 39.0)",
           "rgb(194.0, 228.0, 240.0)",
           "rgb(183.0, 223.0, 236.0)",
           "rgb(253.0, 191.0, 113.0)",
           "rgb(233.0, 86.0, 56.0)",
           "rgb(235.0, 247.0, 228.0)",
           "rgb(253.0, 181.0, 103.0)",
           "rgb(185.0, 19.0, 38.0)",
           "rgb(255.0, 247.0, 179.0)",
           "rgb(180.0, 15.0, 38.0)",
           "rgb(170.0, 5.0, 38.0)",
           "rgb(205.0, 39.0, 39.0)",
           "rgb(93.0, 146.0, 195.0)"
          ],
          "line": {
           "color": "Grey",
           "width": 0.5
          }
         },
         "mode": "markers",
         "showlegend": false,
         "type": "scatter",
         "x": [
          "liblinear",
          "saga",
          "saga",
          "saga",
          "saga",
          "liblinear",
          "saga",
          "liblinear",
          "liblinear",
          "liblinear",
          "liblinear",
          "liblinear",
          "liblinear",
          "liblinear",
          "liblinear",
          "liblinear",
          "liblinear",
          "liblinear",
          "liblinear",
          "liblinear",
          "liblinear",
          "liblinear",
          "liblinear",
          "liblinear",
          "liblinear",
          "liblinear",
          "saga",
          "liblinear",
          "liblinear",
          "saga",
          "liblinear",
          "liblinear",
          "liblinear",
          "liblinear",
          "saga",
          "liblinear",
          "saga",
          "liblinear",
          "saga",
          "liblinear",
          "liblinear",
          "liblinear",
          "liblinear",
          "liblinear",
          "liblinear",
          "liblinear",
          "liblinear",
          "liblinear",
          "liblinear",
          "liblinear",
          "saga",
          "liblinear",
          "liblinear",
          "liblinear",
          "liblinear",
          "liblinear",
          "liblinear",
          "liblinear",
          "liblinear",
          "liblinear",
          "liblinear",
          "liblinear",
          "liblinear",
          "liblinear",
          "liblinear",
          "liblinear",
          "liblinear",
          "liblinear",
          "saga",
          "liblinear",
          "liblinear",
          "liblinear",
          "liblinear",
          "liblinear",
          "liblinear",
          "liblinear",
          "liblinear",
          "liblinear",
          "liblinear",
          "liblinear",
          "saga",
          "liblinear",
          "liblinear",
          "liblinear",
          "liblinear",
          "liblinear",
          "liblinear",
          "liblinear",
          "liblinear",
          "liblinear",
          "liblinear",
          "liblinear",
          "liblinear",
          "liblinear",
          "liblinear",
          "liblinear",
          "liblinear",
          "liblinear",
          "liblinear",
          "saga"
         ],
         "xaxis": "x9",
         "y": [
          "liblinear",
          "saga",
          "saga",
          "saga",
          "saga",
          "liblinear",
          "saga",
          "liblinear",
          "liblinear",
          "liblinear",
          "liblinear",
          "liblinear",
          "liblinear",
          "liblinear",
          "liblinear",
          "liblinear",
          "liblinear",
          "liblinear",
          "liblinear",
          "liblinear",
          "liblinear",
          "liblinear",
          "liblinear",
          "liblinear",
          "liblinear",
          "liblinear",
          "saga",
          "liblinear",
          "liblinear",
          "saga",
          "liblinear",
          "liblinear",
          "liblinear",
          "liblinear",
          "saga",
          "liblinear",
          "saga",
          "liblinear",
          "saga",
          "liblinear",
          "liblinear",
          "liblinear",
          "liblinear",
          "liblinear",
          "liblinear",
          "liblinear",
          "liblinear",
          "liblinear",
          "liblinear",
          "liblinear",
          "saga",
          "liblinear",
          "liblinear",
          "liblinear",
          "liblinear",
          "liblinear",
          "liblinear",
          "liblinear",
          "liblinear",
          "liblinear",
          "liblinear",
          "liblinear",
          "liblinear",
          "liblinear",
          "liblinear",
          "liblinear",
          "liblinear",
          "liblinear",
          "saga",
          "liblinear",
          "liblinear",
          "liblinear",
          "liblinear",
          "liblinear",
          "liblinear",
          "liblinear",
          "liblinear",
          "liblinear",
          "liblinear",
          "liblinear",
          "saga",
          "liblinear",
          "liblinear",
          "liblinear",
          "liblinear",
          "liblinear",
          "liblinear",
          "liblinear",
          "liblinear",
          "liblinear",
          "liblinear",
          "liblinear",
          "liblinear",
          "liblinear",
          "liblinear",
          "liblinear",
          "liblinear",
          "liblinear",
          "liblinear",
          "saga"
         ],
         "yaxis": "y9"
        },
        {
         "hoverinfo": "none",
         "marker": {
          "cmax": 1,
          "cmin": 0,
          "colorbar": {
           "thickness": 10,
           "ticktext": [
            "min. (0.260202)",
            "25% (0.541143)",
            "50% (0.730267)",
            "75% (0.731671)",
            "max. (0.734508)"
           ],
           "tickvals": [
            0,
            0.25,
            0.5,
            0.75,
            1
           ]
          },
          "colorscale": [
           [
            0,
            "rgb(49,54,149)"
           ],
           [
            0.1,
            "rgb(69,117,180)"
           ],
           [
            0.2,
            "rgb(116,173,209)"
           ],
           [
            0.3,
            "rgb(171,217,233)"
           ],
           [
            0.4,
            "rgb(224,243,248)"
           ],
           [
            0.5,
            "rgb(255,255,191)"
           ],
           [
            0.6,
            "rgb(254,224,144)"
           ],
           [
            0.7,
            "rgb(253,174,97)"
           ],
           [
            0.8,
            "rgb(244,109,67)"
           ],
           [
            0.9,
            "rgb(215,48,39)"
           ],
           [
            1,
            "rgb(165,0,38)"
           ]
          ],
          "showscale": true
         },
         "mode": "markers",
         "showlegend": false,
         "type": "scatter",
         "x": [
          null
         ],
         "y": [
          null
         ]
        }
       ],
       "layout": {
        "template": {
         "data": {
          "bar": [
           {
            "error_x": {
             "color": "#2a3f5f"
            },
            "error_y": {
             "color": "#2a3f5f"
            },
            "marker": {
             "line": {
              "color": "#E5ECF6",
              "width": 0.5
             },
             "pattern": {
              "fillmode": "overlay",
              "size": 10,
              "solidity": 0.2
             }
            },
            "type": "bar"
           }
          ],
          "barpolar": [
           {
            "marker": {
             "line": {
              "color": "#E5ECF6",
              "width": 0.5
             },
             "pattern": {
              "fillmode": "overlay",
              "size": 10,
              "solidity": 0.2
             }
            },
            "type": "barpolar"
           }
          ],
          "carpet": [
           {
            "aaxis": {
             "endlinecolor": "#2a3f5f",
             "gridcolor": "white",
             "linecolor": "white",
             "minorgridcolor": "white",
             "startlinecolor": "#2a3f5f"
            },
            "baxis": {
             "endlinecolor": "#2a3f5f",
             "gridcolor": "white",
             "linecolor": "white",
             "minorgridcolor": "white",
             "startlinecolor": "#2a3f5f"
            },
            "type": "carpet"
           }
          ],
          "choropleth": [
           {
            "colorbar": {
             "outlinewidth": 0,
             "ticks": ""
            },
            "type": "choropleth"
           }
          ],
          "contour": [
           {
            "colorbar": {
             "outlinewidth": 0,
             "ticks": ""
            },
            "colorscale": [
             [
              0,
              "#0d0887"
             ],
             [
              0.1111111111111111,
              "#46039f"
             ],
             [
              0.2222222222222222,
              "#7201a8"
             ],
             [
              0.3333333333333333,
              "#9c179e"
             ],
             [
              0.4444444444444444,
              "#bd3786"
             ],
             [
              0.5555555555555556,
              "#d8576b"
             ],
             [
              0.6666666666666666,
              "#ed7953"
             ],
             [
              0.7777777777777778,
              "#fb9f3a"
             ],
             [
              0.8888888888888888,
              "#fdca26"
             ],
             [
              1,
              "#f0f921"
             ]
            ],
            "type": "contour"
           }
          ],
          "contourcarpet": [
           {
            "colorbar": {
             "outlinewidth": 0,
             "ticks": ""
            },
            "type": "contourcarpet"
           }
          ],
          "heatmap": [
           {
            "colorbar": {
             "outlinewidth": 0,
             "ticks": ""
            },
            "colorscale": [
             [
              0,
              "#0d0887"
             ],
             [
              0.1111111111111111,
              "#46039f"
             ],
             [
              0.2222222222222222,
              "#7201a8"
             ],
             [
              0.3333333333333333,
              "#9c179e"
             ],
             [
              0.4444444444444444,
              "#bd3786"
             ],
             [
              0.5555555555555556,
              "#d8576b"
             ],
             [
              0.6666666666666666,
              "#ed7953"
             ],
             [
              0.7777777777777778,
              "#fb9f3a"
             ],
             [
              0.8888888888888888,
              "#fdca26"
             ],
             [
              1,
              "#f0f921"
             ]
            ],
            "type": "heatmap"
           }
          ],
          "heatmapgl": [
           {
            "colorbar": {
             "outlinewidth": 0,
             "ticks": ""
            },
            "colorscale": [
             [
              0,
              "#0d0887"
             ],
             [
              0.1111111111111111,
              "#46039f"
             ],
             [
              0.2222222222222222,
              "#7201a8"
             ],
             [
              0.3333333333333333,
              "#9c179e"
             ],
             [
              0.4444444444444444,
              "#bd3786"
             ],
             [
              0.5555555555555556,
              "#d8576b"
             ],
             [
              0.6666666666666666,
              "#ed7953"
             ],
             [
              0.7777777777777778,
              "#fb9f3a"
             ],
             [
              0.8888888888888888,
              "#fdca26"
             ],
             [
              1,
              "#f0f921"
             ]
            ],
            "type": "heatmapgl"
           }
          ],
          "histogram": [
           {
            "marker": {
             "pattern": {
              "fillmode": "overlay",
              "size": 10,
              "solidity": 0.2
             }
            },
            "type": "histogram"
           }
          ],
          "histogram2d": [
           {
            "colorbar": {
             "outlinewidth": 0,
             "ticks": ""
            },
            "colorscale": [
             [
              0,
              "#0d0887"
             ],
             [
              0.1111111111111111,
              "#46039f"
             ],
             [
              0.2222222222222222,
              "#7201a8"
             ],
             [
              0.3333333333333333,
              "#9c179e"
             ],
             [
              0.4444444444444444,
              "#bd3786"
             ],
             [
              0.5555555555555556,
              "#d8576b"
             ],
             [
              0.6666666666666666,
              "#ed7953"
             ],
             [
              0.7777777777777778,
              "#fb9f3a"
             ],
             [
              0.8888888888888888,
              "#fdca26"
             ],
             [
              1,
              "#f0f921"
             ]
            ],
            "type": "histogram2d"
           }
          ],
          "histogram2dcontour": [
           {
            "colorbar": {
             "outlinewidth": 0,
             "ticks": ""
            },
            "colorscale": [
             [
              0,
              "#0d0887"
             ],
             [
              0.1111111111111111,
              "#46039f"
             ],
             [
              0.2222222222222222,
              "#7201a8"
             ],
             [
              0.3333333333333333,
              "#9c179e"
             ],
             [
              0.4444444444444444,
              "#bd3786"
             ],
             [
              0.5555555555555556,
              "#d8576b"
             ],
             [
              0.6666666666666666,
              "#ed7953"
             ],
             [
              0.7777777777777778,
              "#fb9f3a"
             ],
             [
              0.8888888888888888,
              "#fdca26"
             ],
             [
              1,
              "#f0f921"
             ]
            ],
            "type": "histogram2dcontour"
           }
          ],
          "mesh3d": [
           {
            "colorbar": {
             "outlinewidth": 0,
             "ticks": ""
            },
            "type": "mesh3d"
           }
          ],
          "parcoords": [
           {
            "line": {
             "colorbar": {
              "outlinewidth": 0,
              "ticks": ""
             }
            },
            "type": "parcoords"
           }
          ],
          "pie": [
           {
            "automargin": true,
            "type": "pie"
           }
          ],
          "scatter": [
           {
            "fillpattern": {
             "fillmode": "overlay",
             "size": 10,
             "solidity": 0.2
            },
            "type": "scatter"
           }
          ],
          "scatter3d": [
           {
            "line": {
             "colorbar": {
              "outlinewidth": 0,
              "ticks": ""
             }
            },
            "marker": {
             "colorbar": {
              "outlinewidth": 0,
              "ticks": ""
             }
            },
            "type": "scatter3d"
           }
          ],
          "scattercarpet": [
           {
            "marker": {
             "colorbar": {
              "outlinewidth": 0,
              "ticks": ""
             }
            },
            "type": "scattercarpet"
           }
          ],
          "scattergeo": [
           {
            "marker": {
             "colorbar": {
              "outlinewidth": 0,
              "ticks": ""
             }
            },
            "type": "scattergeo"
           }
          ],
          "scattergl": [
           {
            "marker": {
             "colorbar": {
              "outlinewidth": 0,
              "ticks": ""
             }
            },
            "type": "scattergl"
           }
          ],
          "scattermapbox": [
           {
            "marker": {
             "colorbar": {
              "outlinewidth": 0,
              "ticks": ""
             }
            },
            "type": "scattermapbox"
           }
          ],
          "scatterpolar": [
           {
            "marker": {
             "colorbar": {
              "outlinewidth": 0,
              "ticks": ""
             }
            },
            "type": "scatterpolar"
           }
          ],
          "scatterpolargl": [
           {
            "marker": {
             "colorbar": {
              "outlinewidth": 0,
              "ticks": ""
             }
            },
            "type": "scatterpolargl"
           }
          ],
          "scatterternary": [
           {
            "marker": {
             "colorbar": {
              "outlinewidth": 0,
              "ticks": ""
             }
            },
            "type": "scatterternary"
           }
          ],
          "surface": [
           {
            "colorbar": {
             "outlinewidth": 0,
             "ticks": ""
            },
            "colorscale": [
             [
              0,
              "#0d0887"
             ],
             [
              0.1111111111111111,
              "#46039f"
             ],
             [
              0.2222222222222222,
              "#7201a8"
             ],
             [
              0.3333333333333333,
              "#9c179e"
             ],
             [
              0.4444444444444444,
              "#bd3786"
             ],
             [
              0.5555555555555556,
              "#d8576b"
             ],
             [
              0.6666666666666666,
              "#ed7953"
             ],
             [
              0.7777777777777778,
              "#fb9f3a"
             ],
             [
              0.8888888888888888,
              "#fdca26"
             ],
             [
              1,
              "#f0f921"
             ]
            ],
            "type": "surface"
           }
          ],
          "table": [
           {
            "cells": {
             "fill": {
              "color": "#EBF0F8"
             },
             "line": {
              "color": "white"
             }
            },
            "header": {
             "fill": {
              "color": "#C8D4E3"
             },
             "line": {
              "color": "white"
             }
            },
            "type": "table"
           }
          ]
         },
         "layout": {
          "annotationdefaults": {
           "arrowcolor": "#2a3f5f",
           "arrowhead": 0,
           "arrowwidth": 1
          },
          "autotypenumbers": "strict",
          "coloraxis": {
           "colorbar": {
            "outlinewidth": 0,
            "ticks": ""
           }
          },
          "colorscale": {
           "diverging": [
            [
             0,
             "#8e0152"
            ],
            [
             0.1,
             "#c51b7d"
            ],
            [
             0.2,
             "#de77ae"
            ],
            [
             0.3,
             "#f1b6da"
            ],
            [
             0.4,
             "#fde0ef"
            ],
            [
             0.5,
             "#f7f7f7"
            ],
            [
             0.6,
             "#e6f5d0"
            ],
            [
             0.7,
             "#b8e186"
            ],
            [
             0.8,
             "#7fbc41"
            ],
            [
             0.9,
             "#4d9221"
            ],
            [
             1,
             "#276419"
            ]
           ],
           "sequential": [
            [
             0,
             "#0d0887"
            ],
            [
             0.1111111111111111,
             "#46039f"
            ],
            [
             0.2222222222222222,
             "#7201a8"
            ],
            [
             0.3333333333333333,
             "#9c179e"
            ],
            [
             0.4444444444444444,
             "#bd3786"
            ],
            [
             0.5555555555555556,
             "#d8576b"
            ],
            [
             0.6666666666666666,
             "#ed7953"
            ],
            [
             0.7777777777777778,
             "#fb9f3a"
            ],
            [
             0.8888888888888888,
             "#fdca26"
            ],
            [
             1,
             "#f0f921"
            ]
           ],
           "sequentialminus": [
            [
             0,
             "#0d0887"
            ],
            [
             0.1111111111111111,
             "#46039f"
            ],
            [
             0.2222222222222222,
             "#7201a8"
            ],
            [
             0.3333333333333333,
             "#9c179e"
            ],
            [
             0.4444444444444444,
             "#bd3786"
            ],
            [
             0.5555555555555556,
             "#d8576b"
            ],
            [
             0.6666666666666666,
             "#ed7953"
            ],
            [
             0.7777777777777778,
             "#fb9f3a"
            ],
            [
             0.8888888888888888,
             "#fdca26"
            ],
            [
             1,
             "#f0f921"
            ]
           ]
          },
          "colorway": [
           "#636efa",
           "#EF553B",
           "#00cc96",
           "#ab63fa",
           "#FFA15A",
           "#19d3f3",
           "#FF6692",
           "#B6E880",
           "#FF97FF",
           "#FECB52"
          ],
          "font": {
           "color": "#2a3f5f"
          },
          "geo": {
           "bgcolor": "white",
           "lakecolor": "white",
           "landcolor": "#E5ECF6",
           "showlakes": true,
           "showland": true,
           "subunitcolor": "white"
          },
          "hoverlabel": {
           "align": "left"
          },
          "hovermode": "closest",
          "mapbox": {
           "style": "light"
          },
          "paper_bgcolor": "white",
          "plot_bgcolor": "#E5ECF6",
          "polar": {
           "angularaxis": {
            "gridcolor": "white",
            "linecolor": "white",
            "ticks": ""
           },
           "bgcolor": "#E5ECF6",
           "radialaxis": {
            "gridcolor": "white",
            "linecolor": "white",
            "ticks": ""
           }
          },
          "scene": {
           "xaxis": {
            "backgroundcolor": "#E5ECF6",
            "gridcolor": "white",
            "gridwidth": 2,
            "linecolor": "white",
            "showbackground": true,
            "ticks": "",
            "zerolinecolor": "white"
           },
           "yaxis": {
            "backgroundcolor": "#E5ECF6",
            "gridcolor": "white",
            "gridwidth": 2,
            "linecolor": "white",
            "showbackground": true,
            "ticks": "",
            "zerolinecolor": "white"
           },
           "zaxis": {
            "backgroundcolor": "#E5ECF6",
            "gridcolor": "white",
            "gridwidth": 2,
            "linecolor": "white",
            "showbackground": true,
            "ticks": "",
            "zerolinecolor": "white"
           }
          },
          "shapedefaults": {
           "line": {
            "color": "#2a3f5f"
           }
          },
          "ternary": {
           "aaxis": {
            "gridcolor": "white",
            "linecolor": "white",
            "ticks": ""
           },
           "baxis": {
            "gridcolor": "white",
            "linecolor": "white",
            "ticks": ""
           },
           "bgcolor": "#E5ECF6",
           "caxis": {
            "gridcolor": "white",
            "linecolor": "white",
            "ticks": ""
           }
          },
          "title": {
           "x": 0.05
          },
          "xaxis": {
           "automargin": true,
           "gridcolor": "white",
           "linecolor": "white",
           "ticks": "",
           "title": {
            "standoff": 15
           },
           "zerolinecolor": "white",
           "zerolinewidth": 2
          },
          "yaxis": {
           "automargin": true,
           "gridcolor": "white",
           "linecolor": "white",
           "ticks": "",
           "title": {
            "standoff": 15
           },
           "zerolinecolor": "white",
           "zerolinewidth": 2
          }
         }
        },
        "title": {
         "text": "Rank (Objective Value)"
        },
        "xaxis": {
         "anchor": "y",
         "domain": [
          0,
          0.31555555555555553
         ],
         "matches": "x7",
         "range": [
          -4.365431520655394,
          4.310117936867683
         ],
         "showticklabels": false,
         "type": "log"
        },
        "xaxis2": {
         "anchor": "y2",
         "domain": [
          0.3422222222222222,
          0.6577777777777778
         ],
         "matches": "x8",
         "range": [
          -0.05,
          1.05
         ],
         "showticklabels": false,
         "type": "category"
        },
        "xaxis3": {
         "anchor": "y3",
         "domain": [
          0.6844444444444444,
          1
         ],
         "matches": "x9",
         "range": [
          -0.05,
          1.05
         ],
         "showticklabels": false,
         "type": "category"
        },
        "xaxis4": {
         "anchor": "y4",
         "domain": [
          0,
          0.31555555555555553
         ],
         "matches": "x7",
         "range": [
          -4.365431520655394,
          4.310117936867683
         ],
         "showticklabels": false,
         "type": "log"
        },
        "xaxis5": {
         "anchor": "y5",
         "domain": [
          0.3422222222222222,
          0.6577777777777778
         ],
         "matches": "x8",
         "range": [
          -0.05,
          1.05
         ],
         "showticklabels": false,
         "type": "category"
        },
        "xaxis6": {
         "anchor": "y6",
         "domain": [
          0.6844444444444444,
          1
         ],
         "matches": "x9",
         "range": [
          -0.05,
          1.05
         ],
         "showticklabels": false,
         "type": "category"
        },
        "xaxis7": {
         "anchor": "y7",
         "domain": [
          0,
          0.31555555555555553
         ],
         "range": [
          -4.365431520655394,
          4.310117936867683
         ],
         "title": {
          "text": "C"
         },
         "type": "log"
        },
        "xaxis8": {
         "anchor": "y8",
         "domain": [
          0.3422222222222222,
          0.6577777777777778
         ],
         "range": [
          -0.05,
          1.05
         ],
         "title": {
          "text": "penalty"
         },
         "type": "category"
        },
        "xaxis9": {
         "anchor": "y9",
         "domain": [
          0.6844444444444444,
          1
         ],
         "range": [
          -0.05,
          1.05
         ],
         "title": {
          "text": "solver"
         },
         "type": "category"
        },
        "yaxis": {
         "anchor": "x",
         "domain": [
          0.6844444444444444,
          1
         ],
         "range": [
          -4.365431520655394,
          4.310117936867683
         ],
         "title": {
          "text": "C"
         },
         "type": "log"
        },
        "yaxis2": {
         "anchor": "x2",
         "domain": [
          0.6844444444444444,
          1
         ],
         "matches": "y",
         "range": [
          -4.365431520655394,
          4.310117936867683
         ],
         "showticklabels": false,
         "type": "log"
        },
        "yaxis3": {
         "anchor": "x3",
         "domain": [
          0.6844444444444444,
          1
         ],
         "matches": "y",
         "range": [
          -4.365431520655394,
          4.310117936867683
         ],
         "showticklabels": false,
         "type": "log"
        },
        "yaxis4": {
         "anchor": "x4",
         "domain": [
          0.3422222222222222,
          0.6577777777777778
         ],
         "range": [
          -0.05,
          1.05
         ],
         "title": {
          "text": "penalty"
         },
         "type": "category"
        },
        "yaxis5": {
         "anchor": "x5",
         "domain": [
          0.3422222222222222,
          0.6577777777777778
         ],
         "matches": "y4",
         "range": [
          -0.05,
          1.05
         ],
         "showticklabels": false,
         "type": "category"
        },
        "yaxis6": {
         "anchor": "x6",
         "domain": [
          0.3422222222222222,
          0.6577777777777778
         ],
         "matches": "y4",
         "range": [
          -0.05,
          1.05
         ],
         "showticklabels": false,
         "type": "category"
        },
        "yaxis7": {
         "anchor": "x7",
         "domain": [
          0,
          0.31555555555555553
         ],
         "range": [
          -0.05,
          1.05
         ],
         "title": {
          "text": "solver"
         },
         "type": "category"
        },
        "yaxis8": {
         "anchor": "x8",
         "domain": [
          0,
          0.31555555555555553
         ],
         "matches": "y7",
         "range": [
          -0.05,
          1.05
         ],
         "showticklabels": false,
         "type": "category"
        },
        "yaxis9": {
         "anchor": "x9",
         "domain": [
          0,
          0.31555555555555553
         ],
         "matches": "y7",
         "range": [
          -0.05,
          1.05
         ],
         "showticklabels": false,
         "type": "category"
        }
       }
      }
     },
     "metadata": {},
     "output_type": "display_data"
    }
   ],
   "source": [
    "optuna.visualization.plot_rank(study)"
   ]
  },
  {
   "cell_type": "code",
   "execution_count": 7,
   "metadata": {},
   "outputs": [
    {
     "data": {
      "application/vnd.plotly.v1+json": {
       "config": {
        "plotlyServerURL": "https://plot.ly"
       },
       "data": [
        {
         "marker": {
          "color": [
           0,
           1,
           2,
           3,
           4,
           5,
           6,
           7,
           8,
           9,
           10,
           11,
           12,
           13,
           14,
           15,
           16,
           17,
           18,
           19,
           20,
           21,
           22,
           23,
           24,
           25,
           26,
           27,
           28,
           29,
           30,
           31,
           32,
           33,
           34,
           35,
           36,
           37,
           38,
           39,
           40,
           41,
           42,
           43,
           44,
           45,
           46,
           47,
           48,
           49,
           50,
           51,
           52,
           53,
           54,
           55,
           56,
           57,
           58,
           59,
           60,
           61,
           62,
           63,
           64,
           65,
           66,
           67,
           68,
           69,
           70,
           71,
           72,
           73,
           74,
           75,
           76,
           77,
           78,
           79,
           80,
           81,
           82,
           83,
           84,
           85,
           86,
           87,
           88,
           89,
           90,
           91,
           92,
           93,
           94,
           95,
           96,
           97,
           98,
           99
          ],
          "colorbar": {
           "title": {
            "text": "Trial"
           },
           "x": 1,
           "xpad": 40
          },
          "colorscale": [
           [
            0,
            "rgb(247,251,255)"
           ],
           [
            0.125,
            "rgb(222,235,247)"
           ],
           [
            0.25,
            "rgb(198,219,239)"
           ],
           [
            0.375,
            "rgb(158,202,225)"
           ],
           [
            0.5,
            "rgb(107,174,214)"
           ],
           [
            0.625,
            "rgb(66,146,198)"
           ],
           [
            0.75,
            "rgb(33,113,181)"
           ],
           [
            0.875,
            "rgb(8,81,156)"
           ],
           [
            1,
            "rgb(8,48,107)"
           ]
          ],
          "line": {
           "color": "Grey",
           "width": 0.5
          },
          "showscale": true
         },
         "mode": "markers",
         "name": "Feasible Trial",
         "showlegend": false,
         "type": "scatter",
         "x": [
          0.7250022290110179,
          0.035815351248335466,
          11.32275486983325,
          72.24083618448716,
          0.07510697504259764,
          0.047292140961139414,
          0.52163380366578,
          40.730806990980376,
          0.00024140535834481369,
          82.99208868399846,
          8237.10836944743,
          2441.297640479491,
          5.666684464792597,
          0.0013331425619851087,
          233.11750912693537,
          1.3677467175900966,
          745.7091153404007,
          12.90837164832142,
          0.005606402339893753,
          0.9396153849901697,
          0.21253371148977987,
          1.3649950903308652,
          3.138983423371692,
          65.71695455684895,
          0.2871008938288001,
          0.010909119282115722,
          27.737696178390962,
          3.285538753980668,
          411.629757518808,
          0.13725565841733442,
          0.016981761720861105,
          1.0394594696242523,
          0.8610882561131811,
          34.20020622400459,
          9.316093908186877,
          0.08885065667132105,
          0.6317491671966011,
          0.030056777679636208,
          3.1102216261943636,
          16.868905908765367,
          0.0036271943940342204,
          3.615834954471494,
          1.586243721568958,
          0.5240267164902963,
          0.4174727362047103,
          0.16649280152052393,
          0.07503559380028788,
          179.5522780649261,
          2052.4048348108813,
          0.0005611545780563875,
          0.4386719944107784,
          0.39362560079387554,
          0.036292524294358634,
          6.2877525756733705,
          1.028885689235069,
          1.7263295767740425,
          0.9282067765043863,
          1.1950428493604175,
          0.19345533812941076,
          6.257231622079981,
          23.59425622969497,
          0.9078731184179532,
          0.09223027384870815,
          2.243380525595093,
          0.6614147157736883,
          10.511585203624456,
          0.3222960114500988,
          106.64585750570033,
          40.81973919100819,
          5.5151663303446705,
          0.055109154180852674,
          0.5913560321617163,
          0.6870575810902618,
          0.9654879980711538,
          2.6980526735065675,
          0.00010688373866682841,
          0.1881749566690275,
          0.534384478907503,
          0.27854222057446143,
          0.019140378454979397,
          0.4890359261591344,
          0.1312576656887008,
          1.7284602799896955,
          0.7519007260860345,
          3.921352875158072,
          1.2187839304934711,
          0.265011282931695,
          0.5564528298800255,
          0.5561407279858028,
          0.11461536043161542,
          1.8421334323876566,
          0.9180523918899388,
          0.3322755870102717,
          1.317919789739125,
          0.6322388439261584,
          681.538684948852,
          0.5785668859409907,
          0.609937183632503,
          0.5346027987676117,
          0.479536044012646
         ],
         "xaxis": "x",
         "y": [
          0.7323578606727177,
          0.5385105058307186,
          0.5410035612773669,
          0.5411230549417523,
          0.5368786983188212,
          0.5347495662348838,
          0.5408539014134213,
          0.7328041007049804,
          0.2602022316912306,
          0.7302654736694787,
          0.7302499039049015,
          0.7306305733325322,
          0.7301946892395043,
          0.5270279310240277,
          0.7302686749499909,
          0.7238678982385025,
          0.7302826675388964,
          0.7316601989844224,
          0.5408498604467822,
          0.7328657428764405,
          0.644492286356814,
          0.7310145863671558,
          0.732074474659936,
          0.7301566301320637,
          0.7217052091626809,
          0.5210511895145091,
          0.5411230549417523,
          0.7321772089731967,
          0.730377518487406,
          0.5383622557917037,
          0.5246954487548657,
          0.7329757167956016,
          0.7314449217184096,
          0.7301566301320637,
          0.5410035612773669,
          0.6056018224326873,
          0.5404972106497288,
          0.5338818766152164,
          0.5409185008966255,
          0.7305701283862837,
          0.5367923144870759,
          0.7322152607235772,
          0.7309159384752153,
          0.7333073614505123,
          0.7323563288449244,
          0.7033525945932253,
          0.5880979462747911,
          0.7302826675388964,
          0.7301738240014813,
          0.3340270778411201,
          0.5408539014134213,
          0.7312612365024912,
          0.5355652072801366,
          0.7314547196593433,
          0.7328698966897815,
          0.7307297948227788,
          0.7326257775106169,
          0.7304316695813019,
          0.6400320787528164,
          0.7314547196593433,
          0.7304908472023512,
          0.7317028572442756,
          0.6172029810614943,
          0.7312402256549855,
          0.7063987700474836,
          0.7305377797825064,
          0.7273692911320049,
          0.730377518487406,
          0.5411492755565804,
          0.7318097599243909,
          0.5350618144506376,
          0.7345078228688514,
          0.7343825667631865,
          0.732668154106662,
          0.7309217209935828,
          0.34979615608619674,
          0.7080856946936654,
          0.7330201606167593,
          0.719969946615697,
          0.5522167466119824,
          0.5408043847473392,
          0.6821784900322467,
          0.7307297948227788,
          0.7326188199116842,
          0.7320522388408158,
          0.7303860866255023,
          0.7188204517595165,
          0.733692893502465,
          0.6974311737175167,
          0.6669500241258137,
          0.7309877377400854,
          0.7323651538596277,
          0.7280767879773797,
          0.7310832530257384,
          0.7339186546146714,
          0.7302826675388964,
          0.7340986882870569,
          0.734448497780222,
          0.7329906663015509,
          0.5407724671154217
         ],
         "yaxis": "y"
        },
        {
         "marker": {
          "color": [
           0,
           1,
           2,
           3,
           4,
           5,
           6,
           7,
           8,
           9,
           10,
           11,
           12,
           13,
           14,
           15,
           16,
           17,
           18,
           19,
           20,
           21,
           22,
           23,
           24,
           25,
           26,
           27,
           28,
           29,
           30,
           31,
           32,
           33,
           34,
           35,
           36,
           37,
           38,
           39,
           40,
           41,
           42,
           43,
           44,
           45,
           46,
           47,
           48,
           49,
           50,
           51,
           52,
           53,
           54,
           55,
           56,
           57,
           58,
           59,
           60,
           61,
           62,
           63,
           64,
           65,
           66,
           67,
           68,
           69,
           70,
           71,
           72,
           73,
           74,
           75,
           76,
           77,
           78,
           79,
           80,
           81,
           82,
           83,
           84,
           85,
           86,
           87,
           88,
           89,
           90,
           91,
           92,
           93,
           94,
           95,
           96,
           97,
           98,
           99
          ],
          "colorbar": {
           "title": {
            "text": "Trial"
           },
           "x": 1,
           "xpad": 40
          },
          "colorscale": [
           [
            0,
            "rgb(247,251,255)"
           ],
           [
            0.125,
            "rgb(222,235,247)"
           ],
           [
            0.25,
            "rgb(198,219,239)"
           ],
           [
            0.375,
            "rgb(158,202,225)"
           ],
           [
            0.5,
            "rgb(107,174,214)"
           ],
           [
            0.625,
            "rgb(66,146,198)"
           ],
           [
            0.75,
            "rgb(33,113,181)"
           ],
           [
            0.875,
            "rgb(8,81,156)"
           ],
           [
            1,
            "rgb(8,48,107)"
           ]
          ],
          "line": {
           "color": "Grey",
           "width": 0.5
          },
          "showscale": false
         },
         "mode": "markers",
         "name": "Feasible Trial",
         "showlegend": false,
         "type": "scatter",
         "x": [
          "l1",
          "l1",
          "l1",
          "l1",
          "l1",
          "l1",
          "l2",
          "l2",
          "l1",
          "l1",
          "l2",
          "l2",
          "l2",
          "l2",
          "l2",
          "l2",
          "l1",
          "l2",
          "l2",
          "l1",
          "l2",
          "l1",
          "l1",
          "l1",
          "l1",
          "l1",
          "l1",
          "l1",
          "l2",
          "l1",
          "l1",
          "l1",
          "l1",
          "l1",
          "l1",
          "l1",
          "l1",
          "l1",
          "l1",
          "l1",
          "l2",
          "l1",
          "l1",
          "l1",
          "l1",
          "l1",
          "l2",
          "l1",
          "l2",
          "l1",
          "l2",
          "l1",
          "l1",
          "l1",
          "l1",
          "l1",
          "l1",
          "l1",
          "l2",
          "l1",
          "l1",
          "l1",
          "l1",
          "l1",
          "l2",
          "l1",
          "l1",
          "l1",
          "l2",
          "l1",
          "l1",
          "l1",
          "l1",
          "l1",
          "l1",
          "l1",
          "l1",
          "l1",
          "l1",
          "l2",
          "l1",
          "l1",
          "l1",
          "l1",
          "l1",
          "l1",
          "l1",
          "l1",
          "l2",
          "l1",
          "l1",
          "l1",
          "l1",
          "l1",
          "l1",
          "l1",
          "l1",
          "l1",
          "l1",
          "l1"
         ],
         "xaxis": "x2",
         "y": [
          0.7323578606727177,
          0.5385105058307186,
          0.5410035612773669,
          0.5411230549417523,
          0.5368786983188212,
          0.5347495662348838,
          0.5408539014134213,
          0.7328041007049804,
          0.2602022316912306,
          0.7302654736694787,
          0.7302499039049015,
          0.7306305733325322,
          0.7301946892395043,
          0.5270279310240277,
          0.7302686749499909,
          0.7238678982385025,
          0.7302826675388964,
          0.7316601989844224,
          0.5408498604467822,
          0.7328657428764405,
          0.644492286356814,
          0.7310145863671558,
          0.732074474659936,
          0.7301566301320637,
          0.7217052091626809,
          0.5210511895145091,
          0.5411230549417523,
          0.7321772089731967,
          0.730377518487406,
          0.5383622557917037,
          0.5246954487548657,
          0.7329757167956016,
          0.7314449217184096,
          0.7301566301320637,
          0.5410035612773669,
          0.6056018224326873,
          0.5404972106497288,
          0.5338818766152164,
          0.5409185008966255,
          0.7305701283862837,
          0.5367923144870759,
          0.7322152607235772,
          0.7309159384752153,
          0.7333073614505123,
          0.7323563288449244,
          0.7033525945932253,
          0.5880979462747911,
          0.7302826675388964,
          0.7301738240014813,
          0.3340270778411201,
          0.5408539014134213,
          0.7312612365024912,
          0.5355652072801366,
          0.7314547196593433,
          0.7328698966897815,
          0.7307297948227788,
          0.7326257775106169,
          0.7304316695813019,
          0.6400320787528164,
          0.7314547196593433,
          0.7304908472023512,
          0.7317028572442756,
          0.6172029810614943,
          0.7312402256549855,
          0.7063987700474836,
          0.7305377797825064,
          0.7273692911320049,
          0.730377518487406,
          0.5411492755565804,
          0.7318097599243909,
          0.5350618144506376,
          0.7345078228688514,
          0.7343825667631865,
          0.732668154106662,
          0.7309217209935828,
          0.34979615608619674,
          0.7080856946936654,
          0.7330201606167593,
          0.719969946615697,
          0.5522167466119824,
          0.5408043847473392,
          0.6821784900322467,
          0.7307297948227788,
          0.7326188199116842,
          0.7320522388408158,
          0.7303860866255023,
          0.7188204517595165,
          0.733692893502465,
          0.6974311737175167,
          0.6669500241258137,
          0.7309877377400854,
          0.7323651538596277,
          0.7280767879773797,
          0.7310832530257384,
          0.7339186546146714,
          0.7302826675388964,
          0.7340986882870569,
          0.734448497780222,
          0.7329906663015509,
          0.5407724671154217
         ],
         "yaxis": "y2"
        },
        {
         "marker": {
          "color": [
           0,
           1,
           2,
           3,
           4,
           5,
           6,
           7,
           8,
           9,
           10,
           11,
           12,
           13,
           14,
           15,
           16,
           17,
           18,
           19,
           20,
           21,
           22,
           23,
           24,
           25,
           26,
           27,
           28,
           29,
           30,
           31,
           32,
           33,
           34,
           35,
           36,
           37,
           38,
           39,
           40,
           41,
           42,
           43,
           44,
           45,
           46,
           47,
           48,
           49,
           50,
           51,
           52,
           53,
           54,
           55,
           56,
           57,
           58,
           59,
           60,
           61,
           62,
           63,
           64,
           65,
           66,
           67,
           68,
           69,
           70,
           71,
           72,
           73,
           74,
           75,
           76,
           77,
           78,
           79,
           80,
           81,
           82,
           83,
           84,
           85,
           86,
           87,
           88,
           89,
           90,
           91,
           92,
           93,
           94,
           95,
           96,
           97,
           98,
           99
          ],
          "colorbar": {
           "title": {
            "text": "Trial"
           },
           "x": 1,
           "xpad": 40
          },
          "colorscale": [
           [
            0,
            "rgb(247,251,255)"
           ],
           [
            0.125,
            "rgb(222,235,247)"
           ],
           [
            0.25,
            "rgb(198,219,239)"
           ],
           [
            0.375,
            "rgb(158,202,225)"
           ],
           [
            0.5,
            "rgb(107,174,214)"
           ],
           [
            0.625,
            "rgb(66,146,198)"
           ],
           [
            0.75,
            "rgb(33,113,181)"
           ],
           [
            0.875,
            "rgb(8,81,156)"
           ],
           [
            1,
            "rgb(8,48,107)"
           ]
          ],
          "line": {
           "color": "Grey",
           "width": 0.5
          },
          "showscale": false
         },
         "mode": "markers",
         "name": "Feasible Trial",
         "showlegend": false,
         "type": "scatter",
         "x": [
          "liblinear",
          "saga",
          "saga",
          "saga",
          "saga",
          "liblinear",
          "saga",
          "liblinear",
          "liblinear",
          "liblinear",
          "liblinear",
          "liblinear",
          "liblinear",
          "liblinear",
          "liblinear",
          "liblinear",
          "liblinear",
          "liblinear",
          "liblinear",
          "liblinear",
          "liblinear",
          "liblinear",
          "liblinear",
          "liblinear",
          "liblinear",
          "liblinear",
          "saga",
          "liblinear",
          "liblinear",
          "saga",
          "liblinear",
          "liblinear",
          "liblinear",
          "liblinear",
          "saga",
          "liblinear",
          "saga",
          "liblinear",
          "saga",
          "liblinear",
          "liblinear",
          "liblinear",
          "liblinear",
          "liblinear",
          "liblinear",
          "liblinear",
          "liblinear",
          "liblinear",
          "liblinear",
          "liblinear",
          "saga",
          "liblinear",
          "liblinear",
          "liblinear",
          "liblinear",
          "liblinear",
          "liblinear",
          "liblinear",
          "liblinear",
          "liblinear",
          "liblinear",
          "liblinear",
          "liblinear",
          "liblinear",
          "liblinear",
          "liblinear",
          "liblinear",
          "liblinear",
          "saga",
          "liblinear",
          "liblinear",
          "liblinear",
          "liblinear",
          "liblinear",
          "liblinear",
          "liblinear",
          "liblinear",
          "liblinear",
          "liblinear",
          "liblinear",
          "saga",
          "liblinear",
          "liblinear",
          "liblinear",
          "liblinear",
          "liblinear",
          "liblinear",
          "liblinear",
          "liblinear",
          "liblinear",
          "liblinear",
          "liblinear",
          "liblinear",
          "liblinear",
          "liblinear",
          "liblinear",
          "liblinear",
          "liblinear",
          "liblinear",
          "saga"
         ],
         "xaxis": "x3",
         "y": [
          0.7323578606727177,
          0.5385105058307186,
          0.5410035612773669,
          0.5411230549417523,
          0.5368786983188212,
          0.5347495662348838,
          0.5408539014134213,
          0.7328041007049804,
          0.2602022316912306,
          0.7302654736694787,
          0.7302499039049015,
          0.7306305733325322,
          0.7301946892395043,
          0.5270279310240277,
          0.7302686749499909,
          0.7238678982385025,
          0.7302826675388964,
          0.7316601989844224,
          0.5408498604467822,
          0.7328657428764405,
          0.644492286356814,
          0.7310145863671558,
          0.732074474659936,
          0.7301566301320637,
          0.7217052091626809,
          0.5210511895145091,
          0.5411230549417523,
          0.7321772089731967,
          0.730377518487406,
          0.5383622557917037,
          0.5246954487548657,
          0.7329757167956016,
          0.7314449217184096,
          0.7301566301320637,
          0.5410035612773669,
          0.6056018224326873,
          0.5404972106497288,
          0.5338818766152164,
          0.5409185008966255,
          0.7305701283862837,
          0.5367923144870759,
          0.7322152607235772,
          0.7309159384752153,
          0.7333073614505123,
          0.7323563288449244,
          0.7033525945932253,
          0.5880979462747911,
          0.7302826675388964,
          0.7301738240014813,
          0.3340270778411201,
          0.5408539014134213,
          0.7312612365024912,
          0.5355652072801366,
          0.7314547196593433,
          0.7328698966897815,
          0.7307297948227788,
          0.7326257775106169,
          0.7304316695813019,
          0.6400320787528164,
          0.7314547196593433,
          0.7304908472023512,
          0.7317028572442756,
          0.6172029810614943,
          0.7312402256549855,
          0.7063987700474836,
          0.7305377797825064,
          0.7273692911320049,
          0.730377518487406,
          0.5411492755565804,
          0.7318097599243909,
          0.5350618144506376,
          0.7345078228688514,
          0.7343825667631865,
          0.732668154106662,
          0.7309217209935828,
          0.34979615608619674,
          0.7080856946936654,
          0.7330201606167593,
          0.719969946615697,
          0.5522167466119824,
          0.5408043847473392,
          0.6821784900322467,
          0.7307297948227788,
          0.7326188199116842,
          0.7320522388408158,
          0.7303860866255023,
          0.7188204517595165,
          0.733692893502465,
          0.6974311737175167,
          0.6669500241258137,
          0.7309877377400854,
          0.7323651538596277,
          0.7280767879773797,
          0.7310832530257384,
          0.7339186546146714,
          0.7302826675388964,
          0.7340986882870569,
          0.734448497780222,
          0.7329906663015509,
          0.5407724671154217
         ],
         "yaxis": "y3"
        }
       ],
       "layout": {
        "template": {
         "data": {
          "bar": [
           {
            "error_x": {
             "color": "#2a3f5f"
            },
            "error_y": {
             "color": "#2a3f5f"
            },
            "marker": {
             "line": {
              "color": "#E5ECF6",
              "width": 0.5
             },
             "pattern": {
              "fillmode": "overlay",
              "size": 10,
              "solidity": 0.2
             }
            },
            "type": "bar"
           }
          ],
          "barpolar": [
           {
            "marker": {
             "line": {
              "color": "#E5ECF6",
              "width": 0.5
             },
             "pattern": {
              "fillmode": "overlay",
              "size": 10,
              "solidity": 0.2
             }
            },
            "type": "barpolar"
           }
          ],
          "carpet": [
           {
            "aaxis": {
             "endlinecolor": "#2a3f5f",
             "gridcolor": "white",
             "linecolor": "white",
             "minorgridcolor": "white",
             "startlinecolor": "#2a3f5f"
            },
            "baxis": {
             "endlinecolor": "#2a3f5f",
             "gridcolor": "white",
             "linecolor": "white",
             "minorgridcolor": "white",
             "startlinecolor": "#2a3f5f"
            },
            "type": "carpet"
           }
          ],
          "choropleth": [
           {
            "colorbar": {
             "outlinewidth": 0,
             "ticks": ""
            },
            "type": "choropleth"
           }
          ],
          "contour": [
           {
            "colorbar": {
             "outlinewidth": 0,
             "ticks": ""
            },
            "colorscale": [
             [
              0,
              "#0d0887"
             ],
             [
              0.1111111111111111,
              "#46039f"
             ],
             [
              0.2222222222222222,
              "#7201a8"
             ],
             [
              0.3333333333333333,
              "#9c179e"
             ],
             [
              0.4444444444444444,
              "#bd3786"
             ],
             [
              0.5555555555555556,
              "#d8576b"
             ],
             [
              0.6666666666666666,
              "#ed7953"
             ],
             [
              0.7777777777777778,
              "#fb9f3a"
             ],
             [
              0.8888888888888888,
              "#fdca26"
             ],
             [
              1,
              "#f0f921"
             ]
            ],
            "type": "contour"
           }
          ],
          "contourcarpet": [
           {
            "colorbar": {
             "outlinewidth": 0,
             "ticks": ""
            },
            "type": "contourcarpet"
           }
          ],
          "heatmap": [
           {
            "colorbar": {
             "outlinewidth": 0,
             "ticks": ""
            },
            "colorscale": [
             [
              0,
              "#0d0887"
             ],
             [
              0.1111111111111111,
              "#46039f"
             ],
             [
              0.2222222222222222,
              "#7201a8"
             ],
             [
              0.3333333333333333,
              "#9c179e"
             ],
             [
              0.4444444444444444,
              "#bd3786"
             ],
             [
              0.5555555555555556,
              "#d8576b"
             ],
             [
              0.6666666666666666,
              "#ed7953"
             ],
             [
              0.7777777777777778,
              "#fb9f3a"
             ],
             [
              0.8888888888888888,
              "#fdca26"
             ],
             [
              1,
              "#f0f921"
             ]
            ],
            "type": "heatmap"
           }
          ],
          "heatmapgl": [
           {
            "colorbar": {
             "outlinewidth": 0,
             "ticks": ""
            },
            "colorscale": [
             [
              0,
              "#0d0887"
             ],
             [
              0.1111111111111111,
              "#46039f"
             ],
             [
              0.2222222222222222,
              "#7201a8"
             ],
             [
              0.3333333333333333,
              "#9c179e"
             ],
             [
              0.4444444444444444,
              "#bd3786"
             ],
             [
              0.5555555555555556,
              "#d8576b"
             ],
             [
              0.6666666666666666,
              "#ed7953"
             ],
             [
              0.7777777777777778,
              "#fb9f3a"
             ],
             [
              0.8888888888888888,
              "#fdca26"
             ],
             [
              1,
              "#f0f921"
             ]
            ],
            "type": "heatmapgl"
           }
          ],
          "histogram": [
           {
            "marker": {
             "pattern": {
              "fillmode": "overlay",
              "size": 10,
              "solidity": 0.2
             }
            },
            "type": "histogram"
           }
          ],
          "histogram2d": [
           {
            "colorbar": {
             "outlinewidth": 0,
             "ticks": ""
            },
            "colorscale": [
             [
              0,
              "#0d0887"
             ],
             [
              0.1111111111111111,
              "#46039f"
             ],
             [
              0.2222222222222222,
              "#7201a8"
             ],
             [
              0.3333333333333333,
              "#9c179e"
             ],
             [
              0.4444444444444444,
              "#bd3786"
             ],
             [
              0.5555555555555556,
              "#d8576b"
             ],
             [
              0.6666666666666666,
              "#ed7953"
             ],
             [
              0.7777777777777778,
              "#fb9f3a"
             ],
             [
              0.8888888888888888,
              "#fdca26"
             ],
             [
              1,
              "#f0f921"
             ]
            ],
            "type": "histogram2d"
           }
          ],
          "histogram2dcontour": [
           {
            "colorbar": {
             "outlinewidth": 0,
             "ticks": ""
            },
            "colorscale": [
             [
              0,
              "#0d0887"
             ],
             [
              0.1111111111111111,
              "#46039f"
             ],
             [
              0.2222222222222222,
              "#7201a8"
             ],
             [
              0.3333333333333333,
              "#9c179e"
             ],
             [
              0.4444444444444444,
              "#bd3786"
             ],
             [
              0.5555555555555556,
              "#d8576b"
             ],
             [
              0.6666666666666666,
              "#ed7953"
             ],
             [
              0.7777777777777778,
              "#fb9f3a"
             ],
             [
              0.8888888888888888,
              "#fdca26"
             ],
             [
              1,
              "#f0f921"
             ]
            ],
            "type": "histogram2dcontour"
           }
          ],
          "mesh3d": [
           {
            "colorbar": {
             "outlinewidth": 0,
             "ticks": ""
            },
            "type": "mesh3d"
           }
          ],
          "parcoords": [
           {
            "line": {
             "colorbar": {
              "outlinewidth": 0,
              "ticks": ""
             }
            },
            "type": "parcoords"
           }
          ],
          "pie": [
           {
            "automargin": true,
            "type": "pie"
           }
          ],
          "scatter": [
           {
            "fillpattern": {
             "fillmode": "overlay",
             "size": 10,
             "solidity": 0.2
            },
            "type": "scatter"
           }
          ],
          "scatter3d": [
           {
            "line": {
             "colorbar": {
              "outlinewidth": 0,
              "ticks": ""
             }
            },
            "marker": {
             "colorbar": {
              "outlinewidth": 0,
              "ticks": ""
             }
            },
            "type": "scatter3d"
           }
          ],
          "scattercarpet": [
           {
            "marker": {
             "colorbar": {
              "outlinewidth": 0,
              "ticks": ""
             }
            },
            "type": "scattercarpet"
           }
          ],
          "scattergeo": [
           {
            "marker": {
             "colorbar": {
              "outlinewidth": 0,
              "ticks": ""
             }
            },
            "type": "scattergeo"
           }
          ],
          "scattergl": [
           {
            "marker": {
             "colorbar": {
              "outlinewidth": 0,
              "ticks": ""
             }
            },
            "type": "scattergl"
           }
          ],
          "scattermapbox": [
           {
            "marker": {
             "colorbar": {
              "outlinewidth": 0,
              "ticks": ""
             }
            },
            "type": "scattermapbox"
           }
          ],
          "scatterpolar": [
           {
            "marker": {
             "colorbar": {
              "outlinewidth": 0,
              "ticks": ""
             }
            },
            "type": "scatterpolar"
           }
          ],
          "scatterpolargl": [
           {
            "marker": {
             "colorbar": {
              "outlinewidth": 0,
              "ticks": ""
             }
            },
            "type": "scatterpolargl"
           }
          ],
          "scatterternary": [
           {
            "marker": {
             "colorbar": {
              "outlinewidth": 0,
              "ticks": ""
             }
            },
            "type": "scatterternary"
           }
          ],
          "surface": [
           {
            "colorbar": {
             "outlinewidth": 0,
             "ticks": ""
            },
            "colorscale": [
             [
              0,
              "#0d0887"
             ],
             [
              0.1111111111111111,
              "#46039f"
             ],
             [
              0.2222222222222222,
              "#7201a8"
             ],
             [
              0.3333333333333333,
              "#9c179e"
             ],
             [
              0.4444444444444444,
              "#bd3786"
             ],
             [
              0.5555555555555556,
              "#d8576b"
             ],
             [
              0.6666666666666666,
              "#ed7953"
             ],
             [
              0.7777777777777778,
              "#fb9f3a"
             ],
             [
              0.8888888888888888,
              "#fdca26"
             ],
             [
              1,
              "#f0f921"
             ]
            ],
            "type": "surface"
           }
          ],
          "table": [
           {
            "cells": {
             "fill": {
              "color": "#EBF0F8"
             },
             "line": {
              "color": "white"
             }
            },
            "header": {
             "fill": {
              "color": "#C8D4E3"
             },
             "line": {
              "color": "white"
             }
            },
            "type": "table"
           }
          ]
         },
         "layout": {
          "annotationdefaults": {
           "arrowcolor": "#2a3f5f",
           "arrowhead": 0,
           "arrowwidth": 1
          },
          "autotypenumbers": "strict",
          "coloraxis": {
           "colorbar": {
            "outlinewidth": 0,
            "ticks": ""
           }
          },
          "colorscale": {
           "diverging": [
            [
             0,
             "#8e0152"
            ],
            [
             0.1,
             "#c51b7d"
            ],
            [
             0.2,
             "#de77ae"
            ],
            [
             0.3,
             "#f1b6da"
            ],
            [
             0.4,
             "#fde0ef"
            ],
            [
             0.5,
             "#f7f7f7"
            ],
            [
             0.6,
             "#e6f5d0"
            ],
            [
             0.7,
             "#b8e186"
            ],
            [
             0.8,
             "#7fbc41"
            ],
            [
             0.9,
             "#4d9221"
            ],
            [
             1,
             "#276419"
            ]
           ],
           "sequential": [
            [
             0,
             "#0d0887"
            ],
            [
             0.1111111111111111,
             "#46039f"
            ],
            [
             0.2222222222222222,
             "#7201a8"
            ],
            [
             0.3333333333333333,
             "#9c179e"
            ],
            [
             0.4444444444444444,
             "#bd3786"
            ],
            [
             0.5555555555555556,
             "#d8576b"
            ],
            [
             0.6666666666666666,
             "#ed7953"
            ],
            [
             0.7777777777777778,
             "#fb9f3a"
            ],
            [
             0.8888888888888888,
             "#fdca26"
            ],
            [
             1,
             "#f0f921"
            ]
           ],
           "sequentialminus": [
            [
             0,
             "#0d0887"
            ],
            [
             0.1111111111111111,
             "#46039f"
            ],
            [
             0.2222222222222222,
             "#7201a8"
            ],
            [
             0.3333333333333333,
             "#9c179e"
            ],
            [
             0.4444444444444444,
             "#bd3786"
            ],
            [
             0.5555555555555556,
             "#d8576b"
            ],
            [
             0.6666666666666666,
             "#ed7953"
            ],
            [
             0.7777777777777778,
             "#fb9f3a"
            ],
            [
             0.8888888888888888,
             "#fdca26"
            ],
            [
             1,
             "#f0f921"
            ]
           ]
          },
          "colorway": [
           "#636efa",
           "#EF553B",
           "#00cc96",
           "#ab63fa",
           "#FFA15A",
           "#19d3f3",
           "#FF6692",
           "#B6E880",
           "#FF97FF",
           "#FECB52"
          ],
          "font": {
           "color": "#2a3f5f"
          },
          "geo": {
           "bgcolor": "white",
           "lakecolor": "white",
           "landcolor": "#E5ECF6",
           "showlakes": true,
           "showland": true,
           "subunitcolor": "white"
          },
          "hoverlabel": {
           "align": "left"
          },
          "hovermode": "closest",
          "mapbox": {
           "style": "light"
          },
          "paper_bgcolor": "white",
          "plot_bgcolor": "#E5ECF6",
          "polar": {
           "angularaxis": {
            "gridcolor": "white",
            "linecolor": "white",
            "ticks": ""
           },
           "bgcolor": "#E5ECF6",
           "radialaxis": {
            "gridcolor": "white",
            "linecolor": "white",
            "ticks": ""
           }
          },
          "scene": {
           "xaxis": {
            "backgroundcolor": "#E5ECF6",
            "gridcolor": "white",
            "gridwidth": 2,
            "linecolor": "white",
            "showbackground": true,
            "ticks": "",
            "zerolinecolor": "white"
           },
           "yaxis": {
            "backgroundcolor": "#E5ECF6",
            "gridcolor": "white",
            "gridwidth": 2,
            "linecolor": "white",
            "showbackground": true,
            "ticks": "",
            "zerolinecolor": "white"
           },
           "zaxis": {
            "backgroundcolor": "#E5ECF6",
            "gridcolor": "white",
            "gridwidth": 2,
            "linecolor": "white",
            "showbackground": true,
            "ticks": "",
            "zerolinecolor": "white"
           }
          },
          "shapedefaults": {
           "line": {
            "color": "#2a3f5f"
           }
          },
          "ternary": {
           "aaxis": {
            "gridcolor": "white",
            "linecolor": "white",
            "ticks": ""
           },
           "baxis": {
            "gridcolor": "white",
            "linecolor": "white",
            "ticks": ""
           },
           "bgcolor": "#E5ECF6",
           "caxis": {
            "gridcolor": "white",
            "linecolor": "white",
            "ticks": ""
           }
          },
          "title": {
           "x": 0.05
          },
          "xaxis": {
           "automargin": true,
           "gridcolor": "white",
           "linecolor": "white",
           "ticks": "",
           "title": {
            "standoff": 15
           },
           "zerolinecolor": "white",
           "zerolinewidth": 2
          },
          "yaxis": {
           "automargin": true,
           "gridcolor": "white",
           "linecolor": "white",
           "ticks": "",
           "title": {
            "standoff": 15
           },
           "zerolinecolor": "white",
           "zerolinewidth": 2
          }
         }
        },
        "title": {
         "text": "Slice Plot"
        },
        "xaxis": {
         "anchor": "y",
         "domain": [
          0,
          0.2888888888888889
         ],
         "title": {
          "text": "C"
         },
         "type": "log"
        },
        "xaxis2": {
         "anchor": "y2",
         "categoryarray": [
          "l1",
          "l2"
         ],
         "categoryorder": "array",
         "domain": [
          0.35555555555555557,
          0.6444444444444445
         ],
         "title": {
          "text": "penalty"
         },
         "type": "category"
        },
        "xaxis3": {
         "anchor": "y3",
         "categoryarray": [
          "liblinear",
          "saga"
         ],
         "categoryorder": "array",
         "domain": [
          0.7111111111111111,
          1
         ],
         "title": {
          "text": "solver"
         },
         "type": "category"
        },
        "yaxis": {
         "anchor": "x",
         "domain": [
          0,
          1
         ],
         "title": {
          "text": "Objective Value"
         }
        },
        "yaxis2": {
         "anchor": "x2",
         "domain": [
          0,
          1
         ],
         "matches": "y",
         "showticklabels": false
        },
        "yaxis3": {
         "anchor": "x3",
         "domain": [
          0,
          1
         ],
         "matches": "y",
         "showticklabels": false
        }
       }
      }
     },
     "metadata": {},
     "output_type": "display_data"
    }
   ],
   "source": [
    "optuna.visualization.plot_slice(study)"
   ]
  },
  {
   "cell_type": "code",
   "execution_count": 8,
   "metadata": {},
   "outputs": [
    {
     "name": "stderr",
     "output_type": "stream",
     "text": [
      "/var/folders/4b/f4zzvdd97mdb6v7rmbgvl76w0000gn/T/ipykernel_9988/1444313804.py:2: ExperimentalWarning:\n",
      "\n",
      "plot_terminator_improvement is experimental (supported from v3.2.0). The interface can change in the future.\n",
      "\n",
      "/opt/anaconda3/lib/python3.11/site-packages/optuna/visualization/_terminator_improvement.py:131: ExperimentalWarning:\n",
      "\n",
      "RegretBoundEvaluator is experimental (supported from v3.2.0). The interface can change in the future.\n",
      "\n",
      "/opt/anaconda3/lib/python3.11/site-packages/optuna/visualization/_terminator_improvement.py:136: ExperimentalWarning:\n",
      "\n",
      "CrossValidationErrorEvaluator is experimental (supported from v3.2.0). The interface can change in the future.\n",
      "\n",
      "100%|██████████| 100/100 [00:04<00:00, 20.60it/s]\n"
     ]
    },
    {
     "data": {
      "application/vnd.plotly.v1+json": {
       "config": {
        "plotlyServerURL": "https://plot.ly"
       },
       "data": [
        {
         "legendgroup": "improvement",
         "line": {
          "color": "rgba(99, 110, 250, 0.25)"
         },
         "marker": {
          "color": "rgba(99, 110, 250, 0.25)"
         },
         "mode": "markers+lines",
         "name": "Terminator Improvement",
         "showlegend": false,
         "type": "scatter",
         "x": [
          0,
          1,
          2,
          3,
          4,
          5,
          6,
          7,
          8,
          9,
          10,
          11,
          12,
          13,
          14,
          15,
          16,
          17,
          18,
          19,
          20
         ],
         "y": [
          9.218745683013485e-11,
          0.0854435418542866,
          0.06388220952413369,
          0.05137967145548055,
          0.05178121152241751,
          0.1505854624892772,
          0.13522529988738982,
          0.12738335887586924,
          0.20020618382753796,
          0.09273863611499526,
          0.0850828304534382,
          0.07762507887670062,
          0.07492816416062058,
          0.08336913262791106,
          0.08154904716894977,
          0.07999119701252341,
          0.0796443330125836,
          0.07733258796853276,
          0.07859057169732604,
          0.08255528033288258,
          0.05772155391634969
         ]
        },
        {
         "legendgroup": "improvement",
         "line": {
          "color": "rgba(99, 110, 250, 1.0)"
         },
         "marker": {
          "color": "rgba(99, 110, 250, 1.0)"
         },
         "mode": "markers+lines",
         "name": "Terminator Improvement",
         "showlegend": true,
         "type": "scatter",
         "x": [
          20,
          21,
          22,
          23,
          24,
          25,
          26,
          27,
          28,
          29,
          30,
          31,
          32,
          33,
          34,
          35,
          36,
          37,
          38,
          39,
          40,
          41,
          42,
          43,
          44,
          45,
          46,
          47,
          48,
          49,
          50,
          51,
          52,
          53,
          54,
          55,
          56,
          57,
          58,
          59,
          60,
          61,
          62,
          63,
          64,
          65,
          66,
          67,
          68,
          69,
          70,
          71,
          72,
          73,
          74,
          75,
          76,
          77,
          78,
          79,
          80,
          81,
          82,
          83,
          84,
          85,
          86,
          87,
          88,
          89,
          90,
          91,
          92,
          93,
          94,
          95,
          96,
          97,
          98,
          99
         ],
         "y": [
          0.05772155391634969,
          0.06324918038113057,
          0.05292503598719979,
          0.05317114697794389,
          0.08605952725116853,
          0.08559474493402121,
          0.0872962369839127,
          0.10839659922433173,
          0.1172509690815785,
          0.11727512043757543,
          0.11711301525475239,
          0.11788810410217947,
          0.06029036837960051,
          0.008987332128584317,
          0.008988870581425492,
          0.008979493947757766,
          0.00897945213998587,
          0.008982157177916339,
          0.008981062311569348,
          0.005648690237583023,
          0.005649051837078608,
          0.005709015875591545,
          0.0019781849087034875,
          0.0023359713455977584,
          0.002258942854968212,
          0.00225894194502408,
          0.0022589425122290486,
          0.0022284267284282456,
          0.002206078325729756,
          0.0022060715123284596,
          0.0022060781312532867,
          0.001940403431120387,
          0.0019404004369658321,
          0.0019141843662878219,
          0.0019367902022805954,
          0.002093483360567032,
          0.002182581060092284,
          0.0022262818539767752,
          0.002226246617413421,
          0.002210889796709974,
          0.0022160916302960436,
          0.002199855173306675,
          0.0021998552632639173,
          0.002210615823817089,
          0.0022106195527985396,
          0.002216925848976857,
          0.0022169271970214157,
          0.0022001015590595928,
          0.002200101344067034,
          0.002176569543237589,
          0.0021765829426249744,
          0.0025470514794501595,
          0.003025897104595861,
          0.0030321848706983336,
          0.003031275678903152,
          0.0030557683687724604,
          0.003055761941197055,
          0.003106327234452395,
          0.0031063215180623387,
          0.0028716879743880593,
          0.0028716483907643264,
          0.002871695630127084,
          0.002906072068356009,
          0.002916998417281719,
          0.0031185083319592334,
          0.0031502043743825503,
          0.003150210319453228,
          0.003264488701353821,
          0.003264489453982954,
          0.0030600278221771405,
          0.003269623586918736,
          0.0032666074132970484,
          0.0032666096056892515,
          0.003270436528999073,
          0.0033679189373619104,
          0.003353750871200116,
          0.0034824853049579487,
          0.003614628073918717,
          0.0036265250900135316,
          0.0036081984557861514
         ]
        },
        {
         "type": "scatter"
        }
       ],
       "layout": {
        "template": {
         "data": {
          "bar": [
           {
            "error_x": {
             "color": "#2a3f5f"
            },
            "error_y": {
             "color": "#2a3f5f"
            },
            "marker": {
             "line": {
              "color": "#E5ECF6",
              "width": 0.5
             },
             "pattern": {
              "fillmode": "overlay",
              "size": 10,
              "solidity": 0.2
             }
            },
            "type": "bar"
           }
          ],
          "barpolar": [
           {
            "marker": {
             "line": {
              "color": "#E5ECF6",
              "width": 0.5
             },
             "pattern": {
              "fillmode": "overlay",
              "size": 10,
              "solidity": 0.2
             }
            },
            "type": "barpolar"
           }
          ],
          "carpet": [
           {
            "aaxis": {
             "endlinecolor": "#2a3f5f",
             "gridcolor": "white",
             "linecolor": "white",
             "minorgridcolor": "white",
             "startlinecolor": "#2a3f5f"
            },
            "baxis": {
             "endlinecolor": "#2a3f5f",
             "gridcolor": "white",
             "linecolor": "white",
             "minorgridcolor": "white",
             "startlinecolor": "#2a3f5f"
            },
            "type": "carpet"
           }
          ],
          "choropleth": [
           {
            "colorbar": {
             "outlinewidth": 0,
             "ticks": ""
            },
            "type": "choropleth"
           }
          ],
          "contour": [
           {
            "colorbar": {
             "outlinewidth": 0,
             "ticks": ""
            },
            "colorscale": [
             [
              0,
              "#0d0887"
             ],
             [
              0.1111111111111111,
              "#46039f"
             ],
             [
              0.2222222222222222,
              "#7201a8"
             ],
             [
              0.3333333333333333,
              "#9c179e"
             ],
             [
              0.4444444444444444,
              "#bd3786"
             ],
             [
              0.5555555555555556,
              "#d8576b"
             ],
             [
              0.6666666666666666,
              "#ed7953"
             ],
             [
              0.7777777777777778,
              "#fb9f3a"
             ],
             [
              0.8888888888888888,
              "#fdca26"
             ],
             [
              1,
              "#f0f921"
             ]
            ],
            "type": "contour"
           }
          ],
          "contourcarpet": [
           {
            "colorbar": {
             "outlinewidth": 0,
             "ticks": ""
            },
            "type": "contourcarpet"
           }
          ],
          "heatmap": [
           {
            "colorbar": {
             "outlinewidth": 0,
             "ticks": ""
            },
            "colorscale": [
             [
              0,
              "#0d0887"
             ],
             [
              0.1111111111111111,
              "#46039f"
             ],
             [
              0.2222222222222222,
              "#7201a8"
             ],
             [
              0.3333333333333333,
              "#9c179e"
             ],
             [
              0.4444444444444444,
              "#bd3786"
             ],
             [
              0.5555555555555556,
              "#d8576b"
             ],
             [
              0.6666666666666666,
              "#ed7953"
             ],
             [
              0.7777777777777778,
              "#fb9f3a"
             ],
             [
              0.8888888888888888,
              "#fdca26"
             ],
             [
              1,
              "#f0f921"
             ]
            ],
            "type": "heatmap"
           }
          ],
          "heatmapgl": [
           {
            "colorbar": {
             "outlinewidth": 0,
             "ticks": ""
            },
            "colorscale": [
             [
              0,
              "#0d0887"
             ],
             [
              0.1111111111111111,
              "#46039f"
             ],
             [
              0.2222222222222222,
              "#7201a8"
             ],
             [
              0.3333333333333333,
              "#9c179e"
             ],
             [
              0.4444444444444444,
              "#bd3786"
             ],
             [
              0.5555555555555556,
              "#d8576b"
             ],
             [
              0.6666666666666666,
              "#ed7953"
             ],
             [
              0.7777777777777778,
              "#fb9f3a"
             ],
             [
              0.8888888888888888,
              "#fdca26"
             ],
             [
              1,
              "#f0f921"
             ]
            ],
            "type": "heatmapgl"
           }
          ],
          "histogram": [
           {
            "marker": {
             "pattern": {
              "fillmode": "overlay",
              "size": 10,
              "solidity": 0.2
             }
            },
            "type": "histogram"
           }
          ],
          "histogram2d": [
           {
            "colorbar": {
             "outlinewidth": 0,
             "ticks": ""
            },
            "colorscale": [
             [
              0,
              "#0d0887"
             ],
             [
              0.1111111111111111,
              "#46039f"
             ],
             [
              0.2222222222222222,
              "#7201a8"
             ],
             [
              0.3333333333333333,
              "#9c179e"
             ],
             [
              0.4444444444444444,
              "#bd3786"
             ],
             [
              0.5555555555555556,
              "#d8576b"
             ],
             [
              0.6666666666666666,
              "#ed7953"
             ],
             [
              0.7777777777777778,
              "#fb9f3a"
             ],
             [
              0.8888888888888888,
              "#fdca26"
             ],
             [
              1,
              "#f0f921"
             ]
            ],
            "type": "histogram2d"
           }
          ],
          "histogram2dcontour": [
           {
            "colorbar": {
             "outlinewidth": 0,
             "ticks": ""
            },
            "colorscale": [
             [
              0,
              "#0d0887"
             ],
             [
              0.1111111111111111,
              "#46039f"
             ],
             [
              0.2222222222222222,
              "#7201a8"
             ],
             [
              0.3333333333333333,
              "#9c179e"
             ],
             [
              0.4444444444444444,
              "#bd3786"
             ],
             [
              0.5555555555555556,
              "#d8576b"
             ],
             [
              0.6666666666666666,
              "#ed7953"
             ],
             [
              0.7777777777777778,
              "#fb9f3a"
             ],
             [
              0.8888888888888888,
              "#fdca26"
             ],
             [
              1,
              "#f0f921"
             ]
            ],
            "type": "histogram2dcontour"
           }
          ],
          "mesh3d": [
           {
            "colorbar": {
             "outlinewidth": 0,
             "ticks": ""
            },
            "type": "mesh3d"
           }
          ],
          "parcoords": [
           {
            "line": {
             "colorbar": {
              "outlinewidth": 0,
              "ticks": ""
             }
            },
            "type": "parcoords"
           }
          ],
          "pie": [
           {
            "automargin": true,
            "type": "pie"
           }
          ],
          "scatter": [
           {
            "fillpattern": {
             "fillmode": "overlay",
             "size": 10,
             "solidity": 0.2
            },
            "type": "scatter"
           }
          ],
          "scatter3d": [
           {
            "line": {
             "colorbar": {
              "outlinewidth": 0,
              "ticks": ""
             }
            },
            "marker": {
             "colorbar": {
              "outlinewidth": 0,
              "ticks": ""
             }
            },
            "type": "scatter3d"
           }
          ],
          "scattercarpet": [
           {
            "marker": {
             "colorbar": {
              "outlinewidth": 0,
              "ticks": ""
             }
            },
            "type": "scattercarpet"
           }
          ],
          "scattergeo": [
           {
            "marker": {
             "colorbar": {
              "outlinewidth": 0,
              "ticks": ""
             }
            },
            "type": "scattergeo"
           }
          ],
          "scattergl": [
           {
            "marker": {
             "colorbar": {
              "outlinewidth": 0,
              "ticks": ""
             }
            },
            "type": "scattergl"
           }
          ],
          "scattermapbox": [
           {
            "marker": {
             "colorbar": {
              "outlinewidth": 0,
              "ticks": ""
             }
            },
            "type": "scattermapbox"
           }
          ],
          "scatterpolar": [
           {
            "marker": {
             "colorbar": {
              "outlinewidth": 0,
              "ticks": ""
             }
            },
            "type": "scatterpolar"
           }
          ],
          "scatterpolargl": [
           {
            "marker": {
             "colorbar": {
              "outlinewidth": 0,
              "ticks": ""
             }
            },
            "type": "scatterpolargl"
           }
          ],
          "scatterternary": [
           {
            "marker": {
             "colorbar": {
              "outlinewidth": 0,
              "ticks": ""
             }
            },
            "type": "scatterternary"
           }
          ],
          "surface": [
           {
            "colorbar": {
             "outlinewidth": 0,
             "ticks": ""
            },
            "colorscale": [
             [
              0,
              "#0d0887"
             ],
             [
              0.1111111111111111,
              "#46039f"
             ],
             [
              0.2222222222222222,
              "#7201a8"
             ],
             [
              0.3333333333333333,
              "#9c179e"
             ],
             [
              0.4444444444444444,
              "#bd3786"
             ],
             [
              0.5555555555555556,
              "#d8576b"
             ],
             [
              0.6666666666666666,
              "#ed7953"
             ],
             [
              0.7777777777777778,
              "#fb9f3a"
             ],
             [
              0.8888888888888888,
              "#fdca26"
             ],
             [
              1,
              "#f0f921"
             ]
            ],
            "type": "surface"
           }
          ],
          "table": [
           {
            "cells": {
             "fill": {
              "color": "#EBF0F8"
             },
             "line": {
              "color": "white"
             }
            },
            "header": {
             "fill": {
              "color": "#C8D4E3"
             },
             "line": {
              "color": "white"
             }
            },
            "type": "table"
           }
          ]
         },
         "layout": {
          "annotationdefaults": {
           "arrowcolor": "#2a3f5f",
           "arrowhead": 0,
           "arrowwidth": 1
          },
          "autotypenumbers": "strict",
          "coloraxis": {
           "colorbar": {
            "outlinewidth": 0,
            "ticks": ""
           }
          },
          "colorscale": {
           "diverging": [
            [
             0,
             "#8e0152"
            ],
            [
             0.1,
             "#c51b7d"
            ],
            [
             0.2,
             "#de77ae"
            ],
            [
             0.3,
             "#f1b6da"
            ],
            [
             0.4,
             "#fde0ef"
            ],
            [
             0.5,
             "#f7f7f7"
            ],
            [
             0.6,
             "#e6f5d0"
            ],
            [
             0.7,
             "#b8e186"
            ],
            [
             0.8,
             "#7fbc41"
            ],
            [
             0.9,
             "#4d9221"
            ],
            [
             1,
             "#276419"
            ]
           ],
           "sequential": [
            [
             0,
             "#0d0887"
            ],
            [
             0.1111111111111111,
             "#46039f"
            ],
            [
             0.2222222222222222,
             "#7201a8"
            ],
            [
             0.3333333333333333,
             "#9c179e"
            ],
            [
             0.4444444444444444,
             "#bd3786"
            ],
            [
             0.5555555555555556,
             "#d8576b"
            ],
            [
             0.6666666666666666,
             "#ed7953"
            ],
            [
             0.7777777777777778,
             "#fb9f3a"
            ],
            [
             0.8888888888888888,
             "#fdca26"
            ],
            [
             1,
             "#f0f921"
            ]
           ],
           "sequentialminus": [
            [
             0,
             "#0d0887"
            ],
            [
             0.1111111111111111,
             "#46039f"
            ],
            [
             0.2222222222222222,
             "#7201a8"
            ],
            [
             0.3333333333333333,
             "#9c179e"
            ],
            [
             0.4444444444444444,
             "#bd3786"
            ],
            [
             0.5555555555555556,
             "#d8576b"
            ],
            [
             0.6666666666666666,
             "#ed7953"
            ],
            [
             0.7777777777777778,
             "#fb9f3a"
            ],
            [
             0.8888888888888888,
             "#fdca26"
            ],
            [
             1,
             "#f0f921"
            ]
           ]
          },
          "colorway": [
           "#636efa",
           "#EF553B",
           "#00cc96",
           "#ab63fa",
           "#FFA15A",
           "#19d3f3",
           "#FF6692",
           "#B6E880",
           "#FF97FF",
           "#FECB52"
          ],
          "font": {
           "color": "#2a3f5f"
          },
          "geo": {
           "bgcolor": "white",
           "lakecolor": "white",
           "landcolor": "#E5ECF6",
           "showlakes": true,
           "showland": true,
           "subunitcolor": "white"
          },
          "hoverlabel": {
           "align": "left"
          },
          "hovermode": "closest",
          "mapbox": {
           "style": "light"
          },
          "paper_bgcolor": "white",
          "plot_bgcolor": "#E5ECF6",
          "polar": {
           "angularaxis": {
            "gridcolor": "white",
            "linecolor": "white",
            "ticks": ""
           },
           "bgcolor": "#E5ECF6",
           "radialaxis": {
            "gridcolor": "white",
            "linecolor": "white",
            "ticks": ""
           }
          },
          "scene": {
           "xaxis": {
            "backgroundcolor": "#E5ECF6",
            "gridcolor": "white",
            "gridwidth": 2,
            "linecolor": "white",
            "showbackground": true,
            "ticks": "",
            "zerolinecolor": "white"
           },
           "yaxis": {
            "backgroundcolor": "#E5ECF6",
            "gridcolor": "white",
            "gridwidth": 2,
            "linecolor": "white",
            "showbackground": true,
            "ticks": "",
            "zerolinecolor": "white"
           },
           "zaxis": {
            "backgroundcolor": "#E5ECF6",
            "gridcolor": "white",
            "gridwidth": 2,
            "linecolor": "white",
            "showbackground": true,
            "ticks": "",
            "zerolinecolor": "white"
           }
          },
          "shapedefaults": {
           "line": {
            "color": "#2a3f5f"
           }
          },
          "ternary": {
           "aaxis": {
            "gridcolor": "white",
            "linecolor": "white",
            "ticks": ""
           },
           "baxis": {
            "gridcolor": "white",
            "linecolor": "white",
            "ticks": ""
           },
           "bgcolor": "#E5ECF6",
           "caxis": {
            "gridcolor": "white",
            "linecolor": "white",
            "ticks": ""
           }
          },
          "title": {
           "x": 0.05
          },
          "xaxis": {
           "automargin": true,
           "gridcolor": "white",
           "linecolor": "white",
           "ticks": "",
           "title": {
            "standoff": 15
           },
           "zerolinecolor": "white",
           "zerolinewidth": 2
          },
          "yaxis": {
           "automargin": true,
           "gridcolor": "white",
           "linecolor": "white",
           "ticks": "",
           "title": {
            "standoff": 15
           },
           "zerolinecolor": "white",
           "zerolinewidth": 2
          }
         }
        },
        "title": {
         "text": "Terminator Improvement Plot"
        },
        "xaxis": {
         "title": {
          "text": "Trial"
         }
        },
        "yaxis": {
         "range": [
          -0.005894405108312145,
          0.12378250930267906
         ],
         "title": {
          "text": "Terminator Improvement"
         }
        }
       }
      }
     },
     "metadata": {},
     "output_type": "display_data"
    }
   ],
   "source": [
    "import torch\n",
    "optuna.visualization.plot_terminator_improvement(study)"
   ]
  },
  {
   "cell_type": "code",
   "execution_count": null,
   "metadata": {},
   "outputs": [],
   "source": []
  }
 ],
 "metadata": {
  "kernelspec": {
   "display_name": "base",
   "language": "python",
   "name": "python3"
  },
  "language_info": {
   "codemirror_mode": {
    "name": "ipython",
    "version": 3
   },
   "file_extension": ".py",
   "mimetype": "text/x-python",
   "name": "python",
   "nbconvert_exporter": "python",
   "pygments_lexer": "ipython3",
   "version": "3.11.8"
  },
  "orig_nbformat": 4
 },
 "nbformat": 4,
 "nbformat_minor": 2
}
