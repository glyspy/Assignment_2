{
 "cells": [
  {
   "cell_type": "markdown",
   "metadata": {},
   "source": [
    "# **MLCB - Assignment 2**\n",
    "### Glykeria Spyrou"
   ]
  },
  {
   "cell_type": "markdown",
   "metadata": {},
   "source": [
    "Setting up the project's directory and importing the proper libraries.\n",
    "\n",
    "For the whole assignment project, a `functions.py` script was created containing several custom functions that were developped and in multiple instances."
   ]
  },
  {
   "cell_type": "code",
   "execution_count": 1,
   "metadata": {},
   "outputs": [],
   "source": [
    "# Load libraries\n",
    "import numpy as np\n",
    "import pandas as pd\n",
    "import plotly.io as pio\n",
    "\n",
    "import os\n",
    "os.chdir('/Users/glykeriasp/Documents/DSIT/Machine Learning in Computational Biology/Assignments/Assignment 2/Assignment_2/src/')\n",
    "from functions import boxplot_feats_plot, correlation_heatmap, pca_plot, outlier_mask"
   ]
  },
  {
   "cell_type": "markdown",
   "metadata": {},
   "source": [
    "The dataset of the current assignment was downloaded via git through the following comnand:\n",
    "\n",
    "`git clone https://github.com/MLCB2024Class/Assignment_2.git`\n",
    "\n",
    "Then, through the following command we created three subdirectories for source code, notebooks, and models withing our working directory.\n",
    "\n",
    "`mkdir src notebooks models`"
   ]
  },
  {
   "cell_type": "markdown",
   "metadata": {},
   "source": [
    "### **TASK 1: Exploratory Data Analysis**"
   ]
  },
  {
   "cell_type": "markdown",
   "metadata": {},
   "source": [
    "#### *Dataset Overview and Descriptive Statistics*"
   ]
  },
  {
   "cell_type": "code",
   "execution_count": 2,
   "metadata": {},
   "outputs": [],
   "source": [
    "# Load the .csv file of the Diabetes dataset\n",
    "os.chdir('/Users/glykeriasp/Documents/DSIT/Machine Learning in Computational Biology/Assignments/Assignment 2/Assignment_2')\n",
    "data = pd.read_csv('data/Diabetes.csv')"
   ]
  },
  {
   "cell_type": "code",
   "execution_count": 3,
   "metadata": {},
   "outputs": [
    {
     "name": "stdout",
     "output_type": "stream",
     "text": [
      "Shape of the dataset: (506, 10)\n",
      "\n",
      "First few rows of the dataset:\n",
      "    ID  Pregnancies  Glucose  BloodPressure  SkinThickness  Insulin   BMI  \\\n",
      "0  200            0      113             80             16        0  31.0   \n",
      "1  552            6      114             88              0        0  27.8   \n",
      "2   50            1      103             80             11       82  19.4   \n",
      "3  631            0      102             78             40       90  34.5   \n",
      "4   47            2       71             70             27        0  28.0   \n",
      "\n",
      "   DiabetesPedigreeFunction  Age  Outcome  \n",
      "0                     0.874   21        0  \n",
      "1                     0.247   66        0  \n",
      "2                     0.491   22        0  \n",
      "3                     0.238   24        0  \n",
      "4                     0.586   22        0  \n"
     ]
    }
   ],
   "source": [
    "# Shape of the dataset\n",
    "print(\"Shape of the dataset:\", data.shape)\n",
    "\n",
    "# Printing the head of the dataset\n",
    "print(\"\\nFirst few rows of the dataset:\")\n",
    "print(data.head())"
   ]
  },
  {
   "cell_type": "code",
   "execution_count": 4,
   "metadata": {},
   "outputs": [
    {
     "name": "stdout",
     "output_type": "stream",
     "text": [
      "\n",
      "Column data types and missing values:\n",
      "<class 'pandas.core.frame.DataFrame'>\n",
      "RangeIndex: 506 entries, 0 to 505\n",
      "Data columns (total 10 columns):\n",
      " #   Column                    Non-Null Count  Dtype  \n",
      "---  ------                    --------------  -----  \n",
      " 0   ID                        506 non-null    int64  \n",
      " 1   Pregnancies               506 non-null    int64  \n",
      " 2   Glucose                   506 non-null    int64  \n",
      " 3   BloodPressure             506 non-null    int64  \n",
      " 4   SkinThickness             506 non-null    int64  \n",
      " 5   Insulin                   506 non-null    int64  \n",
      " 6   BMI                       506 non-null    float64\n",
      " 7   DiabetesPedigreeFunction  506 non-null    float64\n",
      " 8   Age                       506 non-null    int64  \n",
      " 9   Outcome                   506 non-null    int64  \n",
      "dtypes: float64(2), int64(8)\n",
      "memory usage: 39.7 KB\n",
      "None\n"
     ]
    }
   ],
   "source": [
    "# Display column data types and check for missing values\n",
    "print(\"\\nColumn data types and missing values:\")\n",
    "print(data.info())"
   ]
  },
  {
   "cell_type": "markdown",
   "metadata": {},
   "source": [
    "As shown on the output above, there are non-null values in any of the columns of the dataset.\n",
    "We can also see that the data types of all columns are integer, except for the 'BMI' and 'DiabetesPedigreeFunction' that are floats."
   ]
  },
  {
   "cell_type": "code",
   "execution_count": 5,
   "metadata": {},
   "outputs": [
    {
     "name": "stdout",
     "output_type": "stream",
     "text": [
      "\n",
      "Number of duplicate rows: 0\n"
     ]
    }
   ],
   "source": [
    "# Check for duplicate rows\n",
    "duplicate_rows = data[data.duplicated()]\n",
    "print(\"\\nNumber of duplicate rows:\", duplicate_rows.shape[0])"
   ]
  },
  {
   "cell_type": "code",
   "execution_count": 6,
   "metadata": {},
   "outputs": [
    {
     "name": "stdout",
     "output_type": "stream",
     "text": [
      "\n",
      "Descriptive statistics:\n",
      "               ID  Pregnancies   Glucose  BloodPressure  SkinThickness  \\\n",
      "count  506.000000   506.000000  506.0000     506.000000     506.000000   \n",
      "mean   385.225296     3.879447  120.5000      69.397233      20.480237   \n",
      "std    220.920434     3.354809   31.6791      18.970491      15.602888   \n",
      "min      0.000000     0.000000    0.0000       0.000000       0.000000   \n",
      "25%    191.250000     1.000000   98.2500      62.000000       0.000000   \n",
      "50%    382.500000     3.000000  116.0000      72.000000      23.000000   \n",
      "75%    576.500000     6.000000  140.0000      80.000000      32.000000   \n",
      "max    764.000000    17.000000  198.0000     122.000000      60.000000   \n",
      "\n",
      "          Insulin         BMI  DiabetesPedigreeFunction         Age  \\\n",
      "count  506.000000  506.000000                506.000000  506.000000   \n",
      "mean    76.666008   32.168775                  0.478875   33.268775   \n",
      "std    107.365763    7.931377                  0.340221   11.542041   \n",
      "min      0.000000    0.000000                  0.084000   21.000000   \n",
      "25%      0.000000   27.725000                  0.245250   24.000000   \n",
      "50%     36.000000   32.400000                  0.379000   29.000000   \n",
      "75%    129.750000   36.575000                  0.628500   40.750000   \n",
      "max    744.000000   67.100000                  2.329000   81.000000   \n",
      "\n",
      "          Outcome  \n",
      "count  506.000000  \n",
      "mean     0.349802  \n",
      "std      0.477379  \n",
      "min      0.000000  \n",
      "25%      0.000000  \n",
      "50%      0.000000  \n",
      "75%      1.000000  \n",
      "max      1.000000  \n"
     ]
    }
   ],
   "source": [
    "# Descriptive statistics\n",
    "print(\"\\nDescriptive statistics:\")\n",
    "print(data.describe())"
   ]
  },
  {
   "cell_type": "markdown",
   "metadata": {},
   "source": [
    "In the cell below the class balance of the dataset is described."
   ]
  },
  {
   "cell_type": "code",
   "execution_count": 7,
   "metadata": {},
   "outputs": [
    {
     "name": "stdout",
     "output_type": "stream",
     "text": [
      "Class Balance:\n",
      "Healthy Controls (Class 0): 329 instances, 65.02% of total\n",
      "Diabetes Patients (Class 1): 177 instances, 34.98% of total\n"
     ]
    }
   ],
   "source": [
    "# Class balance\n",
    "class_counts = data['Outcome'].value_counts()\n",
    "\n",
    "# Calculating the proportions\n",
    "healthy_count = class_counts[0]\n",
    "diabetes_count = class_counts[1]\n",
    "\n",
    "total_samples = data.shape[0]\n",
    "healthy_prop = healthy_count/total_samples\n",
    "diabetes_prop = diabetes_count/total_samples\n",
    "\n",
    "print(\"Class Balance:\")\n",
    "print(f\"Healthy Controls (Class 0): {healthy_count} instances, {healthy_prop:.2%} of total\")\n",
    "print(f\"Diabetes Patients (Class 1): {diabetes_count} instances, {diabetes_prop:.2%} of total\")"
   ]
  },
  {
   "cell_type": "markdown",
   "metadata": {},
   "source": [
    "#### *Feature Assessment and Visualization*"
   ]
  },
  {
   "cell_type": "markdown",
   "metadata": {},
   "source": [
    "For the assessment of the features, first of all, we are going to create boxplots that will help us examine their distributions."
   ]
  },
  {
   "cell_type": "code",
   "execution_count": 8,
   "metadata": {},
   "outputs": [
    {
     "data": {
      "application/vnd.plotly.v1+json": {
       "config": {
        "plotlyServerURL": "https://plot.ly"
       },
       "data": [
        {
         "name": "Pregnancies",
         "showlegend": false,
         "type": "box",
         "xaxis": "x",
         "y": [
          0,
          6,
          1,
          0,
          2,
          2,
          4,
          6,
          8,
          9,
          8,
          0,
          2,
          6,
          8,
          0,
          14,
          5,
          2,
          9,
          8,
          1,
          8,
          6,
          6,
          1,
          2,
          1,
          1,
          2,
          1,
          0,
          4,
          4,
          3,
          8,
          6,
          5,
          5,
          1,
          1,
          1,
          2,
          6,
          4,
          3,
          3,
          0,
          2,
          2,
          12,
          10,
          2,
          3,
          3,
          9,
          8,
          2,
          1,
          4,
          0,
          1,
          0,
          1,
          5,
          1,
          8,
          13,
          2,
          1,
          2,
          5,
          0,
          0,
          10,
          10,
          2,
          3,
          7,
          3,
          0,
          2,
          5,
          9,
          12,
          4,
          13,
          8,
          1,
          4,
          3,
          0,
          6,
          3,
          6,
          1,
          9,
          1,
          6,
          0,
          10,
          4,
          3,
          4,
          2,
          2,
          10,
          0,
          2,
          4,
          10,
          1,
          1,
          5,
          6,
          2,
          3,
          5,
          13,
          1,
          7,
          10,
          5,
          8,
          2,
          1,
          3,
          1,
          0,
          1,
          2,
          2,
          6,
          2,
          13,
          2,
          1,
          3,
          1,
          6,
          1,
          2,
          5,
          6,
          7,
          4,
          9,
          2,
          2,
          4,
          0,
          12,
          0,
          0,
          0,
          4,
          3,
          0,
          2,
          1,
          3,
          1,
          7,
          10,
          1,
          10,
          4,
          0,
          0,
          0,
          3,
          1,
          5,
          6,
          9,
          9,
          7,
          5,
          7,
          0,
          2,
          0,
          6,
          2,
          4,
          3,
          12,
          10,
          3,
          1,
          0,
          0,
          0,
          0,
          4,
          2,
          8,
          9,
          3,
          7,
          1,
          5,
          6,
          1,
          5,
          2,
          0,
          6,
          1,
          7,
          9,
          1,
          5,
          2,
          8,
          11,
          0,
          5,
          4,
          1,
          0,
          1,
          1,
          3,
          3,
          3,
          1,
          4,
          10,
          2,
          0,
          1,
          1,
          0,
          1,
          2,
          5,
          1,
          9,
          8,
          7,
          1,
          3,
          0,
          1,
          3,
          1,
          3,
          0,
          8,
          0,
          5,
          3,
          1,
          0,
          1,
          3,
          11,
          3,
          1,
          1,
          11,
          2,
          3,
          5,
          2,
          1,
          0,
          0,
          10,
          5,
          7,
          2,
          6,
          0,
          2,
          4,
          1,
          1,
          2,
          0,
          5,
          5,
          2,
          1,
          1,
          1,
          2,
          7,
          3,
          6,
          2,
          2,
          9,
          1,
          0,
          4,
          0,
          1,
          9,
          5,
          7,
          13,
          1,
          9,
          9,
          2,
          7,
          2,
          7,
          3,
          0,
          6,
          0,
          1,
          13,
          10,
          1,
          2,
          2,
          5,
          6,
          1,
          6,
          4,
          6,
          2,
          2,
          13,
          1,
          2,
          7,
          0,
          0,
          4,
          4,
          11,
          0,
          4,
          3,
          7,
          3,
          1,
          4,
          1,
          0,
          3,
          4,
          5,
          8,
          0,
          4,
          4,
          10,
          9,
          0,
          1,
          4,
          8,
          6,
          6,
          0,
          1,
          4,
          8,
          7,
          5,
          6,
          8,
          0,
          1,
          10,
          0,
          3,
          1,
          1,
          5,
          0,
          4,
          5,
          3,
          1,
          2,
          4,
          3,
          1,
          7,
          12,
          5,
          3,
          0,
          4,
          5,
          7,
          2,
          0,
          7,
          2,
          2,
          8,
          6,
          3,
          7,
          4,
          4,
          7,
          1,
          8,
          5,
          1,
          9,
          6,
          1,
          0,
          2,
          10,
          2,
          7,
          8,
          7,
          3,
          7,
          3,
          2,
          1,
          8,
          17,
          1,
          4,
          3,
          10,
          1,
          1,
          7,
          5,
          6,
          4,
          9,
          5,
          4,
          8,
          3,
          9,
          1,
          6,
          0,
          6,
          7,
          9,
          0,
          1,
          5,
          4,
          4,
          0,
          11,
          0,
          2,
          3,
          7,
          1,
          6,
          4,
          5,
          0,
          1,
          0,
          3,
          2,
          7,
          4,
          2,
          6,
          1,
          4,
          5,
          1,
          0,
          3,
          1,
          2,
          11,
          1,
          1,
          8,
          2,
          2,
          4,
          1,
          0,
          1,
          7,
          5,
          0,
          7,
          8,
          8,
          5,
          0,
          3,
          1,
          4,
          1,
          1,
          0,
          4
         ],
         "yaxis": "y"
        },
        {
         "name": "Glucose",
         "showlegend": false,
         "type": "box",
         "xaxis": "x2",
         "y": [
          113,
          114,
          103,
          102,
          71,
          123,
          97,
          96,
          155,
          134,
          120,
          180,
          84,
          151,
          167,
          107,
          175,
          126,
          144,
          123,
          100,
          172,
          176,
          123,
          144,
          79,
          128,
          146,
          79,
          81,
          120,
          177,
          183,
          197,
          96,
          107,
          115,
          104,
          116,
          125,
          95,
          90,
          90,
          104,
          131,
          80,
          180,
          179,
          92,
          100,
          106,
          168,
          109,
          84,
          102,
          154,
          112,
          81,
          95,
          129,
          127,
          144,
          100,
          102,
          78,
          138,
          120,
          145,
          128,
          108,
          130,
          106,
          161,
          146,
          101,
          129,
          155,
          174,
          178,
          171,
          105,
          112,
          108,
          164,
          121,
          91,
          129,
          100,
          121,
          96,
          106,
          138,
          137,
          61,
          103,
          106,
          124,
          109,
          102,
          138,
          115,
          158,
          162,
          90,
          106,
          118,
          122,
          84,
          115,
          145,
          179,
          168,
          101,
          0,
          105,
          96,
          74,
          143,
          153,
          111,
          161,
          108,
          166,
          74,
          121,
          89,
          122,
          87,
          128,
          0,
          93,
          92,
          190,
          122,
          158,
          87,
          90,
          158,
          100,
          109,
          164,
          146,
          158,
          195,
          81,
          151,
          120,
          95,
          85,
          95,
          94,
          92,
          124,
          91,
          123,
          111,
          163,
          93,
          197,
          73,
          115,
          103,
          196,
          115,
          99,
          115,
          141,
          137,
          179,
          101,
          148,
          128,
          122,
          85,
          119,
          112,
          62,
          95,
          103,
          126,
          119,
          129,
          148,
          122,
          122,
          125,
          84,
          75,
          187,
          88,
          95,
          108,
          180,
          121,
          99,
          75,
          120,
          145,
          123,
          94,
          119,
          85,
          98,
          117,
          162,
          83,
          141,
          129,
          97,
          160,
          156,
          143,
          132,
          101,
          65,
          136,
          119,
          116,
          85,
          167,
          74,
          97,
          79,
          82,
          107,
          173,
          126,
          114,
          161,
          111,
          118,
          88,
          117,
          135,
          116,
          106,
          77,
          96,
          89,
          188,
          119,
          130,
          120,
          104,
          157,
          126,
          140,
          99,
          86,
          125,
          105,
          168,
          130,
          95,
          78,
          124,
          111,
          138,
          83,
          95,
          82,
          135,
          134,
          89,
          115,
          108,
          87,
          147,
          173,
          90,
          139,
          168,
          127,
          107,
          94,
          84,
          125,
          97,
          92,
          108,
          93,
          96,
          99,
          68,
          81,
          151,
          116,
          129,
          97,
          113,
          87,
          100,
          129,
          145,
          109,
          102,
          173,
          107,
          143,
          152,
          97,
          129,
          152,
          124,
          72,
          57,
          175,
          187,
          90,
          142,
          112,
          152,
          165,
          188,
          80,
          76,
          111,
          107,
          112,
          129,
          73,
          183,
          112,
          111,
          95,
          147,
          108,
          87,
          126,
          133,
          125,
          100,
          119,
          181,
          154,
          116,
          138,
          84,
          136,
          111,
          147,
          111,
          119,
          147,
          87,
          140,
          176,
          189,
          130,
          95,
          100,
          115,
          125,
          92,
          130,
          162,
          99,
          112,
          109,
          114,
          194,
          104,
          144,
          110,
          181,
          159,
          117,
          92,
          126,
          162,
          80,
          122,
          137,
          90,
          85,
          113,
          103,
          120,
          128,
          99,
          170,
          88,
          107,
          142,
          99,
          112,
          152,
          140,
          86,
          108,
          132,
          120,
          117,
          102,
          112,
          129,
          133,
          88,
          92,
          110,
          80,
          132,
          187,
          110,
          132,
          195,
          128,
          143,
          158,
          105,
          156,
          134,
          119,
          104,
          112,
          139,
          102,
          142,
          183,
          136,
          102,
          124,
          81,
          155,
          96,
          85,
          163,
          90,
          117,
          96,
          148,
          125,
          100,
          105,
          109,
          103,
          83,
          106,
          115,
          123,
          84,
          124,
          102,
          114,
          166,
          98,
          134,
          181,
          122,
          198,
          100,
          137,
          99,
          156,
          117,
          85,
          119,
          98,
          173,
          133,
          163,
          154,
          146,
          189,
          146,
          71,
          118,
          139,
          89,
          136,
          90,
          174,
          117,
          108,
          117,
          144,
          77,
          125,
          182,
          136,
          112,
          111,
          91,
          109,
          108,
          117,
          108,
          103,
          0,
          111,
          106,
          184,
          114,
          93,
          109,
          186,
          154,
          187,
          95,
          142,
          81,
          76,
          97,
          181,
          124,
          144
         ],
         "yaxis": "y2"
        },
        {
         "name": "BloodPressure",
         "showlegend": false,
         "type": "box",
         "xaxis": "x3",
         "y": [
          80,
          88,
          80,
          78,
          70,
          48,
          60,
          0,
          62,
          74,
          86,
          90,
          0,
          62,
          106,
          62,
          62,
          78,
          58,
          70,
          74,
          68,
          90,
          72,
          72,
          60,
          78,
          56,
          80,
          72,
          80,
          60,
          0,
          70,
          78,
          80,
          60,
          74,
          74,
          70,
          60,
          68,
          60,
          74,
          68,
          82,
          64,
          50,
          76,
          54,
          80,
          74,
          92,
          68,
          74,
          78,
          72,
          60,
          82,
          60,
          80,
          82,
          88,
          74,
          48,
          82,
          78,
          82,
          64,
          88,
          96,
          82,
          50,
          82,
          86,
          76,
          74,
          58,
          84,
          72,
          90,
          68,
          72,
          78,
          78,
          70,
          0,
          76,
          78,
          56,
          54,
          60,
          61,
          82,
          66,
          76,
          70,
          56,
          82,
          0,
          98,
          78,
          52,
          88,
          64,
          80,
          78,
          64,
          64,
          82,
          70,
          88,
          50,
          80,
          80,
          68,
          68,
          78,
          88,
          86,
          86,
          66,
          76,
          70,
          70,
          24,
          78,
          60,
          68,
          74,
          64,
          52,
          92,
          70,
          114,
          58,
          62,
          64,
          66,
          60,
          82,
          0,
          70,
          70,
          78,
          90,
          72,
          54,
          65,
          64,
          70,
          62,
          56,
          80,
          72,
          72,
          70,
          60,
          70,
          50,
          66,
          30,
          90,
          0,
          58,
          0,
          74,
          40,
          90,
          76,
          66,
          82,
          86,
          78,
          80,
          82,
          78,
          72,
          66,
          84,
          0,
          80,
          72,
          52,
          68,
          58,
          72,
          82,
          70,
          62,
          85,
          68,
          66,
          66,
          68,
          64,
          0,
          88,
          100,
          64,
          88,
          74,
          58,
          88,
          104,
          65,
          0,
          90,
          66,
          54,
          86,
          74,
          80,
          58,
          72,
          84,
          0,
          74,
          58,
          74,
          52,
          64,
          75,
          70,
          62,
          78,
          56,
          64,
          68,
          60,
          84,
          78,
          60,
          68,
          70,
          56,
          82,
          122,
          62,
          78,
          0,
          60,
          70,
          64,
          72,
          88,
          74,
          54,
          68,
          96,
          84,
          64,
          64,
          66,
          88,
          60,
          90,
          76,
          58,
          74,
          64,
          0,
          70,
          74,
          76,
          64,
          78,
          85,
          78,
          85,
          80,
          88,
          58,
          88,
          0,
          50,
          70,
          70,
          62,
          80,
          100,
          74,
          74,
          70,
          72,
          60,
          78,
          74,
          76,
          50,
          80,
          66,
          84,
          80,
          38,
          75,
          70,
          60,
          86,
          78,
          76,
          68,
          90,
          74,
          78,
          80,
          88,
          68,
          70,
          90,
          74,
          82,
          68,
          82,
          74,
          60,
          70,
          50,
          66,
          0,
          60,
          94,
          72,
          64,
          60,
          80,
          52,
          0,
          90,
          102,
          60,
          0,
          64,
          88,
          72,
          72,
          74,
          82,
          70,
          56,
          76,
          58,
          44,
          74,
          68,
          65,
          86,
          110,
          82,
          72,
          70,
          72,
          80,
          62,
          70,
          76,
          72,
          78,
          76,
          0,
          78,
          76,
          82,
          76,
          68,
          66,
          92,
          62,
          74,
          76,
          55,
          68,
          84,
          78,
          66,
          64,
          108,
          74,
          70,
          54,
          64,
          30,
          74,
          86,
          80,
          80,
          88,
          82,
          68,
          62,
          78,
          68,
          86,
          74,
          78,
          110,
          88,
          58,
          62,
          76,
          80,
          80,
          50,
          66,
          86,
          70,
          88,
          66,
          84,
          58,
          86,
          80,
          86,
          64,
          86,
          80,
          86,
          60,
          64,
          74,
          44,
          70,
          86,
          52,
          64,
          55,
          72,
          62,
          62,
          56,
          84,
          50,
          72,
          0,
          62,
          72,
          86,
          52,
          98,
          80,
          74,
          80,
          76,
          66,
          74,
          82,
          70,
          84,
          56,
          66,
          74,
          108,
          76,
          75,
          66,
          74,
          66,
          60,
          82,
          84,
          72,
          74,
          85,
          64,
          70,
          62,
          64,
          54,
          90,
          90,
          0,
          88,
          96,
          60,
          64,
          82,
          56,
          68,
          74,
          74,
          75,
          84,
          64,
          60,
          70,
          90,
          62,
          60,
          68,
          65,
          70,
          84,
          74,
          60,
          80,
          90,
          78,
          76,
          64,
          80,
          74,
          62,
          70,
          64,
          70,
          58
         ],
         "yaxis": "y3"
        },
        {
         "name": "SkinThickness",
         "showlegend": false,
         "type": "box",
         "xaxis": "x4",
         "y": [
          16,
          0,
          11,
          40,
          27,
          32,
          23,
          0,
          26,
          33,
          0,
          26,
          0,
          31,
          46,
          30,
          30,
          27,
          33,
          44,
          40,
          49,
          34,
          45,
          27,
          42,
          37,
          0,
          25,
          15,
          48,
          29,
          0,
          39,
          39,
          0,
          39,
          0,
          29,
          24,
          18,
          8,
          0,
          18,
          21,
          31,
          25,
          36,
          20,
          28,
          0,
          0,
          0,
          30,
          0,
          30,
          0,
          22,
          25,
          12,
          37,
          46,
          60,
          0,
          0,
          0,
          0,
          19,
          42,
          19,
          0,
          30,
          0,
          0,
          37,
          28,
          17,
          22,
          0,
          33,
          0,
          22,
          43,
          0,
          17,
          32,
          30,
          0,
          39,
          17,
          21,
          35,
          0,
          28,
          0,
          0,
          33,
          21,
          0,
          0,
          0,
          0,
          38,
          47,
          35,
          0,
          31,
          22,
          22,
          18,
          0,
          29,
          15,
          32,
          28,
          13,
          28,
          0,
          37,
          19,
          0,
          0,
          0,
          40,
          32,
          19,
          0,
          37,
          19,
          20,
          32,
          0,
          0,
          27,
          0,
          16,
          12,
          13,
          29,
          27,
          43,
          0,
          0,
          0,
          40,
          38,
          22,
          14,
          0,
          0,
          27,
          7,
          13,
          0,
          0,
          47,
          18,
          25,
          45,
          10,
          39,
          38,
          0,
          0,
          10,
          0,
          0,
          35,
          27,
          0,
          25,
          17,
          0,
          0,
          35,
          32,
          0,
          33,
          32,
          29,
          0,
          0,
          35,
          43,
          0,
          0,
          31,
          0,
          22,
          24,
          25,
          20,
          39,
          30,
          38,
          24,
          0,
          34,
          35,
          25,
          41,
          22,
          33,
          24,
          0,
          28,
          0,
          7,
          15,
          32,
          28,
          22,
          0,
          35,
          23,
          35,
          0,
          0,
          22,
          17,
          10,
          19,
          30,
          0,
          13,
          39,
          29,
          0,
          23,
          0,
          47,
          29,
          23,
          42,
          28,
          27,
          41,
          0,
          0,
          0,
          0,
          23,
          30,
          23,
          21,
          41,
          26,
          19,
          32,
          0,
          0,
          0,
          0,
          13,
          29,
          32,
          12,
          0,
          31,
          21,
          13,
          0,
          0,
          16,
          0,
          0,
          27,
          54,
          32,
          32,
          35,
          42,
          24,
          0,
          0,
          23,
          18,
          15,
          25,
          0,
          39,
          18,
          27,
          32,
          18,
          0,
          29,
          26,
          32,
          10,
          0,
          20,
          0,
          46,
          18,
          23,
          14,
          25,
          30,
          34,
          27,
          49,
          33,
          36,
          25,
          37,
          0,
          39,
          17,
          24,
          30,
          39,
          26,
          14,
          11,
          0,
          27,
          19,
          22,
          0,
          0,
          0,
          30,
          39,
          32,
          0,
          26,
          23,
          0,
          28,
          20,
          0,
          18,
          44,
          29,
          12,
          26,
          31,
          0,
          39,
          0,
          31,
          47,
          25,
          34,
          26,
          27,
          31,
          0,
          0,
          26,
          0,
          0,
          0,
          0,
          56,
          30,
          40,
          39,
          0,
          0,
          0,
          40,
          20,
          36,
          0,
          0,
          32,
          38,
          36,
          0,
          0,
          27,
          0,
          29,
          35,
          37,
          18,
          0,
          28,
          37,
          42,
          30,
          0,
          11,
          45,
          44,
          43,
          28,
          24,
          0,
          0,
          30,
          40,
          50,
          46,
          15,
          26,
          28,
          0,
          36,
          0,
          33,
          0,
          31,
          33,
          39,
          0,
          41,
          0,
          0,
          37,
          39,
          37,
          42,
          0,
          36,
          33,
          0,
          26,
          20,
          33,
          16,
          27,
          27,
          20,
          41,
          18,
          12,
          34,
          48,
          40,
          12,
          0,
          41,
          32,
          19,
          0,
          0,
          15,
          31,
          33,
          37,
          36,
          0,
          15,
          23,
          21,
          0,
          32,
          12,
          0,
          15,
          0,
          31,
          0,
          27,
          17,
          48,
          0,
          0,
          32,
          27,
          33,
          0,
          0,
          23,
          0,
          30,
          0,
          0,
          37,
          0,
          46,
          27,
          26,
          30,
          0,
          0,
          50,
          32,
          40,
          24,
          8,
          0,
          19,
          32,
          33,
          35,
          0,
          28,
          33,
          0,
          0,
          31,
          35,
          32,
          27,
          39,
          15,
          41,
          0,
          40,
          30,
          20,
          28
         ],
         "yaxis": "y4"
        },
        {
         "name": "Insulin",
         "showlegend": false,
         "type": "box",
         "xaxis": "x5",
         "y": [
          0,
          0,
          82,
          90,
          0,
          165,
          0,
          0,
          495,
          60,
          0,
          90,
          0,
          120,
          231,
          74,
          0,
          22,
          135,
          94,
          215,
          579,
          300,
          230,
          228,
          48,
          182,
          0,
          37,
          76,
          200,
          478,
          0,
          744,
          0,
          0,
          0,
          0,
          0,
          110,
          58,
          0,
          0,
          156,
          166,
          70,
          70,
          159,
          0,
          105,
          0,
          0,
          0,
          106,
          0,
          100,
          0,
          0,
          180,
          231,
          210,
          180,
          110,
          0,
          0,
          0,
          0,
          110,
          0,
          0,
          0,
          0,
          0,
          0,
          0,
          122,
          96,
          194,
          0,
          135,
          0,
          94,
          75,
          0,
          0,
          88,
          0,
          0,
          74,
          49,
          158,
          167,
          0,
          0,
          0,
          0,
          402,
          135,
          0,
          0,
          0,
          0,
          0,
          54,
          119,
          0,
          0,
          66,
          0,
          0,
          0,
          0,
          36,
          0,
          0,
          49,
          45,
          0,
          140,
          0,
          0,
          0,
          0,
          49,
          95,
          25,
          0,
          75,
          180,
          23,
          160,
          0,
          0,
          0,
          0,
          52,
          43,
          387,
          196,
          0,
          67,
          0,
          0,
          0,
          48,
          0,
          56,
          88,
          0,
          0,
          115,
          258,
          105,
          0,
          0,
          207,
          105,
          92,
          543,
          0,
          140,
          83,
          0,
          0,
          0,
          0,
          0,
          168,
          0,
          0,
          0,
          183,
          0,
          0,
          0,
          175,
          0,
          0,
          0,
          215,
          0,
          0,
          0,
          158,
          0,
          0,
          0,
          0,
          200,
          44,
          36,
          0,
          0,
          165,
          0,
          55,
          0,
          165,
          240,
          79,
          170,
          0,
          190,
          145,
          0,
          66,
          0,
          326,
          140,
          175,
          155,
          61,
          0,
          90,
          0,
          130,
          0,
          0,
          49,
          144,
          36,
          82,
          0,
          0,
          48,
          185,
          152,
          0,
          132,
          0,
          230,
          76,
          106,
          250,
          0,
          165,
          42,
          0,
          0,
          0,
          0,
          170,
          135,
          116,
          168,
          235,
          180,
          86,
          0,
          0,
          0,
          0,
          0,
          38,
          40,
          0,
          78,
          0,
          18,
          73,
          95,
          0,
          0,
          85,
          0,
          0,
          32,
          0,
          265,
          0,
          160,
          321,
          275,
          0,
          0,
          76,
          122,
          0,
          41,
          0,
          72,
          67,
          0,
          66,
          40,
          0,
          180,
          205,
          91,
          85,
          0,
          90,
          0,
          130,
          120,
          0,
          168,
          0,
          330,
          171,
          0,
          125,
          29,
          0,
          0,
          0,
          0,
          304,
          0,
          480,
          0,
          272,
          168,
          185,
          60,
          0,
          0,
          0,
          0,
          0,
          0,
          0,
          176,
          0,
          0,
          0,
          63,
          0,
          0,
          140,
          140,
          0,
          92,
          510,
          126,
          87,
          144,
          125,
          0,
          0,
          0,
          44,
          63,
          293,
          77,
          130,
          156,
          0,
          0,
          0,
          50,
          0,
          0,
          0,
          0,
          100,
          18,
          0,
          114,
          0,
          0,
          0,
          0,
          100,
          495,
          0,
          0,
          126,
          75,
          0,
          0,
          0,
          0,
          0,
          0,
          0,
          0,
          63,
          0,
          83,
          225,
          99,
          100,
          0,
          64,
          132,
          0,
          325,
          71,
          0,
          0,
          0,
          105,
          105,
          140,
          130,
          155,
          16,
          0,
          0,
          0,
          0,
          392,
          0,
          0,
          145,
          110,
          0,
          210,
          0,
          0,
          370,
          220,
          64,
          160,
          0,
          120,
          190,
          0,
          135,
          94,
          215,
          66,
          540,
          87,
          0,
          114,
          59,
          0,
          115,
          237,
          167,
          70,
          0,
          129,
          190,
          0,
          0,
          0,
          176,
          0,
          130,
          0,
          200,
          0,
          84,
          130,
          192,
          0,
          274,
          46,
          0,
          51,
          0,
          188,
          0,
          0,
          120,
          465,
          0,
          0,
          193,
          100,
          325,
          0,
          0,
          89,
          0,
          0,
          0,
          0,
          120,
          0,
          178,
          120,
          285,
          56,
          0,
          0,
          204,
          0,
          0,
          0,
          182,
          0,
          71,
          56,
          192,
          0,
          0,
          135,
          0,
          0,
          0,
          0,
          225,
          0,
          207,
          105,
          0,
          57,
          0,
          0,
          180,
          0,
          140
         ],
         "yaxis": "y5"
        },
        {
         "name": "BMI",
         "showlegend": false,
         "type": "box",
         "xaxis": "x6",
         "y": [
          31,
          27.8,
          19.4,
          34.5,
          28,
          42.1,
          28.2,
          23.7,
          34,
          25.9,
          28.4,
          36.5,
          0,
          35.5,
          37.6,
          36.6,
          33.6,
          29.6,
          31.6,
          33.1,
          39.4,
          42.4,
          33.7,
          33.6,
          33.9,
          43.5,
          43.3,
          29.7,
          25.4,
          30.1,
          38.9,
          34.6,
          28.4,
          36.7,
          37.3,
          24.6,
          33.7,
          28.8,
          32.3,
          24.3,
          23.9,
          24.5,
          23.5,
          29.9,
          33.1,
          34.2,
          34,
          37.8,
          24.2,
          37.8,
          23.6,
          38,
          42.7,
          31.9,
          29.5,
          30.9,
          23.6,
          27.7,
          35,
          27.5,
          36.3,
          46.1,
          46.8,
          39.5,
          33.7,
          40.1,
          25,
          22.2,
          40,
          27.1,
          22.6,
          39.5,
          21.9,
          40.5,
          45.6,
          35.9,
          26.6,
          32.9,
          39.9,
          33.3,
          29.6,
          34.1,
          36.1,
          32.8,
          26.5,
          33.1,
          39.9,
          38.7,
          39,
          20.8,
          30.9,
          34.6,
          24.2,
          34.4,
          24.3,
          37.5,
          35.4,
          25.2,
          30.8,
          36.3,
          24,
          32.9,
          37.2,
          37.7,
          30.5,
          42.9,
          27.6,
          35.8,
          30.8,
          32.5,
          35.1,
          35,
          24.2,
          41,
          32.5,
          21.1,
          29.7,
          45,
          40.6,
          30.1,
          30.4,
          32.4,
          45.7,
          35.3,
          39.1,
          27.8,
          23,
          37.2,
          30.5,
          27.7,
          38,
          30.1,
          35.5,
          36.8,
          42.3,
          32.7,
          27.2,
          31.2,
          32,
          25,
          32.8,
          27.5,
          29.8,
          30.9,
          46.7,
          29.7,
          20.8,
          26.1,
          39.6,
          32,
          43.5,
          27.6,
          21.8,
          32.4,
          36.3,
          37.1,
          31.6,
          28.7,
          30.5,
          23,
          38.1,
          43.3,
          39.8,
          0,
          25.4,
          35.3,
          27.6,
          43.1,
          44.1,
          35.7,
          32.5,
          27.5,
          34.7,
          31.2,
          29,
          34.2,
          32.6,
          37.7,
          39.1,
          30.7,
          19.6,
          31.2,
          33.6,
          36.2,
          35,
          31.6,
          29.7,
          33.3,
          36.4,
          29.9,
          37.4,
          27.3,
          42,
          34.3,
          32.8,
          29.7,
          30,
          30.3,
          57.3,
          33.3,
          45.3,
          29,
          34,
          34.5,
          37.7,
          36.8,
          42.4,
          19.6,
          23.2,
          30.5,
          34.3,
          26.2,
          26.8,
          21.8,
          32,
          28.3,
          32.4,
          25.6,
          27.8,
          23.4,
          27.8,
          18.2,
          32,
          21.1,
          22.9,
          33.8,
          28.7,
          28.9,
          25.5,
          26.2,
          45.8,
          32,
          33.8,
          42.3,
          27.4,
          29,
          35.8,
          22.4,
          22.5,
          47.9,
          25.2,
          28.6,
          42.9,
          27.8,
          25.6,
          39.3,
          24.1,
          25.6,
          35.8,
          0,
          27.9,
          32.9,
          23.1,
          19.6,
          36.9,
          35.8,
          28.4,
          33.2,
          34.3,
          25.9,
          21.2,
          52.3,
          28.9,
          30.4,
          31.2,
          30.8,
          34.6,
          42.8,
          46.5,
          34.9,
          31.6,
          38.2,
          27.7,
          36.8,
          0,
          30.4,
          28.9,
          18.2,
          19.5,
          27,
          43.4,
          33.6,
          29,
          25,
          26.6,
          26.1,
          36.1,
          33.2,
          40.9,
          29.5,
          23.2,
          32.9,
          28,
          37.9,
          23.1,
          0,
          29.7,
          26.4,
          30.1,
          34.2,
          35.6,
          38.5,
          26.8,
          27.8,
          31.6,
          32.8,
          22.9,
          37.7,
          27.3,
          30.4,
          31.6,
          41.5,
          33.6,
          32,
          30,
          32.8,
          27.5,
          28.3,
          25,
          38.5,
          26.8,
          40.8,
          34.4,
          34.2,
          35.4,
          29.5,
          32.5,
          28.9,
          43.4,
          32.8,
          33.8,
          30,
          34.9,
          43.3,
          31.3,
          22.1,
          36.1,
          38.2,
          31.2,
          30.1,
          39.4,
          29.5,
          35.5,
          34.9,
          37.6,
          42.6,
          33.3,
          28.5,
          39.1,
          36.8,
          30.8,
          28.9,
          32.3,
          25.9,
          34.2,
          53.2,
          38.6,
          39.4,
          27.9,
          0,
          23.5,
          18.4,
          41.3,
          28.4,
          30.1,
          30.4,
          34.1,
          32,
          25.9,
          49.6,
          19.1,
          31.2,
          27.3,
          42.7,
          26.6,
          33.6,
          39.2,
          30.5,
          34.3,
          34,
          34.5,
          55,
          33.6,
          44,
          19.3,
          34.8,
          50,
          39.2,
          30.2,
          26,
          32.4,
          29.6,
          39.1,
          37.2,
          39.4,
          67.1,
          32.4,
          28.4,
          31.6,
          27.8,
          39.8,
          34.4,
          33.9,
          31.9,
          28,
          25.1,
          36.5,
          34.9,
          39.4,
          24.3,
          24.8,
          46.2,
          45.6,
          33.6,
          38.4,
          27.1,
          45.5,
          28.8,
          23.3,
          26,
          30.8,
          25.5,
          27.5,
          38.7,
          33.2,
          24.4,
          40.9,
          25.1,
          29.7,
          24.7,
          37.6,
          33.3,
          25.3,
          0,
          35.8,
          37.7,
          29.3,
          31.2,
          52.9,
          32,
          38.3,
          33.2,
          32.9,
          38.1,
          26.6,
          25.2,
          35.4,
          35.9,
          33.3,
          41.3,
          19.5,
          48.8,
          23.2,
          48.3,
          30.8,
          30.1,
          38.8,
          34.7,
          38.4,
          40.2,
          39,
          29.3,
          28.9,
          31.2,
          37.9,
          21.8,
          0,
          25.6,
          33.5,
          29.9,
          28,
          44.5,
          28.7,
          35.5,
          33.2,
          32,
          33.3,
          24.7,
          30.5,
          37.4,
          35.7,
          46.8,
          29.2,
          25.4,
          30.5,
          25.2,
          25.2,
          24,
          32,
          24.6,
          34.2,
          35.5,
          24.9,
          35.3,
          35.9,
          34.5,
          32.4,
          43.6,
          44.6,
          32.4,
          46.3,
          34,
          38.1,
          34.1,
          27.4,
          29.5
         ],
         "yaxis": "y6"
        },
        {
         "name": "DiabetesPedigreeFunction",
         "showlegend": false,
         "type": "box",
         "xaxis": "x7",
         "y": [
          0.874,
          0.247,
          0.491,
          0.238,
          0.586,
          0.52,
          0.443,
          0.19,
          0.543,
          0.46,
          0.259,
          0.314,
          0.304,
          0.692,
          0.165,
          0.757,
          0.212,
          0.439,
          0.422,
          0.374,
          0.661,
          0.702,
          0.467,
          0.733,
          0.255,
          0.678,
          1.224,
          0.564,
          0.583,
          0.547,
          1.162,
          1.072,
          0.212,
          2.329,
          0.238,
          0.856,
          0.245,
          0.153,
          0.66,
          0.221,
          0.26,
          1.138,
          0.191,
          0.722,
          0.16,
          1.292,
          0.271,
          0.455,
          1.698,
          0.498,
          0.137,
          0.537,
          0.845,
          0.591,
          0.121,
          0.164,
          0.84,
          0.29,
          0.233,
          0.527,
          0.804,
          0.335,
          0.962,
          0.293,
          0.654,
          0.236,
          0.409,
          0.245,
          1.101,
          0.4,
          0.268,
          0.286,
          0.254,
          1.781,
          1.136,
          0.28,
          0.433,
          0.593,
          0.331,
          0.199,
          0.197,
          0.315,
          0.263,
          0.148,
          0.259,
          0.446,
          0.569,
          0.19,
          0.261,
          0.34,
          0.292,
          0.534,
          0.151,
          0.243,
          0.249,
          0.197,
          0.282,
          0.833,
          0.18,
          0.933,
          1.022,
          0.803,
          0.652,
          0.362,
          1.4,
          0.693,
          0.512,
          0.545,
          0.421,
          0.235,
          0.2,
          0.905,
          0.526,
          0.346,
          0.878,
          0.647,
          0.293,
          0.19,
          1.174,
          0.143,
          0.165,
          0.272,
          0.34,
          0.705,
          0.886,
          0.559,
          0.254,
          0.509,
          1.391,
          0.299,
          0.674,
          0.141,
          0.278,
          0.34,
          0.257,
          0.166,
          0.58,
          0.295,
          0.444,
          0.206,
          0.341,
          0.24,
          0.207,
          0.328,
          0.261,
          0.294,
          0.733,
          0.748,
          0.93,
          0.161,
          0.347,
          0.926,
          0.452,
          0.601,
          0.258,
          1.39,
          0.268,
          0.532,
          0.158,
          0.248,
          0.15,
          0.183,
          0.451,
          0.261,
          0.551,
          0.134,
          0.244,
          2.288,
          0.686,
          0.198,
          0.256,
          0.115,
          0.29,
          0.382,
          0.263,
          0.26,
          0.391,
          0.37,
          0.344,
          0.52,
          0.832,
          0.703,
          0.627,
          0.816,
          0.394,
          0.151,
          0.297,
          0.263,
          0.408,
          0.422,
          0.247,
          0.787,
          1.893,
          0.203,
          0.145,
          0.37,
          0.183,
          0.771,
          0.88,
          0.738,
          0.507,
          1.224,
          0.43,
          0.403,
          0.151,
          0.629,
          0.205,
          0.582,
          0.487,
          0.588,
          1.189,
          0.256,
          0.186,
          0.155,
          0.6,
          0.26,
          0.141,
          0.201,
          0.306,
          0.447,
          0.269,
          0.299,
          0.396,
          0.389,
          0.678,
          0.97,
          0.801,
          0.126,
          0.326,
          0.343,
          0.551,
          0.365,
          0.466,
          0.365,
          0.204,
          0.426,
          0.156,
          0.207,
          0.142,
          0.137,
          0.209,
          0.692,
          0.452,
          0.454,
          0.123,
          0.704,
          0.828,
          0.154,
          0.238,
          0.232,
          0.741,
          0.135,
          0.314,
          0.334,
          0.434,
          0.514,
          0.495,
          0.42,
          0.336,
          0.673,
          0.415,
          0.578,
          0.542,
          0.551,
          0.343,
          0.158,
          0.101,
          0.375,
          1.159,
          0.825,
          0.361,
          0.787,
          1.6,
          0.727,
          0.256,
          0.968,
          1.144,
          0.147,
          0.482,
          0.259,
          1.021,
          0.997,
          0.203,
          0.187,
          0.283,
          0.179,
          0.496,
          0.591,
          0.871,
          0.626,
          0.084,
          0.867,
          0.284,
          0.637,
          0.407,
          0.572,
          0.361,
          0.133,
          0.892,
          0.893,
          0.378,
          0.439,
          0.731,
          0.1,
          0.28,
          0.096,
          0.326,
          0.254,
          0.085,
          0.128,
          0.197,
          0.27,
          0.631,
          0.682,
          0.527,
          0.18,
          0.141,
          0.181,
          0.307,
          0.304,
          0.268,
          1.461,
          0.528,
          0.26,
          0.284,
          0.178,
          0.318,
          0.773,
          0.583,
          0.234,
          0.088,
          0.484,
          0.725,
          0.222,
          0.338,
          0.463,
          0.557,
          0.233,
          1.182,
          0.557,
          0.257,
          0.43,
          0.28,
          0.385,
          0.401,
          0.431,
          1.154,
          0.68,
          0.956,
          0.485,
          0.597,
          0.376,
          0.536,
          0.167,
          0.652,
          0.759,
          0.412,
          0.236,
          0.64,
          0.189,
          0.129,
          0.582,
          0.607,
          0.118,
          0.615,
          0.383,
          0.337,
          0.085,
          0.162,
          0.364,
          0.258,
          0.258,
          0.231,
          0.559,
          0.351,
          0.543,
          0.305,
          0.285,
          0.303,
          0.499,
          0.356,
          0.496,
          0.404,
          0.645,
          0.284,
          0.217,
          0.337,
          0.528,
          0.364,
          0.223,
          0.393,
          0.709,
          0.251,
          0.204,
          0.175,
          0.319,
          0.262,
          0.766,
          0.13,
          0.237,
          0.177,
          0.402,
          0.826,
          0.471,
          0.419,
          0.163,
          1.057,
          0.129,
          0.395,
          0.187,
          0.23,
          0.238,
          0.808,
          0.51,
          0.246,
          1.441,
          0.127,
          0.687,
          0.672,
          0.647,
          0.4,
          0.161,
          0.306,
          0.24,
          0.289,
          0.136,
          0.817,
          1.268,
          0.38,
          0.944,
          1.001,
          0.962,
          0.658,
          0.305,
          0.514,
          0.324,
          0.317,
          0.38,
          0.209,
          0.443,
          0.457,
          0.305,
          0.665,
          0.289,
          0.304,
          0.299,
          0.542,
          0.586,
          1.114,
          0.502,
          0.149,
          0.227,
          0.223,
          0.238,
          0.493,
          0.3,
          0.259,
          0.198,
          2.137,
          0.696,
          1.222,
          0.839,
          0.189,
          0.583,
          0.334,
          0.416,
          1.731,
          0.402,
          0.292,
          0.21,
          0.61,
          0.646,
          0.157,
          0.415,
          0.23,
          0.452,
          1.251,
          0.206,
          0.345,
          0.399,
          0.148,
          0.925,
          0.192,
          0.947,
          0.955,
          0.313,
          0.128,
          0.966,
          0.389,
          0.66,
          0.142,
          0.355,
          0.744,
          0.263,
          1.127,
          0.423,
          0.443,
          1.034,
          0.366,
          0.2,
          1.096,
          0.391,
          0.218,
          0.328,
          0.254,
          0.287
         ],
         "yaxis": "y7"
        },
        {
         "name": "Age",
         "showlegend": false,
         "type": "box",
         "xaxis": "x8",
         "y": [
          21,
          66,
          22,
          24,
          22,
          26,
          22,
          28,
          46,
          81,
          22,
          35,
          21,
          28,
          43,
          25,
          38,
          40,
          25,
          40,
          43,
          28,
          58,
          34,
          40,
          23,
          31,
          29,
          22,
          25,
          41,
          21,
          36,
          31,
          40,
          34,
          40,
          48,
          35,
          25,
          22,
          36,
          25,
          41,
          28,
          27,
          26,
          22,
          28,
          24,
          44,
          34,
          54,
          25,
          32,
          45,
          58,
          25,
          43,
          31,
          23,
          46,
          31,
          42,
          25,
          28,
          64,
          57,
          24,
          24,
          21,
          38,
          65,
          44,
          38,
          39,
          27,
          36,
          41,
          24,
          46,
          26,
          33,
          45,
          62,
          22,
          44,
          42,
          28,
          26,
          24,
          21,
          55,
          46,
          29,
          26,
          34,
          23,
          36,
          25,
          34,
          31,
          24,
          29,
          34,
          21,
          45,
          21,
          21,
          70,
          37,
          52,
          26,
          37,
          26,
          26,
          23,
          47,
          39,
          23,
          47,
          42,
          27,
          39,
          23,
          21,
          40,
          22,
          25,
          21,
          23,
          22,
          66,
          27,
          44,
          25,
          24,
          24,
          42,
          27,
          50,
          28,
          63,
          31,
          42,
          36,
          48,
          22,
          27,
          31,
          21,
          44,
          21,
          27,
          52,
          56,
          28,
          22,
          53,
          21,
          28,
          33,
          41,
          30,
          21,
          29,
          40,
          33,
          23,
          26,
          22,
          22,
          33,
          42,
          29,
          36,
          41,
          27,
          31,
          24,
          72,
          29,
          50,
          28,
          29,
          24,
          46,
          38,
          36,
          23,
          24,
          32,
          25,
          33,
          33,
          33,
          38,
          53,
          22,
          41,
          26,
          32,
          43,
          40,
          52,
          24,
          29,
          60,
          22,
          39,
          42,
          21,
          69,
          22,
          42,
          42,
          24,
          30,
          28,
          33,
          22,
          21,
          22,
          25,
          23,
          31,
          21,
          24,
          47,
          23,
          31,
          29,
          27,
          24,
          21,
          22,
          35,
          27,
          33,
          43,
          37,
          21,
          30,
          23,
          24,
          27,
          23,
          24,
          25,
          54,
          62,
          41,
          22,
          25,
          21,
          21,
          29,
          35,
          25,
          36,
          23,
          40,
          23,
          38,
          44,
          21,
          22,
          24,
          58,
          56,
          25,
          40,
          25,
          31,
          25,
          21,
          45,
          21,
          25,
          52,
          35,
          43,
          32,
          25,
          24,
          22,
          25,
          25,
          32,
          25,
          32,
          28,
          27,
          40,
          26,
          21,
          33,
          23,
          23,
          33,
          52,
          43,
          43,
          30,
          38,
          41,
          22,
          41,
          22,
          43,
          25,
          27,
          49,
          22,
          22,
          41,
          40,
          29,
          24,
          41,
          27,
          45,
          25,
          24,
          28,
          50,
          22,
          25,
          42,
          45,
          31,
          32,
          23,
          26,
          37,
          37,
          50,
          23,
          22,
          30,
          43,
          22,
          25,
          30,
          24,
          24,
          52,
          37,
          37,
          57,
          21,
          46,
          27,
          31,
          45,
          25,
          21,
          38,
          31,
          26,
          59,
          27,
          28,
          27,
          60,
          36,
          38,
          46,
          39,
          26,
          21,
          41,
          59,
          21,
          31,
          21,
          65,
          26,
          24,
          30,
          30,
          26,
          23,
          22,
          30,
          24,
          36,
          58,
          24,
          25,
          21,
          34,
          42,
          45,
          24,
          26,
          37,
          22,
          24,
          58,
          28,
          44,
          34,
          29,
          63,
          55,
          37,
          41,
          29,
          21,
          53,
          46,
          29,
          22,
          28,
          57,
          23,
          61,
          32,
          51,
          26,
          37,
          22,
          25,
          21,
          42,
          47,
          25,
          30,
          39,
          51,
          28,
          28,
          24,
          25,
          55,
          34,
          42,
          28,
          34,
          39,
          26,
          46,
          21,
          66,
          22,
          29,
          51,
          33,
          28,
          28,
          37,
          21,
          32,
          22,
          35,
          22,
          22,
          25,
          37,
          33,
          39,
          27,
          29,
          28,
          26,
          21,
          22,
          42,
          50,
          31,
          24,
          30,
          24,
          24,
          58,
          24,
          21,
          29,
          24,
          21,
          45,
          21,
          21,
          33,
          21,
          21,
          33,
          22,
          31,
          22,
          41,
          57,
          25,
          43,
          37,
          45,
          53,
          22,
          63,
          32,
          25,
          30,
          38,
          36,
          37
         ],
         "yaxis": "y8"
        }
       ],
       "layout": {
        "font": {
         "family": "Arial",
         "size": 15
        },
        "height": 450,
        "margin": {
         "b": 70,
         "l": 140,
         "pad": 10,
         "r": 0,
         "t": 80
        },
        "template": {
         "data": {
          "bar": [
           {
            "error_x": {
             "color": "rgb(36,36,36)"
            },
            "error_y": {
             "color": "rgb(36,36,36)"
            },
            "marker": {
             "line": {
              "color": "white",
              "width": 0.5
             },
             "pattern": {
              "fillmode": "overlay",
              "size": 10,
              "solidity": 0.2
             }
            },
            "type": "bar"
           }
          ],
          "barpolar": [
           {
            "marker": {
             "line": {
              "color": "white",
              "width": 0.5
             },
             "pattern": {
              "fillmode": "overlay",
              "size": 10,
              "solidity": 0.2
             }
            },
            "type": "barpolar"
           }
          ],
          "carpet": [
           {
            "aaxis": {
             "endlinecolor": "rgb(36,36,36)",
             "gridcolor": "white",
             "linecolor": "white",
             "minorgridcolor": "white",
             "startlinecolor": "rgb(36,36,36)"
            },
            "baxis": {
             "endlinecolor": "rgb(36,36,36)",
             "gridcolor": "white",
             "linecolor": "white",
             "minorgridcolor": "white",
             "startlinecolor": "rgb(36,36,36)"
            },
            "type": "carpet"
           }
          ],
          "choropleth": [
           {
            "colorbar": {
             "outlinewidth": 1,
             "tickcolor": "rgb(36,36,36)",
             "ticks": "outside"
            },
            "type": "choropleth"
           }
          ],
          "contour": [
           {
            "colorbar": {
             "outlinewidth": 1,
             "tickcolor": "rgb(36,36,36)",
             "ticks": "outside"
            },
            "colorscale": [
             [
              0,
              "#440154"
             ],
             [
              0.1111111111111111,
              "#482878"
             ],
             [
              0.2222222222222222,
              "#3e4989"
             ],
             [
              0.3333333333333333,
              "#31688e"
             ],
             [
              0.4444444444444444,
              "#26828e"
             ],
             [
              0.5555555555555556,
              "#1f9e89"
             ],
             [
              0.6666666666666666,
              "#35b779"
             ],
             [
              0.7777777777777778,
              "#6ece58"
             ],
             [
              0.8888888888888888,
              "#b5de2b"
             ],
             [
              1,
              "#fde725"
             ]
            ],
            "type": "contour"
           }
          ],
          "contourcarpet": [
           {
            "colorbar": {
             "outlinewidth": 1,
             "tickcolor": "rgb(36,36,36)",
             "ticks": "outside"
            },
            "type": "contourcarpet"
           }
          ],
          "heatmap": [
           {
            "colorbar": {
             "outlinewidth": 1,
             "tickcolor": "rgb(36,36,36)",
             "ticks": "outside"
            },
            "colorscale": [
             [
              0,
              "#440154"
             ],
             [
              0.1111111111111111,
              "#482878"
             ],
             [
              0.2222222222222222,
              "#3e4989"
             ],
             [
              0.3333333333333333,
              "#31688e"
             ],
             [
              0.4444444444444444,
              "#26828e"
             ],
             [
              0.5555555555555556,
              "#1f9e89"
             ],
             [
              0.6666666666666666,
              "#35b779"
             ],
             [
              0.7777777777777778,
              "#6ece58"
             ],
             [
              0.8888888888888888,
              "#b5de2b"
             ],
             [
              1,
              "#fde725"
             ]
            ],
            "type": "heatmap"
           }
          ],
          "heatmapgl": [
           {
            "colorbar": {
             "outlinewidth": 1,
             "tickcolor": "rgb(36,36,36)",
             "ticks": "outside"
            },
            "colorscale": [
             [
              0,
              "#440154"
             ],
             [
              0.1111111111111111,
              "#482878"
             ],
             [
              0.2222222222222222,
              "#3e4989"
             ],
             [
              0.3333333333333333,
              "#31688e"
             ],
             [
              0.4444444444444444,
              "#26828e"
             ],
             [
              0.5555555555555556,
              "#1f9e89"
             ],
             [
              0.6666666666666666,
              "#35b779"
             ],
             [
              0.7777777777777778,
              "#6ece58"
             ],
             [
              0.8888888888888888,
              "#b5de2b"
             ],
             [
              1,
              "#fde725"
             ]
            ],
            "type": "heatmapgl"
           }
          ],
          "histogram": [
           {
            "marker": {
             "line": {
              "color": "white",
              "width": 0.6
             }
            },
            "type": "histogram"
           }
          ],
          "histogram2d": [
           {
            "colorbar": {
             "outlinewidth": 1,
             "tickcolor": "rgb(36,36,36)",
             "ticks": "outside"
            },
            "colorscale": [
             [
              0,
              "#440154"
             ],
             [
              0.1111111111111111,
              "#482878"
             ],
             [
              0.2222222222222222,
              "#3e4989"
             ],
             [
              0.3333333333333333,
              "#31688e"
             ],
             [
              0.4444444444444444,
              "#26828e"
             ],
             [
              0.5555555555555556,
              "#1f9e89"
             ],
             [
              0.6666666666666666,
              "#35b779"
             ],
             [
              0.7777777777777778,
              "#6ece58"
             ],
             [
              0.8888888888888888,
              "#b5de2b"
             ],
             [
              1,
              "#fde725"
             ]
            ],
            "type": "histogram2d"
           }
          ],
          "histogram2dcontour": [
           {
            "colorbar": {
             "outlinewidth": 1,
             "tickcolor": "rgb(36,36,36)",
             "ticks": "outside"
            },
            "colorscale": [
             [
              0,
              "#440154"
             ],
             [
              0.1111111111111111,
              "#482878"
             ],
             [
              0.2222222222222222,
              "#3e4989"
             ],
             [
              0.3333333333333333,
              "#31688e"
             ],
             [
              0.4444444444444444,
              "#26828e"
             ],
             [
              0.5555555555555556,
              "#1f9e89"
             ],
             [
              0.6666666666666666,
              "#35b779"
             ],
             [
              0.7777777777777778,
              "#6ece58"
             ],
             [
              0.8888888888888888,
              "#b5de2b"
             ],
             [
              1,
              "#fde725"
             ]
            ],
            "type": "histogram2dcontour"
           }
          ],
          "mesh3d": [
           {
            "colorbar": {
             "outlinewidth": 1,
             "tickcolor": "rgb(36,36,36)",
             "ticks": "outside"
            },
            "type": "mesh3d"
           }
          ],
          "parcoords": [
           {
            "line": {
             "colorbar": {
              "outlinewidth": 1,
              "tickcolor": "rgb(36,36,36)",
              "ticks": "outside"
             }
            },
            "type": "parcoords"
           }
          ],
          "pie": [
           {
            "automargin": true,
            "type": "pie"
           }
          ],
          "scatter": [
           {
            "fillpattern": {
             "fillmode": "overlay",
             "size": 10,
             "solidity": 0.2
            },
            "type": "scatter"
           }
          ],
          "scatter3d": [
           {
            "line": {
             "colorbar": {
              "outlinewidth": 1,
              "tickcolor": "rgb(36,36,36)",
              "ticks": "outside"
             }
            },
            "marker": {
             "colorbar": {
              "outlinewidth": 1,
              "tickcolor": "rgb(36,36,36)",
              "ticks": "outside"
             }
            },
            "type": "scatter3d"
           }
          ],
          "scattercarpet": [
           {
            "marker": {
             "colorbar": {
              "outlinewidth": 1,
              "tickcolor": "rgb(36,36,36)",
              "ticks": "outside"
             }
            },
            "type": "scattercarpet"
           }
          ],
          "scattergeo": [
           {
            "marker": {
             "colorbar": {
              "outlinewidth": 1,
              "tickcolor": "rgb(36,36,36)",
              "ticks": "outside"
             }
            },
            "type": "scattergeo"
           }
          ],
          "scattergl": [
           {
            "marker": {
             "colorbar": {
              "outlinewidth": 1,
              "tickcolor": "rgb(36,36,36)",
              "ticks": "outside"
             }
            },
            "type": "scattergl"
           }
          ],
          "scattermapbox": [
           {
            "marker": {
             "colorbar": {
              "outlinewidth": 1,
              "tickcolor": "rgb(36,36,36)",
              "ticks": "outside"
             }
            },
            "type": "scattermapbox"
           }
          ],
          "scatterpolar": [
           {
            "marker": {
             "colorbar": {
              "outlinewidth": 1,
              "tickcolor": "rgb(36,36,36)",
              "ticks": "outside"
             }
            },
            "type": "scatterpolar"
           }
          ],
          "scatterpolargl": [
           {
            "marker": {
             "colorbar": {
              "outlinewidth": 1,
              "tickcolor": "rgb(36,36,36)",
              "ticks": "outside"
             }
            },
            "type": "scatterpolargl"
           }
          ],
          "scatterternary": [
           {
            "marker": {
             "colorbar": {
              "outlinewidth": 1,
              "tickcolor": "rgb(36,36,36)",
              "ticks": "outside"
             }
            },
            "type": "scatterternary"
           }
          ],
          "surface": [
           {
            "colorbar": {
             "outlinewidth": 1,
             "tickcolor": "rgb(36,36,36)",
             "ticks": "outside"
            },
            "colorscale": [
             [
              0,
              "#440154"
             ],
             [
              0.1111111111111111,
              "#482878"
             ],
             [
              0.2222222222222222,
              "#3e4989"
             ],
             [
              0.3333333333333333,
              "#31688e"
             ],
             [
              0.4444444444444444,
              "#26828e"
             ],
             [
              0.5555555555555556,
              "#1f9e89"
             ],
             [
              0.6666666666666666,
              "#35b779"
             ],
             [
              0.7777777777777778,
              "#6ece58"
             ],
             [
              0.8888888888888888,
              "#b5de2b"
             ],
             [
              1,
              "#fde725"
             ]
            ],
            "type": "surface"
           }
          ],
          "table": [
           {
            "cells": {
             "fill": {
              "color": "rgb(237,237,237)"
             },
             "line": {
              "color": "white"
             }
            },
            "header": {
             "fill": {
              "color": "rgb(217,217,217)"
             },
             "line": {
              "color": "white"
             }
            },
            "type": "table"
           }
          ]
         },
         "layout": {
          "annotationdefaults": {
           "arrowhead": 0,
           "arrowwidth": 1
          },
          "autotypenumbers": "strict",
          "coloraxis": {
           "colorbar": {
            "outlinewidth": 1,
            "tickcolor": "rgb(36,36,36)",
            "ticks": "outside"
           }
          },
          "colorscale": {
           "diverging": [
            [
             0,
             "rgb(103,0,31)"
            ],
            [
             0.1,
             "rgb(178,24,43)"
            ],
            [
             0.2,
             "rgb(214,96,77)"
            ],
            [
             0.3,
             "rgb(244,165,130)"
            ],
            [
             0.4,
             "rgb(253,219,199)"
            ],
            [
             0.5,
             "rgb(247,247,247)"
            ],
            [
             0.6,
             "rgb(209,229,240)"
            ],
            [
             0.7,
             "rgb(146,197,222)"
            ],
            [
             0.8,
             "rgb(67,147,195)"
            ],
            [
             0.9,
             "rgb(33,102,172)"
            ],
            [
             1,
             "rgb(5,48,97)"
            ]
           ],
           "sequential": [
            [
             0,
             "#440154"
            ],
            [
             0.1111111111111111,
             "#482878"
            ],
            [
             0.2222222222222222,
             "#3e4989"
            ],
            [
             0.3333333333333333,
             "#31688e"
            ],
            [
             0.4444444444444444,
             "#26828e"
            ],
            [
             0.5555555555555556,
             "#1f9e89"
            ],
            [
             0.6666666666666666,
             "#35b779"
            ],
            [
             0.7777777777777778,
             "#6ece58"
            ],
            [
             0.8888888888888888,
             "#b5de2b"
            ],
            [
             1,
             "#fde725"
            ]
           ],
           "sequentialminus": [
            [
             0,
             "#440154"
            ],
            [
             0.1111111111111111,
             "#482878"
            ],
            [
             0.2222222222222222,
             "#3e4989"
            ],
            [
             0.3333333333333333,
             "#31688e"
            ],
            [
             0.4444444444444444,
             "#26828e"
            ],
            [
             0.5555555555555556,
             "#1f9e89"
            ],
            [
             0.6666666666666666,
             "#35b779"
            ],
            [
             0.7777777777777778,
             "#6ece58"
            ],
            [
             0.8888888888888888,
             "#b5de2b"
            ],
            [
             1,
             "#fde725"
            ]
           ]
          },
          "colorway": [
           "#1F77B4",
           "#FF7F0E",
           "#2CA02C",
           "#D62728",
           "#9467BD",
           "#8C564B",
           "#E377C2",
           "#7F7F7F",
           "#BCBD22",
           "#17BECF"
          ],
          "font": {
           "color": "rgb(36,36,36)"
          },
          "geo": {
           "bgcolor": "white",
           "lakecolor": "white",
           "landcolor": "white",
           "showlakes": true,
           "showland": true,
           "subunitcolor": "white"
          },
          "hoverlabel": {
           "align": "left"
          },
          "hovermode": "closest",
          "mapbox": {
           "style": "light"
          },
          "paper_bgcolor": "white",
          "plot_bgcolor": "white",
          "polar": {
           "angularaxis": {
            "gridcolor": "rgb(232,232,232)",
            "linecolor": "rgb(36,36,36)",
            "showgrid": false,
            "showline": true,
            "ticks": "outside"
           },
           "bgcolor": "white",
           "radialaxis": {
            "gridcolor": "rgb(232,232,232)",
            "linecolor": "rgb(36,36,36)",
            "showgrid": false,
            "showline": true,
            "ticks": "outside"
           }
          },
          "scene": {
           "xaxis": {
            "backgroundcolor": "white",
            "gridcolor": "rgb(232,232,232)",
            "gridwidth": 2,
            "linecolor": "rgb(36,36,36)",
            "showbackground": true,
            "showgrid": false,
            "showline": true,
            "ticks": "outside",
            "zeroline": false,
            "zerolinecolor": "rgb(36,36,36)"
           },
           "yaxis": {
            "backgroundcolor": "white",
            "gridcolor": "rgb(232,232,232)",
            "gridwidth": 2,
            "linecolor": "rgb(36,36,36)",
            "showbackground": true,
            "showgrid": false,
            "showline": true,
            "ticks": "outside",
            "zeroline": false,
            "zerolinecolor": "rgb(36,36,36)"
           },
           "zaxis": {
            "backgroundcolor": "white",
            "gridcolor": "rgb(232,232,232)",
            "gridwidth": 2,
            "linecolor": "rgb(36,36,36)",
            "showbackground": true,
            "showgrid": false,
            "showline": true,
            "ticks": "outside",
            "zeroline": false,
            "zerolinecolor": "rgb(36,36,36)"
           }
          },
          "shapedefaults": {
           "fillcolor": "black",
           "line": {
            "width": 0
           },
           "opacity": 0.3
          },
          "ternary": {
           "aaxis": {
            "gridcolor": "rgb(232,232,232)",
            "linecolor": "rgb(36,36,36)",
            "showgrid": false,
            "showline": true,
            "ticks": "outside"
           },
           "baxis": {
            "gridcolor": "rgb(232,232,232)",
            "linecolor": "rgb(36,36,36)",
            "showgrid": false,
            "showline": true,
            "ticks": "outside"
           },
           "bgcolor": "white",
           "caxis": {
            "gridcolor": "rgb(232,232,232)",
            "linecolor": "rgb(36,36,36)",
            "showgrid": false,
            "showline": true,
            "ticks": "outside"
           }
          },
          "title": {
           "x": 0.05
          },
          "xaxis": {
           "automargin": true,
           "gridcolor": "rgb(232,232,232)",
           "linecolor": "rgb(36,36,36)",
           "showgrid": false,
           "showline": true,
           "ticks": "outside",
           "title": {
            "standoff": 15
           },
           "zeroline": false,
           "zerolinecolor": "rgb(36,36,36)"
          },
          "yaxis": {
           "automargin": true,
           "gridcolor": "rgb(232,232,232)",
           "linecolor": "rgb(36,36,36)",
           "showgrid": false,
           "showline": true,
           "ticks": "outside",
           "title": {
            "standoff": 15
           },
           "zeroline": false,
           "zerolinecolor": "rgb(36,36,36)"
          }
         }
        },
        "title": {
         "text": "Boxplots of Features",
         "x": 0.5
        },
        "xaxis": {
         "anchor": "y",
         "domain": [
          0,
          0.048888888888888885
         ]
        },
        "xaxis2": {
         "anchor": "y2",
         "domain": [
          0.11888888888888889,
          0.16777777777777778
         ]
        },
        "xaxis3": {
         "anchor": "y3",
         "domain": [
          0.23777777777777778,
          0.2866666666666667
         ]
        },
        "xaxis4": {
         "anchor": "y4",
         "domain": [
          0.3566666666666667,
          0.40555555555555556
         ]
        },
        "xaxis5": {
         "anchor": "y5",
         "domain": [
          0.47555555555555556,
          0.5244444444444445
         ]
        },
        "xaxis6": {
         "anchor": "y6",
         "domain": [
          0.5944444444444444,
          0.6433333333333333
         ]
        },
        "xaxis7": {
         "anchor": "y7",
         "domain": [
          0.7133333333333334,
          0.7622222222222222
         ]
        },
        "xaxis8": {
         "anchor": "y8",
         "domain": [
          0.8322222222222222,
          0.8811111111111111
         ]
        },
        "xaxis9": {
         "anchor": "y9",
         "domain": [
          0.951111111111111,
          0.9999999999999999
         ]
        },
        "yaxis": {
         "anchor": "x",
         "domain": [
          0,
          1
         ]
        },
        "yaxis2": {
         "anchor": "x2",
         "domain": [
          0,
          1
         ]
        },
        "yaxis3": {
         "anchor": "x3",
         "domain": [
          0,
          1
         ]
        },
        "yaxis4": {
         "anchor": "x4",
         "domain": [
          0,
          1
         ]
        },
        "yaxis5": {
         "anchor": "x5",
         "domain": [
          0,
          1
         ]
        },
        "yaxis6": {
         "anchor": "x6",
         "domain": [
          0,
          1
         ]
        },
        "yaxis7": {
         "anchor": "x7",
         "domain": [
          0,
          1
         ]
        },
        "yaxis8": {
         "anchor": "x8",
         "domain": [
          0,
          1
         ]
        },
        "yaxis9": {
         "anchor": "x9",
         "domain": [
          0,
          1
         ]
        }
       }
      }
     },
     "metadata": {},
     "output_type": "display_data"
    }
   ],
   "source": [
    "feats_box = boxplot_feats_plot(data, \"Boxplots of Features\")\n",
    "feats_box.show()"
   ]
  },
  {
   "cell_type": "code",
   "execution_count": 9,
   "metadata": {},
   "outputs": [],
   "source": [
    "# Save as pdf\n",
    "pio.write_image(feats_box, \"plots/feat_boxplots.pdf\", height=480, width=1100)"
   ]
  },
  {
   "cell_type": "markdown",
   "metadata": {},
   "source": [
    "For the next task, we will perform correlation analysis in order to inspect the relationship between features in the dataset.\n",
    "Again, all features will be selected to calculate the correaltion coefficients.\n",
    "At the end we can visualize the relationship between the features through a heatmap."
   ]
  },
  {
   "cell_type": "code",
   "execution_count": 10,
   "metadata": {},
   "outputs": [
    {
     "data": {
      "application/vnd.plotly.v1+json": {
       "config": {
        "plotlyServerURL": "https://plot.ly"
       },
       "data": [
        {
         "colorbar": {
          "title": {
           "text": "Correlation"
          }
         },
         "colorscale": [
          [
           0,
           "rgb(5,48,97)"
          ],
          [
           0.1,
           "rgb(33,102,172)"
          ],
          [
           0.2,
           "rgb(67,147,195)"
          ],
          [
           0.3,
           "rgb(146,197,222)"
          ],
          [
           0.4,
           "rgb(209,229,240)"
          ],
          [
           0.5,
           "rgb(247,247,247)"
          ],
          [
           0.6,
           "rgb(253,219,199)"
          ],
          [
           0.7,
           "rgb(244,165,130)"
          ],
          [
           0.8,
           "rgb(214,96,77)"
          ],
          [
           0.9,
           "rgb(178,24,43)"
          ],
          [
           1,
           "rgb(103,0,31)"
          ]
         ],
         "showscale": true,
         "type": "heatmap",
         "x": [
          "Pregnancies",
          "Glucose",
          "BloodPressure",
          "SkinThickness",
          "Insulin",
          "BMI",
          "DiabetesPedigreeFunction",
          "Age",
          "Outcome"
         ],
         "y": [
          "Pregnancies",
          "Glucose",
          "BloodPressure",
          "SkinThickness",
          "Insulin",
          "BMI",
          "DiabetesPedigreeFunction",
          "Age",
          "Outcome"
         ],
         "z": [
          [
           1,
           0.15452751193594058,
           0.08112258395901381,
           -0.11230599278576034,
           -0.05691344967166885,
           -0.0014887616044380642,
           -0.05155076220713874,
           0.5329470386995757,
           0.23658012729815464
          ],
          [
           0.15452751193594058,
           1,
           0.14058670346914323,
           0.02737625329178507,
           0.35404245063293976,
           0.18815353115461583,
           0.11332560910809618,
           0.2845670319451446,
           0.4753774755324974
          ],
          [
           0.08112258395901381,
           0.14058670346914323,
           1,
           0.1668981893301806,
           0.08591223256971663,
           0.2737911760672394,
           0.031559686199874246,
           0.2166874882353187,
           0.06880959208378573
          ],
          [
           -0.11230599278576034,
           0.02737625329178507,
           0.1668981893301806,
           1,
           0.4848142948778454,
           0.3697240393954384,
           0.17618809252612663,
           -0.0885184417434813,
           0.060347888801550904
          ],
          [
           -0.05691344967166885,
           0.35404245063293976,
           0.08591223256971663,
           0.4848142948778454,
           1,
           0.18724116032388038,
           0.2442389221858147,
           0.009970217350730204,
           0.18031332590784493
          ],
          [
           -0.0014887616044380642,
           0.18815353115461583,
           0.2737911760672394,
           0.3697240393954384,
           0.18724116032388038,
           1,
           0.13018380824179304,
           0.0340634080258278,
           0.29309967224748107
          ],
          [
           -0.05155076220713874,
           0.11332560910809618,
           0.031559686199874246,
           0.17618809252612663,
           0.2442389221858147,
           0.13018380824179304,
           1,
           0.01582201399860779,
           0.1413696714530207
          ],
          [
           0.5329470386995757,
           0.2845670319451446,
           0.2166874882353187,
           -0.0885184417434813,
           0.009970217350730204,
           0.0340634080258278,
           0.01582201399860779,
           1,
           0.22620784656522375
          ],
          [
           0.23658012729815464,
           0.4753774755324974,
           0.06880959208378573,
           0.060347888801550904,
           0.18031332590784493,
           0.29309967224748107,
           0.1413696714530207,
           0.22620784656522375,
           1
          ]
         ],
         "zmax": 1,
         "zmin": -1
        }
       ],
       "layout": {
        "font": {
         "family": "Arial",
         "size": 15
        },
        "height": 570,
        "template": {
         "data": {
          "bar": [
           {
            "error_x": {
             "color": "rgb(36,36,36)"
            },
            "error_y": {
             "color": "rgb(36,36,36)"
            },
            "marker": {
             "line": {
              "color": "white",
              "width": 0.5
             },
             "pattern": {
              "fillmode": "overlay",
              "size": 10,
              "solidity": 0.2
             }
            },
            "type": "bar"
           }
          ],
          "barpolar": [
           {
            "marker": {
             "line": {
              "color": "white",
              "width": 0.5
             },
             "pattern": {
              "fillmode": "overlay",
              "size": 10,
              "solidity": 0.2
             }
            },
            "type": "barpolar"
           }
          ],
          "carpet": [
           {
            "aaxis": {
             "endlinecolor": "rgb(36,36,36)",
             "gridcolor": "white",
             "linecolor": "white",
             "minorgridcolor": "white",
             "startlinecolor": "rgb(36,36,36)"
            },
            "baxis": {
             "endlinecolor": "rgb(36,36,36)",
             "gridcolor": "white",
             "linecolor": "white",
             "minorgridcolor": "white",
             "startlinecolor": "rgb(36,36,36)"
            },
            "type": "carpet"
           }
          ],
          "choropleth": [
           {
            "colorbar": {
             "outlinewidth": 1,
             "tickcolor": "rgb(36,36,36)",
             "ticks": "outside"
            },
            "type": "choropleth"
           }
          ],
          "contour": [
           {
            "colorbar": {
             "outlinewidth": 1,
             "tickcolor": "rgb(36,36,36)",
             "ticks": "outside"
            },
            "colorscale": [
             [
              0,
              "#440154"
             ],
             [
              0.1111111111111111,
              "#482878"
             ],
             [
              0.2222222222222222,
              "#3e4989"
             ],
             [
              0.3333333333333333,
              "#31688e"
             ],
             [
              0.4444444444444444,
              "#26828e"
             ],
             [
              0.5555555555555556,
              "#1f9e89"
             ],
             [
              0.6666666666666666,
              "#35b779"
             ],
             [
              0.7777777777777778,
              "#6ece58"
             ],
             [
              0.8888888888888888,
              "#b5de2b"
             ],
             [
              1,
              "#fde725"
             ]
            ],
            "type": "contour"
           }
          ],
          "contourcarpet": [
           {
            "colorbar": {
             "outlinewidth": 1,
             "tickcolor": "rgb(36,36,36)",
             "ticks": "outside"
            },
            "type": "contourcarpet"
           }
          ],
          "heatmap": [
           {
            "colorbar": {
             "outlinewidth": 1,
             "tickcolor": "rgb(36,36,36)",
             "ticks": "outside"
            },
            "colorscale": [
             [
              0,
              "#440154"
             ],
             [
              0.1111111111111111,
              "#482878"
             ],
             [
              0.2222222222222222,
              "#3e4989"
             ],
             [
              0.3333333333333333,
              "#31688e"
             ],
             [
              0.4444444444444444,
              "#26828e"
             ],
             [
              0.5555555555555556,
              "#1f9e89"
             ],
             [
              0.6666666666666666,
              "#35b779"
             ],
             [
              0.7777777777777778,
              "#6ece58"
             ],
             [
              0.8888888888888888,
              "#b5de2b"
             ],
             [
              1,
              "#fde725"
             ]
            ],
            "type": "heatmap"
           }
          ],
          "heatmapgl": [
           {
            "colorbar": {
             "outlinewidth": 1,
             "tickcolor": "rgb(36,36,36)",
             "ticks": "outside"
            },
            "colorscale": [
             [
              0,
              "#440154"
             ],
             [
              0.1111111111111111,
              "#482878"
             ],
             [
              0.2222222222222222,
              "#3e4989"
             ],
             [
              0.3333333333333333,
              "#31688e"
             ],
             [
              0.4444444444444444,
              "#26828e"
             ],
             [
              0.5555555555555556,
              "#1f9e89"
             ],
             [
              0.6666666666666666,
              "#35b779"
             ],
             [
              0.7777777777777778,
              "#6ece58"
             ],
             [
              0.8888888888888888,
              "#b5de2b"
             ],
             [
              1,
              "#fde725"
             ]
            ],
            "type": "heatmapgl"
           }
          ],
          "histogram": [
           {
            "marker": {
             "line": {
              "color": "white",
              "width": 0.6
             }
            },
            "type": "histogram"
           }
          ],
          "histogram2d": [
           {
            "colorbar": {
             "outlinewidth": 1,
             "tickcolor": "rgb(36,36,36)",
             "ticks": "outside"
            },
            "colorscale": [
             [
              0,
              "#440154"
             ],
             [
              0.1111111111111111,
              "#482878"
             ],
             [
              0.2222222222222222,
              "#3e4989"
             ],
             [
              0.3333333333333333,
              "#31688e"
             ],
             [
              0.4444444444444444,
              "#26828e"
             ],
             [
              0.5555555555555556,
              "#1f9e89"
             ],
             [
              0.6666666666666666,
              "#35b779"
             ],
             [
              0.7777777777777778,
              "#6ece58"
             ],
             [
              0.8888888888888888,
              "#b5de2b"
             ],
             [
              1,
              "#fde725"
             ]
            ],
            "type": "histogram2d"
           }
          ],
          "histogram2dcontour": [
           {
            "colorbar": {
             "outlinewidth": 1,
             "tickcolor": "rgb(36,36,36)",
             "ticks": "outside"
            },
            "colorscale": [
             [
              0,
              "#440154"
             ],
             [
              0.1111111111111111,
              "#482878"
             ],
             [
              0.2222222222222222,
              "#3e4989"
             ],
             [
              0.3333333333333333,
              "#31688e"
             ],
             [
              0.4444444444444444,
              "#26828e"
             ],
             [
              0.5555555555555556,
              "#1f9e89"
             ],
             [
              0.6666666666666666,
              "#35b779"
             ],
             [
              0.7777777777777778,
              "#6ece58"
             ],
             [
              0.8888888888888888,
              "#b5de2b"
             ],
             [
              1,
              "#fde725"
             ]
            ],
            "type": "histogram2dcontour"
           }
          ],
          "mesh3d": [
           {
            "colorbar": {
             "outlinewidth": 1,
             "tickcolor": "rgb(36,36,36)",
             "ticks": "outside"
            },
            "type": "mesh3d"
           }
          ],
          "parcoords": [
           {
            "line": {
             "colorbar": {
              "outlinewidth": 1,
              "tickcolor": "rgb(36,36,36)",
              "ticks": "outside"
             }
            },
            "type": "parcoords"
           }
          ],
          "pie": [
           {
            "automargin": true,
            "type": "pie"
           }
          ],
          "scatter": [
           {
            "fillpattern": {
             "fillmode": "overlay",
             "size": 10,
             "solidity": 0.2
            },
            "type": "scatter"
           }
          ],
          "scatter3d": [
           {
            "line": {
             "colorbar": {
              "outlinewidth": 1,
              "tickcolor": "rgb(36,36,36)",
              "ticks": "outside"
             }
            },
            "marker": {
             "colorbar": {
              "outlinewidth": 1,
              "tickcolor": "rgb(36,36,36)",
              "ticks": "outside"
             }
            },
            "type": "scatter3d"
           }
          ],
          "scattercarpet": [
           {
            "marker": {
             "colorbar": {
              "outlinewidth": 1,
              "tickcolor": "rgb(36,36,36)",
              "ticks": "outside"
             }
            },
            "type": "scattercarpet"
           }
          ],
          "scattergeo": [
           {
            "marker": {
             "colorbar": {
              "outlinewidth": 1,
              "tickcolor": "rgb(36,36,36)",
              "ticks": "outside"
             }
            },
            "type": "scattergeo"
           }
          ],
          "scattergl": [
           {
            "marker": {
             "colorbar": {
              "outlinewidth": 1,
              "tickcolor": "rgb(36,36,36)",
              "ticks": "outside"
             }
            },
            "type": "scattergl"
           }
          ],
          "scattermapbox": [
           {
            "marker": {
             "colorbar": {
              "outlinewidth": 1,
              "tickcolor": "rgb(36,36,36)",
              "ticks": "outside"
             }
            },
            "type": "scattermapbox"
           }
          ],
          "scatterpolar": [
           {
            "marker": {
             "colorbar": {
              "outlinewidth": 1,
              "tickcolor": "rgb(36,36,36)",
              "ticks": "outside"
             }
            },
            "type": "scatterpolar"
           }
          ],
          "scatterpolargl": [
           {
            "marker": {
             "colorbar": {
              "outlinewidth": 1,
              "tickcolor": "rgb(36,36,36)",
              "ticks": "outside"
             }
            },
            "type": "scatterpolargl"
           }
          ],
          "scatterternary": [
           {
            "marker": {
             "colorbar": {
              "outlinewidth": 1,
              "tickcolor": "rgb(36,36,36)",
              "ticks": "outside"
             }
            },
            "type": "scatterternary"
           }
          ],
          "surface": [
           {
            "colorbar": {
             "outlinewidth": 1,
             "tickcolor": "rgb(36,36,36)",
             "ticks": "outside"
            },
            "colorscale": [
             [
              0,
              "#440154"
             ],
             [
              0.1111111111111111,
              "#482878"
             ],
             [
              0.2222222222222222,
              "#3e4989"
             ],
             [
              0.3333333333333333,
              "#31688e"
             ],
             [
              0.4444444444444444,
              "#26828e"
             ],
             [
              0.5555555555555556,
              "#1f9e89"
             ],
             [
              0.6666666666666666,
              "#35b779"
             ],
             [
              0.7777777777777778,
              "#6ece58"
             ],
             [
              0.8888888888888888,
              "#b5de2b"
             ],
             [
              1,
              "#fde725"
             ]
            ],
            "type": "surface"
           }
          ],
          "table": [
           {
            "cells": {
             "fill": {
              "color": "rgb(237,237,237)"
             },
             "line": {
              "color": "white"
             }
            },
            "header": {
             "fill": {
              "color": "rgb(217,217,217)"
             },
             "line": {
              "color": "white"
             }
            },
            "type": "table"
           }
          ]
         },
         "layout": {
          "annotationdefaults": {
           "arrowhead": 0,
           "arrowwidth": 1
          },
          "autotypenumbers": "strict",
          "coloraxis": {
           "colorbar": {
            "outlinewidth": 1,
            "tickcolor": "rgb(36,36,36)",
            "ticks": "outside"
           }
          },
          "colorscale": {
           "diverging": [
            [
             0,
             "rgb(103,0,31)"
            ],
            [
             0.1,
             "rgb(178,24,43)"
            ],
            [
             0.2,
             "rgb(214,96,77)"
            ],
            [
             0.3,
             "rgb(244,165,130)"
            ],
            [
             0.4,
             "rgb(253,219,199)"
            ],
            [
             0.5,
             "rgb(247,247,247)"
            ],
            [
             0.6,
             "rgb(209,229,240)"
            ],
            [
             0.7,
             "rgb(146,197,222)"
            ],
            [
             0.8,
             "rgb(67,147,195)"
            ],
            [
             0.9,
             "rgb(33,102,172)"
            ],
            [
             1,
             "rgb(5,48,97)"
            ]
           ],
           "sequential": [
            [
             0,
             "#440154"
            ],
            [
             0.1111111111111111,
             "#482878"
            ],
            [
             0.2222222222222222,
             "#3e4989"
            ],
            [
             0.3333333333333333,
             "#31688e"
            ],
            [
             0.4444444444444444,
             "#26828e"
            ],
            [
             0.5555555555555556,
             "#1f9e89"
            ],
            [
             0.6666666666666666,
             "#35b779"
            ],
            [
             0.7777777777777778,
             "#6ece58"
            ],
            [
             0.8888888888888888,
             "#b5de2b"
            ],
            [
             1,
             "#fde725"
            ]
           ],
           "sequentialminus": [
            [
             0,
             "#440154"
            ],
            [
             0.1111111111111111,
             "#482878"
            ],
            [
             0.2222222222222222,
             "#3e4989"
            ],
            [
             0.3333333333333333,
             "#31688e"
            ],
            [
             0.4444444444444444,
             "#26828e"
            ],
            [
             0.5555555555555556,
             "#1f9e89"
            ],
            [
             0.6666666666666666,
             "#35b779"
            ],
            [
             0.7777777777777778,
             "#6ece58"
            ],
            [
             0.8888888888888888,
             "#b5de2b"
            ],
            [
             1,
             "#fde725"
            ]
           ]
          },
          "colorway": [
           "#1F77B4",
           "#FF7F0E",
           "#2CA02C",
           "#D62728",
           "#9467BD",
           "#8C564B",
           "#E377C2",
           "#7F7F7F",
           "#BCBD22",
           "#17BECF"
          ],
          "font": {
           "color": "rgb(36,36,36)"
          },
          "geo": {
           "bgcolor": "white",
           "lakecolor": "white",
           "landcolor": "white",
           "showlakes": true,
           "showland": true,
           "subunitcolor": "white"
          },
          "hoverlabel": {
           "align": "left"
          },
          "hovermode": "closest",
          "mapbox": {
           "style": "light"
          },
          "paper_bgcolor": "white",
          "plot_bgcolor": "white",
          "polar": {
           "angularaxis": {
            "gridcolor": "rgb(232,232,232)",
            "linecolor": "rgb(36,36,36)",
            "showgrid": false,
            "showline": true,
            "ticks": "outside"
           },
           "bgcolor": "white",
           "radialaxis": {
            "gridcolor": "rgb(232,232,232)",
            "linecolor": "rgb(36,36,36)",
            "showgrid": false,
            "showline": true,
            "ticks": "outside"
           }
          },
          "scene": {
           "xaxis": {
            "backgroundcolor": "white",
            "gridcolor": "rgb(232,232,232)",
            "gridwidth": 2,
            "linecolor": "rgb(36,36,36)",
            "showbackground": true,
            "showgrid": false,
            "showline": true,
            "ticks": "outside",
            "zeroline": false,
            "zerolinecolor": "rgb(36,36,36)"
           },
           "yaxis": {
            "backgroundcolor": "white",
            "gridcolor": "rgb(232,232,232)",
            "gridwidth": 2,
            "linecolor": "rgb(36,36,36)",
            "showbackground": true,
            "showgrid": false,
            "showline": true,
            "ticks": "outside",
            "zeroline": false,
            "zerolinecolor": "rgb(36,36,36)"
           },
           "zaxis": {
            "backgroundcolor": "white",
            "gridcolor": "rgb(232,232,232)",
            "gridwidth": 2,
            "linecolor": "rgb(36,36,36)",
            "showbackground": true,
            "showgrid": false,
            "showline": true,
            "ticks": "outside",
            "zeroline": false,
            "zerolinecolor": "rgb(36,36,36)"
           }
          },
          "shapedefaults": {
           "fillcolor": "black",
           "line": {
            "width": 0
           },
           "opacity": 0.3
          },
          "ternary": {
           "aaxis": {
            "gridcolor": "rgb(232,232,232)",
            "linecolor": "rgb(36,36,36)",
            "showgrid": false,
            "showline": true,
            "ticks": "outside"
           },
           "baxis": {
            "gridcolor": "rgb(232,232,232)",
            "linecolor": "rgb(36,36,36)",
            "showgrid": false,
            "showline": true,
            "ticks": "outside"
           },
           "bgcolor": "white",
           "caxis": {
            "gridcolor": "rgb(232,232,232)",
            "linecolor": "rgb(36,36,36)",
            "showgrid": false,
            "showline": true,
            "ticks": "outside"
           }
          },
          "title": {
           "x": 0.05
          },
          "xaxis": {
           "automargin": true,
           "gridcolor": "rgb(232,232,232)",
           "linecolor": "rgb(36,36,36)",
           "showgrid": false,
           "showline": true,
           "ticks": "outside",
           "title": {
            "standoff": 15
           },
           "zeroline": false,
           "zerolinecolor": "rgb(36,36,36)"
          },
          "yaxis": {
           "automargin": true,
           "gridcolor": "rgb(232,232,232)",
           "linecolor": "rgb(36,36,36)",
           "showgrid": false,
           "showline": true,
           "ticks": "outside",
           "title": {
            "standoff": 15
           },
           "zeroline": false,
           "zerolinecolor": "rgb(36,36,36)"
          }
         }
        },
        "title": {
         "text": "Feautures Correlation Heatmap",
         "x": 0.5
        },
        "width": 600,
        "xaxis": {
         "tickangle": -40
        },
        "yaxis": {
         "tickangle": -40
        }
       }
      }
     },
     "metadata": {},
     "output_type": "display_data"
    }
   ],
   "source": [
    "# Create the correlation heatmap\n",
    "heatmap_fig = correlation_heatmap(data, 'Feautures Correlation Heatmap', 'ID')\n",
    "heatmap_fig.show()"
   ]
  },
  {
   "cell_type": "code",
   "execution_count": 11,
   "metadata": {},
   "outputs": [],
   "source": [
    "# Save as pdf\n",
    "pio.write_image(heatmap_fig, \"plots/heatmap_feat_corr.pdf\", height=570, width=600)"
   ]
  },
  {
   "cell_type": "markdown",
   "metadata": {},
   "source": [
    "In the heatmap figure above, with blue colour are depicted the pairs of features that are negatively correlated, with red the positively correlated, and with white are shown the uncorrelated pairs.\n"
   ]
  },
  {
   "cell_type": "markdown",
   "metadata": {},
   "source": [
    "For the next task, principal component analysis will be executed so as to reduce the dimensionality of the of our dataset."
   ]
  },
  {
   "cell_type": "code",
   "execution_count": 12,
   "metadata": {},
   "outputs": [
    {
     "data": {
      "application/vnd.plotly.v1+json": {
       "config": {
        "plotlyServerURL": "https://plot.ly"
       },
       "data": [
        {
         "hoverinfo": "text",
         "marker": {
          "color": "#2554a1",
          "opacity": 0.8,
          "size": 8
         },
         "mode": "markers",
         "name": "Healthy",
         "text": [
          0,
          0,
          0,
          0,
          0,
          0,
          0,
          0,
          0,
          0,
          0,
          0,
          0,
          0,
          0,
          0,
          0,
          0,
          0,
          0,
          0,
          0,
          0,
          0,
          0,
          0,
          0,
          0,
          0,
          0,
          0,
          0,
          0,
          0,
          0,
          0,
          0,
          0,
          0,
          0,
          0,
          0,
          0,
          0,
          0,
          0,
          0,
          0,
          0,
          0,
          0,
          0,
          0,
          0,
          0,
          0,
          0,
          0,
          0,
          0,
          0,
          0,
          0,
          0,
          0,
          0,
          0,
          0,
          0,
          0,
          0,
          0,
          0,
          0,
          0,
          0,
          0,
          0,
          0,
          0,
          0,
          0,
          0,
          0,
          0,
          0,
          0,
          0,
          0,
          0,
          0,
          0,
          0,
          0,
          0,
          0,
          0,
          0,
          0,
          0,
          0,
          0,
          0,
          0,
          0,
          0,
          0,
          0,
          0,
          0,
          0,
          0,
          0,
          0,
          0,
          0,
          0,
          0,
          0,
          0,
          0,
          0,
          0,
          0,
          0,
          0,
          0,
          0,
          0,
          0,
          0,
          0,
          0,
          0,
          0,
          0,
          0,
          0,
          0,
          0,
          0,
          0,
          0,
          0,
          0,
          0,
          0,
          0,
          0,
          0,
          0,
          0,
          0,
          0,
          0,
          0,
          0,
          0,
          0,
          0,
          0,
          0,
          0,
          0,
          0,
          0,
          0,
          0,
          0,
          0,
          0,
          0,
          0,
          0,
          0,
          0,
          0,
          0,
          0,
          0,
          0,
          0,
          0,
          0,
          0,
          0,
          0,
          0,
          0,
          0,
          0,
          0,
          0,
          0,
          0,
          0,
          0,
          0,
          0,
          0,
          0,
          0,
          0,
          0,
          0,
          0,
          0,
          0,
          0,
          0,
          0,
          0,
          0,
          0,
          0,
          0,
          0,
          0,
          0,
          0,
          0,
          0,
          0,
          0,
          0,
          0,
          0,
          0,
          0,
          0,
          0,
          0,
          0,
          0,
          0,
          0,
          0,
          0,
          0,
          0,
          0,
          0,
          0,
          0,
          0,
          0,
          0,
          0,
          0,
          0,
          0,
          0,
          0,
          0,
          0,
          0,
          0,
          0,
          0,
          0,
          0,
          0,
          0,
          0,
          0,
          0,
          0,
          0,
          0,
          0,
          0,
          0,
          0,
          0,
          0,
          0,
          0,
          0,
          0,
          0,
          0,
          0,
          0,
          0,
          0,
          0,
          0,
          0,
          0,
          0,
          0,
          0,
          0,
          0,
          0,
          0,
          0,
          0,
          0,
          0,
          0,
          0,
          0,
          0,
          0,
          0,
          0,
          0,
          0,
          0,
          0,
          0,
          0,
          0,
          0,
          0,
          0,
          0,
          0,
          0,
          0,
          0,
          0,
          0,
          0,
          0,
          0,
          0,
          0
         ],
         "type": "scatter",
         "x": [
          -76.99012745566618,
          -77.8372112483953,
          2.639325205185521,
          12.685124781142825,
          -81.11220071612938,
          88.40849787141943,
          -78.65708487238179,
          -81.4296584852231,
          -14.0544271151634,
          -83.11626701268194,
          47.00059821880849,
          -52.98589800287004,
          19.140588308793784,
          154.0221378559097,
          153.1333741678752,
          -31.533973671571868,
          -74.83219978331563,
          -43.563686711722966,
          -5.454172137165974,
          124.39806232071459,
          671.2503890115404,
          -77.17846890663473,
          -78.86354905230874,
          -79.20416505696558,
          33.66908702149102,
          -21.81007322279794,
          -80.38122252509079,
          -81.11465622351275,
          89.71899797148224,
          0.2757734681947232,
          -79.20388267021566,
          26.13239320680843,
          -78.97615035550206,
          -78.1332690406145,
          25.6248286191505,
          -79.44661331786867,
          27.67128342562158,
          -78.40282690834394,
          -80.5109674064349,
          153.07316489581711,
          134.24303783764321,
          34.04493094837741,
          -82.50946242186549,
          -75.15040954841137,
          -77.3794329893862,
          35.76229541823612,
          -73.61816241524255,
          -77.2572194977322,
          -76.07950071801262,
          -76.60556690720824,
          -73.29436503289553,
          -74.21664138034284,
          46.56811835659756,
          -78.81388119366912,
          16.329453381152415,
          -1.3649874225547092,
          -76.06091497988325,
          8.750717619216895,
          -79.49268011504945,
          -1.0501224297211695,
          -30.794852197026046,
          78.73268663380004,
          -75.78871325764507,
          -81.82179791385875,
          -79.55197383055938,
          -78.86155573487744,
          323.7320452067079,
          56.22688528926921,
          -77.68632125693416,
          -23.623915349174897,
          41.24953266983967,
          -74.97970697460062,
          -14.59189516092361,
          -76.61447114780903,
          -70.84025723322118,
          -43.30581201707461,
          -77.01661894972563,
          -30.87109767139312,
          -36.11965900378209,
          -74.55588011221595,
          67.97857861267995,
          -76.9145573686736,
          -31.173397134539016,
          19.127298306220734,
          -55.65099944486823,
          -77.22572602020622,
          -4.328003233341596,
          -66.67375669606004,
          -80.93459437339901,
          -75.28469502840078,
          -28.691985293525242,
          -37.570899940463384,
          311.0844123469621,
          116.53759998136235,
          -77.07563354869963,
          -2.885556503485967,
          -73.19896927043818,
          -31.080854144711036,
          -71.03224080331594,
          -20.527495470395642,
          7.570603234879929,
          -81.35494789334787,
          35.64457108853541,
          27.556021017249325,
          -80.5388545320983,
          12.224382589979694,
          -82.48641743353086,
          63.47376055291375,
          5.071972362822076,
          -79.41866541369139,
          -79.14746701007032,
          -75.10687717921822,
          -79.44373642780383,
          -72.66316886771963,
          106.09272123454411,
          -76.94376888641662,
          -81.23787863601407,
          -83.7881426403508,
          -77.83464699922418,
          138.51103908371493,
          -78.82552520552456,
          -76.31127016910987,
          82.11918902709904,
          -77.24204058088611,
          -77.12924568993554,
          -82.2725451876417,
          -35.92228446142708,
          -77.49490418483302,
          -77.15894360028948,
          -26.423164645207684,
          164.00974222120112,
          -0.3879804263556442,
          94.25592108797457,
          110.54078386105505,
          -14.24763662058126,
          247.3039521988173,
          59.554249269298595,
          -12.93773477152704,
          -75.96679107718099,
          11.703335755260017,
          -81.94195826412742,
          -77.94737833186358,
          -31.533358974469582,
          -46.59287286205755,
          2.2499607734679192,
          -79.86731590890878,
          -81.8787580451835,
          75.58020989464764,
          -78.29841661386608,
          -78.73637569443686,
          -3.5525274748539504,
          28.71781343469378,
          -76.02934946677959,
          86.09523325836257,
          -37.50451228603582,
          -79.43514740730103,
          -81.20270186688639,
          -78.8247695773713,
          93.5070594288322,
          58.5823910903058,
          37.15049966373949,
          94.55748124642889,
          159.36611795500187,
          104.91422583577791,
          6.381550613209267,
          -78.99855910127603,
          -76.59833647041401,
          -41.93894893180106,
          -40.124890771411394,
          -74.8990333650671,
          -0.05707554492295712,
          -75.34971052821518,
          -61.756161680455605,
          -6.446039027969158,
          13.084268018953916,
          4.490083991957271,
          -78.94361467511493,
          -47.386684961191236,
          -70.26532419799781,
          193.71520654923802,
          197.26074670266217,
          -78.56002480019652,
          -81.98902149619133,
          -4.921996733292209,
          -79.19619343886235,
          -38.52357840936491,
          -5.71542805788248,
          -12.373171121456103,
          -77.89217653965392,
          -15.72537303132474,
          -40.97050433412914,
          -74.2745217449992,
          102.68861518075057,
          128.59480218286396,
          6.312194136947968,
          -81.11698938319479,
          -76.29892184301922,
          40.83009948461525,
          -78.25210076555076,
          -77.41802271007924,
          254.46635795396327,
          -74.48402946585252,
          -80.93706860151721,
          -81.71071906408284,
          -71.18292105405445,
          -79.70582866356358,
          198.73180890358137,
          95.89400575970943,
          -21.676472264214496,
          -82.52884489528518,
          -77.96681353211352,
          -76.99349975792497,
          -77.50194692697353,
          -82.96517071365948,
          -69.89369417619528,
          98.22546120358037,
          -75.8165575335909,
          -78.13183082154478,
          -14.85130866523708,
          -80.74058673603798,
          63.10030027651189,
          14.790273386441568,
          53.266286287025096,
          9.048210001091409,
          44.845604595230306,
          -75.98973622927487,
          -32.939874234606435,
          -12.227286455899838,
          217.77376588417928,
          -2.415703813779857,
          -66.96989705344546,
          -80.11303655116731,
          -28.354131221797314,
          -80.82481548474257,
          -59.753861928486614,
          -75.29813779408853,
          -79.76473687812025,
          -79.35462368137445,
          -71.64922041549065,
          21.960230843678783,
          -77.40145444392263,
          46.41877072024213,
          0.1859511019987167,
          -82.38241599940447,
          -77.28188042857924,
          -73.44854929200537,
          -80.55271661137206,
          -79.47534211141623,
          -75.96962105955558,
          -13.730409573897546,
          -76.55981237156183,
          4.171334726181484,
          22.36592103056791,
          -15.63391487440307,
          55.81112156570898,
          -9.008035423144038,
          -77.3502883071821,
          -76.00865852147032,
          -77.5322531276845,
          28.746866049383836,
          27.554642145853588,
          64.12242119091592,
          78.95143535527356,
          -63.62071213699725,
          -78.77463347124981,
          -78.50046783015952,
          -79.13552928949134,
          -78.65847715985348,
          -73.6803244715312,
          -79.4686701309994,
          83.50537611769944,
          -75.2127139342735,
          115.44449538467927,
          59.946415666917545,
          14.629094059816818,
          138.27927621055318,
          -15.108801620701945,
          7.871293319606815,
          -80.31008876975643,
          -21.32006411516349,
          35.892585429948134,
          -9.552038020068043,
          -80.7746727368395,
          111.33605180305652,
          -80.03306334700686,
          -79.3269240658319,
          98.50832506528091,
          -79.14179080880581,
          54.30198977385247,
          122.60118928974202,
          -72.28170494929836,
          4.462293178781339,
          -33.38706301658369,
          -28.26552906480069,
          110.59115750980928,
          -81.34173644781113,
          -75.66362580646295,
          40.050543970312326,
          -75.66504580449691,
          119.88091241339148,
          26.625450733772507,
          -83.2226413354646,
          11.553808708210914,
          -78.44416571374323,
          -75.35319188918169,
          -82.02797567717819,
          -77.4310336046284,
          100.702986773432,
          42.91958384090037,
          -24.882829408724934,
          -77.06487778665243,
          130.1330656073549,
          -75.99472312529124,
          -79.17358070737282,
          101.95476566345366,
          -5.892788426756647,
          -21.30860752873593,
          112.95367155170976,
          -88.44680667504274,
          -78.6573672179028,
          56.741352935031856,
          -78.12539147411077,
          -80.60745108650478,
          26.60934190070437,
          -73.72421753957344,
          -22.172932646645485,
          -82.49662572706966,
          -77.13377314498554,
          65.69802924661487
         ],
         "y": [
          -0.6678104425739224,
          -10.615046421049845,
          17.379912808158743,
          21.58434265717558,
          42.36164311711262,
          11.371382816342832,
          17.906365359252504,
          23.23961566007246,
          -20.759960871811213,
          36.81902575817443,
          -22.49937638418608,
          -12.356270849254154,
          0.5984712739257817,
          15.617432266617735,
          -7.65292662094069,
          41.72301927936077,
          -32.44653571388262,
          37.15603148476365,
          38.66555332100629,
          13.646594470615796,
          -2.2816033611030404,
          15.440567101669691,
          1.7317269058523488,
          3.342310051712933,
          0.9292220016127793,
          25.652176464583306,
          20.4245070303585,
          22.160238052197464,
          0.11094338673358373,
          -56.33220156949025,
          19.821965039520375,
          26.683473980789152,
          1.2323669871999692,
          -5.006373593404848,
          40.83015912634259,
          7.557260912835346,
          -31.891029905141984,
          -5.467502649212132,
          32.97740782387988,
          8.725261353920377,
          9.434326692562166,
          24.989996604592367,
          34.84994561700757,
          -28.135932596537774,
          -14.867373777892588,
          -25.195881311291245,
          -11.396454184177127,
          3.1914373910774456,
          -20.51946140388601,
          4.479341836661501,
          -51.01525111563438,
          -38.13806870412432,
          -4.640029567866469,
          0.7678518363578319,
          11.39343045515505,
          13.78874773487023,
          -13.98388298823845,
          32.458544319797795,
          7.38934835723843,
          0.6182125709936769,
          23.605528124432183,
          25.93185333443649,
          -27.914773113250885,
          47.052514894862114,
          8.1109485943133,
          4.034325855583469,
          31.57702780478667,
          20.75561409268874,
          -8.28916846284008,
          28.007872307166934,
          20.658000774390008,
          -11.132100272128298,
          36.81493305936046,
          -0.06044651683455836,
          -67.7468650035632,
          17.882901901870174,
          7.4073503803784755,
          21.752316126559222,
          44.29308490679023,
          -35.43940912013541,
          -26.857573381369157,
          0.5609008810670258,
          43.1083209713501,
          3.774829342361606,
          32.57380658136029,
          -13.237435650438641,
          36.650707434891714,
          112.64234138176548,
          21.39507488303386,
          -8.14728516671455,
          32.068042924536336,
          27.674130727894006,
          -2.5713916144980113,
          32.546368466354686,
          6.029844799073419,
          -44.80244149648809,
          -50.70834259499022,
          34.41411131914467,
          -38.70890852138215,
          -3.641349835713974,
          29.031536830711726,
          25.533843434534816,
          31.738850956937668,
          2.668828672711301,
          18.1622792200675,
          31.72272960272233,
          41.516307239765815,
          14.83159096085303,
          24.015128946613775,
          15.209019333514874,
          4.145159748889813,
          -31.36969875545463,
          8.975917902799376,
          -32.253116173244734,
          3.7846206117322367,
          -13.714074160638862,
          22.016758363405014,
          44.40121854988474,
          18.307797048394374,
          9.681755420910104,
          -5.017971001657128,
          -18.950923575718576,
          12.159899291449479,
          -10.908336540456144,
          -11.731099048535269,
          31.612306444699584,
          30.982262335576678,
          4.663004314605838,
          14.786838779091513,
          43.07988692187784,
          13.094356869940869,
          25.882250909015482,
          11.647824756510545,
          34.917469346530694,
          37.763201105029665,
          10.623089835877794,
          31.289432012716723,
          -21.881773441382734,
          -27.45226476482233,
          25.210803720884815,
          44.424919670997404,
          -5.657194489984874,
          34.00763243660904,
          43.7862981146728,
          26.179996739989598,
          34.16541195116379,
          28.74605505287395,
          7.009984021898082,
          -1.7278946888593658,
          1.9661190984172803,
          31.946104633257168,
          8.78756772713537,
          -1.017463432454847,
          27.402066490961495,
          38.6978493186282,
          8.442795712120242,
          21.619185467781975,
          -0.42357312355066074,
          3.915224600204297,
          7.592237466272477,
          22.758885203545656,
          -24.49847318975555,
          11.697408507798544,
          -6.288701818174563,
          25.159897543294903,
          27.9095884492811,
          -16.739964312090937,
          22.036134397890855,
          37.60945501110966,
          -7.437492354941263,
          6.7032259504550815,
          -28.37935563553235,
          33.82443345288017,
          23.756359262939228,
          41.101259269268134,
          29.836931518061547,
          4.4980346902723305,
          28.989148902140972,
          -31.266324948204815,
          -34.981702232369685,
          17.633578315145378,
          0.774880240676405,
          26.602757366152705,
          39.84289803335139,
          16.429983423860023,
          26.979662456873786,
          23.737835962352612,
          20.491458367635918,
          13.1785363222268,
          52.38920489045853,
          35.485565403738356,
          -36.68055704820912,
          16.098366512160005,
          6.375129203079092,
          10.770119348241156,
          21.52125324518395,
          -19.100211312068296,
          20.760559147797025,
          12.449380379890647,
          8.429626340028546,
          5.237903925959439,
          -9.743070713813827,
          37.64393311969539,
          52.70617567353075,
          -63.34793179121728,
          22.933715420341457,
          -9.116003049314369,
          -35.18519380682182,
          37.754157240516506,
          32.88771038956592,
          8.122024351742098,
          2.3895070785386534,
          -11.042201906491693,
          38.18236351814345,
          -75.83020034069129,
          20.466044400834722,
          4.903945571066859,
          19.659365599450517,
          15.031027475647287,
          34.64410306185219,
          3.698626150247551,
          4.922951597594045,
          -27.28720314239537,
          4.100910227685883,
          41.32088599652223,
          5.273327058275145,
          9.974364951802867,
          6.9758179065974835,
          -2.7773989092821316,
          35.269547196816916,
          -78.86942429273476,
          10.696154093456723,
          19.45300526845469,
          18.842115460719732,
          16.920669018999615,
          0.19655962825359288,
          6.904226060301398,
          6.544964629858059,
          -29.93899877327176,
          12.783695366869983,
          -10.286529139981111,
          33.08026520250041,
          -4.986281562520052,
          33.228656277626825,
          -12.608896355125566,
          -28.544608636784673,
          19.77916702358316,
          28.284677689082287,
          1.0966275815226338,
          -0.5913382859691924,
          -16.250370424297053,
          24.56425423550773,
          17.383824597940208,
          18.202530352078274,
          16.509976120847824,
          35.166832393393086,
          6.768143526420393,
          -20.53279256952244,
          -9.476699674849675,
          3.7747731866666947,
          20.42894175892531,
          17.914479746033443,
          -7.384997868869204,
          28.913264180781265,
          22.66536220810394,
          -4.172693398019152,
          31.936769960205346,
          1.095361466900337,
          -24.221563608209376,
          8.410579903322954,
          17.682525144866545,
          -32.694162337602116,
          -10.396547651418127,
          -11.281415830802144,
          23.95997000442218,
          11.94677736943435,
          36.47451848147923,
          27.948969756795204,
          27.090524181545995,
          29.896330255453496,
          30.31198694978401,
          19.06951713801914,
          15.89392832145721,
          26.41037501950781,
          26.13931210956082,
          4.78337337366338,
          6.023423933345764,
          26.747838028235584,
          3.16293527007009,
          22.824551583259076,
          -59.29881274672195,
          22.417112265943235,
          16.512816922134956,
          18.84087445559817,
          18.29328733173717,
          23.41066789912594,
          -4.059573596349399,
          28.72980958867343,
          -24.95056384526463,
          -20.462278003686215,
          -22.572233783257897,
          40.29548227835242,
          7.620002801786768,
          19.713370709549775,
          -30.062573822164683,
          28.535848064589942,
          -9.488432905564778,
          27.76965678830403,
          10.535163735730801,
          44.00492352078816,
          -12.225167287372932,
          1.929829189453006,
          2.3282661997749345,
          23.514687083110708,
          24.14357487724237,
          2.122091962687891,
          14.070360574014549,
          31.84215068911815,
          112.20150825066072,
          0.329624980026242,
          22.46162867492964,
          -7.487031293925994,
          18.875533384214236,
          31.50133094058032,
          -34.94031712334891,
          37.52502112997145,
          35.07120714781905,
          16.989581318117644,
          -14.417934192390602
         ]
        },
        {
         "hoverinfo": "text",
         "marker": {
          "color": "#faba25",
          "opacity": 0.8,
          "size": 8
         },
         "mode": "markers",
         "name": "Diabetes",
         "text": [
          1,
          1,
          1,
          1,
          1,
          1,
          1,
          1,
          1,
          1,
          1,
          1,
          1,
          1,
          1,
          1,
          1,
          1,
          1,
          1,
          1,
          1,
          1,
          1,
          1,
          1,
          1,
          1,
          1,
          1,
          1,
          1,
          1,
          1,
          1,
          1,
          1,
          1,
          1,
          1,
          1,
          1,
          1,
          1,
          1,
          1,
          1,
          1,
          1,
          1,
          1,
          1,
          1,
          1,
          1,
          1,
          1,
          1,
          1,
          1,
          1,
          1,
          1,
          1,
          1,
          1,
          1,
          1,
          1,
          1,
          1,
          1,
          1,
          1,
          1,
          1,
          1,
          1,
          1,
          1,
          1,
          1,
          1,
          1,
          1,
          1,
          1,
          1,
          1,
          1,
          1,
          1,
          1,
          1,
          1,
          1,
          1,
          1,
          1,
          1,
          1,
          1,
          1,
          1,
          1,
          1,
          1,
          1,
          1,
          1,
          1,
          1,
          1,
          1,
          1,
          1,
          1,
          1,
          1,
          1,
          1,
          1,
          1,
          1,
          1,
          1,
          1,
          1,
          1,
          1,
          1,
          1,
          1,
          1,
          1,
          1,
          1,
          1,
          1,
          1,
          1,
          1,
          1,
          1,
          1,
          1,
          1,
          1,
          1,
          1,
          1,
          1,
          1,
          1,
          1,
          1,
          1,
          1,
          1,
          1,
          1,
          1,
          1,
          1,
          1,
          1,
          1,
          1,
          1,
          1,
          1,
          1,
          1,
          1,
          1,
          1,
          1
         ],
         "type": "scatter",
         "x": [
          418.7380374966206,
          -77.28442797882761,
          20.653149504513863,
          160.6250659036533,
          -3.5473857074969692,
          -69.33353820279437,
          61.103773132303814,
          136.36947280271957,
          505.69259909953297,
          228.8768515266522,
          106.68697563010876,
          404.49512043078647,
          -71.63397081359167,
          -75.4106901211,
          -75.80059015034753,
          76.66113394049603,
          -10.159889132972783,
          88.95948908766766,
          -71.96626097040307,
          100.15005212711036,
          107.26096199070422,
          -79.2796284232999,
          -76.52517679195863,
          22.751667720715567,
          122.18722111535757,
          -70.6396890962215,
          64.36776106918671,
          -72.39775489949184,
          -75.38261661898915,
          92.35850830041099,
          -79.29300447491575,
          -76.55790102646972,
          -73.08579243073545,
          -70.34482238933447,
          -77.39055082671403,
          -73.13140176559577,
          -69.68746376940187,
          -88.30742419704187,
          -72.62805472757803,
          -78.85788635966084,
          -72.05251349769168,
          103.08173122493564,
          80.30402422772552,
          -69.17969868034592,
          -72.3472255288583,
          -75.78893496275029,
          -69.12059772966569,
          -80.36006868280856,
          175.39799635974737,
          -76.99301945451023,
          130.1288494811184,
          32.640103953411945,
          472.43552761873764,
          -68.53358904994249,
          -79.65137669847174,
          93.05644473846246,
          -68.49467809870376,
          -75.01116979444899,
          97.54610320335352,
          -77.0859817223317,
          -71.79285313503543,
          -79.29030545506458,
          129.831522947777,
          -42.50948049170162,
          -67.95880793723414,
          88.24608701129416,
          -78.64395689187596,
          91.53701469664378,
          -79.80549829342802,
          67.93482878169696,
          -72.10233274094509,
          -76.12811172569577,
          102.39856019561562,
          82.43472559279434,
          55.797031280532416,
          -78.73677423320838,
          71.62751921426563,
          -30.71513305549512,
          114.68456812592798,
          59.43315580798971,
          153.9805646375354,
          175.01850144966352,
          -69.50545173438545,
          -76.90412981210477,
          -78.90407289111778,
          -72.18198475119698,
          -76.65078163487043,
          -75.966287324595,
          -77.91727081864273,
          -78.23804919021035,
          85.81899824369285,
          249.35517500438942,
          45.2416007368106,
          -78.67186576254247,
          12.61968616544689,
          10.839908051381977,
          57.646527362802075,
          95.89005844077694,
          98.1151775608037,
          -77.94712770411302,
          50.93728507610636,
          -42.57438718067396,
          234.08257212518606,
          402.6855826042718,
          -76.20410300856604,
          114.62600535656186,
          -76.63215930648326,
          -74.2943127505821,
          -76.30118638438042,
          65.26267167531093,
          -80.88621940396506,
          438.30418892516474,
          69.22503325465469,
          -75.71486392520403,
          -74.23394850911511,
          55.48387094286294,
          85.60285500112538,
          -76.04510160756489,
          -78.01036372917173,
          -76.75248233134279,
          -76.30317792016005,
          30.654297485903992,
          37.054515900554435,
          -69.14998842263951,
          422.4143374596062,
          -73.20244346092728,
          -69.90427758280758,
          -75.88123747218062,
          153.6269283487967,
          19.68946418585068,
          -74.59897703452724,
          -70.24519673147856,
          250.20884568500878,
          56.75890756548734,
          -75.90520686782904,
          320.5055123486819,
          76.86225023800827,
          35.555198333965535,
          -74.91512221075992,
          138.0980243783798,
          -73.25729056989154,
          293.7653644227781,
          143.64374713997523,
          -13.316245918499721,
          42.41818692449495,
          -70.66832057516797,
          463.27374151054386,
          43.360145687528636,
          -77.12845451179568,
          164.2432761301022,
          91.08930294082928,
          51.93591988697234,
          -77.27682296968452,
          -76.74268602570243,
          54.58290050852321,
          121.41079412597273,
          -77.46317330756034,
          205.09089562099874,
          -74.69768578348076,
          -73.13598334763297,
          392.9227860278786,
          -72.52988999204383,
          254.5151054760424,
          -74.48492586788369,
          -75.72258658086095,
          50.5444531238017,
          209.72651785978118,
          -70.51051087876091,
          -75.2014181063162,
          -78.83384821879727,
          -67.71151741602746,
          -76.27734523473532,
          155.70575859490896,
          -71.26632000352082,
          137.35410826543725,
          109.77996354212993,
          -75.66732379945283
         ],
         "y": [
          9.917276352325889,
          -10.075807183595206,
          -58.632801201854235,
          -32.5429723732354,
          15.80400284478147,
          -60.01442999354609,
          -12.77300358360692,
          34.08439604462345,
          6.227817489478611,
          -35.245348442035144,
          4.348818480580321,
          -8.96930660846333,
          -62.42824688801896,
          -0.7135794509380343,
          -3.6553677855920146,
          22.45223037317365,
          38.939689207362285,
          -42.67495346854611,
          -57.25029570269367,
          33.08419494662526,
          -13.15261065937251,
          5.842537666626567,
          9.202739683679525,
          -31.24617716896043,
          -38.431833443241146,
          -69.16990221731561,
          -40.65294299994824,
          -55.198736012130524,
          -8.742439242880003,
          -3.1341757388692053,
          5.882503016843268,
          -17.39768406995737,
          -47.286960547704005,
          -43.23447624005765,
          -7.621845654564559,
          -38.8071672977291,
          -58.236631150469165,
          107.87897967592754,
          -53.42332039833081,
          1.0407025181695233,
          -54.72442898795887,
          4.902224252355915,
          38.54619690673134,
          -85.13696905579884,
          -54.13518793248451,
          -25.316617962923363,
          -82.1790172967537,
          15.614329629297682,
          44.6751666843208,
          -15.554041512708407,
          21.884428645438533,
          -37.81342838470303,
          -25.574242227641985,
          -87.37655710111449,
          5.271480332005167,
          -1.5743994074466954,
          -65.58656973292427,
          -5.8382745117233865,
          17.5866673019491,
          10.523562561415737,
          -36.03135541172034,
          26.220150139064334,
          -52.02938757250823,
          20.21880325193129,
          -62.57200612816746,
          10.225815907970421,
          -1.7318211007076825,
          -18.275237717947928,
          26.256061109006115,
          7.659428256533479,
          -57.537808060502634,
          -21.089960931893682,
          -25.76374565020449,
          -28.95744062345181,
          -11.047511279046825,
          1.3205880612121883,
          -38.5599924381268,
          12.048253576148413,
          -38.485257456882934,
          -34.912300451557535,
          19.320343374796714,
          7.504751614136519,
          -78.72404582261343,
          -19.6454796993185,
          -0.6774506121698309,
          -56.687749911786824,
          -17.444389743808397,
          -21.688411203546742,
          -7.103610725995703,
          17.34681715289523,
          -7.895306348475432,
          -21.825512751044577,
          -1.4733976200854828,
          -1.705072288117692,
          24.446911990215458,
          22.425002244181755,
          -18.181991645479908,
          -41.975495810620295,
          -20.52866577488805,
          11.8231453984372,
          -1.7824682892897334,
          -38.25049747498391,
          -39.996439834769866,
          17.86439326177327,
          1.8088068366457075,
          -54.67074557641519,
          0.8333466785784004,
          -39.459126140978626,
          -19.868597040633606,
          -10.36078595974873,
          18.544532802818193,
          -12.453695431523213,
          -12.600136993319147,
          -23.62132432794344,
          -38.360029156139646,
          -11.197903800717812,
          -49.58192514702342,
          -21.702252839978247,
          -6.781844822272775,
          -14.92763585849619,
          -21.264833321862845,
          -34.52978146555284,
          16.50767863882371,
          -85.86995952346531,
          -16.868651291212256,
          -47.459307930680254,
          -47.06099788273364,
          3.125133768968234,
          -29.732290776076034,
          41.21959108529845,
          -31.88450163853027,
          -39.625840964157625,
          3.918509215656987,
          -5.225766435841514,
          -24.16059498426838,
          -28.026239959531008,
          -66.809572414943,
          -4.812747204093991,
          -32.82230336138654,
          -21.816780751265945,
          -49.263845956556516,
          15.684930325001016,
          16.504168430334115,
          18.65902937276165,
          23.029748019160103,
          -69.70907997634475,
          18.91076727116215,
          -38.13617779636209,
          -4.044898924553018,
          -11.72322093530193,
          10.264748942056945,
          20.652915657656532,
          -8.357723131200407,
          8.82707443277325,
          -6.893964798146651,
          -51.07228664430048,
          -10.04868113944469,
          -52.407362921787886,
          -32.06297336202528,
          -45.667796137187395,
          -8.020111644606434,
          -51.821046430887954,
          -37.87842779893826,
          -34.309030121391686,
          -24.32483502785487,
          -47.089776353321994,
          -5.451650446311195,
          -69.68871141414911,
          -1.000935636177915,
          1.9285826844613172,
          -71.48283747432912,
          1.2935170381102599,
          -49.790823173828905,
          -42.20549626482343,
          -54.22884041688249,
          -46.897765906053245,
          -11.676826224268156
         ]
        }
       ],
       "layout": {
        "font": {
         "family": "Arial",
         "size": 15
        },
        "height": 450,
        "legend": {
         "title": {
          "text": "Target"
         }
        },
        "template": {
         "data": {
          "bar": [
           {
            "error_x": {
             "color": "rgb(36,36,36)"
            },
            "error_y": {
             "color": "rgb(36,36,36)"
            },
            "marker": {
             "line": {
              "color": "white",
              "width": 0.5
             },
             "pattern": {
              "fillmode": "overlay",
              "size": 10,
              "solidity": 0.2
             }
            },
            "type": "bar"
           }
          ],
          "barpolar": [
           {
            "marker": {
             "line": {
              "color": "white",
              "width": 0.5
             },
             "pattern": {
              "fillmode": "overlay",
              "size": 10,
              "solidity": 0.2
             }
            },
            "type": "barpolar"
           }
          ],
          "carpet": [
           {
            "aaxis": {
             "endlinecolor": "rgb(36,36,36)",
             "gridcolor": "white",
             "linecolor": "white",
             "minorgridcolor": "white",
             "startlinecolor": "rgb(36,36,36)"
            },
            "baxis": {
             "endlinecolor": "rgb(36,36,36)",
             "gridcolor": "white",
             "linecolor": "white",
             "minorgridcolor": "white",
             "startlinecolor": "rgb(36,36,36)"
            },
            "type": "carpet"
           }
          ],
          "choropleth": [
           {
            "colorbar": {
             "outlinewidth": 1,
             "tickcolor": "rgb(36,36,36)",
             "ticks": "outside"
            },
            "type": "choropleth"
           }
          ],
          "contour": [
           {
            "colorbar": {
             "outlinewidth": 1,
             "tickcolor": "rgb(36,36,36)",
             "ticks": "outside"
            },
            "colorscale": [
             [
              0,
              "#440154"
             ],
             [
              0.1111111111111111,
              "#482878"
             ],
             [
              0.2222222222222222,
              "#3e4989"
             ],
             [
              0.3333333333333333,
              "#31688e"
             ],
             [
              0.4444444444444444,
              "#26828e"
             ],
             [
              0.5555555555555556,
              "#1f9e89"
             ],
             [
              0.6666666666666666,
              "#35b779"
             ],
             [
              0.7777777777777778,
              "#6ece58"
             ],
             [
              0.8888888888888888,
              "#b5de2b"
             ],
             [
              1,
              "#fde725"
             ]
            ],
            "type": "contour"
           }
          ],
          "contourcarpet": [
           {
            "colorbar": {
             "outlinewidth": 1,
             "tickcolor": "rgb(36,36,36)",
             "ticks": "outside"
            },
            "type": "contourcarpet"
           }
          ],
          "heatmap": [
           {
            "colorbar": {
             "outlinewidth": 1,
             "tickcolor": "rgb(36,36,36)",
             "ticks": "outside"
            },
            "colorscale": [
             [
              0,
              "#440154"
             ],
             [
              0.1111111111111111,
              "#482878"
             ],
             [
              0.2222222222222222,
              "#3e4989"
             ],
             [
              0.3333333333333333,
              "#31688e"
             ],
             [
              0.4444444444444444,
              "#26828e"
             ],
             [
              0.5555555555555556,
              "#1f9e89"
             ],
             [
              0.6666666666666666,
              "#35b779"
             ],
             [
              0.7777777777777778,
              "#6ece58"
             ],
             [
              0.8888888888888888,
              "#b5de2b"
             ],
             [
              1,
              "#fde725"
             ]
            ],
            "type": "heatmap"
           }
          ],
          "heatmapgl": [
           {
            "colorbar": {
             "outlinewidth": 1,
             "tickcolor": "rgb(36,36,36)",
             "ticks": "outside"
            },
            "colorscale": [
             [
              0,
              "#440154"
             ],
             [
              0.1111111111111111,
              "#482878"
             ],
             [
              0.2222222222222222,
              "#3e4989"
             ],
             [
              0.3333333333333333,
              "#31688e"
             ],
             [
              0.4444444444444444,
              "#26828e"
             ],
             [
              0.5555555555555556,
              "#1f9e89"
             ],
             [
              0.6666666666666666,
              "#35b779"
             ],
             [
              0.7777777777777778,
              "#6ece58"
             ],
             [
              0.8888888888888888,
              "#b5de2b"
             ],
             [
              1,
              "#fde725"
             ]
            ],
            "type": "heatmapgl"
           }
          ],
          "histogram": [
           {
            "marker": {
             "line": {
              "color": "white",
              "width": 0.6
             }
            },
            "type": "histogram"
           }
          ],
          "histogram2d": [
           {
            "colorbar": {
             "outlinewidth": 1,
             "tickcolor": "rgb(36,36,36)",
             "ticks": "outside"
            },
            "colorscale": [
             [
              0,
              "#440154"
             ],
             [
              0.1111111111111111,
              "#482878"
             ],
             [
              0.2222222222222222,
              "#3e4989"
             ],
             [
              0.3333333333333333,
              "#31688e"
             ],
             [
              0.4444444444444444,
              "#26828e"
             ],
             [
              0.5555555555555556,
              "#1f9e89"
             ],
             [
              0.6666666666666666,
              "#35b779"
             ],
             [
              0.7777777777777778,
              "#6ece58"
             ],
             [
              0.8888888888888888,
              "#b5de2b"
             ],
             [
              1,
              "#fde725"
             ]
            ],
            "type": "histogram2d"
           }
          ],
          "histogram2dcontour": [
           {
            "colorbar": {
             "outlinewidth": 1,
             "tickcolor": "rgb(36,36,36)",
             "ticks": "outside"
            },
            "colorscale": [
             [
              0,
              "#440154"
             ],
             [
              0.1111111111111111,
              "#482878"
             ],
             [
              0.2222222222222222,
              "#3e4989"
             ],
             [
              0.3333333333333333,
              "#31688e"
             ],
             [
              0.4444444444444444,
              "#26828e"
             ],
             [
              0.5555555555555556,
              "#1f9e89"
             ],
             [
              0.6666666666666666,
              "#35b779"
             ],
             [
              0.7777777777777778,
              "#6ece58"
             ],
             [
              0.8888888888888888,
              "#b5de2b"
             ],
             [
              1,
              "#fde725"
             ]
            ],
            "type": "histogram2dcontour"
           }
          ],
          "mesh3d": [
           {
            "colorbar": {
             "outlinewidth": 1,
             "tickcolor": "rgb(36,36,36)",
             "ticks": "outside"
            },
            "type": "mesh3d"
           }
          ],
          "parcoords": [
           {
            "line": {
             "colorbar": {
              "outlinewidth": 1,
              "tickcolor": "rgb(36,36,36)",
              "ticks": "outside"
             }
            },
            "type": "parcoords"
           }
          ],
          "pie": [
           {
            "automargin": true,
            "type": "pie"
           }
          ],
          "scatter": [
           {
            "fillpattern": {
             "fillmode": "overlay",
             "size": 10,
             "solidity": 0.2
            },
            "type": "scatter"
           }
          ],
          "scatter3d": [
           {
            "line": {
             "colorbar": {
              "outlinewidth": 1,
              "tickcolor": "rgb(36,36,36)",
              "ticks": "outside"
             }
            },
            "marker": {
             "colorbar": {
              "outlinewidth": 1,
              "tickcolor": "rgb(36,36,36)",
              "ticks": "outside"
             }
            },
            "type": "scatter3d"
           }
          ],
          "scattercarpet": [
           {
            "marker": {
             "colorbar": {
              "outlinewidth": 1,
              "tickcolor": "rgb(36,36,36)",
              "ticks": "outside"
             }
            },
            "type": "scattercarpet"
           }
          ],
          "scattergeo": [
           {
            "marker": {
             "colorbar": {
              "outlinewidth": 1,
              "tickcolor": "rgb(36,36,36)",
              "ticks": "outside"
             }
            },
            "type": "scattergeo"
           }
          ],
          "scattergl": [
           {
            "marker": {
             "colorbar": {
              "outlinewidth": 1,
              "tickcolor": "rgb(36,36,36)",
              "ticks": "outside"
             }
            },
            "type": "scattergl"
           }
          ],
          "scattermapbox": [
           {
            "marker": {
             "colorbar": {
              "outlinewidth": 1,
              "tickcolor": "rgb(36,36,36)",
              "ticks": "outside"
             }
            },
            "type": "scattermapbox"
           }
          ],
          "scatterpolar": [
           {
            "marker": {
             "colorbar": {
              "outlinewidth": 1,
              "tickcolor": "rgb(36,36,36)",
              "ticks": "outside"
             }
            },
            "type": "scatterpolar"
           }
          ],
          "scatterpolargl": [
           {
            "marker": {
             "colorbar": {
              "outlinewidth": 1,
              "tickcolor": "rgb(36,36,36)",
              "ticks": "outside"
             }
            },
            "type": "scatterpolargl"
           }
          ],
          "scatterternary": [
           {
            "marker": {
             "colorbar": {
              "outlinewidth": 1,
              "tickcolor": "rgb(36,36,36)",
              "ticks": "outside"
             }
            },
            "type": "scatterternary"
           }
          ],
          "surface": [
           {
            "colorbar": {
             "outlinewidth": 1,
             "tickcolor": "rgb(36,36,36)",
             "ticks": "outside"
            },
            "colorscale": [
             [
              0,
              "#440154"
             ],
             [
              0.1111111111111111,
              "#482878"
             ],
             [
              0.2222222222222222,
              "#3e4989"
             ],
             [
              0.3333333333333333,
              "#31688e"
             ],
             [
              0.4444444444444444,
              "#26828e"
             ],
             [
              0.5555555555555556,
              "#1f9e89"
             ],
             [
              0.6666666666666666,
              "#35b779"
             ],
             [
              0.7777777777777778,
              "#6ece58"
             ],
             [
              0.8888888888888888,
              "#b5de2b"
             ],
             [
              1,
              "#fde725"
             ]
            ],
            "type": "surface"
           }
          ],
          "table": [
           {
            "cells": {
             "fill": {
              "color": "rgb(237,237,237)"
             },
             "line": {
              "color": "white"
             }
            },
            "header": {
             "fill": {
              "color": "rgb(217,217,217)"
             },
             "line": {
              "color": "white"
             }
            },
            "type": "table"
           }
          ]
         },
         "layout": {
          "annotationdefaults": {
           "arrowhead": 0,
           "arrowwidth": 1
          },
          "autotypenumbers": "strict",
          "coloraxis": {
           "colorbar": {
            "outlinewidth": 1,
            "tickcolor": "rgb(36,36,36)",
            "ticks": "outside"
           }
          },
          "colorscale": {
           "diverging": [
            [
             0,
             "rgb(103,0,31)"
            ],
            [
             0.1,
             "rgb(178,24,43)"
            ],
            [
             0.2,
             "rgb(214,96,77)"
            ],
            [
             0.3,
             "rgb(244,165,130)"
            ],
            [
             0.4,
             "rgb(253,219,199)"
            ],
            [
             0.5,
             "rgb(247,247,247)"
            ],
            [
             0.6,
             "rgb(209,229,240)"
            ],
            [
             0.7,
             "rgb(146,197,222)"
            ],
            [
             0.8,
             "rgb(67,147,195)"
            ],
            [
             0.9,
             "rgb(33,102,172)"
            ],
            [
             1,
             "rgb(5,48,97)"
            ]
           ],
           "sequential": [
            [
             0,
             "#440154"
            ],
            [
             0.1111111111111111,
             "#482878"
            ],
            [
             0.2222222222222222,
             "#3e4989"
            ],
            [
             0.3333333333333333,
             "#31688e"
            ],
            [
             0.4444444444444444,
             "#26828e"
            ],
            [
             0.5555555555555556,
             "#1f9e89"
            ],
            [
             0.6666666666666666,
             "#35b779"
            ],
            [
             0.7777777777777778,
             "#6ece58"
            ],
            [
             0.8888888888888888,
             "#b5de2b"
            ],
            [
             1,
             "#fde725"
            ]
           ],
           "sequentialminus": [
            [
             0,
             "#440154"
            ],
            [
             0.1111111111111111,
             "#482878"
            ],
            [
             0.2222222222222222,
             "#3e4989"
            ],
            [
             0.3333333333333333,
             "#31688e"
            ],
            [
             0.4444444444444444,
             "#26828e"
            ],
            [
             0.5555555555555556,
             "#1f9e89"
            ],
            [
             0.6666666666666666,
             "#35b779"
            ],
            [
             0.7777777777777778,
             "#6ece58"
            ],
            [
             0.8888888888888888,
             "#b5de2b"
            ],
            [
             1,
             "#fde725"
            ]
           ]
          },
          "colorway": [
           "#1F77B4",
           "#FF7F0E",
           "#2CA02C",
           "#D62728",
           "#9467BD",
           "#8C564B",
           "#E377C2",
           "#7F7F7F",
           "#BCBD22",
           "#17BECF"
          ],
          "font": {
           "color": "rgb(36,36,36)"
          },
          "geo": {
           "bgcolor": "white",
           "lakecolor": "white",
           "landcolor": "white",
           "showlakes": true,
           "showland": true,
           "subunitcolor": "white"
          },
          "hoverlabel": {
           "align": "left"
          },
          "hovermode": "closest",
          "mapbox": {
           "style": "light"
          },
          "paper_bgcolor": "white",
          "plot_bgcolor": "white",
          "polar": {
           "angularaxis": {
            "gridcolor": "rgb(232,232,232)",
            "linecolor": "rgb(36,36,36)",
            "showgrid": false,
            "showline": true,
            "ticks": "outside"
           },
           "bgcolor": "white",
           "radialaxis": {
            "gridcolor": "rgb(232,232,232)",
            "linecolor": "rgb(36,36,36)",
            "showgrid": false,
            "showline": true,
            "ticks": "outside"
           }
          },
          "scene": {
           "xaxis": {
            "backgroundcolor": "white",
            "gridcolor": "rgb(232,232,232)",
            "gridwidth": 2,
            "linecolor": "rgb(36,36,36)",
            "showbackground": true,
            "showgrid": false,
            "showline": true,
            "ticks": "outside",
            "zeroline": false,
            "zerolinecolor": "rgb(36,36,36)"
           },
           "yaxis": {
            "backgroundcolor": "white",
            "gridcolor": "rgb(232,232,232)",
            "gridwidth": 2,
            "linecolor": "rgb(36,36,36)",
            "showbackground": true,
            "showgrid": false,
            "showline": true,
            "ticks": "outside",
            "zeroline": false,
            "zerolinecolor": "rgb(36,36,36)"
           },
           "zaxis": {
            "backgroundcolor": "white",
            "gridcolor": "rgb(232,232,232)",
            "gridwidth": 2,
            "linecolor": "rgb(36,36,36)",
            "showbackground": true,
            "showgrid": false,
            "showline": true,
            "ticks": "outside",
            "zeroline": false,
            "zerolinecolor": "rgb(36,36,36)"
           }
          },
          "shapedefaults": {
           "fillcolor": "black",
           "line": {
            "width": 0
           },
           "opacity": 0.3
          },
          "ternary": {
           "aaxis": {
            "gridcolor": "rgb(232,232,232)",
            "linecolor": "rgb(36,36,36)",
            "showgrid": false,
            "showline": true,
            "ticks": "outside"
           },
           "baxis": {
            "gridcolor": "rgb(232,232,232)",
            "linecolor": "rgb(36,36,36)",
            "showgrid": false,
            "showline": true,
            "ticks": "outside"
           },
           "bgcolor": "white",
           "caxis": {
            "gridcolor": "rgb(232,232,232)",
            "linecolor": "rgb(36,36,36)",
            "showgrid": false,
            "showline": true,
            "ticks": "outside"
           }
          },
          "title": {
           "x": 0.05
          },
          "xaxis": {
           "automargin": true,
           "gridcolor": "rgb(232,232,232)",
           "linecolor": "rgb(36,36,36)",
           "showgrid": false,
           "showline": true,
           "ticks": "outside",
           "title": {
            "standoff": 15
           },
           "zeroline": false,
           "zerolinecolor": "rgb(36,36,36)"
          },
          "yaxis": {
           "automargin": true,
           "gridcolor": "rgb(232,232,232)",
           "linecolor": "rgb(36,36,36)",
           "showgrid": false,
           "showline": true,
           "ticks": "outside",
           "title": {
            "standoff": 15
           },
           "zeroline": false,
           "zerolinecolor": "rgb(36,36,36)"
          }
         }
        },
        "title": {
         "text": "Principal Component Analysis Plot",
         "x": 0.5
        },
        "width": 550,
        "xaxis": {
         "title": {
          "text": "PC1"
         }
        },
        "yaxis": {
         "title": {
          "text": "PC2"
         }
        }
       }
      }
     },
     "metadata": {},
     "output_type": "display_data"
    }
   ],
   "source": [
    "# Specify features and target\n",
    "features_rm = ['ID', 'Outcome']\n",
    "target = ['Outcome']\n",
    "\n",
    "class_names = {\n",
    "    0: \"Healthy\",\n",
    "    1: \"Diabetes\"\n",
    "}\n",
    "\n",
    "# Create PCA plot\n",
    "pca_fig = pca_plot(data, features_rm=features_rm, target=target, class_names=class_names,\n",
    "                   title='Principal Component Analysis Plot')\n",
    "pca_fig.show()"
   ]
  },
  {
   "cell_type": "code",
   "execution_count": 13,
   "metadata": {},
   "outputs": [],
   "source": [
    "# Save as pdf\n",
    "pio.write_image(pca_fig, \"plots/PCA_plot.pdf\", height=450, width=550)"
   ]
  },
  {
   "cell_type": "markdown",
   "metadata": {},
   "source": [
    "#### *Data Quality Evaluation*"
   ]
  },
  {
   "cell_type": "markdown",
   "metadata": {},
   "source": [
    "As shown in the boxplots above, there are numerous entries containing zero values.\n",
    "In the feature regarding the ammount of pregnancies, zero values are considered acceptable.\n",
    "However, in features like, glucose, blood pressure, skin thickness, insulin, and BMI zero values create skewness in our dataset and is definitely require removal."
   ]
  },
  {
   "cell_type": "code",
   "execution_count": 14,
   "metadata": {},
   "outputs": [
    {
     "name": "stdout",
     "output_type": "stream",
     "text": [
      "     Glucose  BloodPressure  SkinThickness  Insulin   BMI\n",
      "0        113             80             16        0  31.0\n",
      "1        114             88              0        0  27.8\n",
      "4         71             70             27        0  28.0\n",
      "6         97             60             23        0  28.2\n",
      "7         96              0              0        0  23.7\n",
      "..       ...            ...            ...      ...   ...\n",
      "496      154             78             32        0  32.4\n",
      "499      142             80             15        0  32.4\n",
      "501       76             62              0        0  34.0\n",
      "502       97             70             40        0  38.1\n",
      "504      124             70             20        0  27.4\n",
      "\n",
      "[246 rows x 5 columns]\n"
     ]
    }
   ],
   "source": [
    "subset = data[['Glucose', 'BloodPressure', 'SkinThickness', 'Insulin', 'BMI']]\n",
    "\n",
    "zero_values = (subset == 0).any(axis=1)\n",
    "rows_with_zeros = subset[zero_values]\n",
    "print(rows_with_zeros)"
   ]
  },
  {
   "cell_type": "markdown",
   "metadata": {},
   "source": [
    "Now, rows that contain zero values in the given columns will be removed."
   ]
  },
  {
   "cell_type": "code",
   "execution_count": 15,
   "metadata": {},
   "outputs": [],
   "source": [
    "cols = ['Glucose', 'BloodPressure', 'SkinThickness', 'Insulin', 'BMI']\n",
    "\n",
    "# create a mask object\n",
    "mask = (data[cols] == 0).any(axis=1)\n",
    "\n",
    "# create new dataset\n",
    "data_new = data[~mask]\n",
    "data_new.reset_index(inplace=True, drop=True)"
   ]
  },
  {
   "cell_type": "markdown",
   "metadata": {},
   "source": [
    "Creating a function that will detect rows with outliers based on the distribution of each of the column features.\n",
    "For this task, the IQR methodology will be adopted, where the threshold will be set at 1.5 for the upper and lower bounds."
   ]
  },
  {
   "cell_type": "code",
   "execution_count": 16,
   "metadata": {},
   "outputs": [],
   "source": [
    "# Create the mask df using the function above\n",
    "mask_df = outlier_mask(data_new, threshold=1.5)\n",
    "\n",
    "mask_rows = mask_df.any(axis=1)\n",
    "data_new = data_new[~mask_rows]\n",
    "data_new.reset_index(inplace=True, drop=True)"
   ]
  },
  {
   "cell_type": "code",
   "execution_count": 17,
   "metadata": {},
   "outputs": [
    {
     "data": {
      "text/plain": [
       "0      False\n",
       "1      False\n",
       "2      False\n",
       "3       True\n",
       "4       True\n",
       "       ...  \n",
       "255    False\n",
       "256    False\n",
       "257    False\n",
       "258    False\n",
       "259    False\n",
       "Length: 260, dtype: bool"
      ]
     },
     "execution_count": 17,
     "metadata": {},
     "output_type": "execute_result"
    }
   ],
   "source": [
    "mask_rows"
   ]
  },
  {
   "cell_type": "markdown",
   "metadata": {},
   "source": [
    "Generate and inspect the new dataset (non zero values and no outliers), based on the figures that were created above."
   ]
  },
  {
   "cell_type": "code",
   "execution_count": 18,
   "metadata": {},
   "outputs": [
    {
     "data": {
      "application/vnd.plotly.v1+json": {
       "config": {
        "plotlyServerURL": "https://plot.ly"
       },
       "data": [
        {
         "name": "Pregnancies",
         "showlegend": false,
         "type": "box",
         "xaxis": "x",
         "y": [
          1,
          0,
          2,
          0,
          6,
          8,
          0,
          5,
          2,
          9,
          8,
          8,
          6,
          6,
          1,
          2,
          1,
          2,
          1,
          1,
          1,
          6,
          4,
          3,
          0,
          2,
          3,
          9,
          1,
          4,
          0,
          1,
          10,
          2,
          3,
          3,
          2,
          5,
          4,
          1,
          4,
          3,
          0,
          1,
          4,
          0,
          1,
          2,
          3,
          8,
          2,
          1,
          2,
          2,
          1,
          1,
          1,
          7,
          9,
          2,
          0,
          0,
          3,
          0,
          3,
          1,
          9,
          0,
          2,
          3,
          1,
          0,
          0,
          2,
          9,
          7,
          1,
          6,
          1,
          2,
          1,
          7,
          9,
          1,
          2,
          11,
          4,
          1,
          0,
          1,
          3,
          3,
          1,
          10,
          0,
          1,
          1,
          0,
          2,
          5,
          1,
          3,
          0,
          1,
          3,
          1,
          3,
          1,
          0,
          3,
          3,
          1,
          1,
          3,
          1,
          0,
          5,
          7,
          2,
          4,
          1,
          0,
          5,
          2,
          1,
          1,
          2,
          7,
          3,
          2,
          9,
          1,
          4,
          1,
          9,
          7,
          7,
          0,
          6,
          0,
          1,
          1,
          2,
          1,
          2,
          0,
          4,
          4,
          11,
          0,
          3,
          1,
          4,
          1,
          0,
          3,
          0,
          1,
          8,
          4,
          6,
          8,
          0,
          5,
          3,
          2,
          3,
          1,
          5,
          5,
          7,
          2,
          7,
          2,
          7,
          1,
          5,
          1,
          0,
          2,
          2,
          7,
          3,
          7,
          3,
          1,
          1,
          3,
          10,
          1,
          1,
          5,
          6,
          4,
          3,
          1,
          0,
          6,
          7,
          0,
          1,
          4,
          0,
          2,
          6,
          4,
          5,
          2,
          1,
          4,
          5,
          1,
          1,
          1,
          2,
          2,
          4,
          1,
          8,
          5,
          0,
          1,
          1,
          4
         ],
         "yaxis": "y"
        },
        {
         "name": "Glucose",
         "showlegend": false,
         "type": "box",
         "xaxis": "x2",
         "y": [
          103,
          102,
          123,
          180,
          151,
          167,
          107,
          126,
          144,
          123,
          100,
          176,
          123,
          144,
          79,
          128,
          79,
          81,
          120,
          125,
          95,
          104,
          131,
          180,
          179,
          100,
          84,
          154,
          95,
          129,
          127,
          144,
          129,
          155,
          174,
          171,
          112,
          108,
          91,
          121,
          96,
          106,
          138,
          109,
          90,
          84,
          101,
          96,
          74,
          74,
          121,
          87,
          93,
          87,
          90,
          100,
          164,
          81,
          120,
          95,
          94,
          124,
          163,
          93,
          115,
          128,
          112,
          126,
          122,
          187,
          88,
          95,
          121,
          75,
          145,
          94,
          119,
          98,
          117,
          83,
          97,
          160,
          156,
          143,
          101,
          136,
          85,
          167,
          74,
          97,
          107,
          173,
          126,
          161,
          118,
          88,
          117,
          135,
          106,
          77,
          130,
          120,
          104,
          157,
          126,
          140,
          99,
          95,
          78,
          111,
          83,
          95,
          82,
          89,
          87,
          173,
          139,
          168,
          84,
          125,
          92,
          93,
          96,
          68,
          81,
          116,
          129,
          97,
          113,
          100,
          145,
          109,
          173,
          143,
          152,
          129,
          187,
          152,
          165,
          188,
          80,
          112,
          108,
          133,
          125,
          119,
          154,
          116,
          138,
          84,
          111,
          119,
          147,
          87,
          140,
          176,
          100,
          99,
          109,
          110,
          92,
          126,
          120,
          99,
          170,
          107,
          99,
          112,
          86,
          117,
          102,
          112,
          133,
          88,
          195,
          128,
          158,
          119,
          104,
          112,
          102,
          136,
          102,
          124,
          81,
          96,
          90,
          96,
          148,
          125,
          100,
          109,
          103,
          123,
          124,
          114,
          98,
          134,
          181,
          198,
          100,
          99,
          117,
          98,
          154,
          146,
          189,
          174,
          108,
          117,
          144,
          77,
          136,
          109,
          117,
          108,
          103,
          106,
          186,
          187,
          95,
          81,
          181,
          144
         ],
         "yaxis": "y2"
        },
        {
         "name": "BloodPressure",
         "showlegend": false,
         "type": "box",
         "xaxis": "x3",
         "y": [
          80,
          78,
          48,
          90,
          62,
          106,
          62,
          78,
          58,
          70,
          74,
          90,
          72,
          72,
          60,
          78,
          80,
          72,
          80,
          70,
          60,
          74,
          68,
          64,
          50,
          54,
          68,
          78,
          82,
          60,
          80,
          82,
          76,
          74,
          58,
          72,
          68,
          72,
          70,
          78,
          56,
          54,
          60,
          56,
          88,
          64,
          50,
          68,
          68,
          70,
          70,
          60,
          64,
          58,
          62,
          66,
          82,
          78,
          72,
          54,
          70,
          56,
          70,
          60,
          66,
          82,
          82,
          84,
          52,
          70,
          62,
          85,
          66,
          64,
          88,
          64,
          88,
          58,
          88,
          65,
          66,
          54,
          86,
          74,
          58,
          84,
          58,
          74,
          52,
          64,
          62,
          78,
          56,
          68,
          84,
          78,
          60,
          68,
          56,
          82,
          60,
          70,
          64,
          72,
          88,
          74,
          54,
          66,
          88,
          90,
          58,
          74,
          64,
          74,
          78,
          78,
          80,
          88,
          50,
          70,
          62,
          100,
          74,
          70,
          72,
          78,
          74,
          76,
          50,
          66,
          80,
          38,
          70,
          86,
          78,
          68,
          68,
          82,
          68,
          82,
          74,
          72,
          52,
          102,
          60,
          64,
          72,
          72,
          74,
          82,
          58,
          44,
          74,
          68,
          65,
          86,
          70,
          72,
          76,
          76,
          62,
          74,
          74,
          54,
          64,
          74,
          80,
          80,
          68,
          86,
          74,
          78,
          88,
          58,
          70,
          88,
          84,
          86,
          64,
          86,
          86,
          74,
          44,
          70,
          86,
          64,
          62,
          56,
          84,
          50,
          72,
          62,
          72,
          80,
          80,
          66,
          82,
          70,
          84,
          66,
          74,
          76,
          66,
          60,
          74,
          85,
          64,
          88,
          60,
          64,
          82,
          56,
          74,
          60,
          90,
          62,
          60,
          70,
          90,
          76,
          64,
          74,
          64,
          58
         ],
         "yaxis": "y3"
        },
        {
         "name": "SkinThickness",
         "showlegend": false,
         "type": "box",
         "xaxis": "x4",
         "y": [
          11,
          40,
          32,
          26,
          31,
          46,
          30,
          27,
          33,
          44,
          40,
          34,
          45,
          27,
          42,
          37,
          25,
          15,
          48,
          24,
          18,
          18,
          21,
          25,
          36,
          28,
          30,
          30,
          25,
          12,
          37,
          46,
          28,
          17,
          22,
          33,
          22,
          43,
          32,
          39,
          17,
          21,
          35,
          21,
          47,
          22,
          15,
          13,
          28,
          40,
          32,
          37,
          32,
          16,
          12,
          29,
          43,
          40,
          22,
          14,
          27,
          13,
          18,
          25,
          39,
          17,
          32,
          29,
          43,
          22,
          24,
          25,
          30,
          24,
          34,
          25,
          41,
          33,
          24,
          28,
          15,
          32,
          28,
          22,
          35,
          35,
          22,
          17,
          10,
          19,
          13,
          39,
          29,
          23,
          47,
          29,
          23,
          42,
          27,
          41,
          23,
          30,
          23,
          21,
          41,
          26,
          19,
          13,
          29,
          12,
          31,
          21,
          13,
          16,
          27,
          32,
          35,
          42,
          23,
          18,
          25,
          39,
          18,
          32,
          18,
          29,
          26,
          32,
          10,
          20,
          46,
          18,
          14,
          30,
          34,
          49,
          39,
          39,
          26,
          14,
          11,
          30,
          26,
          28,
          20,
          18,
          29,
          12,
          26,
          31,
          31,
          47,
          25,
          34,
          26,
          27,
          26,
          30,
          39,
          20,
          32,
          38,
          18,
          28,
          37,
          30,
          11,
          45,
          28,
          30,
          40,
          50,
          15,
          26,
          33,
          39,
          41,
          39,
          37,
          42,
          36,
          26,
          20,
          33,
          16,
          27,
          18,
          34,
          48,
          40,
          12,
          41,
          32,
          15,
          33,
          36,
          15,
          23,
          21,
          32,
          12,
          15,
          31,
          17,
          32,
          27,
          33,
          37,
          46,
          27,
          26,
          30,
          50,
          8,
          19,
          32,
          33,
          28,
          35,
          27,
          39,
          41,
          30,
          28
         ],
         "yaxis": "y4"
        },
        {
         "name": "Insulin",
         "showlegend": false,
         "type": "box",
         "xaxis": "x5",
         "y": [
          82,
          90,
          165,
          90,
          120,
          231,
          74,
          22,
          135,
          94,
          215,
          300,
          230,
          228,
          48,
          182,
          37,
          76,
          200,
          110,
          58,
          156,
          166,
          70,
          159,
          105,
          106,
          100,
          180,
          231,
          210,
          180,
          122,
          96,
          194,
          135,
          94,
          75,
          88,
          74,
          49,
          158,
          167,
          135,
          54,
          66,
          36,
          49,
          45,
          49,
          95,
          75,
          160,
          52,
          43,
          196,
          67,
          48,
          56,
          88,
          115,
          105,
          105,
          92,
          140,
          183,
          175,
          215,
          158,
          200,
          44,
          36,
          165,
          55,
          165,
          79,
          170,
          190,
          145,
          66,
          140,
          175,
          155,
          61,
          90,
          130,
          49,
          144,
          36,
          82,
          48,
          185,
          152,
          132,
          230,
          76,
          106,
          250,
          165,
          42,
          170,
          135,
          116,
          168,
          235,
          180,
          86,
          38,
          40,
          78,
          18,
          73,
          95,
          85,
          32,
          265,
          160,
          321,
          76,
          122,
          41,
          72,
          67,
          66,
          40,
          180,
          205,
          91,
          85,
          90,
          130,
          120,
          168,
          330,
          171,
          125,
          304,
          272,
          168,
          185,
          60,
          176,
          63,
          140,
          140,
          92,
          126,
          87,
          144,
          125,
          44,
          63,
          293,
          77,
          130,
          156,
          50,
          18,
          114,
          100,
          126,
          75,
          63,
          83,
          225,
          100,
          64,
          132,
          71,
          105,
          105,
          140,
          155,
          16,
          145,
          110,
          210,
          220,
          64,
          160,
          120,
          135,
          94,
          215,
          66,
          87,
          59,
          115,
          237,
          167,
          70,
          129,
          190,
          176,
          130,
          200,
          84,
          130,
          192,
          274,
          46,
          51,
          188,
          120,
          193,
          100,
          325,
          120,
          178,
          120,
          285,
          56,
          204,
          182,
          71,
          56,
          192,
          135,
          225,
          207,
          105,
          57,
          180,
          140
         ],
         "yaxis": "y5"
        },
        {
         "name": "BMI",
         "showlegend": false,
         "type": "box",
         "xaxis": "x6",
         "y": [
          19.4,
          34.5,
          42.1,
          36.5,
          35.5,
          37.6,
          36.6,
          29.6,
          31.6,
          33.1,
          39.4,
          33.7,
          33.6,
          33.9,
          43.5,
          43.3,
          25.4,
          30.1,
          38.9,
          24.3,
          23.9,
          29.9,
          33.1,
          34,
          37.8,
          37.8,
          31.9,
          30.9,
          35,
          27.5,
          36.3,
          46.1,
          35.9,
          26.6,
          32.9,
          33.3,
          34.1,
          36.1,
          33.1,
          39,
          20.8,
          30.9,
          34.6,
          25.2,
          37.7,
          35.8,
          24.2,
          21.1,
          29.7,
          35.3,
          39.1,
          37.2,
          38,
          32.7,
          27.2,
          32,
          32.8,
          46.7,
          20.8,
          26.1,
          43.5,
          21.8,
          31.6,
          28.7,
          38.1,
          27.5,
          34.2,
          30.7,
          36.2,
          36.4,
          29.9,
          37.4,
          34.3,
          29.7,
          30.3,
          33.3,
          45.3,
          34,
          34.5,
          36.8,
          23.2,
          30.5,
          34.3,
          26.2,
          21.8,
          28.3,
          27.8,
          23.4,
          27.8,
          18.2,
          22.9,
          33.8,
          28.7,
          25.5,
          45.8,
          32,
          33.8,
          42.3,
          29,
          35.8,
          28.6,
          42.9,
          27.8,
          25.6,
          39.3,
          24.1,
          25.6,
          19.6,
          36.9,
          28.4,
          34.3,
          25.9,
          21.2,
          30.4,
          34.6,
          46.5,
          31.6,
          38.2,
          30.4,
          28.9,
          19.5,
          43.4,
          33.6,
          25,
          26.6,
          36.1,
          33.2,
          40.9,
          29.5,
          32.9,
          37.9,
          23.1,
          29.7,
          30.1,
          34.2,
          38.5,
          37.7,
          41.5,
          33.6,
          32,
          30,
          34.4,
          32.5,
          32.8,
          33.8,
          34.9,
          31.3,
          22.1,
          36.1,
          38.2,
          29.5,
          35.5,
          34.9,
          37.6,
          42.6,
          33.3,
          30.8,
          38.6,
          27.9,
          28.4,
          32,
          25.9,
          30.5,
          34,
          34.5,
          33.6,
          19.3,
          34.8,
          30.2,
          39.1,
          37.2,
          39.4,
          32.4,
          28.4,
          25.1,
          36.5,
          39.4,
          45.6,
          33.6,
          38.4,
          45.5,
          26,
          30.8,
          25.5,
          27.5,
          33.2,
          25.1,
          24.7,
          37.6,
          33.3,
          25.3,
          35.8,
          37.7,
          32,
          33.2,
          38.1,
          25.2,
          35.4,
          35.9,
          41.3,
          19.5,
          23.2,
          30.8,
          34.7,
          29.3,
          28.9,
          31.2,
          44.5,
          35.5,
          33.2,
          32,
          33.3,
          37.4,
          25.4,
          25.2,
          25.2,
          24,
          34.2,
          34.5,
          43.6,
          44.6,
          46.3,
          34.1,
          29.5
         ],
         "yaxis": "y6"
        },
        {
         "name": "DiabetesPedigreeFunction",
         "showlegend": false,
         "type": "box",
         "xaxis": "x7",
         "y": [
          0.491,
          0.238,
          0.52,
          0.314,
          0.692,
          0.165,
          0.757,
          0.439,
          0.422,
          0.374,
          0.661,
          0.467,
          0.733,
          0.255,
          0.678,
          1.224,
          0.583,
          0.547,
          1.162,
          0.221,
          0.26,
          0.722,
          0.16,
          0.271,
          0.455,
          0.498,
          0.591,
          0.164,
          0.233,
          0.527,
          0.804,
          0.335,
          0.28,
          0.433,
          0.593,
          0.199,
          0.315,
          0.263,
          0.446,
          0.261,
          0.34,
          0.292,
          0.534,
          0.833,
          0.362,
          0.545,
          0.526,
          0.647,
          0.293,
          0.705,
          0.886,
          0.509,
          0.674,
          0.166,
          0.58,
          0.444,
          0.341,
          0.261,
          0.733,
          0.748,
          0.347,
          0.452,
          0.268,
          0.532,
          0.15,
          0.115,
          0.26,
          0.52,
          0.816,
          0.408,
          0.422,
          0.247,
          0.203,
          0.37,
          0.771,
          0.738,
          0.507,
          0.43,
          0.403,
          0.629,
          0.487,
          0.588,
          1.189,
          0.256,
          0.155,
          0.26,
          0.306,
          0.447,
          0.269,
          0.299,
          0.678,
          0.97,
          0.801,
          0.326,
          0.551,
          0.365,
          0.466,
          0.365,
          0.426,
          0.156,
          0.692,
          0.452,
          0.454,
          0.123,
          0.704,
          0.828,
          0.154,
          0.334,
          0.434,
          0.495,
          0.336,
          0.673,
          0.415,
          0.551,
          0.101,
          1.159,
          0.361,
          0.787,
          0.968,
          1.144,
          0.482,
          1.021,
          0.997,
          0.187,
          0.283,
          0.496,
          0.591,
          0.871,
          0.626,
          0.867,
          0.637,
          0.407,
          0.361,
          0.892,
          0.893,
          0.439,
          0.254,
          0.27,
          0.631,
          0.682,
          0.527,
          0.528,
          0.318,
          0.234,
          0.088,
          0.725,
          0.338,
          0.463,
          0.557,
          0.233,
          0.43,
          0.28,
          0.385,
          0.401,
          0.431,
          1.154,
          0.597,
          0.412,
          0.64,
          0.118,
          0.085,
          0.162,
          0.285,
          0.499,
          0.356,
          0.404,
          0.284,
          0.217,
          0.364,
          0.251,
          0.204,
          0.175,
          0.262,
          0.766,
          0.163,
          1.057,
          0.395,
          0.808,
          0.51,
          0.246,
          0.127,
          0.647,
          0.4,
          0.161,
          0.306,
          0.289,
          1.268,
          0.944,
          1.001,
          0.962,
          0.658,
          0.514,
          0.324,
          0.443,
          0.305,
          0.289,
          0.299,
          0.542,
          0.586,
          0.502,
          0.149,
          0.223,
          0.493,
          0.198,
          0.839,
          0.189,
          0.583,
          0.646,
          0.415,
          0.23,
          0.452,
          1.251,
          0.399,
          0.947,
          0.313,
          0.128,
          0.966,
          0.142,
          0.423,
          1.034,
          0.366,
          1.096,
          0.328,
          0.287
         ],
         "yaxis": "y7"
        },
        {
         "name": "Age",
         "showlegend": false,
         "type": "box",
         "xaxis": "x8",
         "y": [
          22,
          24,
          26,
          35,
          28,
          43,
          25,
          40,
          25,
          40,
          43,
          58,
          34,
          40,
          23,
          31,
          22,
          25,
          41,
          25,
          22,
          41,
          28,
          26,
          22,
          24,
          25,
          45,
          43,
          31,
          23,
          46,
          39,
          27,
          36,
          24,
          26,
          33,
          22,
          28,
          26,
          24,
          21,
          23,
          29,
          21,
          26,
          26,
          23,
          39,
          23,
          22,
          23,
          25,
          24,
          42,
          50,
          42,
          48,
          22,
          21,
          21,
          28,
          22,
          28,
          22,
          36,
          24,
          28,
          36,
          23,
          24,
          33,
          33,
          53,
          41,
          26,
          43,
          40,
          24,
          22,
          39,
          42,
          21,
          22,
          42,
          28,
          33,
          22,
          21,
          23,
          31,
          21,
          47,
          31,
          29,
          27,
          24,
          22,
          35,
          21,
          30,
          23,
          24,
          27,
          23,
          24,
          25,
          21,
          29,
          25,
          36,
          23,
          38,
          22,
          58,
          25,
          40,
          21,
          45,
          25,
          35,
          43,
          25,
          24,
          25,
          25,
          32,
          25,
          28,
          40,
          26,
          33,
          23,
          33,
          43,
          41,
          27,
          49,
          22,
          22,
          25,
          22,
          45,
          31,
          23,
          37,
          37,
          50,
          23,
          22,
          25,
          30,
          24,
          24,
          52,
          21,
          21,
          31,
          27,
          46,
          39,
          26,
          30,
          30,
          23,
          30,
          24,
          24,
          42,
          45,
          24,
          37,
          22,
          55,
          37,
          29,
          29,
          22,
          28,
          23,
          51,
          26,
          37,
          22,
          21,
          25,
          39,
          51,
          28,
          28,
          25,
          55,
          34,
          26,
          21,
          22,
          29,
          51,
          28,
          28,
          21,
          22,
          22,
          39,
          27,
          29,
          24,
          24,
          24,
          58,
          24,
          24,
          21,
          21,
          21,
          33,
          22,
          37,
          53,
          22,
          32,
          38,
          37
         ],
         "yaxis": "y8"
        }
       ],
       "layout": {
        "font": {
         "family": "Arial",
         "size": 15
        },
        "height": 450,
        "margin": {
         "b": 70,
         "l": 140,
         "pad": 10,
         "r": 0,
         "t": 80
        },
        "template": {
         "data": {
          "bar": [
           {
            "error_x": {
             "color": "rgb(36,36,36)"
            },
            "error_y": {
             "color": "rgb(36,36,36)"
            },
            "marker": {
             "line": {
              "color": "white",
              "width": 0.5
             },
             "pattern": {
              "fillmode": "overlay",
              "size": 10,
              "solidity": 0.2
             }
            },
            "type": "bar"
           }
          ],
          "barpolar": [
           {
            "marker": {
             "line": {
              "color": "white",
              "width": 0.5
             },
             "pattern": {
              "fillmode": "overlay",
              "size": 10,
              "solidity": 0.2
             }
            },
            "type": "barpolar"
           }
          ],
          "carpet": [
           {
            "aaxis": {
             "endlinecolor": "rgb(36,36,36)",
             "gridcolor": "white",
             "linecolor": "white",
             "minorgridcolor": "white",
             "startlinecolor": "rgb(36,36,36)"
            },
            "baxis": {
             "endlinecolor": "rgb(36,36,36)",
             "gridcolor": "white",
             "linecolor": "white",
             "minorgridcolor": "white",
             "startlinecolor": "rgb(36,36,36)"
            },
            "type": "carpet"
           }
          ],
          "choropleth": [
           {
            "colorbar": {
             "outlinewidth": 1,
             "tickcolor": "rgb(36,36,36)",
             "ticks": "outside"
            },
            "type": "choropleth"
           }
          ],
          "contour": [
           {
            "colorbar": {
             "outlinewidth": 1,
             "tickcolor": "rgb(36,36,36)",
             "ticks": "outside"
            },
            "colorscale": [
             [
              0,
              "#440154"
             ],
             [
              0.1111111111111111,
              "#482878"
             ],
             [
              0.2222222222222222,
              "#3e4989"
             ],
             [
              0.3333333333333333,
              "#31688e"
             ],
             [
              0.4444444444444444,
              "#26828e"
             ],
             [
              0.5555555555555556,
              "#1f9e89"
             ],
             [
              0.6666666666666666,
              "#35b779"
             ],
             [
              0.7777777777777778,
              "#6ece58"
             ],
             [
              0.8888888888888888,
              "#b5de2b"
             ],
             [
              1,
              "#fde725"
             ]
            ],
            "type": "contour"
           }
          ],
          "contourcarpet": [
           {
            "colorbar": {
             "outlinewidth": 1,
             "tickcolor": "rgb(36,36,36)",
             "ticks": "outside"
            },
            "type": "contourcarpet"
           }
          ],
          "heatmap": [
           {
            "colorbar": {
             "outlinewidth": 1,
             "tickcolor": "rgb(36,36,36)",
             "ticks": "outside"
            },
            "colorscale": [
             [
              0,
              "#440154"
             ],
             [
              0.1111111111111111,
              "#482878"
             ],
             [
              0.2222222222222222,
              "#3e4989"
             ],
             [
              0.3333333333333333,
              "#31688e"
             ],
             [
              0.4444444444444444,
              "#26828e"
             ],
             [
              0.5555555555555556,
              "#1f9e89"
             ],
             [
              0.6666666666666666,
              "#35b779"
             ],
             [
              0.7777777777777778,
              "#6ece58"
             ],
             [
              0.8888888888888888,
              "#b5de2b"
             ],
             [
              1,
              "#fde725"
             ]
            ],
            "type": "heatmap"
           }
          ],
          "heatmapgl": [
           {
            "colorbar": {
             "outlinewidth": 1,
             "tickcolor": "rgb(36,36,36)",
             "ticks": "outside"
            },
            "colorscale": [
             [
              0,
              "#440154"
             ],
             [
              0.1111111111111111,
              "#482878"
             ],
             [
              0.2222222222222222,
              "#3e4989"
             ],
             [
              0.3333333333333333,
              "#31688e"
             ],
             [
              0.4444444444444444,
              "#26828e"
             ],
             [
              0.5555555555555556,
              "#1f9e89"
             ],
             [
              0.6666666666666666,
              "#35b779"
             ],
             [
              0.7777777777777778,
              "#6ece58"
             ],
             [
              0.8888888888888888,
              "#b5de2b"
             ],
             [
              1,
              "#fde725"
             ]
            ],
            "type": "heatmapgl"
           }
          ],
          "histogram": [
           {
            "marker": {
             "line": {
              "color": "white",
              "width": 0.6
             }
            },
            "type": "histogram"
           }
          ],
          "histogram2d": [
           {
            "colorbar": {
             "outlinewidth": 1,
             "tickcolor": "rgb(36,36,36)",
             "ticks": "outside"
            },
            "colorscale": [
             [
              0,
              "#440154"
             ],
             [
              0.1111111111111111,
              "#482878"
             ],
             [
              0.2222222222222222,
              "#3e4989"
             ],
             [
              0.3333333333333333,
              "#31688e"
             ],
             [
              0.4444444444444444,
              "#26828e"
             ],
             [
              0.5555555555555556,
              "#1f9e89"
             ],
             [
              0.6666666666666666,
              "#35b779"
             ],
             [
              0.7777777777777778,
              "#6ece58"
             ],
             [
              0.8888888888888888,
              "#b5de2b"
             ],
             [
              1,
              "#fde725"
             ]
            ],
            "type": "histogram2d"
           }
          ],
          "histogram2dcontour": [
           {
            "colorbar": {
             "outlinewidth": 1,
             "tickcolor": "rgb(36,36,36)",
             "ticks": "outside"
            },
            "colorscale": [
             [
              0,
              "#440154"
             ],
             [
              0.1111111111111111,
              "#482878"
             ],
             [
              0.2222222222222222,
              "#3e4989"
             ],
             [
              0.3333333333333333,
              "#31688e"
             ],
             [
              0.4444444444444444,
              "#26828e"
             ],
             [
              0.5555555555555556,
              "#1f9e89"
             ],
             [
              0.6666666666666666,
              "#35b779"
             ],
             [
              0.7777777777777778,
              "#6ece58"
             ],
             [
              0.8888888888888888,
              "#b5de2b"
             ],
             [
              1,
              "#fde725"
             ]
            ],
            "type": "histogram2dcontour"
           }
          ],
          "mesh3d": [
           {
            "colorbar": {
             "outlinewidth": 1,
             "tickcolor": "rgb(36,36,36)",
             "ticks": "outside"
            },
            "type": "mesh3d"
           }
          ],
          "parcoords": [
           {
            "line": {
             "colorbar": {
              "outlinewidth": 1,
              "tickcolor": "rgb(36,36,36)",
              "ticks": "outside"
             }
            },
            "type": "parcoords"
           }
          ],
          "pie": [
           {
            "automargin": true,
            "type": "pie"
           }
          ],
          "scatter": [
           {
            "fillpattern": {
             "fillmode": "overlay",
             "size": 10,
             "solidity": 0.2
            },
            "type": "scatter"
           }
          ],
          "scatter3d": [
           {
            "line": {
             "colorbar": {
              "outlinewidth": 1,
              "tickcolor": "rgb(36,36,36)",
              "ticks": "outside"
             }
            },
            "marker": {
             "colorbar": {
              "outlinewidth": 1,
              "tickcolor": "rgb(36,36,36)",
              "ticks": "outside"
             }
            },
            "type": "scatter3d"
           }
          ],
          "scattercarpet": [
           {
            "marker": {
             "colorbar": {
              "outlinewidth": 1,
              "tickcolor": "rgb(36,36,36)",
              "ticks": "outside"
             }
            },
            "type": "scattercarpet"
           }
          ],
          "scattergeo": [
           {
            "marker": {
             "colorbar": {
              "outlinewidth": 1,
              "tickcolor": "rgb(36,36,36)",
              "ticks": "outside"
             }
            },
            "type": "scattergeo"
           }
          ],
          "scattergl": [
           {
            "marker": {
             "colorbar": {
              "outlinewidth": 1,
              "tickcolor": "rgb(36,36,36)",
              "ticks": "outside"
             }
            },
            "type": "scattergl"
           }
          ],
          "scattermapbox": [
           {
            "marker": {
             "colorbar": {
              "outlinewidth": 1,
              "tickcolor": "rgb(36,36,36)",
              "ticks": "outside"
             }
            },
            "type": "scattermapbox"
           }
          ],
          "scatterpolar": [
           {
            "marker": {
             "colorbar": {
              "outlinewidth": 1,
              "tickcolor": "rgb(36,36,36)",
              "ticks": "outside"
             }
            },
            "type": "scatterpolar"
           }
          ],
          "scatterpolargl": [
           {
            "marker": {
             "colorbar": {
              "outlinewidth": 1,
              "tickcolor": "rgb(36,36,36)",
              "ticks": "outside"
             }
            },
            "type": "scatterpolargl"
           }
          ],
          "scatterternary": [
           {
            "marker": {
             "colorbar": {
              "outlinewidth": 1,
              "tickcolor": "rgb(36,36,36)",
              "ticks": "outside"
             }
            },
            "type": "scatterternary"
           }
          ],
          "surface": [
           {
            "colorbar": {
             "outlinewidth": 1,
             "tickcolor": "rgb(36,36,36)",
             "ticks": "outside"
            },
            "colorscale": [
             [
              0,
              "#440154"
             ],
             [
              0.1111111111111111,
              "#482878"
             ],
             [
              0.2222222222222222,
              "#3e4989"
             ],
             [
              0.3333333333333333,
              "#31688e"
             ],
             [
              0.4444444444444444,
              "#26828e"
             ],
             [
              0.5555555555555556,
              "#1f9e89"
             ],
             [
              0.6666666666666666,
              "#35b779"
             ],
             [
              0.7777777777777778,
              "#6ece58"
             ],
             [
              0.8888888888888888,
              "#b5de2b"
             ],
             [
              1,
              "#fde725"
             ]
            ],
            "type": "surface"
           }
          ],
          "table": [
           {
            "cells": {
             "fill": {
              "color": "rgb(237,237,237)"
             },
             "line": {
              "color": "white"
             }
            },
            "header": {
             "fill": {
              "color": "rgb(217,217,217)"
             },
             "line": {
              "color": "white"
             }
            },
            "type": "table"
           }
          ]
         },
         "layout": {
          "annotationdefaults": {
           "arrowhead": 0,
           "arrowwidth": 1
          },
          "autotypenumbers": "strict",
          "coloraxis": {
           "colorbar": {
            "outlinewidth": 1,
            "tickcolor": "rgb(36,36,36)",
            "ticks": "outside"
           }
          },
          "colorscale": {
           "diverging": [
            [
             0,
             "rgb(103,0,31)"
            ],
            [
             0.1,
             "rgb(178,24,43)"
            ],
            [
             0.2,
             "rgb(214,96,77)"
            ],
            [
             0.3,
             "rgb(244,165,130)"
            ],
            [
             0.4,
             "rgb(253,219,199)"
            ],
            [
             0.5,
             "rgb(247,247,247)"
            ],
            [
             0.6,
             "rgb(209,229,240)"
            ],
            [
             0.7,
             "rgb(146,197,222)"
            ],
            [
             0.8,
             "rgb(67,147,195)"
            ],
            [
             0.9,
             "rgb(33,102,172)"
            ],
            [
             1,
             "rgb(5,48,97)"
            ]
           ],
           "sequential": [
            [
             0,
             "#440154"
            ],
            [
             0.1111111111111111,
             "#482878"
            ],
            [
             0.2222222222222222,
             "#3e4989"
            ],
            [
             0.3333333333333333,
             "#31688e"
            ],
            [
             0.4444444444444444,
             "#26828e"
            ],
            [
             0.5555555555555556,
             "#1f9e89"
            ],
            [
             0.6666666666666666,
             "#35b779"
            ],
            [
             0.7777777777777778,
             "#6ece58"
            ],
            [
             0.8888888888888888,
             "#b5de2b"
            ],
            [
             1,
             "#fde725"
            ]
           ],
           "sequentialminus": [
            [
             0,
             "#440154"
            ],
            [
             0.1111111111111111,
             "#482878"
            ],
            [
             0.2222222222222222,
             "#3e4989"
            ],
            [
             0.3333333333333333,
             "#31688e"
            ],
            [
             0.4444444444444444,
             "#26828e"
            ],
            [
             0.5555555555555556,
             "#1f9e89"
            ],
            [
             0.6666666666666666,
             "#35b779"
            ],
            [
             0.7777777777777778,
             "#6ece58"
            ],
            [
             0.8888888888888888,
             "#b5de2b"
            ],
            [
             1,
             "#fde725"
            ]
           ]
          },
          "colorway": [
           "#1F77B4",
           "#FF7F0E",
           "#2CA02C",
           "#D62728",
           "#9467BD",
           "#8C564B",
           "#E377C2",
           "#7F7F7F",
           "#BCBD22",
           "#17BECF"
          ],
          "font": {
           "color": "rgb(36,36,36)"
          },
          "geo": {
           "bgcolor": "white",
           "lakecolor": "white",
           "landcolor": "white",
           "showlakes": true,
           "showland": true,
           "subunitcolor": "white"
          },
          "hoverlabel": {
           "align": "left"
          },
          "hovermode": "closest",
          "mapbox": {
           "style": "light"
          },
          "paper_bgcolor": "white",
          "plot_bgcolor": "white",
          "polar": {
           "angularaxis": {
            "gridcolor": "rgb(232,232,232)",
            "linecolor": "rgb(36,36,36)",
            "showgrid": false,
            "showline": true,
            "ticks": "outside"
           },
           "bgcolor": "white",
           "radialaxis": {
            "gridcolor": "rgb(232,232,232)",
            "linecolor": "rgb(36,36,36)",
            "showgrid": false,
            "showline": true,
            "ticks": "outside"
           }
          },
          "scene": {
           "xaxis": {
            "backgroundcolor": "white",
            "gridcolor": "rgb(232,232,232)",
            "gridwidth": 2,
            "linecolor": "rgb(36,36,36)",
            "showbackground": true,
            "showgrid": false,
            "showline": true,
            "ticks": "outside",
            "zeroline": false,
            "zerolinecolor": "rgb(36,36,36)"
           },
           "yaxis": {
            "backgroundcolor": "white",
            "gridcolor": "rgb(232,232,232)",
            "gridwidth": 2,
            "linecolor": "rgb(36,36,36)",
            "showbackground": true,
            "showgrid": false,
            "showline": true,
            "ticks": "outside",
            "zeroline": false,
            "zerolinecolor": "rgb(36,36,36)"
           },
           "zaxis": {
            "backgroundcolor": "white",
            "gridcolor": "rgb(232,232,232)",
            "gridwidth": 2,
            "linecolor": "rgb(36,36,36)",
            "showbackground": true,
            "showgrid": false,
            "showline": true,
            "ticks": "outside",
            "zeroline": false,
            "zerolinecolor": "rgb(36,36,36)"
           }
          },
          "shapedefaults": {
           "fillcolor": "black",
           "line": {
            "width": 0
           },
           "opacity": 0.3
          },
          "ternary": {
           "aaxis": {
            "gridcolor": "rgb(232,232,232)",
            "linecolor": "rgb(36,36,36)",
            "showgrid": false,
            "showline": true,
            "ticks": "outside"
           },
           "baxis": {
            "gridcolor": "rgb(232,232,232)",
            "linecolor": "rgb(36,36,36)",
            "showgrid": false,
            "showline": true,
            "ticks": "outside"
           },
           "bgcolor": "white",
           "caxis": {
            "gridcolor": "rgb(232,232,232)",
            "linecolor": "rgb(36,36,36)",
            "showgrid": false,
            "showline": true,
            "ticks": "outside"
           }
          },
          "title": {
           "x": 0.05
          },
          "xaxis": {
           "automargin": true,
           "gridcolor": "rgb(232,232,232)",
           "linecolor": "rgb(36,36,36)",
           "showgrid": false,
           "showline": true,
           "ticks": "outside",
           "title": {
            "standoff": 15
           },
           "zeroline": false,
           "zerolinecolor": "rgb(36,36,36)"
          },
          "yaxis": {
           "automargin": true,
           "gridcolor": "rgb(232,232,232)",
           "linecolor": "rgb(36,36,36)",
           "showgrid": false,
           "showline": true,
           "ticks": "outside",
           "title": {
            "standoff": 15
           },
           "zeroline": false,
           "zerolinecolor": "rgb(36,36,36)"
          }
         }
        },
        "title": {
         "text": "Boxplots of Features (curated)",
         "x": 0.5
        },
        "xaxis": {
         "anchor": "y",
         "domain": [
          0,
          0.048888888888888885
         ]
        },
        "xaxis2": {
         "anchor": "y2",
         "domain": [
          0.11888888888888889,
          0.16777777777777778
         ]
        },
        "xaxis3": {
         "anchor": "y3",
         "domain": [
          0.23777777777777778,
          0.2866666666666667
         ]
        },
        "xaxis4": {
         "anchor": "y4",
         "domain": [
          0.3566666666666667,
          0.40555555555555556
         ]
        },
        "xaxis5": {
         "anchor": "y5",
         "domain": [
          0.47555555555555556,
          0.5244444444444445
         ]
        },
        "xaxis6": {
         "anchor": "y6",
         "domain": [
          0.5944444444444444,
          0.6433333333333333
         ]
        },
        "xaxis7": {
         "anchor": "y7",
         "domain": [
          0.7133333333333334,
          0.7622222222222222
         ]
        },
        "xaxis8": {
         "anchor": "y8",
         "domain": [
          0.8322222222222222,
          0.8811111111111111
         ]
        },
        "xaxis9": {
         "anchor": "y9",
         "domain": [
          0.951111111111111,
          0.9999999999999999
         ]
        },
        "yaxis": {
         "anchor": "x",
         "domain": [
          0,
          1
         ]
        },
        "yaxis2": {
         "anchor": "x2",
         "domain": [
          0,
          1
         ]
        },
        "yaxis3": {
         "anchor": "x3",
         "domain": [
          0,
          1
         ]
        },
        "yaxis4": {
         "anchor": "x4",
         "domain": [
          0,
          1
         ]
        },
        "yaxis5": {
         "anchor": "x5",
         "domain": [
          0,
          1
         ]
        },
        "yaxis6": {
         "anchor": "x6",
         "domain": [
          0,
          1
         ]
        },
        "yaxis7": {
         "anchor": "x7",
         "domain": [
          0,
          1
         ]
        },
        "yaxis8": {
         "anchor": "x8",
         "domain": [
          0,
          1
         ]
        },
        "yaxis9": {
         "anchor": "x9",
         "domain": [
          0,
          1
         ]
        }
       }
      }
     },
     "metadata": {},
     "output_type": "display_data"
    }
   ],
   "source": [
    "# Create boxplots for features\n",
    "feats_box2 = boxplot_feats_plot(data_new, \"Boxplots of Features (curated)\")\n",
    "feats_box2.show()"
   ]
  },
  {
   "cell_type": "code",
   "execution_count": 19,
   "metadata": {},
   "outputs": [],
   "source": [
    "# Save as pdf\n",
    "pio.write_image(feats_box2, \"plots/feat_boxplots2.pdf\", height=480, width=1100)"
   ]
  },
  {
   "cell_type": "code",
   "execution_count": 20,
   "metadata": {},
   "outputs": [
    {
     "data": {
      "application/vnd.plotly.v1+json": {
       "config": {
        "plotlyServerURL": "https://plot.ly"
       },
       "data": [
        {
         "colorbar": {
          "title": {
           "text": "Correlation"
          }
         },
         "colorscale": [
          [
           0,
           "rgb(5,48,97)"
          ],
          [
           0.1,
           "rgb(33,102,172)"
          ],
          [
           0.2,
           "rgb(67,147,195)"
          ],
          [
           0.3,
           "rgb(146,197,222)"
          ],
          [
           0.4,
           "rgb(209,229,240)"
          ],
          [
           0.5,
           "rgb(247,247,247)"
          ],
          [
           0.6,
           "rgb(253,219,199)"
          ],
          [
           0.7,
           "rgb(244,165,130)"
          ],
          [
           0.8,
           "rgb(214,96,77)"
          ],
          [
           0.9,
           "rgb(178,24,43)"
          ],
          [
           1,
           "rgb(103,0,31)"
          ]
         ],
         "showscale": true,
         "type": "heatmap",
         "x": [
          "Pregnancies",
          "Glucose",
          "BloodPressure",
          "SkinThickness",
          "Insulin",
          "BMI",
          "DiabetesPedigreeFunction",
          "Age",
          "Outcome"
         ],
         "y": [
          "Pregnancies",
          "Glucose",
          "BloodPressure",
          "SkinThickness",
          "Insulin",
          "BMI",
          "DiabetesPedigreeFunction",
          "Age",
          "Outcome"
         ],
         "z": [
          [
           1,
           0.2681433929558033,
           0.19499909660633732,
           0.19077899728045666,
           0.190535069650989,
           -0.0013132599188263171,
           0.008675272977639703,
           0.6462515375943605,
           0.2595538940919731
          ],
          [
           0.2681433929558033,
           1,
           0.24030849279966485,
           0.16708305545602456,
           0.6310050229327374,
           0.16714721883186603,
           0.056419129082260745,
           0.41480907077359164,
           0.5580856559327191
          ],
          [
           0.19499909660633732,
           0.24030849279966485,
           1,
           0.22378561201998584,
           0.22545444837707485,
           0.2682736500455304,
           -0.020477169592488124,
           0.3480221391863131,
           0.2525656565248323
          ],
          [
           0.19077899728045666,
           0.16708305545602456,
           0.22378561201998584,
           1,
           0.31615903226301917,
           0.6377250297839069,
           0.05468188815932138,
           0.2133435355838846,
           0.21053355485523634
          ],
          [
           0.190535069650989,
           0.6310050229327374,
           0.22545444837707485,
           0.31615903226301917,
           1,
           0.3148180375166304,
           0.15391156589119806,
           0.34255291730701176,
           0.3949271319131133
          ],
          [
           -0.0013132599188263171,
           0.16714721883186603,
           0.2682736500455304,
           0.6377250297839069,
           0.3148180375166304,
           1,
           0.12417749506813108,
           0.16074105751630427,
           0.26936547284321866
          ],
          [
           0.008675272977639703,
           0.056419129082260745,
           -0.020477169592488124,
           0.05468188815932138,
           0.15391156589119806,
           0.12417749506813108,
           1,
           0.15931378013789257,
           0.17435453700776138
          ],
          [
           0.6462515375943605,
           0.41480907077359164,
           0.3480221391863131,
           0.2133435355838846,
           0.34255291730701176,
           0.16074105751630427,
           0.15931378013789257,
           1,
           0.3455955329311701
          ],
          [
           0.2595538940919731,
           0.5580856559327191,
           0.2525656565248323,
           0.21053355485523634,
           0.3949271319131133,
           0.26936547284321866,
           0.17435453700776138,
           0.3455955329311701,
           1
          ]
         ],
         "zmax": 1,
         "zmin": -1
        }
       ],
       "layout": {
        "font": {
         "family": "Arial",
         "size": 15
        },
        "height": 570,
        "template": {
         "data": {
          "bar": [
           {
            "error_x": {
             "color": "rgb(36,36,36)"
            },
            "error_y": {
             "color": "rgb(36,36,36)"
            },
            "marker": {
             "line": {
              "color": "white",
              "width": 0.5
             },
             "pattern": {
              "fillmode": "overlay",
              "size": 10,
              "solidity": 0.2
             }
            },
            "type": "bar"
           }
          ],
          "barpolar": [
           {
            "marker": {
             "line": {
              "color": "white",
              "width": 0.5
             },
             "pattern": {
              "fillmode": "overlay",
              "size": 10,
              "solidity": 0.2
             }
            },
            "type": "barpolar"
           }
          ],
          "carpet": [
           {
            "aaxis": {
             "endlinecolor": "rgb(36,36,36)",
             "gridcolor": "white",
             "linecolor": "white",
             "minorgridcolor": "white",
             "startlinecolor": "rgb(36,36,36)"
            },
            "baxis": {
             "endlinecolor": "rgb(36,36,36)",
             "gridcolor": "white",
             "linecolor": "white",
             "minorgridcolor": "white",
             "startlinecolor": "rgb(36,36,36)"
            },
            "type": "carpet"
           }
          ],
          "choropleth": [
           {
            "colorbar": {
             "outlinewidth": 1,
             "tickcolor": "rgb(36,36,36)",
             "ticks": "outside"
            },
            "type": "choropleth"
           }
          ],
          "contour": [
           {
            "colorbar": {
             "outlinewidth": 1,
             "tickcolor": "rgb(36,36,36)",
             "ticks": "outside"
            },
            "colorscale": [
             [
              0,
              "#440154"
             ],
             [
              0.1111111111111111,
              "#482878"
             ],
             [
              0.2222222222222222,
              "#3e4989"
             ],
             [
              0.3333333333333333,
              "#31688e"
             ],
             [
              0.4444444444444444,
              "#26828e"
             ],
             [
              0.5555555555555556,
              "#1f9e89"
             ],
             [
              0.6666666666666666,
              "#35b779"
             ],
             [
              0.7777777777777778,
              "#6ece58"
             ],
             [
              0.8888888888888888,
              "#b5de2b"
             ],
             [
              1,
              "#fde725"
             ]
            ],
            "type": "contour"
           }
          ],
          "contourcarpet": [
           {
            "colorbar": {
             "outlinewidth": 1,
             "tickcolor": "rgb(36,36,36)",
             "ticks": "outside"
            },
            "type": "contourcarpet"
           }
          ],
          "heatmap": [
           {
            "colorbar": {
             "outlinewidth": 1,
             "tickcolor": "rgb(36,36,36)",
             "ticks": "outside"
            },
            "colorscale": [
             [
              0,
              "#440154"
             ],
             [
              0.1111111111111111,
              "#482878"
             ],
             [
              0.2222222222222222,
              "#3e4989"
             ],
             [
              0.3333333333333333,
              "#31688e"
             ],
             [
              0.4444444444444444,
              "#26828e"
             ],
             [
              0.5555555555555556,
              "#1f9e89"
             ],
             [
              0.6666666666666666,
              "#35b779"
             ],
             [
              0.7777777777777778,
              "#6ece58"
             ],
             [
              0.8888888888888888,
              "#b5de2b"
             ],
             [
              1,
              "#fde725"
             ]
            ],
            "type": "heatmap"
           }
          ],
          "heatmapgl": [
           {
            "colorbar": {
             "outlinewidth": 1,
             "tickcolor": "rgb(36,36,36)",
             "ticks": "outside"
            },
            "colorscale": [
             [
              0,
              "#440154"
             ],
             [
              0.1111111111111111,
              "#482878"
             ],
             [
              0.2222222222222222,
              "#3e4989"
             ],
             [
              0.3333333333333333,
              "#31688e"
             ],
             [
              0.4444444444444444,
              "#26828e"
             ],
             [
              0.5555555555555556,
              "#1f9e89"
             ],
             [
              0.6666666666666666,
              "#35b779"
             ],
             [
              0.7777777777777778,
              "#6ece58"
             ],
             [
              0.8888888888888888,
              "#b5de2b"
             ],
             [
              1,
              "#fde725"
             ]
            ],
            "type": "heatmapgl"
           }
          ],
          "histogram": [
           {
            "marker": {
             "line": {
              "color": "white",
              "width": 0.6
             }
            },
            "type": "histogram"
           }
          ],
          "histogram2d": [
           {
            "colorbar": {
             "outlinewidth": 1,
             "tickcolor": "rgb(36,36,36)",
             "ticks": "outside"
            },
            "colorscale": [
             [
              0,
              "#440154"
             ],
             [
              0.1111111111111111,
              "#482878"
             ],
             [
              0.2222222222222222,
              "#3e4989"
             ],
             [
              0.3333333333333333,
              "#31688e"
             ],
             [
              0.4444444444444444,
              "#26828e"
             ],
             [
              0.5555555555555556,
              "#1f9e89"
             ],
             [
              0.6666666666666666,
              "#35b779"
             ],
             [
              0.7777777777777778,
              "#6ece58"
             ],
             [
              0.8888888888888888,
              "#b5de2b"
             ],
             [
              1,
              "#fde725"
             ]
            ],
            "type": "histogram2d"
           }
          ],
          "histogram2dcontour": [
           {
            "colorbar": {
             "outlinewidth": 1,
             "tickcolor": "rgb(36,36,36)",
             "ticks": "outside"
            },
            "colorscale": [
             [
              0,
              "#440154"
             ],
             [
              0.1111111111111111,
              "#482878"
             ],
             [
              0.2222222222222222,
              "#3e4989"
             ],
             [
              0.3333333333333333,
              "#31688e"
             ],
             [
              0.4444444444444444,
              "#26828e"
             ],
             [
              0.5555555555555556,
              "#1f9e89"
             ],
             [
              0.6666666666666666,
              "#35b779"
             ],
             [
              0.7777777777777778,
              "#6ece58"
             ],
             [
              0.8888888888888888,
              "#b5de2b"
             ],
             [
              1,
              "#fde725"
             ]
            ],
            "type": "histogram2dcontour"
           }
          ],
          "mesh3d": [
           {
            "colorbar": {
             "outlinewidth": 1,
             "tickcolor": "rgb(36,36,36)",
             "ticks": "outside"
            },
            "type": "mesh3d"
           }
          ],
          "parcoords": [
           {
            "line": {
             "colorbar": {
              "outlinewidth": 1,
              "tickcolor": "rgb(36,36,36)",
              "ticks": "outside"
             }
            },
            "type": "parcoords"
           }
          ],
          "pie": [
           {
            "automargin": true,
            "type": "pie"
           }
          ],
          "scatter": [
           {
            "fillpattern": {
             "fillmode": "overlay",
             "size": 10,
             "solidity": 0.2
            },
            "type": "scatter"
           }
          ],
          "scatter3d": [
           {
            "line": {
             "colorbar": {
              "outlinewidth": 1,
              "tickcolor": "rgb(36,36,36)",
              "ticks": "outside"
             }
            },
            "marker": {
             "colorbar": {
              "outlinewidth": 1,
              "tickcolor": "rgb(36,36,36)",
              "ticks": "outside"
             }
            },
            "type": "scatter3d"
           }
          ],
          "scattercarpet": [
           {
            "marker": {
             "colorbar": {
              "outlinewidth": 1,
              "tickcolor": "rgb(36,36,36)",
              "ticks": "outside"
             }
            },
            "type": "scattercarpet"
           }
          ],
          "scattergeo": [
           {
            "marker": {
             "colorbar": {
              "outlinewidth": 1,
              "tickcolor": "rgb(36,36,36)",
              "ticks": "outside"
             }
            },
            "type": "scattergeo"
           }
          ],
          "scattergl": [
           {
            "marker": {
             "colorbar": {
              "outlinewidth": 1,
              "tickcolor": "rgb(36,36,36)",
              "ticks": "outside"
             }
            },
            "type": "scattergl"
           }
          ],
          "scattermapbox": [
           {
            "marker": {
             "colorbar": {
              "outlinewidth": 1,
              "tickcolor": "rgb(36,36,36)",
              "ticks": "outside"
             }
            },
            "type": "scattermapbox"
           }
          ],
          "scatterpolar": [
           {
            "marker": {
             "colorbar": {
              "outlinewidth": 1,
              "tickcolor": "rgb(36,36,36)",
              "ticks": "outside"
             }
            },
            "type": "scatterpolar"
           }
          ],
          "scatterpolargl": [
           {
            "marker": {
             "colorbar": {
              "outlinewidth": 1,
              "tickcolor": "rgb(36,36,36)",
              "ticks": "outside"
             }
            },
            "type": "scatterpolargl"
           }
          ],
          "scatterternary": [
           {
            "marker": {
             "colorbar": {
              "outlinewidth": 1,
              "tickcolor": "rgb(36,36,36)",
              "ticks": "outside"
             }
            },
            "type": "scatterternary"
           }
          ],
          "surface": [
           {
            "colorbar": {
             "outlinewidth": 1,
             "tickcolor": "rgb(36,36,36)",
             "ticks": "outside"
            },
            "colorscale": [
             [
              0,
              "#440154"
             ],
             [
              0.1111111111111111,
              "#482878"
             ],
             [
              0.2222222222222222,
              "#3e4989"
             ],
             [
              0.3333333333333333,
              "#31688e"
             ],
             [
              0.4444444444444444,
              "#26828e"
             ],
             [
              0.5555555555555556,
              "#1f9e89"
             ],
             [
              0.6666666666666666,
              "#35b779"
             ],
             [
              0.7777777777777778,
              "#6ece58"
             ],
             [
              0.8888888888888888,
              "#b5de2b"
             ],
             [
              1,
              "#fde725"
             ]
            ],
            "type": "surface"
           }
          ],
          "table": [
           {
            "cells": {
             "fill": {
              "color": "rgb(237,237,237)"
             },
             "line": {
              "color": "white"
             }
            },
            "header": {
             "fill": {
              "color": "rgb(217,217,217)"
             },
             "line": {
              "color": "white"
             }
            },
            "type": "table"
           }
          ]
         },
         "layout": {
          "annotationdefaults": {
           "arrowhead": 0,
           "arrowwidth": 1
          },
          "autotypenumbers": "strict",
          "coloraxis": {
           "colorbar": {
            "outlinewidth": 1,
            "tickcolor": "rgb(36,36,36)",
            "ticks": "outside"
           }
          },
          "colorscale": {
           "diverging": [
            [
             0,
             "rgb(103,0,31)"
            ],
            [
             0.1,
             "rgb(178,24,43)"
            ],
            [
             0.2,
             "rgb(214,96,77)"
            ],
            [
             0.3,
             "rgb(244,165,130)"
            ],
            [
             0.4,
             "rgb(253,219,199)"
            ],
            [
             0.5,
             "rgb(247,247,247)"
            ],
            [
             0.6,
             "rgb(209,229,240)"
            ],
            [
             0.7,
             "rgb(146,197,222)"
            ],
            [
             0.8,
             "rgb(67,147,195)"
            ],
            [
             0.9,
             "rgb(33,102,172)"
            ],
            [
             1,
             "rgb(5,48,97)"
            ]
           ],
           "sequential": [
            [
             0,
             "#440154"
            ],
            [
             0.1111111111111111,
             "#482878"
            ],
            [
             0.2222222222222222,
             "#3e4989"
            ],
            [
             0.3333333333333333,
             "#31688e"
            ],
            [
             0.4444444444444444,
             "#26828e"
            ],
            [
             0.5555555555555556,
             "#1f9e89"
            ],
            [
             0.6666666666666666,
             "#35b779"
            ],
            [
             0.7777777777777778,
             "#6ece58"
            ],
            [
             0.8888888888888888,
             "#b5de2b"
            ],
            [
             1,
             "#fde725"
            ]
           ],
           "sequentialminus": [
            [
             0,
             "#440154"
            ],
            [
             0.1111111111111111,
             "#482878"
            ],
            [
             0.2222222222222222,
             "#3e4989"
            ],
            [
             0.3333333333333333,
             "#31688e"
            ],
            [
             0.4444444444444444,
             "#26828e"
            ],
            [
             0.5555555555555556,
             "#1f9e89"
            ],
            [
             0.6666666666666666,
             "#35b779"
            ],
            [
             0.7777777777777778,
             "#6ece58"
            ],
            [
             0.8888888888888888,
             "#b5de2b"
            ],
            [
             1,
             "#fde725"
            ]
           ]
          },
          "colorway": [
           "#1F77B4",
           "#FF7F0E",
           "#2CA02C",
           "#D62728",
           "#9467BD",
           "#8C564B",
           "#E377C2",
           "#7F7F7F",
           "#BCBD22",
           "#17BECF"
          ],
          "font": {
           "color": "rgb(36,36,36)"
          },
          "geo": {
           "bgcolor": "white",
           "lakecolor": "white",
           "landcolor": "white",
           "showlakes": true,
           "showland": true,
           "subunitcolor": "white"
          },
          "hoverlabel": {
           "align": "left"
          },
          "hovermode": "closest",
          "mapbox": {
           "style": "light"
          },
          "paper_bgcolor": "white",
          "plot_bgcolor": "white",
          "polar": {
           "angularaxis": {
            "gridcolor": "rgb(232,232,232)",
            "linecolor": "rgb(36,36,36)",
            "showgrid": false,
            "showline": true,
            "ticks": "outside"
           },
           "bgcolor": "white",
           "radialaxis": {
            "gridcolor": "rgb(232,232,232)",
            "linecolor": "rgb(36,36,36)",
            "showgrid": false,
            "showline": true,
            "ticks": "outside"
           }
          },
          "scene": {
           "xaxis": {
            "backgroundcolor": "white",
            "gridcolor": "rgb(232,232,232)",
            "gridwidth": 2,
            "linecolor": "rgb(36,36,36)",
            "showbackground": true,
            "showgrid": false,
            "showline": true,
            "ticks": "outside",
            "zeroline": false,
            "zerolinecolor": "rgb(36,36,36)"
           },
           "yaxis": {
            "backgroundcolor": "white",
            "gridcolor": "rgb(232,232,232)",
            "gridwidth": 2,
            "linecolor": "rgb(36,36,36)",
            "showbackground": true,
            "showgrid": false,
            "showline": true,
            "ticks": "outside",
            "zeroline": false,
            "zerolinecolor": "rgb(36,36,36)"
           },
           "zaxis": {
            "backgroundcolor": "white",
            "gridcolor": "rgb(232,232,232)",
            "gridwidth": 2,
            "linecolor": "rgb(36,36,36)",
            "showbackground": true,
            "showgrid": false,
            "showline": true,
            "ticks": "outside",
            "zeroline": false,
            "zerolinecolor": "rgb(36,36,36)"
           }
          },
          "shapedefaults": {
           "fillcolor": "black",
           "line": {
            "width": 0
           },
           "opacity": 0.3
          },
          "ternary": {
           "aaxis": {
            "gridcolor": "rgb(232,232,232)",
            "linecolor": "rgb(36,36,36)",
            "showgrid": false,
            "showline": true,
            "ticks": "outside"
           },
           "baxis": {
            "gridcolor": "rgb(232,232,232)",
            "linecolor": "rgb(36,36,36)",
            "showgrid": false,
            "showline": true,
            "ticks": "outside"
           },
           "bgcolor": "white",
           "caxis": {
            "gridcolor": "rgb(232,232,232)",
            "linecolor": "rgb(36,36,36)",
            "showgrid": false,
            "showline": true,
            "ticks": "outside"
           }
          },
          "title": {
           "x": 0.05
          },
          "xaxis": {
           "automargin": true,
           "gridcolor": "rgb(232,232,232)",
           "linecolor": "rgb(36,36,36)",
           "showgrid": false,
           "showline": true,
           "ticks": "outside",
           "title": {
            "standoff": 15
           },
           "zeroline": false,
           "zerolinecolor": "rgb(36,36,36)"
          },
          "yaxis": {
           "automargin": true,
           "gridcolor": "rgb(232,232,232)",
           "linecolor": "rgb(36,36,36)",
           "showgrid": false,
           "showline": true,
           "ticks": "outside",
           "title": {
            "standoff": 15
           },
           "zeroline": false,
           "zerolinecolor": "rgb(36,36,36)"
          }
         }
        },
        "title": {
         "text": "Feautures Correlation Heatmap (curated)",
         "x": 0.5
        },
        "width": 600,
        "xaxis": {
         "tickangle": -40
        },
        "yaxis": {
         "tickangle": -40
        }
       }
      }
     },
     "metadata": {},
     "output_type": "display_data"
    }
   ],
   "source": [
    "# Create the correlation heatmap\n",
    "heatmap_fig2 = correlation_heatmap(data_new, 'Feautures Correlation Heatmap (curated)', 'ID')\n",
    "heatmap_fig2.show()"
   ]
  },
  {
   "cell_type": "code",
   "execution_count": 21,
   "metadata": {},
   "outputs": [],
   "source": [
    "# Save as pdf\n",
    "pio.write_image(heatmap_fig2, \"plots/heatmap_feat_corr2.pdf\", height=570, width=600)"
   ]
  },
  {
   "cell_type": "markdown",
   "metadata": {},
   "source": [
    "Now, perform an additional PCA for the curated data."
   ]
  },
  {
   "cell_type": "code",
   "execution_count": 22,
   "metadata": {},
   "outputs": [
    {
     "data": {
      "application/vnd.plotly.v1+json": {
       "config": {
        "plotlyServerURL": "https://plot.ly"
       },
       "data": [
        {
         "hoverinfo": "text",
         "marker": {
          "color": "#2554a1",
          "opacity": 0.8,
          "size": 8
         },
         "mode": "markers",
         "name": "Healthy",
         "text": [
          0,
          0,
          0,
          0,
          0,
          0,
          0,
          0,
          0,
          0,
          0,
          0,
          0,
          0,
          0,
          0,
          0,
          0,
          0,
          0,
          0,
          0,
          0,
          0,
          0,
          0,
          0,
          0,
          0,
          0,
          0,
          0,
          0,
          0,
          0,
          0,
          0,
          0,
          0,
          0,
          0,
          0,
          0,
          0,
          0,
          0,
          0,
          0,
          0,
          0,
          0,
          0,
          0,
          0,
          0,
          0,
          0,
          0,
          0,
          0,
          0,
          0,
          0,
          0,
          0,
          0,
          0,
          0,
          0,
          0,
          0,
          0,
          0,
          0,
          0,
          0,
          0,
          0,
          0,
          0,
          0,
          0,
          0,
          0,
          0,
          0,
          0,
          0,
          0,
          0,
          0,
          0,
          0,
          0,
          0,
          0,
          0,
          0,
          0,
          0,
          0,
          0,
          0,
          0,
          0,
          0,
          0,
          0,
          0,
          0,
          0,
          0,
          0,
          0,
          0,
          0,
          0,
          0,
          0,
          0,
          0,
          0,
          0,
          0,
          0,
          0,
          0,
          0,
          0,
          0,
          0,
          0,
          0,
          0,
          0,
          0,
          0,
          0,
          0,
          0,
          0,
          0,
          0,
          0,
          0,
          0,
          0,
          0,
          0,
          0,
          0,
          0,
          0,
          0,
          0,
          0,
          0
         ],
         "type": "scatter",
         "x": [
          -48.96762452994466,
          -39.95316247946772,
          36.376908843443196,
          2.651926245280141,
          -97.06778140259756,
          -29.083247049850762,
          99.79718680295753,
          103.78845963568966,
          -87.22764994705152,
          -98.17890030012263,
          -61.03778624372794,
          71.32356209400116,
          -15.240649324552292,
          -74.54074292181087,
          39.934282532295434,
          -36.332973388483836,
          -27.715013881370826,
          -31.088057443943935,
          -14.079010733224665,
          100.281203247096,
          81.47724516001468,
          -1.1224476741774836,
          -34.21519852525494,
          -51.937193676354944,
          -45.9788865004135,
          -49.07093719712487,
          -82.84582882888435,
          23.90965774588001,
          2.8495886198685074,
          -76.68199208058674,
          -69.67984949868377,
          -93.92203378934309,
          -82.55106611072512,
          -92.26842483760704,
          -86.8642665426769,
          -30.011578813253315,
          -59.62077817505852,
          -82.43358979921604,
          -90.29192333708862,
          59.892493620845535,
          -41.38030620744431,
          -84.90433203077566,
          -66.90574236906328,
          -46.4195525255043,
          -19.45861626171979,
          -21.618631779815722,
          -42.44456736829709,
          11.248674914722825,
          55.058570790005106,
          85.61450900679755,
          30.015138129088523,
          -89.39005879626339,
          -82.32529545957723,
          -53.18683682380408,
          41.99255125779599,
          53.59521498825309,
          -69.48260480992622,
          3.973016490746039,
          -56.34182090295785,
          -41.72049159928896,
          -85.59266099142125,
          -102.38197915413578,
          -51.16055790822958,
          24.507972026982408,
          -57.80075557514103,
          -21.549990934853398,
          30.739798212378872,
          -92.27891204150797,
          42.6964112550348,
          8.016982078628104,
          -16.22770600618823,
          49.46604105896494,
          105.70496935932597,
          55.89625389466109,
          -46.78483557777841,
          -93.47456238754609,
          -94.8729259973399,
          -49.26909270851958,
          -115.1938077885499,
          -58.85948120991736,
          -43.469507603035005,
          -49.277270610835004,
          -100.22485595326009,
          149.3804000548449,
          -60.84094457974341,
          -91.16782135427019,
          -58.13898248168136,
          -63.78669744320189,
          -73.94613843535409,
          -95.224134037941,
          49.32679999339244,
          76.63825943184136,
          -43.87915175205654,
          -12.151411595853345,
          199.9865415805909,
          148.43118888049193,
          53.46796406281159,
          -76.78414154149188,
          44.07073205206828,
          -65.55731616352594,
          13.221758176113452,
          -34.466273084251675,
          9.88225645449599,
          -39.70056441127623,
          -12.399090984605936,
          -82.28787138100259,
          -61.37195515649557,
          165.8920508463273,
          -57.42531582640877,
          -79.71897182811016,
          -109.90594106665881,
          -28.990992401929518,
          -8.75701242720611,
          -46.568732905994324,
          -61.25663252194056,
          -48.680688213038934,
          -29.607042624718115,
          -66.85531600902134,
          3.265979213959249,
          -63.86468908706446,
          -20.217907945499967,
          -24.70245965712197,
          11.13786470095511,
          31.09024698232772,
          -116.11638432781658,
          30.25250506597626,
          13.467354606342635,
          -38.392104939455166,
          85.18103206907837,
          -70.13502468147779,
          -45.943045450755825,
          -74.84904966617019,
          -18.70732309636022,
          -61.081334103401126,
          56.33163203829164,
          47.47224854837361,
          4.5533000288307655,
          67.38687292135951,
          -48.17768617801699,
          -83.93976315544302,
          -79.50345991206564,
          56.52522741688904,
          -14.524320737587443,
          73.73968702558136,
          -17.355843002907374,
          44.96569501688764,
          -8.065783276421003,
          -81.17504582118548,
          78.94790844399365,
          46.939716471463676,
          -54.27022079257353,
          -71.78562936791481,
          56.301492509132835,
          3.0129139747374074,
          -28.269558177286246,
          -77.03628975405447,
          19.470626655878583
         ],
         "y": [
          -1.2499938404971587,
          -5.930713404556259,
          -11.090146956661995,
          30.639232800667898,
          40.024952576097306,
          13.85723682212318,
          -28.691605963338723,
          -7.044790521684201,
          -16.281068989908288,
          -10.574521968622644,
          -20.70136691941815,
          -21.26219987956395,
          9.867192929183009,
          -3.17223467801556,
          -1.5793219803211989,
          73.44261623600784,
          -13.789971965683485,
          -27.95059627567683,
          42.83683905379432,
          -23.329285044139038,
          -19.294129390870225,
          11.719649203877008,
          2.415602178073456,
          4.861016672991651,
          -16.062802534698182,
          17.280694805464947,
          0.8571920095623443,
          -24.071293440245388,
          -14.049075063709632,
          -5.069836338908679,
          -16.220327832885967,
          9.05934894593177,
          1.8143028865727462,
          -18.657190588547383,
          -18.425411107638002,
          9.946955857870426,
          -16.878805823406413,
          -8.763472283433217,
          -2.7532680203994904,
          -38.95957035947011,
          62.57121131904058,
          -10.88498291719932,
          24.77934134979267,
          -12.741549433365027,
          -21.81279963831795,
          9.424395946996478,
          -15.903535915757582,
          -9.519377619879698,
          -9.090531803603055,
          -20.982815506975662,
          -9.622886050635966,
          -5.523867558457879,
          -19.89340378727383,
          -8.534753551856713,
          -13.887404124388073,
          -39.52594034548542,
          -16.944420503383398,
          -26.014608043180793,
          41.80120766034676,
          -8.056426281005121,
          -9.452963341026305,
          -16.564879716627146,
          -8.421146995448849,
          -3.8574986949092454,
          -13.792139035003911,
          2.895200809058556,
          -26.492271501915315,
          -13.120552202392169,
          -5.141193913258575,
          -2.55403401489201,
          -12.462509106520299,
          22.216577672936893,
          -27.056161234110366,
          2.4130892450865264,
          -8.281973034991637,
          4.018115930631664,
          -12.370016118191064,
          8.822657003370018,
          -2.5748976037966553,
          -5.408283395109136,
          -26.184682891497435,
          -14.411016493239307,
          -1.9113379146904461,
          10.64376147480626,
          -20.195704808386026,
          -0.4346224181342791,
          -6.212348015905619,
          -1.8211375554813336,
          -30.479915880113534,
          -9.765577032684835,
          -20.021555601198884,
          -15.59655897185639,
          5.248600978139602,
          -10.261959908794928,
          -40.39769101606647,
          -14.479081398363812,
          31.939894865645275,
          -16.772588062635112,
          -22.988622504938906,
          6.505612604890715,
          0.5036205467149415,
          9.077357172379706,
          33.424231194025765,
          10.465725413099234,
          -33.24432443058075,
          15.537061623448285,
          15.78668538772254,
          -25.197074577388186,
          -16.601094260211585,
          4.173415851356518,
          12.965378879094906,
          -0.388775368618041,
          -24.749573002962766,
          23.05567194644797,
          20.10401422096408,
          -7.147304633939884,
          -4.294263891456615,
          1.4510910978418212,
          -9.477188181131979,
          -15.233215245498032,
          6.462730426968259,
          -8.460921461926647,
          -12.334415337639529,
          6.418570665258161,
          2.6949081548651406,
          -17.187152264372898,
          15.657285346305436,
          -8.580076429576714,
          -22.33729743135479,
          -16.88002226229043,
          -11.49507080741322,
          -7.741813364247838,
          -18.777447108811515,
          -0.4651817412932303,
          -32.545290811389116,
          -10.437875868408167,
          3.146451979893755,
          -29.660014246628975,
          -6.710651837334476,
          7.201305174104502,
          3.997487856825092,
          -22.727091307934042,
          -19.63039679017057,
          13.116874198953358,
          33.894142391153935,
          -28.928119747194838,
          -1.5077738573841457,
          -20.183808003217788,
          -9.751273637108758,
          -28.01833047692985,
          15.56236969136428,
          9.2287664049291,
          -36.2126971127586,
          -16.392144839377963,
          -18.555653250797647,
          -15.20466527214053,
          18.750293834916405
         ]
        },
        {
         "hoverinfo": "text",
         "marker": {
          "color": "#faba25",
          "opacity": 0.8,
          "size": 8
         },
         "mode": "markers",
         "name": "Diabetes",
         "text": [
          1,
          1,
          1,
          1,
          1,
          1,
          1,
          1,
          1,
          1,
          1,
          1,
          1,
          1,
          1,
          1,
          1,
          1,
          1,
          1,
          1,
          1,
          1,
          1,
          1,
          1,
          1,
          1,
          1,
          1,
          1,
          1,
          1,
          1,
          1,
          1,
          1,
          1,
          1,
          1,
          1,
          1,
          1,
          1,
          1,
          1,
          1,
          1,
          1,
          1,
          1,
          1,
          1,
          1,
          1,
          1,
          1,
          1,
          1,
          1,
          1,
          1,
          1,
          1,
          1,
          1,
          1
         ],
         "type": "scatter",
         "x": [
          -15.773984344053353,
          116.11028539077415,
          -54.59577110565588,
          14.395314112973816,
          79.05047491469787,
          183.7866670875651,
          55.73891524224976,
          22.91274756801304,
          47.63599739085269,
          43.78476491478832,
          60.082275959470806,
          -19.38309547732761,
          79.60969518544341,
          23.174004341249287,
          42.976956496415106,
          22.886925925289603,
          -8.327229543876756,
          44.21906644585241,
          89.83630297258611,
          -93.6350920860609,
          36.51361263816131,
          45.82915028723888,
          17.293402067952453,
          57.721883395607634,
          38.90286923836737,
          9.175945079706828,
          30.018076834561942,
          -80.48563907259559,
          72.10234693887605,
          17.661041001910853,
          98.98945105345165,
          121.8291399148941,
          37.596553317177715,
          200.78404735845575,
          -2.973498886120604,
          -40.32672876646312,
          -41.763966928538565,
          12.396002836119946,
          54.5258935877492,
          52.36764869040599,
          2.586522712702878,
          189.52835851402273,
          75.18715482777436,
          18.354516676022225,
          22.883064512983946,
          8.643943282431582,
          46.30739219417528,
          -14.943385090599905,
          108.46894808750646,
          41.22453717997201,
          -11.999951154922323,
          91.66954472920598,
          89.43063144090644,
          -64.83863196223126,
          -11.065710510094814,
          115.64714502513326,
          39.1649998065347,
          -1.2825160885371403,
          6.982916961902261,
          81.70046692882042,
          163.40832316878354,
          208.84366215269452,
          10.976833882724575,
          159.06977211070463,
          114.67759897733471,
          98.00510840690023,
          69.16584578884017
         ],
         "y": [
          69.9840258808764,
          15.788848726367497,
          2.9529190273584116,
          18.727438760511923,
          -44.493783596415355,
          3.943013734147239,
          -9.099412844512454,
          -21.844383727899373,
          43.07898413523638,
          -37.384092558780495,
          8.096371044793468,
          43.14274694825545,
          30.340387767446423,
          45.03732609928038,
          2.7476034496519834,
          -36.85692253760471,
          47.599090892406,
          -20.63376796168917,
          41.52552268273247,
          5.096815414270034,
          -10.71982376791098,
          15.795352038023495,
          -5.732189347958589,
          22.85630064491351,
          28.01792499669543,
          16.689433824798805,
          40.33085753880467,
          11.699936106338448,
          32.480806501189925,
          39.42761393058047,
          -33.31807980574833,
          -25.160319947406734,
          7.918995923380641,
          -12.549579629242936,
          8.515397372742525,
          -9.91329228619778,
          -7.479932046640843,
          24.0214872400919,
          38.33171975131924,
          17.559000723438476,
          9.791683253015991,
          9.340062730066174,
          46.74561000186609,
          12.324848012828271,
          14.541472966336416,
          16.86904666204405,
          47.52557622120046,
          -5.7640590378495515,
          16.253661383404893,
          68.01983912778553,
          14.5240251554166,
          10.738911194406626,
          -29.059985373841982,
          2.854074271684527,
          -14.749201892601715,
          -4.699324619141433,
          -9.579258410618591,
          -12.363902186502067,
          12.52675776712917,
          41.1290571310264,
          27.386277836126222,
          3.453687073524968,
          53.25189609264174,
          -21.890878068688586,
          34.15155046037682,
          41.3680482870101,
          41.547467060852284
         ]
        }
       ],
       "layout": {
        "font": {
         "family": "Arial",
         "size": 15
        },
        "height": 450,
        "legend": {
         "title": {
          "text": "Target"
         }
        },
        "template": {
         "data": {
          "bar": [
           {
            "error_x": {
             "color": "rgb(36,36,36)"
            },
            "error_y": {
             "color": "rgb(36,36,36)"
            },
            "marker": {
             "line": {
              "color": "white",
              "width": 0.5
             },
             "pattern": {
              "fillmode": "overlay",
              "size": 10,
              "solidity": 0.2
             }
            },
            "type": "bar"
           }
          ],
          "barpolar": [
           {
            "marker": {
             "line": {
              "color": "white",
              "width": 0.5
             },
             "pattern": {
              "fillmode": "overlay",
              "size": 10,
              "solidity": 0.2
             }
            },
            "type": "barpolar"
           }
          ],
          "carpet": [
           {
            "aaxis": {
             "endlinecolor": "rgb(36,36,36)",
             "gridcolor": "white",
             "linecolor": "white",
             "minorgridcolor": "white",
             "startlinecolor": "rgb(36,36,36)"
            },
            "baxis": {
             "endlinecolor": "rgb(36,36,36)",
             "gridcolor": "white",
             "linecolor": "white",
             "minorgridcolor": "white",
             "startlinecolor": "rgb(36,36,36)"
            },
            "type": "carpet"
           }
          ],
          "choropleth": [
           {
            "colorbar": {
             "outlinewidth": 1,
             "tickcolor": "rgb(36,36,36)",
             "ticks": "outside"
            },
            "type": "choropleth"
           }
          ],
          "contour": [
           {
            "colorbar": {
             "outlinewidth": 1,
             "tickcolor": "rgb(36,36,36)",
             "ticks": "outside"
            },
            "colorscale": [
             [
              0,
              "#440154"
             ],
             [
              0.1111111111111111,
              "#482878"
             ],
             [
              0.2222222222222222,
              "#3e4989"
             ],
             [
              0.3333333333333333,
              "#31688e"
             ],
             [
              0.4444444444444444,
              "#26828e"
             ],
             [
              0.5555555555555556,
              "#1f9e89"
             ],
             [
              0.6666666666666666,
              "#35b779"
             ],
             [
              0.7777777777777778,
              "#6ece58"
             ],
             [
              0.8888888888888888,
              "#b5de2b"
             ],
             [
              1,
              "#fde725"
             ]
            ],
            "type": "contour"
           }
          ],
          "contourcarpet": [
           {
            "colorbar": {
             "outlinewidth": 1,
             "tickcolor": "rgb(36,36,36)",
             "ticks": "outside"
            },
            "type": "contourcarpet"
           }
          ],
          "heatmap": [
           {
            "colorbar": {
             "outlinewidth": 1,
             "tickcolor": "rgb(36,36,36)",
             "ticks": "outside"
            },
            "colorscale": [
             [
              0,
              "#440154"
             ],
             [
              0.1111111111111111,
              "#482878"
             ],
             [
              0.2222222222222222,
              "#3e4989"
             ],
             [
              0.3333333333333333,
              "#31688e"
             ],
             [
              0.4444444444444444,
              "#26828e"
             ],
             [
              0.5555555555555556,
              "#1f9e89"
             ],
             [
              0.6666666666666666,
              "#35b779"
             ],
             [
              0.7777777777777778,
              "#6ece58"
             ],
             [
              0.8888888888888888,
              "#b5de2b"
             ],
             [
              1,
              "#fde725"
             ]
            ],
            "type": "heatmap"
           }
          ],
          "heatmapgl": [
           {
            "colorbar": {
             "outlinewidth": 1,
             "tickcolor": "rgb(36,36,36)",
             "ticks": "outside"
            },
            "colorscale": [
             [
              0,
              "#440154"
             ],
             [
              0.1111111111111111,
              "#482878"
             ],
             [
              0.2222222222222222,
              "#3e4989"
             ],
             [
              0.3333333333333333,
              "#31688e"
             ],
             [
              0.4444444444444444,
              "#26828e"
             ],
             [
              0.5555555555555556,
              "#1f9e89"
             ],
             [
              0.6666666666666666,
              "#35b779"
             ],
             [
              0.7777777777777778,
              "#6ece58"
             ],
             [
              0.8888888888888888,
              "#b5de2b"
             ],
             [
              1,
              "#fde725"
             ]
            ],
            "type": "heatmapgl"
           }
          ],
          "histogram": [
           {
            "marker": {
             "line": {
              "color": "white",
              "width": 0.6
             }
            },
            "type": "histogram"
           }
          ],
          "histogram2d": [
           {
            "colorbar": {
             "outlinewidth": 1,
             "tickcolor": "rgb(36,36,36)",
             "ticks": "outside"
            },
            "colorscale": [
             [
              0,
              "#440154"
             ],
             [
              0.1111111111111111,
              "#482878"
             ],
             [
              0.2222222222222222,
              "#3e4989"
             ],
             [
              0.3333333333333333,
              "#31688e"
             ],
             [
              0.4444444444444444,
              "#26828e"
             ],
             [
              0.5555555555555556,
              "#1f9e89"
             ],
             [
              0.6666666666666666,
              "#35b779"
             ],
             [
              0.7777777777777778,
              "#6ece58"
             ],
             [
              0.8888888888888888,
              "#b5de2b"
             ],
             [
              1,
              "#fde725"
             ]
            ],
            "type": "histogram2d"
           }
          ],
          "histogram2dcontour": [
           {
            "colorbar": {
             "outlinewidth": 1,
             "tickcolor": "rgb(36,36,36)",
             "ticks": "outside"
            },
            "colorscale": [
             [
              0,
              "#440154"
             ],
             [
              0.1111111111111111,
              "#482878"
             ],
             [
              0.2222222222222222,
              "#3e4989"
             ],
             [
              0.3333333333333333,
              "#31688e"
             ],
             [
              0.4444444444444444,
              "#26828e"
             ],
             [
              0.5555555555555556,
              "#1f9e89"
             ],
             [
              0.6666666666666666,
              "#35b779"
             ],
             [
              0.7777777777777778,
              "#6ece58"
             ],
             [
              0.8888888888888888,
              "#b5de2b"
             ],
             [
              1,
              "#fde725"
             ]
            ],
            "type": "histogram2dcontour"
           }
          ],
          "mesh3d": [
           {
            "colorbar": {
             "outlinewidth": 1,
             "tickcolor": "rgb(36,36,36)",
             "ticks": "outside"
            },
            "type": "mesh3d"
           }
          ],
          "parcoords": [
           {
            "line": {
             "colorbar": {
              "outlinewidth": 1,
              "tickcolor": "rgb(36,36,36)",
              "ticks": "outside"
             }
            },
            "type": "parcoords"
           }
          ],
          "pie": [
           {
            "automargin": true,
            "type": "pie"
           }
          ],
          "scatter": [
           {
            "fillpattern": {
             "fillmode": "overlay",
             "size": 10,
             "solidity": 0.2
            },
            "type": "scatter"
           }
          ],
          "scatter3d": [
           {
            "line": {
             "colorbar": {
              "outlinewidth": 1,
              "tickcolor": "rgb(36,36,36)",
              "ticks": "outside"
             }
            },
            "marker": {
             "colorbar": {
              "outlinewidth": 1,
              "tickcolor": "rgb(36,36,36)",
              "ticks": "outside"
             }
            },
            "type": "scatter3d"
           }
          ],
          "scattercarpet": [
           {
            "marker": {
             "colorbar": {
              "outlinewidth": 1,
              "tickcolor": "rgb(36,36,36)",
              "ticks": "outside"
             }
            },
            "type": "scattercarpet"
           }
          ],
          "scattergeo": [
           {
            "marker": {
             "colorbar": {
              "outlinewidth": 1,
              "tickcolor": "rgb(36,36,36)",
              "ticks": "outside"
             }
            },
            "type": "scattergeo"
           }
          ],
          "scattergl": [
           {
            "marker": {
             "colorbar": {
              "outlinewidth": 1,
              "tickcolor": "rgb(36,36,36)",
              "ticks": "outside"
             }
            },
            "type": "scattergl"
           }
          ],
          "scattermapbox": [
           {
            "marker": {
             "colorbar": {
              "outlinewidth": 1,
              "tickcolor": "rgb(36,36,36)",
              "ticks": "outside"
             }
            },
            "type": "scattermapbox"
           }
          ],
          "scatterpolar": [
           {
            "marker": {
             "colorbar": {
              "outlinewidth": 1,
              "tickcolor": "rgb(36,36,36)",
              "ticks": "outside"
             }
            },
            "type": "scatterpolar"
           }
          ],
          "scatterpolargl": [
           {
            "marker": {
             "colorbar": {
              "outlinewidth": 1,
              "tickcolor": "rgb(36,36,36)",
              "ticks": "outside"
             }
            },
            "type": "scatterpolargl"
           }
          ],
          "scatterternary": [
           {
            "marker": {
             "colorbar": {
              "outlinewidth": 1,
              "tickcolor": "rgb(36,36,36)",
              "ticks": "outside"
             }
            },
            "type": "scatterternary"
           }
          ],
          "surface": [
           {
            "colorbar": {
             "outlinewidth": 1,
             "tickcolor": "rgb(36,36,36)",
             "ticks": "outside"
            },
            "colorscale": [
             [
              0,
              "#440154"
             ],
             [
              0.1111111111111111,
              "#482878"
             ],
             [
              0.2222222222222222,
              "#3e4989"
             ],
             [
              0.3333333333333333,
              "#31688e"
             ],
             [
              0.4444444444444444,
              "#26828e"
             ],
             [
              0.5555555555555556,
              "#1f9e89"
             ],
             [
              0.6666666666666666,
              "#35b779"
             ],
             [
              0.7777777777777778,
              "#6ece58"
             ],
             [
              0.8888888888888888,
              "#b5de2b"
             ],
             [
              1,
              "#fde725"
             ]
            ],
            "type": "surface"
           }
          ],
          "table": [
           {
            "cells": {
             "fill": {
              "color": "rgb(237,237,237)"
             },
             "line": {
              "color": "white"
             }
            },
            "header": {
             "fill": {
              "color": "rgb(217,217,217)"
             },
             "line": {
              "color": "white"
             }
            },
            "type": "table"
           }
          ]
         },
         "layout": {
          "annotationdefaults": {
           "arrowhead": 0,
           "arrowwidth": 1
          },
          "autotypenumbers": "strict",
          "coloraxis": {
           "colorbar": {
            "outlinewidth": 1,
            "tickcolor": "rgb(36,36,36)",
            "ticks": "outside"
           }
          },
          "colorscale": {
           "diverging": [
            [
             0,
             "rgb(103,0,31)"
            ],
            [
             0.1,
             "rgb(178,24,43)"
            ],
            [
             0.2,
             "rgb(214,96,77)"
            ],
            [
             0.3,
             "rgb(244,165,130)"
            ],
            [
             0.4,
             "rgb(253,219,199)"
            ],
            [
             0.5,
             "rgb(247,247,247)"
            ],
            [
             0.6,
             "rgb(209,229,240)"
            ],
            [
             0.7,
             "rgb(146,197,222)"
            ],
            [
             0.8,
             "rgb(67,147,195)"
            ],
            [
             0.9,
             "rgb(33,102,172)"
            ],
            [
             1,
             "rgb(5,48,97)"
            ]
           ],
           "sequential": [
            [
             0,
             "#440154"
            ],
            [
             0.1111111111111111,
             "#482878"
            ],
            [
             0.2222222222222222,
             "#3e4989"
            ],
            [
             0.3333333333333333,
             "#31688e"
            ],
            [
             0.4444444444444444,
             "#26828e"
            ],
            [
             0.5555555555555556,
             "#1f9e89"
            ],
            [
             0.6666666666666666,
             "#35b779"
            ],
            [
             0.7777777777777778,
             "#6ece58"
            ],
            [
             0.8888888888888888,
             "#b5de2b"
            ],
            [
             1,
             "#fde725"
            ]
           ],
           "sequentialminus": [
            [
             0,
             "#440154"
            ],
            [
             0.1111111111111111,
             "#482878"
            ],
            [
             0.2222222222222222,
             "#3e4989"
            ],
            [
             0.3333333333333333,
             "#31688e"
            ],
            [
             0.4444444444444444,
             "#26828e"
            ],
            [
             0.5555555555555556,
             "#1f9e89"
            ],
            [
             0.6666666666666666,
             "#35b779"
            ],
            [
             0.7777777777777778,
             "#6ece58"
            ],
            [
             0.8888888888888888,
             "#b5de2b"
            ],
            [
             1,
             "#fde725"
            ]
           ]
          },
          "colorway": [
           "#1F77B4",
           "#FF7F0E",
           "#2CA02C",
           "#D62728",
           "#9467BD",
           "#8C564B",
           "#E377C2",
           "#7F7F7F",
           "#BCBD22",
           "#17BECF"
          ],
          "font": {
           "color": "rgb(36,36,36)"
          },
          "geo": {
           "bgcolor": "white",
           "lakecolor": "white",
           "landcolor": "white",
           "showlakes": true,
           "showland": true,
           "subunitcolor": "white"
          },
          "hoverlabel": {
           "align": "left"
          },
          "hovermode": "closest",
          "mapbox": {
           "style": "light"
          },
          "paper_bgcolor": "white",
          "plot_bgcolor": "white",
          "polar": {
           "angularaxis": {
            "gridcolor": "rgb(232,232,232)",
            "linecolor": "rgb(36,36,36)",
            "showgrid": false,
            "showline": true,
            "ticks": "outside"
           },
           "bgcolor": "white",
           "radialaxis": {
            "gridcolor": "rgb(232,232,232)",
            "linecolor": "rgb(36,36,36)",
            "showgrid": false,
            "showline": true,
            "ticks": "outside"
           }
          },
          "scene": {
           "xaxis": {
            "backgroundcolor": "white",
            "gridcolor": "rgb(232,232,232)",
            "gridwidth": 2,
            "linecolor": "rgb(36,36,36)",
            "showbackground": true,
            "showgrid": false,
            "showline": true,
            "ticks": "outside",
            "zeroline": false,
            "zerolinecolor": "rgb(36,36,36)"
           },
           "yaxis": {
            "backgroundcolor": "white",
            "gridcolor": "rgb(232,232,232)",
            "gridwidth": 2,
            "linecolor": "rgb(36,36,36)",
            "showbackground": true,
            "showgrid": false,
            "showline": true,
            "ticks": "outside",
            "zeroline": false,
            "zerolinecolor": "rgb(36,36,36)"
           },
           "zaxis": {
            "backgroundcolor": "white",
            "gridcolor": "rgb(232,232,232)",
            "gridwidth": 2,
            "linecolor": "rgb(36,36,36)",
            "showbackground": true,
            "showgrid": false,
            "showline": true,
            "ticks": "outside",
            "zeroline": false,
            "zerolinecolor": "rgb(36,36,36)"
           }
          },
          "shapedefaults": {
           "fillcolor": "black",
           "line": {
            "width": 0
           },
           "opacity": 0.3
          },
          "ternary": {
           "aaxis": {
            "gridcolor": "rgb(232,232,232)",
            "linecolor": "rgb(36,36,36)",
            "showgrid": false,
            "showline": true,
            "ticks": "outside"
           },
           "baxis": {
            "gridcolor": "rgb(232,232,232)",
            "linecolor": "rgb(36,36,36)",
            "showgrid": false,
            "showline": true,
            "ticks": "outside"
           },
           "bgcolor": "white",
           "caxis": {
            "gridcolor": "rgb(232,232,232)",
            "linecolor": "rgb(36,36,36)",
            "showgrid": false,
            "showline": true,
            "ticks": "outside"
           }
          },
          "title": {
           "x": 0.05
          },
          "xaxis": {
           "automargin": true,
           "gridcolor": "rgb(232,232,232)",
           "linecolor": "rgb(36,36,36)",
           "showgrid": false,
           "showline": true,
           "ticks": "outside",
           "title": {
            "standoff": 15
           },
           "zeroline": false,
           "zerolinecolor": "rgb(36,36,36)"
          },
          "yaxis": {
           "automargin": true,
           "gridcolor": "rgb(232,232,232)",
           "linecolor": "rgb(36,36,36)",
           "showgrid": false,
           "showline": true,
           "ticks": "outside",
           "title": {
            "standoff": 15
           },
           "zeroline": false,
           "zerolinecolor": "rgb(36,36,36)"
          }
         }
        },
        "title": {
         "text": "Principal Component Analysis Plot (curated)",
         "x": 0.5
        },
        "width": 550,
        "xaxis": {
         "title": {
          "text": "PC1"
         }
        },
        "yaxis": {
         "title": {
          "text": "PC2"
         }
        }
       }
      }
     },
     "metadata": {},
     "output_type": "display_data"
    }
   ],
   "source": [
    "# Specify features and target\n",
    "features_rm = ['ID', 'Outcome']\n",
    "target = ['Outcome']\n",
    "\n",
    "class_names = {\n",
    "    0: \"Healthy\",\n",
    "    1: \"Diabetes\"\n",
    "}\n",
    "\n",
    "# Create PCA plot\n",
    "pca_fig2 = pca_plot(data_new, features_rm=features_rm, target=target, class_names=class_names,\n",
    "                   title='Principal Component Analysis Plot (curated)')\n",
    "pca_fig2.show()"
   ]
  },
  {
   "cell_type": "code",
   "execution_count": 23,
   "metadata": {},
   "outputs": [],
   "source": [
    "# Save as pdf\n",
    "pio.write_image(pca_fig2, \"plots/PCA_plot2.pdf\", height=450, width=550)"
   ]
  },
  {
   "cell_type": "markdown",
   "metadata": {},
   "source": [
    "For the new data set we examined again the new class balance, which as shown below as the almost the same as the original data set."
   ]
  },
  {
   "cell_type": "code",
   "execution_count": 24,
   "metadata": {},
   "outputs": [
    {
     "name": "stdout",
     "output_type": "stream",
     "text": [
      "Class Balance:\n",
      "Healthy Controls (Class 0): 157 instances, 70.09% of total\n",
      "Diabetes Patients (Class 1): 67 instances, 29.91% of total\n"
     ]
    }
   ],
   "source": [
    "# Class balance\n",
    "class_counts = data_new['Outcome'].value_counts()\n",
    "\n",
    "# Calculating the proportions\n",
    "healthy_count = class_counts[0]\n",
    "diabetes_count = class_counts[1]\n",
    "\n",
    "total_samples = data_new.shape[0]\n",
    "healthy_prop = healthy_count/total_samples\n",
    "diabetes_prop = diabetes_count/total_samples\n",
    "\n",
    "print(\"Class Balance:\")\n",
    "print(f\"Healthy Controls (Class 0): {healthy_count} instances, {healthy_prop:.2%} of total\")\n",
    "print(f\"Diabetes Patients (Class 1): {diabetes_count} instances, {diabetes_prop:.2%} of total\")"
   ]
  },
  {
   "cell_type": "markdown",
   "metadata": {},
   "source": [
    "Save the new dataset into the 'data' folder of the directory."
   ]
  },
  {
   "cell_type": "code",
   "execution_count": 25,
   "metadata": {},
   "outputs": [],
   "source": [
    "data_new.to_csv('data/Diabetes_curated.csv', index=True)"
   ]
  }
 ],
 "metadata": {
  "kernelspec": {
   "display_name": "Python 3",
   "language": "python",
   "name": "python3"
  },
  "language_info": {
   "codemirror_mode": {
    "name": "ipython",
    "version": 3
   },
   "file_extension": ".py",
   "mimetype": "text/x-python",
   "name": "python",
   "nbconvert_exporter": "python",
   "pygments_lexer": "ipython3",
   "version": "3.11.8"
  },
  "orig_nbformat": 4
 },
 "nbformat": 4,
 "nbformat_minor": 2
}
