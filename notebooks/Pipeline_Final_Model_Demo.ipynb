{
 "cells": [
  {
   "cell_type": "markdown",
   "metadata": {},
   "source": [
    "### Final Model Demo\n",
    "Preprocessing pipeline and prediction sample."
   ]
  },
  {
   "cell_type": "code",
   "execution_count": 1,
   "metadata": {},
   "outputs": [],
   "source": [
    "import os\n",
    "os.chdir('/Users/glykeriasp/Documents/DSIT/Machine Learning in Computational Biology/Assignments/Assignment 2/Assignment_2/src/')\n",
    "from functions import filter_zeros, remove_outliers, replace_null\n",
    "from sklearn.pipeline import Pipeline\n",
    "from sklearn.preprocessing import FunctionTransformer\n",
    "import pickle\n",
    "import pandas as pd"
   ]
  },
  {
   "cell_type": "markdown",
   "metadata": {},
   "source": [
    "Define the pipeline for the pre-processing by using the customly created functions."
   ]
  },
  {
   "cell_type": "code",
   "execution_count": 2,
   "metadata": {},
   "outputs": [],
   "source": [
    "# Define the preprocessing pipeline\n",
    "preprocessing = Pipeline([\n",
    "    ('filter_zeros', FunctionTransformer(lambda data: filter_zeros(data), validate=False)),\n",
    "    ('remove_outliers', FunctionTransformer(lambda data: remove_outliers(data), validate=False)),\n",
    "    ('replace_null', FunctionTransformer(lambda data: replace_null(data), validate=False))\n",
    "])"
   ]
  },
  {
   "cell_type": "code",
   "execution_count": 3,
   "metadata": {},
   "outputs": [
    {
     "name": "stdout",
     "output_type": "stream",
     "text": [
      "Preprocessed data shape: (224, 9)\n",
      "Columns in preprocessed data: Index(['Pregnancies', 'Glucose', 'BloodPressure', 'SkinThickness', 'Insulin',\n",
      "       'BMI', 'DiabetesPedigreeFunction', 'Age', 'Outcome'],\n",
      "      dtype='object')\n",
      "[0 0 1 1 1 1 0 0 0 0 0 1 0 1 0 1 0 0 0 0 0 0 0 1 1 0 0 1 0 0 0 1 1 0 1 1 0\n",
      " 0 0 0 0 0 0 0 0 0 0 0 0 0 0 0 0 0 0 0 1 0 0 0 0 0 1 0 0 0 0 0 0 1 0 0 0 0\n",
      " 1 0 0 0 0 0 0 1 1 0 0 1 0 0 0 0 0 1 0 1 0 0 0 0 0 0 0 0 0 0 0 0 0 0 0 0 0\n",
      " 0 0 0 0 1 0 1 0 0 0 0 0 0 0 0 0 0 0 0 1 0 1 0 1 1 1 1 1 1 0 0 0 0 0 0 1 0\n",
      " 1 0 0 0 1 0 1 1 0 0 0 0 0 0 0 0 1 0 0 0 0 0 0 0 0 0 1 0 1 0 0 0 0 0 0 0 0\n",
      " 0 0 0 1 0 0 0 0 0 0 0 0 1 1 1 0 0 0 0 1 0 1 1 0 0 1 0 0 0 0 0 0 0 1 1 0 0\n",
      " 1 0]\n"
     ]
    }
   ],
   "source": [
    "# Load the trained model\n",
    "os.chdir('/Users/glykeriasp/Documents/DSIT/Machine Learning in Computational Biology/Assignments/Assignment 2/Assignment_2/')\n",
    "with open('./models/final_model.pkl', 'rb') as file:\n",
    "    model = pickle.load(file)\n",
    "\n",
    "# Load unseen data from \"Diabetes.csv\" / This is just an example\n",
    "unseen_data = pd.read_csv('data/Diabetes.csv')\n",
    "\n",
    "# Remove the 'ID' feature\n",
    "unseen_data = unseen_data.drop(columns=['ID'])\n",
    "\n",
    "# Apply the preprocessing pipeline to unseen data\n",
    "preprocessed_data = preprocessing.transform(unseen_data)\n",
    "\n",
    "# Check the shape and columns of preprocessed data\n",
    "print(\"Preprocessed data shape:\", preprocessed_data.shape)\n",
    "print(\"Columns in preprocessed data:\", preprocessed_data.columns)\n",
    "\n",
    "# If 'Outcome' is found, remove it\n",
    "if 'Outcome' in preprocessed_data.columns:\n",
    "    preprocessed_data = preprocessed_data.drop(columns=['Outcome'])\n",
    "\n",
    "# Make predictions using the trained model\n",
    "predictions = model.predict(preprocessed_data)\n",
    "\n",
    "# Output the predictions\n",
    "print(predictions)"
   ]
  }
 ],
 "metadata": {
  "kernelspec": {
   "display_name": "base",
   "language": "python",
   "name": "python3"
  },
  "language_info": {
   "codemirror_mode": {
    "name": "ipython",
    "version": 3
   },
   "file_extension": ".py",
   "mimetype": "text/x-python",
   "name": "python",
   "nbconvert_exporter": "python",
   "pygments_lexer": "ipython3",
   "version": "3.11.8"
  },
  "orig_nbformat": 4
 },
 "nbformat": 4,
 "nbformat_minor": 2
}
